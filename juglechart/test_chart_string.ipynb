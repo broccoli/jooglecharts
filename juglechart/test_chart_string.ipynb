{
 "cells": [
  {
   "cell_type": "code",
   "execution_count": 4,
   "metadata": {
    "collapsed": true
   },
   "outputs": [],
   "source": [
    "from IPython.display import display, HTML \n"
   ]
  },
  {
   "cell_type": "code",
   "execution_count": 5,
   "metadata": {
    "collapsed": true
   },
   "outputs": [],
   "source": [
    "s = \"\"\"\n",
    "\n",
    "\n",
    "\n",
    "<script type=\"text/javascript\">\n",
    "\n",
    "    // Check if google jsapi is already loaded.  If not, load it.\n",
    "    if (typeof window.google == 'undefined') {\n",
    "        jQuery.getScript('https://www.google.com/jsapi', function( data, textStatus, jqxhr) {\n",
    "            google_loader();\n",
    "        });\n",
    "    } else {\n",
    "        google_loader();\n",
    "    }\n",
    "\n",
    "    // load visualization library    \n",
    "    function google_loader() {\n",
    "    \n",
    "        google.load('visualization', '1.0', {'callback': doStuff});\n",
    "    }\n",
    "    function doStuff() {\n",
    "    \n",
    "\n",
    "        // Create DataTable object from DataTable constructor or arrayToDatable()\n",
    "        var google_chart_1_data = new google.visualization.DataTable({\"rows\":[{\"c\":[{\"v\":\"Date(2015,0,1)\"},{\"v\":4.56},{\"v\":10.2345}]},{\"c\":[{\"v\":\"Date(2015,0,2)\"},{\"v\":2.6},{\"v\":14.3}]},{\"c\":[{\"v\":\"Date(2015,0,3)\"},{\"v\":7.6},{\"v\":13.532}]},{\"c\":[{\"v\":\"Date(2015,0,4)\"},{\"v\":5.3},{\"v\":11.5554}]}],\"cols\":[{\"type\":\"date\",\"id\":\"dates\",\"label\":\"dates\"},{\"type\":\"number\",\"id\":\"floats\",\"label\":\"floats\"},{\"type\":\"number\",\"id\":\"floats2\",\"label\":\"floats2\"}]});\n",
    "        \n",
    "        \n",
    "        \n",
    "        // Add formatters, if any\n",
    "\n",
    "        // Create ChartWrapper\n",
    "        var google_chart_1 = new google.visualization.ChartWrapper({      \n",
    "            \"containerId\": \"google_chart_1_div_id\",\n",
    "            \"dataTable\": google_chart_1_data,\n",
    "            \"view\": {columns: [0, 2]},  \n",
    "            \"chartType\": \"Table\",\n",
    "            \"options\": {\"hAxis\": {\"textStyle\": {\"color\": \"#FF0000\"}, \"title\": \"QWERT\"}}\n",
    "        });\t\t\n",
    "\t\t\n",
    "\t\t\n",
    "\n",
    "        \n",
    "        google_chart_1.draw();\n",
    "        \n",
    "    }\n",
    "    \n",
    "</script>\n",
    "<div id=\"google_chart_1_div_id\" style=\"width: 600px; height: 400px\"></div>\n",
    "\n",
    "\n",
    "\n",
    "\"\"\""
   ]
  },
  {
   "cell_type": "code",
   "execution_count": 6,
   "metadata": {
    "collapsed": false
   },
   "outputs": [
    {
     "data": {
      "text/html": [
       "\n",
       "\n",
       "\n",
       "\n",
       "<script type=\"text/javascript\">\n",
       "\n",
       "    // Check if google jsapi is already loaded.  If not, load it.\n",
       "    if (typeof window.google == 'undefined') {\n",
       "        jQuery.getScript('https://www.google.com/jsapi', function( data, textStatus, jqxhr) {\n",
       "            google_loader();\n",
       "        });\n",
       "    } else {\n",
       "        google_loader();\n",
       "    }\n",
       "\n",
       "    // load visualization library    \n",
       "    function google_loader() {\n",
       "    \n",
       "        google.load('visualization', '1.0', {'callback': doStuff});\n",
       "    }\n",
       "    function doStuff() {\n",
       "    \n",
       "\n",
       "        // Create DataTable object from DataTable constructor or arrayToDatable()\n",
       "        var google_chart_1_data = new google.visualization.DataTable({\"rows\":[{\"c\":[{\"v\":\"Date(2015,0,1)\"},{\"v\":4.56},{\"v\":10.2345}]},{\"c\":[{\"v\":\"Date(2015,0,2)\"},{\"v\":2.6},{\"v\":14.3}]},{\"c\":[{\"v\":\"Date(2015,0,3)\"},{\"v\":7.6},{\"v\":13.532}]},{\"c\":[{\"v\":\"Date(2015,0,4)\"},{\"v\":5.3},{\"v\":11.5554}]}],\"cols\":[{\"type\":\"date\",\"id\":\"dates\",\"label\":\"dates\"},{\"type\":\"number\",\"id\":\"floats\",\"label\":\"floats\"},{\"type\":\"number\",\"id\":\"floats2\",\"label\":\"floats2\"}]});\n",
       "        \n",
       "        \n",
       "        \n",
       "        // Add formatters, if any\n",
       "\n",
       "        // Create ChartWrapper\n",
       "        var google_chart_1 = new google.visualization.ChartWrapper({      \n",
       "            \"containerId\": \"google_chart_1_div_id\",\n",
       "            \"dataTable\": google_chart_1_data,\n",
       "            \"view\": {columns: [0, 2]},  \n",
       "            \"chartType\": \"Table\",\n",
       "            \"options\": {\"hAxis\": {\"textStyle\": {\"color\": \"#FF0000\"}, \"title\": \"QWERT\"}}\n",
       "        });\t\t\n",
       "\t\t\n",
       "\t\t\n",
       "\n",
       "        \n",
       "        google_chart_1.draw();\n",
       "        \n",
       "    }\n",
       "    \n",
       "</script>\n",
       "<div id=\"google_chart_1_div_id\" style=\"width: 600px; height: 400px\"></div>\n",
       "\n",
       "\n",
       "\n"
      ],
      "text/plain": [
       "<IPython.core.display.HTML object>"
      ]
     },
     "metadata": {},
     "output_type": "display_data"
    }
   ],
   "source": [
    "display(HTML(s))"
   ]
  }
 ],
 "metadata": {
  "kernelspec": {
   "display_name": "Python 2",
   "language": "python",
   "name": "python2"
  },
  "language_info": {
   "codemirror_mode": {
    "name": "ipython",
    "version": 2
   },
   "file_extension": ".py",
   "mimetype": "text/x-python",
   "name": "python",
   "nbconvert_exporter": "python",
   "pygments_lexer": "ipython2",
   "version": "2.7.10"
  }
 },
 "nbformat": 4,
 "nbformat_minor": 0
}
