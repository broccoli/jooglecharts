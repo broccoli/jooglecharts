{
 "cells": [
  {
   "cell_type": "code",
   "execution_count": 11,
   "metadata": {
    "collapsed": true
   },
   "outputs": [],
   "source": [
    "import pandas as pd\n",
    "from gchart_api import GChart\n",
    "from IPython.display import display, HTML "
   ]
  },
  {
   "cell_type": "code",
   "execution_count": null,
   "metadata": {
    "collapsed": false
   },
   "outputs": [],
   "source": []
  },
  {
   "cell_type": "code",
   "execution_count": 12,
   "metadata": {
    "collapsed": false
   },
   "outputs": [],
   "source": [
    "kids = ['Greg', 'Jan', 'Bobby', 'Marsha', 'Peter', 'Cindy']\n",
    "hotdogs = [4, 7, 5, 2, 8, 9]\n",
    "df1 = pd.DataFrame({'kids': kids, 'hotdogs': hotdogs}, columns = ['kids', 'hotdogs'])"
   ]
  },
  {
   "cell_type": "code",
   "execution_count": 13,
   "metadata": {
    "collapsed": false
   },
   "outputs": [],
   "source": [
    "years = [2000, 2001, 2002, 2003, 2004]\n",
    "revenue = [10, 12, 14, 13, 18]\n",
    "cost = [4, 7, 5, 2, 7]"
   ]
  },
  {
   "cell_type": "code",
   "execution_count": 14,
   "metadata": {
    "collapsed": false
   },
   "outputs": [],
   "source": [
    "df2 = pd.DataFrame({'years': years, 'revenue': revenue, 'cost': cost}, columns=['years', 'revenue', 'cost'])"
   ]
  },
  {
   "cell_type": "code",
   "execution_count": 15,
   "metadata": {
    "collapsed": false
   },
   "outputs": [],
   "source": [
    "chart1 = GChart(df2)"
   ]
  },
  {
   "cell_type": "code",
   "execution_count": 16,
   "metadata": {
    "collapsed": false
   },
   "outputs": [
    {
     "data": {
      "text/html": [
       "\n",
       "\n",
       "\n",
       "<script type=\"text/javascript\">\n",
       "\n",
       "    // Check if google jsapi is already loaded.  If not, load it.\n",
       "    if (typeof window.google == 'undefined') {\n",
       "        jQuery.getScript('https://www.google.com/jsapi', function( data, textStatus, jqxhr) {\n",
       "            google_loader();\n",
       "        });\n",
       "    } else {\n",
       "        google_loader();\n",
       "    }\n",
       "\n",
       "    // load visualization library\n",
       "    function google_loader() {\n",
       "        // Insert list of packages with Python\n",
       "        google.load('visualization', '1.0', {'callback': doMyStuff});\n",
       "    }\n",
       "    \n",
       "    function doMyStuff() {\n",
       "        // ***** Insert dataTable method -- DataTable constructor or arrayToDatable()\n",
       "        \n",
       "        var data = new google.visualization.DataTable({\"rows\":[{\"c\":[{\"v\":2000},{\"v\":10},{\"v\":4}]},{\"c\":[{\"v\":2001},{\"v\":12},{\"v\":7}]},{\"c\":[{\"v\":2002},{\"v\":14},{\"v\":5}]},{\"c\":[{\"v\":2003},{\"v\":13},{\"v\":2}]},{\"c\":[{\"v\":2004},{\"v\":18},{\"v\":7}]}],\"cols\":[{\"type\":\"number\",\"id\":\"years\",\"label\":\"years\"},{\"type\":\"number\",\"id\":\"revenue\",\"label\":\"revenue\"},{\"type\":\"number\",\"id\":\"cost\",\"label\":\"cost\"}]});\n",
       "\n",
       "        // ***** Insert formatters, if any\n",
       "        \n",
       "        var wrapper = new google.visualization.ChartWrapper({      \n",
       "            \"containerId\": \"google_chart_div_id_3\",    // ***** Insert chart div id\n",
       "            \"dataTable\": data,\n",
       "            \"chartType\": \"ColumnChart\",        // ***** Insert name of chart constructor\n",
       "            \"options\": {\"chartArea\": {\"width\": \"75%\", \"backgroundColor\": \"#BBB\"}, \"hAxis\": {\"gridlines\": {\"color\": \"#333333\"}, \"title\": \"This is the hAxis title\"}, \"dataOpacity\": 0.4, \"backgroundColor\": {\"stroke\": \"#555577\", \"strokeWidth\": \"4\", \"fill\": \"#EEEEEE\"}, \"vAxis\": {\"gridlines\": {\"color\": \"#33937A\", \"count\": 3}}, \"legend\": {\"position\": \"in\"}}          // ***** Insert chart options\n",
       "        });\n",
       "        wrapper.draw();\n",
       "    }\n",
       "    \n",
       "    \n",
       "    \n",
       "</script>\n",
       "        <!-- ***** Insert chart div id and div_styles into the html -->\n",
       "<div id=\"google_chart_div_id_3\" ></div>"
      ],
      "text/plain": [
       "<IPython.core.display.HTML object>"
      ]
     },
     "metadata": {},
     "output_type": "display_data"
    }
   ],
   "source": [
    "# chart1.add_chart_options(height=200, width=600)\n",
    "# chart1.add_div_styles(width=\"500px\")\n",
    "# chart1.show()\n",
    "chart1.chart_options = None\n",
    "chart1.add_chart_options(chartArea_width='75%')\n",
    "# chart1.add_chart_options(chartArea_height='75%')\n",
    "# chart1.add_chart_options(chartArea={'left':20,'top':50,'width':'50%','height':'75%'})\n",
    "\n",
    "chart1.add_chart_options(backgroundColor_stroke=\"#555577\")\n",
    "chart1.add_chart_options(backgroundColor_strokeWidth=\"4\")\n",
    "chart1.add_chart_options(backgroundColor_fill='#EEEEEE')\n",
    "chart1.add_chart_options(chartArea_backgroundColor='#BBB')\n",
    "chart1.add_chart_options(dataOpacity=.4)\n",
    "chart1.add_chart_options(hAxis_format='') # gets rid of comma formatting on labels\n",
    "chart1.add_chart_options(hAxis_gridlines_color=\"#333333\")\n",
    "chart1.add_chart_options(vAxis_gridlines_color=\"#33937A\")\n",
    "chart1.add_chart_options(vAxis_gridlines_count=3)\n",
    "chart1.add_chart_options(hAxis_title=\"This is the hAxis title\")\n",
    "chart1.add_chart_options(legend_position=\"in\")\n",
    "# chart1.add_chart_options(vAxis_minorGridlines_count=1)\n",
    "# chart1.add_chart_options(curveType='function')\n",
    "# chart1.add_chart_options(chartArea_left='100')\n",
    "\n",
    "\n",
    "chart1.show()\n"
   ]
  },
  {
   "cell_type": "code",
   "execution_count": 17,
   "metadata": {
    "collapsed": true
   },
   "outputs": [],
   "source": [
    "#chart1.add_chart_options(colors = ['green', 'orange'])"
   ]
  },
  {
   "cell_type": "code",
   "execution_count": 18,
   "metadata": {
    "collapsed": false
   },
   "outputs": [
    {
     "data": {
      "text/html": [
       "\n",
       "\n",
       "\n",
       "<script type=\"text/javascript\">\n",
       "\n",
       "    // Check if google jsapi is already loaded.  If not, load it.\n",
       "    if (typeof window.google == 'undefined') {\n",
       "        jQuery.getScript('https://www.google.com/jsapi', function( data, textStatus, jqxhr) {\n",
       "            google_loader();\n",
       "        });\n",
       "    } else {\n",
       "        google_loader();\n",
       "    }\n",
       "\n",
       "    // load visualization library\n",
       "    function google_loader() {\n",
       "        // Insert list of packages with Python\n",
       "        google.load('visualization', '1.0', {'callback': doMyStuff});\n",
       "    }\n",
       "    \n",
       "    function doMyStuff() {\n",
       "        // ***** Insert dataTable method -- DataTable constructor or arrayToDatable()\n",
       "        \n",
       "        var data = new google.visualization.DataTable({\"rows\":[{\"c\":[{\"v\":2000},{\"v\":10},{\"v\":4}]},{\"c\":[{\"v\":2001},{\"v\":12},{\"v\":7}]},{\"c\":[{\"v\":2002},{\"v\":14},{\"v\":5}]},{\"c\":[{\"v\":2003},{\"v\":13},{\"v\":2}]},{\"c\":[{\"v\":2004},{\"v\":18},{\"v\":7}]}],\"cols\":[{\"type\":\"number\",\"id\":\"years\",\"label\":\"years\"},{\"type\":\"number\",\"id\":\"revenue\",\"label\":\"revenue\"},{\"type\":\"number\",\"id\":\"cost\",\"label\":\"cost\"}]});\n",
       "\n",
       "        // ***** Insert formatters, if any\n",
       "        \n",
       "        var wrapper = new google.visualization.ChartWrapper({      \n",
       "            \"containerId\": \"google_chart_div_id_4\",    // ***** Insert chart div id\n",
       "            \"dataTable\": data,\n",
       "            \"chartType\": \"ColumnChart\",        // ***** Insert name of chart constructor\n",
       "            \"options\": {\"chartArea\": {\"width\": \"75%\", \"backgroundColor\": \"#BBB\"}, \"hAxis\": {\"gridlines\": {\"color\": \"#333333\"}, \"title\": \"This is the hAxis title\"}, \"dataOpacity\": 0.4, \"backgroundColor\": {\"stroke\": \"#555577\", \"strokeWidth\": \"4\", \"fill\": \"#EEEEEE\"}, \"vAxis\": {\"gridlines\": {\"color\": \"#33937A\", \"count\": 3}}, \"legend\": {\"position\": \"in\"}}          // ***** Insert chart options\n",
       "        });\n",
       "        wrapper.draw();\n",
       "    }\n",
       "    \n",
       "    \n",
       "    \n",
       "</script>\n",
       "        <!-- ***** Insert chart div id and div_styles into the html -->\n",
       "<div id=\"google_chart_div_id_4\" ></div>"
      ],
      "text/plain": [
       "<IPython.core.display.HTML object>"
      ]
     },
     "metadata": {},
     "output_type": "display_data"
    }
   ],
   "source": [
    "chart1.show('ColumnChart')"
   ]
  },
  {
   "cell_type": "code",
   "execution_count": null,
   "metadata": {
    "collapsed": true
   },
   "outputs": [],
   "source": []
  },
  {
   "cell_type": "code",
   "execution_count": 19,
   "metadata": {
    "collapsed": false
   },
   "outputs": [],
   "source": [
    "s = \"\"\"\n",
    "<div class=\"row\">\n",
    "  <div class=\"col-sm-4\">.col-md-4</div>\n",
    "  <div class=\"col-sm-4\">.col-md-4</div>\n",
    "  <div class=\"col-sm-4\">.col-md-4</div>\n",
    "</div>\n",
    "\"\"\""
   ]
  },
  {
   "cell_type": "code",
   "execution_count": 20,
   "metadata": {
    "collapsed": false
   },
   "outputs": [
    {
     "data": {
      "text/html": [
       "\n",
       "<div class=\"row\">\n",
       "  <div class=\"col-sm-4\">.col-md-4</div>\n",
       "  <div class=\"col-sm-4\">.col-md-4</div>\n",
       "  <div class=\"col-sm-4\">.col-md-4</div>\n",
       "</div>\n"
      ],
      "text/plain": [
       "<IPython.core.display.HTML object>"
      ]
     },
     "metadata": {},
     "output_type": "display_data"
    }
   ],
   "source": [
    "display(HTML(s))"
   ]
  },
  {
   "cell_type": "code",
   "execution_count": null,
   "metadata": {
    "collapsed": true
   },
   "outputs": [],
   "source": []
  }
 ],
 "metadata": {
  "kernelspec": {
   "display_name": "Python 2",
   "language": "python",
   "name": "python2"
  },
  "language_info": {
   "codemirror_mode": {
    "name": "ipython",
    "version": 2
   },
   "file_extension": ".py",
   "mimetype": "text/x-python",
   "name": "python",
   "nbconvert_exporter": "python",
   "pygments_lexer": "ipython2",
   "version": "2.7.10"
  }
 },
 "nbformat": 4,
 "nbformat_minor": 0
}
