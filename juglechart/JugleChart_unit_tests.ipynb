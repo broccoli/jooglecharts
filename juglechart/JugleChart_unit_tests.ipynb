{
 "cells": [
  {
   "cell_type": "code",
   "execution_count": 1,
   "metadata": {
    "collapsed": true
   },
   "outputs": [],
   "source": [
    "import pandas as pd\n",
    "from juglechart_api import JugleChart, Filter, ChartRow\n"
   ]
  },
  {
   "cell_type": "code",
   "execution_count": 2,
   "metadata": {
    "collapsed": false
   },
   "outputs": [],
   "source": [
    "cities = ['New York', 'Chicago', 'Dallas', 'Boston']\n",
    "cakes = [29, 45, 62, 50]\n",
    "pies = [12, 32, 5, 20]\n",
    "sweets_df = pd. DataFrame({'cities': cities, 'cakes': cakes, 'pies': pies}, columns=['cities', 'cakes', 'pies'])\n",
    "\n",
    "\n",
    "dates = ['2015-01-01', '2015-01-02', '2015-01-03']\n",
    "profit = [24, 55, 76]\n",
    "loss = [12, 43, 27]\n",
    "pct = [33.9793, 65.3546, 23.543]\n",
    "columns = ['dates', 'profit', 'loss', 'pct']\n",
    "df2 = pd.DataFrame({'dates': dates, 'profit': profit, 'loss': loss, 'pct': pct}, columns=columns)\n",
    "df2.dates = pd.to_datetime(df2.dates)\n",
    "\n",
    "\n",
    "list1 = []\n",
    "list1.append(['Cat1', 'Cat2', 'count'])\n",
    "list1.append(['1', 'a', 34])\n",
    "list1.append(['1', 'b', 23])\n",
    "list1.append(['1', 'k', 84])\n",
    "list1.append(['2', 'a', 62])\n",
    "list1.append(['2', 'm', 46])\n",
    "list1.append(['2', 'c', 68])\n",
    "list1.append(['3', 'g', 24])\n",
    "list1.append(['3', 'b', 86])\n",
    "list1.append(['3', 'c', 45])\n"
   ]
  },
  {
   "cell_type": "markdown",
   "metadata": {},
   "source": [
    "# Test passing data"
   ]
  },
  {
   "cell_type": "markdown",
   "metadata": {},
   "source": [
    "## 2d array"
   ]
  },
  {
   "cell_type": "code",
   "execution_count": 3,
   "metadata": {
    "collapsed": false
   },
   "outputs": [
    {
     "data": {
      "text/html": [
       "\n",
       "\n",
       "\n",
       "<script type=\"text/javascript\">\n",
       "\n",
       "    // Check if google jsapi is already loaded.  If not, load it.\n",
       "    if (typeof window.google == 'undefined') {\n",
       "        jQuery.getScript('https://www.google.com/jsapi', function( data, textStatus, jqxhr) {\n",
       "            google_loader();\n",
       "        });\n",
       "    } else {\n",
       "        google_loader();\n",
       "    }\n",
       "\n",
       "    // load visualization library    \n",
       "    function google_loader() {\n",
       "    \n",
       "        google.load('visualization', '1.0', {'callback': doStuff});\n",
       "    }\n",
       "    function doStuff() {\n",
       "    \n",
       "\n",
       "        // Create DataTable object from DataTable constructor or arrayToDatable()\n",
       "        var google_chart_1_data = new google.visualization.arrayToDataTable([['pets', 'count'], ['cats', 12], ['dogs', 15], ['lizards', 5]])\n",
       "        \n",
       "        // Add formatters, if any\n",
       "\n",
       "        // Create ChartWrapper\n",
       "        var google_chart_1 = new google.visualization.ChartWrapper({      \n",
       "            \"containerId\": \"google_chart_1_div_id\",\n",
       "            \"dataTable\": google_chart_1_data,\n",
       "            \"chartType\": \"ColumnChart\",\n",
       "            \"options\": {}\n",
       "        });\t\t\n",
       "        \n",
       "        google_chart_1.draw();\n",
       "        \n",
       "    }\n",
       "    \n",
       "</script>\n",
       "\n",
       "<div id=\"google_chart_1_div_id\" ></div>\n"
      ],
      "text/plain": [
       "<IPython.core.display.HTML object>"
      ]
     },
     "metadata": {},
     "output_type": "display_data"
    }
   ],
   "source": [
    "pets = []\n",
    "pets.append(['pets', 'count'])\n",
    "pets.append(['cats', 12])\n",
    "pets.append(['dogs', 15])\n",
    "pets.append(['lizards', 5])\n",
    "\n",
    "chart = JugleChart(pets)\n",
    "chart.show()\n",
    "\n",
    "# test:  does the chart render?"
   ]
  },
  {
   "cell_type": "markdown",
   "metadata": {},
   "source": [
    "## Data Frame"
   ]
  },
  {
   "cell_type": "code",
   "execution_count": 4,
   "metadata": {
    "collapsed": false
   },
   "outputs": [
    {
     "data": {
      "text/html": [
       "\n",
       "\n",
       "\n",
       "<script type=\"text/javascript\">\n",
       "\n",
       "    // Check if google jsapi is already loaded.  If not, load it.\n",
       "    if (typeof window.google == 'undefined') {\n",
       "        jQuery.getScript('https://www.google.com/jsapi', function( data, textStatus, jqxhr) {\n",
       "            google_loader();\n",
       "        });\n",
       "    } else {\n",
       "        google_loader();\n",
       "    }\n",
       "\n",
       "    // load visualization library    \n",
       "    function google_loader() {\n",
       "    \n",
       "        google.load('visualization', '1.0', {'callback': doStuff});\n",
       "    }\n",
       "    function doStuff() {\n",
       "    \n",
       "\n",
       "        // Create DataTable object from DataTable constructor or arrayToDatable()\n",
       "        var google_chart_2_data = new google.visualization.DataTable({\"rows\":[{\"c\":[{\"v\":\"New York\"},{\"v\":29},{\"v\":12}]},{\"c\":[{\"v\":\"Chicago\"},{\"v\":45},{\"v\":32}]},{\"c\":[{\"v\":\"Dallas\"},{\"v\":62},{\"v\":5}]},{\"c\":[{\"v\":\"Boston\"},{\"v\":50},{\"v\":20}]}],\"cols\":[{\"type\":\"string\",\"id\":\"cities\",\"label\":\"cities\"},{\"type\":\"number\",\"id\":\"cakes\",\"label\":\"cakes\"},{\"type\":\"number\",\"id\":\"pies\",\"label\":\"pies\"}]});\n",
       "        \n",
       "        // Add formatters, if any\n",
       "\n",
       "        // Create ChartWrapper\n",
       "        var google_chart_2 = new google.visualization.ChartWrapper({      \n",
       "            \"containerId\": \"google_chart_2_div_id\",\n",
       "            \"dataTable\": google_chart_2_data,\n",
       "            \"chartType\": \"ColumnChart\",\n",
       "            \"options\": {}\n",
       "        });\t\t\n",
       "        \n",
       "        google_chart_2.draw();\n",
       "        \n",
       "    }\n",
       "    \n",
       "</script>\n",
       "\n",
       "<div id=\"google_chart_2_div_id\" ></div>\n"
      ],
      "text/plain": [
       "<IPython.core.display.HTML object>"
      ]
     },
     "metadata": {},
     "output_type": "display_data"
    }
   ],
   "source": [
    "\n",
    "chart = JugleChart(sweets_df)\n",
    "chart.show()\n",
    "\n",
    "# test: does the chart render?"
   ]
  },
  {
   "cell_type": "markdown",
   "metadata": {},
   "source": [
    "## Series"
   ]
  },
  {
   "cell_type": "code",
   "execution_count": 5,
   "metadata": {
    "collapsed": false
   },
   "outputs": [
    {
     "data": {
      "text/html": [
       "\n",
       "\n",
       "\n",
       "<script type=\"text/javascript\">\n",
       "\n",
       "    // Check if google jsapi is already loaded.  If not, load it.\n",
       "    if (typeof window.google == 'undefined') {\n",
       "        jQuery.getScript('https://www.google.com/jsapi', function( data, textStatus, jqxhr) {\n",
       "            google_loader();\n",
       "        });\n",
       "    } else {\n",
       "        google_loader();\n",
       "    }\n",
       "\n",
       "    // load visualization library    \n",
       "    function google_loader() {\n",
       "    \n",
       "        google.load('visualization', '1.0', {'callback': doStuff});\n",
       "    }\n",
       "    function doStuff() {\n",
       "    \n",
       "\n",
       "        // Create DataTable object from DataTable constructor or arrayToDatable()\n",
       "        var google_chart_3_data = new google.visualization.DataTable({\"rows\":[{\"c\":[{\"v\":\"New York\"},{\"v\":29}]},{\"c\":[{\"v\":\"Chicago\"},{\"v\":45}]},{\"c\":[{\"v\":\"Dallas\"},{\"v\":62}]},{\"c\":[{\"v\":\"Boston\"},{\"v\":50}]}],\"cols\":[{\"type\":\"string\",\"id\":\"cities\",\"label\":\"cities\"},{\"type\":\"number\",\"id\":\"cakes\",\"label\":\"cakes\"}]});\n",
       "        \n",
       "        // Add formatters, if any\n",
       "\n",
       "        // Create ChartWrapper\n",
       "        var google_chart_3 = new google.visualization.ChartWrapper({      \n",
       "            \"containerId\": \"google_chart_3_div_id\",\n",
       "            \"dataTable\": google_chart_3_data,\n",
       "            \"chartType\": \"ColumnChart\",\n",
       "            \"options\": {}\n",
       "        });\t\t\n",
       "        \n",
       "        google_chart_3.draw();\n",
       "        \n",
       "    }\n",
       "    \n",
       "</script>\n",
       "\n",
       "<div id=\"google_chart_3_div_id\" ></div>\n"
      ],
      "text/plain": [
       "<IPython.core.display.HTML object>"
      ]
     },
     "metadata": {},
     "output_type": "display_data"
    }
   ],
   "source": [
    "chart = JugleChart(sweets_df.cities, sweets_df.cakes)\n",
    "chart.show()\n",
    "\n",
    "# test: does the chart render?"
   ]
  },
  {
   "cell_type": "markdown",
   "metadata": {},
   "source": [
    "## allow_nulls"
   ]
  },
  {
   "cell_type": "code",
   "execution_count": null,
   "metadata": {
    "collapsed": true
   },
   "outputs": [],
   "source": []
  },
  {
   "cell_type": "markdown",
   "metadata": {},
   "source": [
    "## datetime_cols"
   ]
  },
  {
   "cell_type": "markdown",
   "metadata": {},
   "source": [
    "# Test formatters"
   ]
  },
  {
   "cell_type": "markdown",
   "metadata": {},
   "source": [
    "## Regular formatters"
   ]
  },
  {
   "cell_type": "code",
   "execution_count": 6,
   "metadata": {
    "collapsed": false
   },
   "outputs": [
    {
     "data": {
      "text/html": [
       "\n",
       "\n",
       "\n",
       "<script type=\"text/javascript\">\n",
       "\n",
       "    // Check if google jsapi is already loaded.  If not, load it.\n",
       "    if (typeof window.google == 'undefined') {\n",
       "        jQuery.getScript('https://www.google.com/jsapi', function( data, textStatus, jqxhr) {\n",
       "            google_loader();\n",
       "        });\n",
       "    } else {\n",
       "        google_loader();\n",
       "    }\n",
       "\n",
       "    // load visualization library    \n",
       "    function google_loader() {\n",
       "    \n",
       "        google.load('visualization', '1.0', {'callback': doStuff});\n",
       "    }\n",
       "    function doStuff() {\n",
       "    \n",
       "\n",
       "        // Create DataTable object from DataTable constructor or arrayToDatable()\n",
       "        var google_chart_4_data = new google.visualization.DataTable({\"rows\":[{\"c\":[{\"v\":\"Date(2015,0,1)\"},{\"v\":24},{\"v\":12},{\"v\":33.9793}]},{\"c\":[{\"v\":\"Date(2015,0,2)\"},{\"v\":55},{\"v\":43},{\"v\":65.3546}]},{\"c\":[{\"v\":\"Date(2015,0,3)\"},{\"v\":76},{\"v\":27},{\"v\":23.543}]}],\"cols\":[{\"type\":\"date\",\"id\":\"dates\",\"label\":\"dates\"},{\"type\":\"number\",\"id\":\"profit\",\"label\":\"profit\"},{\"type\":\"number\",\"id\":\"loss\",\"label\":\"loss\"},{\"type\":\"number\",\"id\":\"pct\",\"label\":\"pct\"}]});\n",
       "        \n",
       "        // Add formatters, if any\n",
       "        var formatter1 = new google.visualization.DateFormat({\"formatType\": \"short\"});\n",
       "        formatter1.format(google_chart_4_data, 0);\n",
       "        var formatter2 = new google.visualization.NumberFormat({\"prefix\": \"$\", \"fractionDigits\": 2});\n",
       "        formatter2.format(google_chart_4_data, 1);\n",
       "        formatter2.format(google_chart_4_data, 2);\n",
       "        var formatter3 = new google.visualization.NumberFormat({\"pattern\": \"#,###.##%\"});\n",
       "        formatter3.format(google_chart_4_data, 3);\n",
       "\n",
       "        // Create ChartWrapper\n",
       "        var google_chart_4 = new google.visualization.ChartWrapper({      \n",
       "            \"containerId\": \"google_chart_4_div_id\",\n",
       "            \"dataTable\": google_chart_4_data,\n",
       "            \"chartType\": \"ColumnChart\",\n",
       "            \"options\": {}\n",
       "        });\t\t\n",
       "        \n",
       "        google_chart_4.draw();\n",
       "        \n",
       "    }\n",
       "    \n",
       "</script>\n",
       "\n",
       "<div id=\"google_chart_4_div_id\" ></div>\n"
      ],
      "text/plain": [
       "<IPython.core.display.HTML object>"
      ]
     },
     "metadata": {},
     "output_type": "display_data"
    }
   ],
   "source": [
    "chart = JugleChart(df2)\n",
    "date_format = {'formatType': 'short'}\n",
    "chart.add_formatter('date', options=date_format, cols=0)\n",
    "money_format = {'prefix':'$', 'fractionDigits': 2}\n",
    "chart.add_formatter('number', options=money_format, cols=[1, 2])\n",
    "chart.add_formatter('number', options={'pattern':  '#,###.##%'}, cols=[3])\n",
    "chart.show()\n",
    "\n",
    "# test:  are the tooltips values and axis labels formatted?"
   ]
  },
  {
   "cell_type": "markdown",
   "metadata": {},
   "source": [
    "## Pattern formatter"
   ]
  },
  {
   "cell_type": "code",
   "execution_count": 7,
   "metadata": {
    "collapsed": false
   },
   "outputs": [
    {
     "data": {
      "text/html": [
       "\n",
       "\n",
       "\n",
       "<script type=\"text/javascript\">\n",
       "\n",
       "    // Check if google jsapi is already loaded.  If not, load it.\n",
       "    if (typeof window.google == 'undefined') {\n",
       "        jQuery.getScript('https://www.google.com/jsapi', function( data, textStatus, jqxhr) {\n",
       "            google_loader();\n",
       "        });\n",
       "    } else {\n",
       "        google_loader();\n",
       "    }\n",
       "\n",
       "    // load visualization library    \n",
       "    function google_loader() {\n",
       "    \n",
       "        google.load('visualization', '1.0', {'callback': doStuff});\n",
       "    }\n",
       "    function doStuff() {\n",
       "    \n",
       "\n",
       "        // Create DataTable object from DataTable constructor or arrayToDatable()\n",
       "        var google_chart_5_data = new google.visualization.DataTable({\"rows\":[{\"c\":[{\"v\":\"New York\"},{\"v\":29},{\"v\":12}]},{\"c\":[{\"v\":\"Chicago\"},{\"v\":45},{\"v\":32}]},{\"c\":[{\"v\":\"Dallas\"},{\"v\":62},{\"v\":5}]},{\"c\":[{\"v\":\"Boston\"},{\"v\":50},{\"v\":20}]}],\"cols\":[{\"type\":\"string\",\"id\":\"cities\",\"label\":\"cities\"},{\"type\":\"number\",\"id\":\"cakes\",\"label\":\"cakes\"},{\"type\":\"number\",\"id\":\"pies\",\"label\":\"pies\"}]});\n",
       "        \n",
       "        // Add formatters, if any\n",
       "        var formatter4 = new google.visualization.PatternFormat(\"There are {0} cakes, but only {1} pies.\");\n",
       "        formatter4.format(google_chart_5_data, [1, 2], 1);\n",
       "\n",
       "        // Create ChartWrapper\n",
       "        var google_chart_5 = new google.visualization.ChartWrapper({      \n",
       "            \"containerId\": \"google_chart_5_div_id\",\n",
       "            \"dataTable\": google_chart_5_data,\n",
       "            \"chartType\": \"ColumnChart\",\n",
       "            \"options\": {}\n",
       "        });\t\t\n",
       "        \n",
       "        google_chart_5.draw();\n",
       "        \n",
       "    }\n",
       "    \n",
       "</script>\n",
       "\n",
       "<div id=\"google_chart_5_div_id\" ></div>\n"
      ],
      "text/plain": [
       "<IPython.core.display.HTML object>"
      ]
     },
     "metadata": {},
     "output_type": "display_data"
    }
   ],
   "source": [
    "chart = JugleChart(sweets_df)\n",
    "pattern = \"There are {0} cakes, but only {1} pies.\"\n",
    "chart.add_formatter(\"pattern\", pattern=pattern, source_cols=[1,2])\n",
    "chart.show()\n",
    "\n",
    "# test:  is a tooltip value shown with a text pattern based on two columns?"
   ]
  },
  {
   "cell_type": "markdown",
   "metadata": {},
   "source": [
    "## Pattern formatter - hide columns"
   ]
  },
  {
   "cell_type": "code",
   "execution_count": 8,
   "metadata": {
    "collapsed": false
   },
   "outputs": [
    {
     "data": {
      "text/html": [
       "\n",
       "\n",
       "\n",
       "<script type=\"text/javascript\">\n",
       "\n",
       "    // Check if google jsapi is already loaded.  If not, load it.\n",
       "    if (typeof window.google == 'undefined') {\n",
       "        jQuery.getScript('https://www.google.com/jsapi', function( data, textStatus, jqxhr) {\n",
       "            google_loader();\n",
       "        });\n",
       "    } else {\n",
       "        google_loader();\n",
       "    }\n",
       "\n",
       "    // load visualization library    \n",
       "    function google_loader() {\n",
       "    \n",
       "        google.load('visualization', '1.0', {'callback': doStuff});\n",
       "    }\n",
       "    function doStuff() {\n",
       "    \n",
       "\n",
       "        // Create DataTable object from DataTable constructor or arrayToDatable()\n",
       "        var google_chart_6_data = new google.visualization.arrayToDataTable([['First', 'Middle', 'Last'], ['Sally', 'A.', 'Smith'], ['John', 'J', 'Johnson']])\n",
       "        \n",
       "        // Add formatters, if any\n",
       "        var formatter5 = new google.visualization.PatternFormat(\"{0} {1} {2}\");\n",
       "        formatter5.format(google_chart_6_data, [0, 1, 2], 1);\n",
       "\n",
       "        // Create ChartWrapper\n",
       "        var google_chart_6 = new google.visualization.ChartWrapper({      \n",
       "            \"containerId\": \"google_chart_6_div_id\",\n",
       "            \"dataTable\": google_chart_6_data,\n",
       "            \"view\": {columns: [1]},  \n",
       "            \"chartType\": \"Table\",\n",
       "            \"options\": {}\n",
       "        });\t\t\n",
       "        \n",
       "        google_chart_6.draw();\n",
       "        \n",
       "    }\n",
       "    \n",
       "</script>\n",
       "\n",
       "<div id=\"google_chart_6_div_id\" ></div>\n"
      ],
      "text/plain": [
       "<IPython.core.display.HTML object>"
      ]
     },
     "metadata": {},
     "output_type": "display_data"
    }
   ],
   "source": [
    "list2 = []\n",
    "list2.append(['First', 'Middle', 'Last'])\n",
    "list2.append(['Sally', 'A.', 'Smith'])\n",
    "list2.append(['John', 'J', 'Johnson'])\n",
    "chart = JugleChart(list2, chart_type = \"Table\")\n",
    "pattern = \"{0} {1} {2}\"\n",
    "chart.add_formatter(\"pattern\", pattern=pattern, source_cols=[0, 1, 2], dest_col=1)\n",
    "chart.hide_cols = [0, 2]\n",
    "chart.show()\n"
   ]
  },
  {
   "cell_type": "markdown",
   "metadata": {
    "collapsed": true
   },
   "source": [
    "# Options"
   ]
  },
  {
   "cell_type": "code",
   "execution_count": null,
   "metadata": {
    "collapsed": true
   },
   "outputs": [],
   "source": []
  },
  {
   "cell_type": "code",
   "execution_count": null,
   "metadata": {
    "collapsed": true
   },
   "outputs": [],
   "source": []
  },
  {
   "cell_type": "markdown",
   "metadata": {},
   "source": [
    "# Test Filters"
   ]
  },
  {
   "cell_type": "markdown",
   "metadata": {},
   "source": [
    "## One filter"
   ]
  },
  {
   "cell_type": "code",
   "execution_count": 15,
   "metadata": {
    "collapsed": false
   },
   "outputs": [
    {
     "data": {
      "text/html": [
       "\n",
       "\n",
       "\n",
       "<script type=\"text/javascript\">\n",
       "\n",
       "    // Check if google jsapi is already loaded.  If not, load it.\n",
       "    if (typeof window.google == 'undefined') {\n",
       "        jQuery.getScript('https://www.google.com/jsapi', function( data, textStatus, jqxhr) {\n",
       "            google_loader();\n",
       "        });\n",
       "    } else {\n",
       "        google_loader();\n",
       "    }\n",
       "\n",
       "    // load visualization library    \n",
       "    function google_loader() {\n",
       "\t\tgoogle.load('visualization', '1.0', {'packages':['controls'], 'callback': doStuff});\n",
       "    }\n",
       "    function doStuff() {\n",
       "    \n",
       "\n",
       "        // Create DataTable object from DataTable constructor or arrayToDatable()\n",
       "        var google_chart_17_data = new google.visualization.DataTable({\"rows\":[{\"c\":[{\"v\":\"New York\"},{\"v\":29},{\"v\":12}]},{\"c\":[{\"v\":\"Chicago\"},{\"v\":45},{\"v\":32}]},{\"c\":[{\"v\":\"Dallas\"},{\"v\":62},{\"v\":5}]},{\"c\":[{\"v\":\"Boston\"},{\"v\":50},{\"v\":20}]}],\"cols\":[{\"type\":\"string\",\"id\":\"cities\",\"label\":\"cities\"},{\"type\":\"number\",\"id\":\"cakes\",\"label\":\"cakes\"},{\"type\":\"number\",\"id\":\"pies\",\"label\":\"pies\"}]});\n",
       "        \n",
       "        // Add formatters, if any\n",
       "\n",
       "        // Create ChartWrapper\n",
       "        var google_chart_17 = new google.visualization.ChartWrapper({      \n",
       "            \"containerId\": \"google_chart_17_div_id\",\n",
       "            \"dataTable\": google_chart_17_data,\n",
       "            \"chartType\": \"ColumnChart\",\n",
       "            \"options\": {}\n",
       "        });\t\t\n",
       "        // Create a dashboard.\n",
       "        var google_chart_17_dashboard = new google.visualization.Dashboard(\n",
       "            document.getElementById('google_chart_17_dashboard_div_id'));\n",
       "\n",
       "        // Create controls\n",
       "        var google_filter_9 = new google.visualization.ControlWrapper({\n",
       "          'controlType': 'NumberRangeFilter',\n",
       "          'containerId': 'google_filter_9_div_id',\n",
       "          'options': {\"filterColumnIndex\": 1},\n",
       "          'state': {\"lowValue\": 40, \"highValue\": 55}\n",
       "        });\n",
       "\n",
       "        // Establish dependencies.\n",
       "\t\tgoogle_chart_17_dashboard.bind(google_filter_9, google_chart_17);\n",
       "\n",
       "        // Draw the dashboard.\n",
       "        google_chart_17_dashboard.draw(google_chart_17_data);        \n",
       "    }\n",
       "    \n",
       "</script>\n",
       "\n",
       "<div id=\"google_chart_17_dashboard_div_id\">\n",
       "\t<div id=\"google_filter_9_div_id\"></div>\n",
       "\t<div id=\"google_chart_17_div_id\" ></div>\n",
       "</div>\n"
      ],
      "text/plain": [
       "<IPython.core.display.HTML object>"
      ]
     },
     "metadata": {},
     "output_type": "display_data"
    }
   ],
   "source": [
    "chart = JugleChart(sweets_df)\n",
    "filter = Filter('NumberRangeFilter')\n",
    "filter.add_options(filterColumnIndex=1)\n",
    "filter.add_state(lowValue=40, highValue=55)\n",
    "chart.add_filter(filter)\n",
    "chart.show()\n",
    "\n"
   ]
  },
  {
   "cell_type": "markdown",
   "metadata": {},
   "source": [
    "## Two filters"
   ]
  },
  {
   "cell_type": "code",
   "execution_count": 10,
   "metadata": {
    "collapsed": false
   },
   "outputs": [
    {
     "data": {
      "text/html": [
       "\n",
       "\n",
       "\n",
       "<script type=\"text/javascript\">\n",
       "\n",
       "    // Check if google jsapi is already loaded.  If not, load it.\n",
       "    if (typeof window.google == 'undefined') {\n",
       "        jQuery.getScript('https://www.google.com/jsapi', function( data, textStatus, jqxhr) {\n",
       "            google_loader();\n",
       "        });\n",
       "    } else {\n",
       "        google_loader();\n",
       "    }\n",
       "\n",
       "    // load visualization library    \n",
       "    function google_loader() {\n",
       "\t\tgoogle.load('visualization', '1.0', {'packages':['controls'], 'callback': doStuff});\n",
       "    }\n",
       "    function doStuff() {\n",
       "    \n",
       "\n",
       "        // Create DataTable object from DataTable constructor or arrayToDatable()\n",
       "        var google_chart_8_data = new google.visualization.arrayToDataTable([['Cat1', 'Cat2', 'count'], ['1', 'a', 34], ['1', 'b', 23], ['1', 'k', 84], ['2', 'a', 62], ['2', 'm', 46], ['2', 'c', 68], ['3', 'g', 24], ['3', 'b', 86], ['3', 'c', 45]])\n",
       "        \n",
       "        // Add formatters, if any\n",
       "\n",
       "        // Create ChartWrapper\n",
       "        var google_chart_8 = new google.visualization.ChartWrapper({      \n",
       "            \"containerId\": \"google_chart_8_div_id\",\n",
       "            \"dataTable\": google_chart_8_data,\n",
       "            \"chartType\": \"Table\",\n",
       "            \"options\": {}\n",
       "        });\t\t\n",
       "        // Create a dashboard.\n",
       "        var google_chart_8_dashboard = new google.visualization.Dashboard(\n",
       "            document.getElementById('google_chart_8_dashboard_div_id'));\n",
       "\n",
       "        // Create controls\n",
       "        var google_filter_2 = new google.visualization.ControlWrapper({\n",
       "          'controlType': 'CategoryFilter',\n",
       "          'containerId': 'google_filter_2_div_id',\n",
       "          'options': {\"ui\": {\"allowMultiple\": true, \"allowNone\": true}, \"filterColumnIndex\": 0},\n",
       "          'state': {}\n",
       "        });\n",
       "        var google_filter_3 = new google.visualization.ControlWrapper({\n",
       "          'controlType': 'CategoryFilter',\n",
       "          'containerId': 'google_filter_3_div_id',\n",
       "          'options': {\"ui\": {\"allowMultiple\": true, \"allowNone\": true}, \"filterColumnIndex\": 1},\n",
       "          'state': {}\n",
       "        });\n",
       "\n",
       "        // Establish dependencies.\n",
       "\t\tgoogle_chart_8_dashboard.bind(google_filter_2, google_filter_3);\n",
       "\t\tgoogle_chart_8_dashboard.bind(google_filter_3, google_chart_8);\n",
       "\n",
       "        // Draw the dashboard.\n",
       "        google_chart_8_dashboard.draw(google_chart_8_data);        \n",
       "    }\n",
       "    \n",
       "</script>\n",
       "\n",
       "<div id=\"google_chart_8_dashboard_div_id\">\n",
       "\t<div id=\"google_filter_2_div_id\"></div>\n",
       "\t<div id=\"google_filter_3_div_id\"></div>\n",
       "\t<div id=\"google_chart_8_div_id\" ></div>\n",
       "</div>\n"
      ],
      "text/plain": [
       "<IPython.core.display.HTML object>"
      ]
     },
     "metadata": {},
     "output_type": "display_data"
    }
   ],
   "source": [
    "list1 = []\n",
    "list1.append(['Cat1', 'Cat2', 'count'])\n",
    "list1.append(['1', 'a', 34])\n",
    "list1.append(['1', 'b', 23])\n",
    "list1.append(['1', 'k', 84])\n",
    "list1.append(['2', 'a', 62])\n",
    "list1.append(['2', 'm', 46])\n",
    "list1.append(['2', 'c', 68])\n",
    "list1.append(['3', 'g', 24])\n",
    "list1.append(['3', 'b', 86])\n",
    "list1.append(['3', 'c', 45])\n",
    "\n",
    "chart = JugleChart(list1)\n",
    "\n",
    "filter1 = Filter(type=\"CategoryFilter\")\n",
    "filter1.add_options(filterColumnIndex=0, ui_allowMultiple=True, ui_allowNone=True)\n",
    "filter2 = Filter(type=\"CategoryFilter\")\n",
    "filter2.add_options(filterColumnIndex=1, ui_allowMultiple=True, ui_allowNone=True)\n",
    "\n",
    "chart.add_filter(filter1)\n",
    "chart.add_filter(filter2)\n",
    "\n",
    "filter1.bind_filter(filter2)\n",
    "\n",
    "chart.show('Table')"
   ]
  },
  {
   "cell_type": "markdown",
   "metadata": {
    "collapsed": true
   },
   "source": [
    "# Chart Rows"
   ]
  },
  {
   "cell_type": "markdown",
   "metadata": {},
   "source": [
    "## Charts without filters"
   ]
  },
  {
   "cell_type": "code",
   "execution_count": 11,
   "metadata": {
    "collapsed": false
   },
   "outputs": [
    {
     "data": {
      "text/html": [
       "<script type=\"text/javascript\">\n",
       "\n",
       "    // Check if google jsapi is already loaded.  If not, load it.\n",
       "    if (typeof window.google == 'undefined') {\n",
       "        jQuery.getScript('https://www.google.com/jsapi', function( data, textStatus, jqxhr) {\n",
       "            google_loader();\n",
       "        });\n",
       "    } else {\n",
       "        google_loader();\n",
       "    }\n",
       "\n",
       "    // load visualization library    \n",
       "    function google_loader() {\n",
       "    \n",
       "        google.load('visualization', '1.0', {'callback': doStuff});\n",
       "    }\n",
       "    function doStuff() {\n",
       "    \n",
       "\t// ==================== CHARTROW CHART 1 ============================= //\n",
       "        // Create DataTable object from DataTable constructor or arrayToDatable()\n",
       "        var google_chart_9_data = new google.visualization.DataTable({\"rows\":[{\"c\":[{\"v\":\"New York\"},{\"v\":29}]},{\"c\":[{\"v\":\"Chicago\"},{\"v\":45}]},{\"c\":[{\"v\":\"Dallas\"},{\"v\":62}]},{\"c\":[{\"v\":\"Boston\"},{\"v\":50}]}],\"cols\":[{\"type\":\"string\",\"id\":\"cities\",\"label\":\"cities\"},{\"type\":\"number\",\"id\":\"cakes\",\"label\":\"cakes\"}]});\n",
       "\t\n",
       "        // Create ChartWrapper\n",
       "        var google_chart_9 = new google.visualization.ChartWrapper({      \n",
       "            \"containerId\": \"google_chart_9_div_id\",\n",
       "            \"dataTable\": google_chart_9_data,\n",
       "            \"chartType\": \"ColumnChart\",\n",
       "            \"options\": {\"chartArea\": {\"width\": \"60%\"}}\n",
       "        });\t\t\t\n",
       "\t        \n",
       "\t        google_chart_9.draw();\n",
       "\t// ==================================================================== //\n",
       "\t        \n",
       "\t// ==================== CHARTROW CHART 2 ============================= //\n",
       "        // Create DataTable object from DataTable constructor or arrayToDatable()\n",
       "        var google_chart_10_data = new google.visualization.DataTable({\"rows\":[{\"c\":[{\"v\":\"New York\"},{\"v\":29}]},{\"c\":[{\"v\":\"Chicago\"},{\"v\":45}]},{\"c\":[{\"v\":\"Dallas\"},{\"v\":62}]},{\"c\":[{\"v\":\"Boston\"},{\"v\":50}]}],\"cols\":[{\"type\":\"string\",\"id\":\"cities\",\"label\":\"cities\"},{\"type\":\"number\",\"id\":\"cakes\",\"label\":\"cakes\"}]});\n",
       "\t\n",
       "        // Create ChartWrapper\n",
       "        var google_chart_10 = new google.visualization.ChartWrapper({      \n",
       "            \"containerId\": \"google_chart_10_div_id\",\n",
       "            \"dataTable\": google_chart_10_data,\n",
       "            \"chartType\": \"PieChart\",\n",
       "            \"options\": {\"chartArea\": {\"width\": \"100%\"}}\n",
       "        });\t\t\t\n",
       "\t        \n",
       "\t        google_chart_10.draw();\n",
       "\t// ==================================================================== //\n",
       "\t        \n",
       "\t// ==================== CHARTROW CHART 3 ============================= //\n",
       "        // Create DataTable object from DataTable constructor or arrayToDatable()\n",
       "        var google_chart_11_data = new google.visualization.DataTable({\"rows\":[{\"c\":[{\"v\":\"New York\"},{\"v\":29}]},{\"c\":[{\"v\":\"Chicago\"},{\"v\":45}]},{\"c\":[{\"v\":\"Dallas\"},{\"v\":62}]},{\"c\":[{\"v\":\"Boston\"},{\"v\":50}]}],\"cols\":[{\"type\":\"string\",\"id\":\"cities\",\"label\":\"cities\"},{\"type\":\"number\",\"id\":\"cakes\",\"label\":\"cakes\"}]});\n",
       "\t\n",
       "        // Create ChartWrapper\n",
       "        var google_chart_11 = new google.visualization.ChartWrapper({      \n",
       "            \"containerId\": \"google_chart_11_div_id\",\n",
       "            \"dataTable\": google_chart_11_data,\n",
       "            \"chartType\": \"LineChart\",\n",
       "            \"options\": {\"chartArea\": {\"width\": \"50%\"}}\n",
       "        });\t\t\t\n",
       "\t        \n",
       "\t        google_chart_11.draw();\n",
       "\t// ==================================================================== //\n",
       "\t        \n",
       "    }\n",
       "    \n",
       "</script>\n",
       "<div class=\"row\">\n",
       "\t<div class=\"col-sm-4\">\n",
       "<div id=\"google_chart_9_div_id\" ></div>\t</div>\n",
       "\t<div class=\"col-sm-4\">\n",
       "<div id=\"google_chart_10_div_id\" ></div>\t</div>\n",
       "\t<div class=\"col-sm-4\">\n",
       "<div id=\"google_chart_11_div_id\" ></div>\t</div>\n",
       "</div>\n",
       "\n"
      ],
      "text/plain": [
       "<IPython.core.display.HTML object>"
      ]
     },
     "metadata": {},
     "output_type": "display_data"
    }
   ],
   "source": [
    "chart1 = JugleChart(sweets_df.cities, sweets_df.cakes)\n",
    "chart2 = chart1.copy()\n",
    "chart3 = chart1.copy()\n",
    "chart4 = chart1.copy()\n",
    "\n",
    "chart2.chart_type=\"PieChart\"\n",
    "chart3.chart_type=\"LineChart\"\n",
    "chart4.chart_type=\"AreaChart\"\n",
    "\n",
    "chart1.add_chart_options(chartArea_width=\"60%\")\n",
    "chart2.add_chart_options(chartArea_width=\"100%\")\n",
    "chart3.add_chart_options(chartArea_width=\"50%\")\n",
    "chart4.add_chart_options(chartArea_width=\"50%\")\n",
    "\n",
    "# row = ChartRow(chart1, chart2, chart3, chart4)\n",
    "row = ChartRow(chart1, chart2, chart3)\n",
    "\n",
    "row.show()"
   ]
  },
  {
   "cell_type": "markdown",
   "metadata": {},
   "source": [
    "## Charts with filters"
   ]
  },
  {
   "cell_type": "code",
   "execution_count": 12,
   "metadata": {
    "collapsed": false,
    "scrolled": true
   },
   "outputs": [
    {
     "data": {
      "text/html": [
       "<script type=\"text/javascript\">\n",
       "\n",
       "    // Check if google jsapi is already loaded.  If not, load it.\n",
       "    if (typeof window.google == 'undefined') {\n",
       "        jQuery.getScript('https://www.google.com/jsapi', function( data, textStatus, jqxhr) {\n",
       "            google_loader();\n",
       "        });\n",
       "    } else {\n",
       "        google_loader();\n",
       "    }\n",
       "\n",
       "    // load visualization library    \n",
       "    function google_loader() {\n",
       "\t\tgoogle.load('visualization', '1.0', {'packages':['controls'], 'callback': doStuff});\n",
       "    }\n",
       "    function doStuff() {\n",
       "    \n",
       "\t// ==================== CHARTROW CHART 1 ============================= //\n",
       "        // Create DataTable object from DataTable constructor or arrayToDatable()\n",
       "        var google_chart_12_data = new google.visualization.DataTable({\"rows\":[{\"c\":[{\"v\":\"New York\"},{\"v\":29}]},{\"c\":[{\"v\":\"Chicago\"},{\"v\":45}]},{\"c\":[{\"v\":\"Dallas\"},{\"v\":62}]},{\"c\":[{\"v\":\"Boston\"},{\"v\":50}]}],\"cols\":[{\"type\":\"string\",\"id\":\"cities\",\"label\":\"cities\"},{\"type\":\"number\",\"id\":\"cakes\",\"label\":\"cakes\"}]});\n",
       "\t\n",
       "        // Create ChartWrapper\n",
       "        var google_chart_12 = new google.visualization.ChartWrapper({      \n",
       "            \"containerId\": \"google_chart_12_div_id\",\n",
       "            \"dataTable\": google_chart_12_data,\n",
       "            \"chartType\": \"ColumnChart\",\n",
       "            \"options\": {\"chartArea\": {\"width\": \"60%\"}}\n",
       "        });\t\t\t\n",
       "\t        \n",
       "\t        google_chart_12.draw();\n",
       "\t// ==================================================================== //\n",
       "\t        \n",
       "\t// ==================== CHARTROW CHART 2 ============================= //\n",
       "        // Create DataTable object from DataTable constructor or arrayToDatable()\n",
       "        var google_chart_13_data = new google.visualization.DataTable({\"rows\":[{\"c\":[{\"v\":\"New York\"},{\"v\":29}]},{\"c\":[{\"v\":\"Chicago\"},{\"v\":45}]},{\"c\":[{\"v\":\"Dallas\"},{\"v\":62}]},{\"c\":[{\"v\":\"Boston\"},{\"v\":50}]}],\"cols\":[{\"type\":\"string\",\"id\":\"cities\",\"label\":\"cities\"},{\"type\":\"number\",\"id\":\"cakes\",\"label\":\"cakes\"}]});\n",
       "\t\n",
       "        // Create ChartWrapper\n",
       "        var google_chart_13 = new google.visualization.ChartWrapper({      \n",
       "            \"containerId\": \"google_chart_13_div_id\",\n",
       "            \"dataTable\": google_chart_13_data,\n",
       "            \"chartType\": \"PieChart\",\n",
       "            \"options\": {\"chartArea\": {\"width\": \"100%\"}}\n",
       "        });\t\t\t\n",
       "        // Create a dashboard.\n",
       "        var google_chart_13_dashboard = new google.visualization.Dashboard(\n",
       "            document.getElementById('google_chart_13_dashboard_div_id'));\n",
       "\n",
       "        // Create controls\n",
       "        var google_filter_6 = new google.visualization.ControlWrapper({\n",
       "          'controlType': 'NumberRangeFilter',\n",
       "          'containerId': 'google_filter_6_div_id',\n",
       "          'options': {\"filterColumnIndex\": 1},\n",
       "          'state': {}\n",
       "        });\n",
       "\n",
       "        // Establish dependencies.\n",
       "\t\tgoogle_chart_13_dashboard.bind(google_filter_6, google_chart_13);\n",
       "\n",
       "        // Draw the dashboard.\n",
       "        google_chart_13_dashboard.draw(google_chart_13_data);\t// ==================== CHARTROW CHART 3 ============================= //\n",
       "        // Create DataTable object from DataTable constructor or arrayToDatable()\n",
       "        var google_chart_14_data = new google.visualization.arrayToDataTable([['Cat1', 'Cat2', 'count'], ['1', 'a', 34], ['1', 'b', 23], ['1', 'k', 84], ['2', 'a', 62], ['2', 'm', 46], ['2', 'c', 68], ['3', 'g', 24], ['3', 'b', 86], ['3', 'c', 45]])\n",
       "\t\n",
       "        // Create ChartWrapper\n",
       "        var google_chart_14 = new google.visualization.ChartWrapper({      \n",
       "            \"containerId\": \"google_chart_14_div_id\",\n",
       "            \"dataTable\": google_chart_14_data,\n",
       "            \"chartType\": \"Table\",\n",
       "            \"options\": {\"chartArea\": {\"width\": \"50%\"}}\n",
       "        });\t\t\t\n",
       "        // Create a dashboard.\n",
       "        var google_chart_14_dashboard = new google.visualization.Dashboard(\n",
       "            document.getElementById('google_chart_14_dashboard_div_id'));\n",
       "\n",
       "        // Create controls\n",
       "        var google_filter_4 = new google.visualization.ControlWrapper({\n",
       "          'controlType': 'CategoryFilter',\n",
       "          'containerId': 'google_filter_4_div_id',\n",
       "          'options': {\"ui\": {\"allowMultiple\": true, \"allowNone\": true}, \"filterColumnIndex\": 0},\n",
       "          'state': {}\n",
       "        });\n",
       "        var google_filter_5 = new google.visualization.ControlWrapper({\n",
       "          'controlType': 'CategoryFilter',\n",
       "          'containerId': 'google_filter_5_div_id',\n",
       "          'options': {\"ui\": {\"allowMultiple\": true, \"allowNone\": true}, \"filterColumnIndex\": 1},\n",
       "          'state': {}\n",
       "        });\n",
       "\n",
       "        // Establish dependencies.\n",
       "\t\tgoogle_chart_14_dashboard.bind(google_filter_4, google_filter_5);\n",
       "\t\tgoogle_chart_14_dashboard.bind(google_filter_5, google_chart_14);\n",
       "\n",
       "        // Draw the dashboard.\n",
       "        google_chart_14_dashboard.draw(google_chart_14_data);    }\n",
       "    \n",
       "</script>\n",
       "<div class=\"row\">\n",
       "\t<div class=\"col-sm-4\">\n",
       "<div id=\"google_chart_12_div_id\" ></div>\t</div>\n",
       "\t<div class=\"col-sm-4\">\n",
       "<div id=\"google_chart_13_dashboard_div_id\">\n",
       "\t<div id=\"google_filter_6_div_id\"></div>\n",
       "\t<div id=\"google_chart_13_div_id\" ></div>\n",
       "</div>\t</div>\n",
       "\t<div class=\"col-sm-4\">\n",
       "<div id=\"google_chart_14_dashboard_div_id\">\n",
       "\t<div id=\"google_filter_4_div_id\"></div>\n",
       "\t<div id=\"google_filter_5_div_id\"></div>\n",
       "\t<div id=\"google_chart_14_div_id\" ></div>\n",
       "</div>\t</div>\n",
       "</div>\n",
       "\n"
      ],
      "text/plain": [
       "<IPython.core.display.HTML object>"
      ]
     },
     "metadata": {},
     "output_type": "display_data"
    }
   ],
   "source": [
    "chart1 = JugleChart(sweets_df.cities, sweets_df.cakes)\n",
    "chart2 = chart1.copy()\n",
    "chart3 = JugleChart(list1)\n",
    "\n",
    "chart2.chart_type=\"PieChart\"\n",
    "chart3.chart_type=\"Table\"\n",
    "# chart4.chart_type=\"AreaChart\"\n",
    "\n",
    "chart1.add_chart_options(chartArea_width=\"60%\")\n",
    "chart2.add_chart_options(chartArea_width=\"100%\")\n",
    "chart3.add_chart_options(chartArea_width=\"50%\")\n",
    "# chart4.add_chart_options(chartArea_width=\"50%\")\n",
    "\n",
    "filter3a = Filter(type=\"CategoryFilter\")\n",
    "filter3a.add_options(filterColumnIndex=0, ui_allowMultiple=True, ui_allowNone=True)\n",
    "filter3b = Filter(type=\"CategoryFilter\")\n",
    "filter3b.add_options(filterColumnIndex=1, ui_allowMultiple=True, ui_allowNone=True)\n",
    "chart3.add_filter(filter3a)\n",
    "chart3.add_filter(filter3b)\n",
    "filter3a.bind_filter(filter3b)\n",
    "\n",
    "filter2 = Filter(\"NumberRangeFilter\")\n",
    "filter2.add_options(filterColumnIndex=1)\n",
    "chart2.add_filter(filter2)\n",
    "\n",
    "# row = ChartRow(chart1, chart2, chart3, chart4)\n",
    "row = ChartRow(chart1, chart2, chart3)\n",
    "\n",
    "row.show()"
   ]
  },
  {
   "cell_type": "code",
   "execution_count": null,
   "metadata": {
    "collapsed": true
   },
   "outputs": [],
   "source": []
  }
 ],
 "metadata": {
  "kernelspec": {
   "display_name": "Python 2",
   "language": "python",
   "name": "python2"
  },
  "language_info": {
   "codemirror_mode": {
    "name": "ipython",
    "version": 2
   },
   "file_extension": ".py",
   "mimetype": "text/x-python",
   "name": "python",
   "nbconvert_exporter": "python",
   "pygments_lexer": "ipython2",
   "version": "2.7.10"
  }
 },
 "nbformat": 4,
 "nbformat_minor": 0
}
