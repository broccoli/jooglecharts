{
 "cells": [
  {
   "cell_type": "code",
   "execution_count": 1,
   "metadata": {
    "collapsed": true
   },
   "outputs": [],
   "source": [
    "import pandas as pd\n",
    "from juglechart_api import JugleChart, Filter, ChartRow, Formatter\n"
   ]
  },
  {
   "cell_type": "code",
   "execution_count": 2,
   "metadata": {
    "collapsed": false
   },
   "outputs": [],
   "source": [
    "cities = ['New York', 'Chicago', 'Dallas', 'Boston']\n",
    "cakes = [29, 45, 62, 50]\n",
    "pies = [12, 32, 5, 20]\n",
    "sweets_df = pd. DataFrame({'cities': cities, 'cakes': cakes, 'pies': pies}, columns=['cities', 'cakes', 'pies'])\n",
    "\n",
    "\n",
    "dates = ['2015-01-01', '2015-01-02', '2015-01-03']\n",
    "profit = [24, 55, 76]\n",
    "loss = [12, 43, 27]\n",
    "pct = [33.9793, 65.3546, 23.543]\n",
    "columns = ['dates', 'profit', 'loss', 'pct']\n",
    "df2 = pd.DataFrame({'dates': dates, 'profit': profit, 'loss': loss, 'pct': pct}, columns=columns)\n",
    "df2.dates = pd.to_datetime(df2.dates)\n",
    "\n",
    "\n",
    "list1 = []\n",
    "list1.append(['Cat1', 'Cat2', 'count'])\n",
    "list1.append(['1', 'a', 34])\n",
    "list1.append(['1', 'b', 23])\n",
    "list1.append(['1', 'k', 84])\n",
    "list1.append(['2', 'a', 62])\n",
    "list1.append(['2', 'm', 46])\n",
    "list1.append(['2', 'c', 68])\n",
    "list1.append(['3', 'g', 24])\n",
    "list1.append(['3', 'b', 86])\n",
    "list1.append(['3', 'c', 45])\n"
   ]
  },
  {
   "cell_type": "markdown",
   "metadata": {},
   "source": [
    "# Test passing data"
   ]
  },
  {
   "cell_type": "markdown",
   "metadata": {},
   "source": [
    "## 2d array"
   ]
  },
  {
   "cell_type": "code",
   "execution_count": 13,
   "metadata": {
    "collapsed": false
   },
   "outputs": [
    {
     "data": {
      "text/html": [
       "\n",
       "\n",
       "\n",
       "<script type=\"text/javascript\">\n",
       "\n",
       "    // Check if google jsapi is already loaded.  If not, load it.\n",
       "    if (typeof window.google == 'undefined') {\n",
       "        jQuery.getScript('https://www.google.com/jsapi', function( data, textStatus, jqxhr) {\n",
       "            google_loader();\n",
       "        });\n",
       "    } else {\n",
       "        google_loader();\n",
       "    }\n",
       "\n",
       "    // load visualization library    \n",
       "    function google_loader() {\n",
       "    \n",
       "        google.load('visualization', '1.0', {'callback': doStuff});\n",
       "    }\n",
       "    function doStuff() {\n",
       "    \n",
       "\n",
       "        // Create DataTable object from DataTable constructor or arrayToDatable()\n",
       "        var jugle_chart_14_data = new google.visualization.arrayToDataTable()\n",
       "        \n",
       "        // Add formatters, if any\n",
       "\n",
       "        // Create ChartWrapper\n",
       "        var google_chart_14 = new google.visualization.ChartWrapper({      \n",
       "            \"containerId\": \"google_chart_14_div_id\",\n",
       "            \"dataTable\": jugle_chart_14_data,\n",
       "            \"chartType\": \"PieChart\",\n",
       "            \"options\": {\"width\": \"400\"}\n",
       "        });\t\t\n",
       "        \n",
       "        google_chart_14.draw();\n",
       "        \n",
       "    }\n",
       "    \n",
       "</script>\n",
       "\n",
       "<div id=\"google_chart_14_div_id\" ></div>\n"
      ],
      "text/plain": [
       "<IPython.core.display.HTML object>"
      ]
     },
     "metadata": {},
     "output_type": "display_data"
    },
    {
     "data": {
      "text/html": [
       "\n",
       "\n",
       "\n",
       "<script type=\"text/javascript\">\n",
       "\n",
       "    // Check if google jsapi is already loaded.  If not, load it.\n",
       "    if (typeof window.google == 'undefined') {\n",
       "        jQuery.getScript('https://www.google.com/jsapi', function( data, textStatus, jqxhr) {\n",
       "            google_loader();\n",
       "        });\n",
       "    } else {\n",
       "        google_loader();\n",
       "    }\n",
       "\n",
       "    // load visualization library    \n",
       "    function google_loader() {\n",
       "    \n",
       "        google.load('visualization', '1.0', {'callback': doStuff});\n",
       "    }\n",
       "    function doStuff() {\n",
       "    \n",
       "\n",
       "        // Create DataTable object from DataTable constructor or arrayToDatable()\n",
       "        var jugle_chart_15_data = new google.visualization.arrayToDataTable()\n",
       "        \n",
       "        // Add formatters, if any\n",
       "\n",
       "        // Create ChartWrapper\n",
       "        var google_chart_15 = new google.visualization.ChartWrapper({      \n",
       "            \"containerId\": \"google_chart_15_div_id\",\n",
       "            \"dataTable\": jugle_chart_15_data,\n",
       "            \"chartType\": \"ColumnChart\",\n",
       "            \"options\": {}\n",
       "        });\t\t\n",
       "        \n",
       "        google_chart_15.draw();\n",
       "        \n",
       "    }\n",
       "    \n",
       "</script>\n",
       "\n",
       "<div id=\"google_chart_15_div_id\" ></div>\n"
      ],
      "text/plain": [
       "<IPython.core.display.HTML object>"
      ]
     },
     "metadata": {},
     "output_type": "display_data"
    }
   ],
   "source": [
    "pets = []\n",
    "pets.append(['pets', 'count'])\n",
    "pets.append(['cats', 12])\n",
    "pets.append(['dogs', 15])\n",
    "pets.append(['lizards', 5])\n",
    "\n",
    "chart = JugleChart(pets)\n",
    "chart.show(\"PieChart\", width=\"400\")\n",
    "\n",
    "chart.show(\"ColumnChart\")\n",
    "\n",
    "# test:  does the chart render?"
   ]
  },
  {
   "cell_type": "markdown",
   "metadata": {},
   "source": [
    "## Data Frame"
   ]
  },
  {
   "cell_type": "code",
   "execution_count": 4,
   "metadata": {
    "collapsed": false
   },
   "outputs": [
    {
     "data": {
      "text/html": [
       "\n",
       "\n",
       "\n",
       "<script type=\"text/javascript\">\n",
       "\n",
       "    // Check if google jsapi is already loaded.  If not, load it.\n",
       "    if (typeof window.google == 'undefined') {\n",
       "        jQuery.getScript('https://www.google.com/jsapi', function( data, textStatus, jqxhr) {\n",
       "            google_loader();\n",
       "        });\n",
       "    } else {\n",
       "        google_loader();\n",
       "    }\n",
       "\n",
       "    // load visualization library    \n",
       "    function google_loader() {\n",
       "    \n",
       "        google.load('visualization', '1.0', {'callback': doStuff});\n",
       "    }\n",
       "    function doStuff() {\n",
       "    \n",
       "\n",
       "        // Create DataTable object from DataTable constructor or arrayToDatable()\n",
       "        var jugle_chart_3_data = new google.visualization.DataTable({\"rows\":[{\"c\":[{\"v\":\"New York\"},{\"v\":29},{\"v\":12}]},{\"c\":[{\"v\":\"Chicago\"},{\"v\":45},{\"v\":32}]},{\"c\":[{\"v\":\"Dallas\"},{\"v\":62},{\"v\":5}]},{\"c\":[{\"v\":\"Boston\"},{\"v\":50},{\"v\":20}]}],\"cols\":[{\"type\":\"string\",\"id\":\"cities\",\"label\":\"cities\"},{\"type\":\"number\",\"id\":\"cakes\",\"label\":\"cakes\"},{\"type\":\"number\",\"id\":\"pies\",\"label\":\"pies\"}]});\n",
       "        \n",
       "        // Add formatters, if any\n",
       "\n",
       "        // Create ChartWrapper\n",
       "        var google_chart_3 = new google.visualization.ChartWrapper({      \n",
       "            \"containerId\": \"google_chart_3_div_id\",\n",
       "            \"dataTable\": jugle_chart_3_data,\n",
       "            \"chartType\": \"ColumnChart\",\n",
       "            \"options\": {\"width\": \"400\", \"title\": \"Hello\"}\n",
       "        });\t\t\n",
       "        \n",
       "        google_chart_3.draw();\n",
       "        \n",
       "    }\n",
       "    \n",
       "</script>\n",
       "\n",
       "<div id=\"google_chart_3_div_id\" ></div>\n"
      ],
      "text/plain": [
       "<IPython.core.display.HTML object>"
      ]
     },
     "metadata": {},
     "output_type": "display_data"
    }
   ],
   "source": [
    "\n",
    "chart = JugleChart(sweets_df)\n",
    "chart.show(width=\"400\", title=\"Hello\")\n",
    "\n",
    "# test: does the chart render?"
   ]
  },
  {
   "cell_type": "markdown",
   "metadata": {},
   "source": [
    "## Series"
   ]
  },
  {
   "cell_type": "code",
   "execution_count": 5,
   "metadata": {
    "collapsed": false
   },
   "outputs": [
    {
     "data": {
      "text/html": [
       "\n",
       "\n",
       "\n",
       "<script type=\"text/javascript\">\n",
       "\n",
       "    // Check if google jsapi is already loaded.  If not, load it.\n",
       "    if (typeof window.google == 'undefined') {\n",
       "        jQuery.getScript('https://www.google.com/jsapi', function( data, textStatus, jqxhr) {\n",
       "            google_loader();\n",
       "        });\n",
       "    } else {\n",
       "        google_loader();\n",
       "    }\n",
       "\n",
       "    // load visualization library    \n",
       "    function google_loader() {\n",
       "    \n",
       "        google.load('visualization', '1.0', {'callback': doStuff});\n",
       "    }\n",
       "    function doStuff() {\n",
       "    \n",
       "\n",
       "        // Create DataTable object from DataTable constructor or arrayToDatable()\n",
       "        var jugle_chart_4_data = new google.visualization.DataTable({\"rows\":[{\"c\":[{\"v\":\"New York\"},{\"v\":29}]},{\"c\":[{\"v\":\"Chicago\"},{\"v\":45}]},{\"c\":[{\"v\":\"Dallas\"},{\"v\":62}]},{\"c\":[{\"v\":\"Boston\"},{\"v\":50}]}],\"cols\":[{\"type\":\"string\",\"id\":\"cities\",\"label\":\"cities\"},{\"type\":\"number\",\"id\":\"cakes\",\"label\":\"cakes\"}]});\n",
       "        \n",
       "        // Add formatters, if any\n",
       "\n",
       "        // Create ChartWrapper\n",
       "        var google_chart_4 = new google.visualization.ChartWrapper({      \n",
       "            \"containerId\": \"google_chart_4_div_id\",\n",
       "            \"dataTable\": jugle_chart_4_data,\n",
       "            \"chartType\": \"ColumnChart\",\n",
       "            \"options\": {}\n",
       "        });\t\t\n",
       "        \n",
       "        google_chart_4.draw();\n",
       "        \n",
       "    }\n",
       "    \n",
       "</script>\n",
       "\n",
       "<div id=\"google_chart_4_div_id\" ></div>\n"
      ],
      "text/plain": [
       "<IPython.core.display.HTML object>"
      ]
     },
     "metadata": {},
     "output_type": "display_data"
    }
   ],
   "source": [
    "chart = JugleChart(sweets_df.cities, sweets_df.cakes)\n",
    "chart.show()\n",
    "\n",
    "# test: does the chart render?"
   ]
  },
  {
   "cell_type": "markdown",
   "metadata": {},
   "source": [
    "## One line plotting on DataFrames -- .gplot()"
   ]
  },
  {
   "cell_type": "code",
   "execution_count": 6,
   "metadata": {
    "collapsed": false
   },
   "outputs": [
    {
     "data": {
      "text/html": [
       "\n",
       "\n",
       "\n",
       "<script type=\"text/javascript\">\n",
       "\n",
       "    // Check if google jsapi is already loaded.  If not, load it.\n",
       "    if (typeof window.google == 'undefined') {\n",
       "        jQuery.getScript('https://www.google.com/jsapi', function( data, textStatus, jqxhr) {\n",
       "            google_loader();\n",
       "        });\n",
       "    } else {\n",
       "        google_loader();\n",
       "    }\n",
       "\n",
       "    // load visualization library    \n",
       "    function google_loader() {\n",
       "    \n",
       "        google.load('visualization', '1.0', {'callback': doStuff});\n",
       "    }\n",
       "    function doStuff() {\n",
       "    \n",
       "\n",
       "        // Create DataTable object from DataTable constructor or arrayToDatable()\n",
       "        var jugle_chart_5_data = new google.visualization.DataTable({\"rows\":[{\"c\":[{\"v\":\"New York\"},{\"v\":29},{\"v\":12}]},{\"c\":[{\"v\":\"Chicago\"},{\"v\":45},{\"v\":32}]},{\"c\":[{\"v\":\"Dallas\"},{\"v\":62},{\"v\":5}]},{\"c\":[{\"v\":\"Boston\"},{\"v\":50},{\"v\":20}]}],\"cols\":[{\"type\":\"string\",\"id\":\"cities\",\"label\":\"cities\"},{\"type\":\"number\",\"id\":\"cakes\",\"label\":\"cakes\"},{\"type\":\"number\",\"id\":\"pies\",\"label\":\"pies\"}]});\n",
       "        \n",
       "        // Add formatters, if any\n",
       "\n",
       "        // Create ChartWrapper\n",
       "        var google_chart_5 = new google.visualization.ChartWrapper({      \n",
       "            \"containerId\": \"google_chart_5_div_id\",\n",
       "            \"dataTable\": jugle_chart_5_data,\n",
       "            \"chartType\": \"ColumnChart\",\n",
       "            \"options\": {\"chartArea\": {\"width\": \"50%\"}, \"title\": \"Sweets\"}\n",
       "        });\t\t\n",
       "        \n",
       "        google_chart_5.draw();\n",
       "        \n",
       "    }\n",
       "    \n",
       "</script>\n",
       "\n",
       "<div id=\"google_chart_5_div_id\" ></div>\n"
      ],
      "text/plain": [
       "<IPython.core.display.HTML object>"
      ]
     },
     "metadata": {},
     "output_type": "display_data"
    }
   ],
   "source": [
    "sweets_df.gplot(title=\"Sweets\", chartArea_width=\"50%\")"
   ]
  },
  {
   "cell_type": "markdown",
   "metadata": {},
   "source": [
    "## allow_nulls"
   ]
  },
  {
   "cell_type": "code",
   "execution_count": null,
   "metadata": {
    "collapsed": true
   },
   "outputs": [],
   "source": []
  },
  {
   "cell_type": "markdown",
   "metadata": {},
   "source": [
    "## datetime_cols"
   ]
  },
  {
   "cell_type": "markdown",
   "metadata": {},
   "source": [
    "# Test formatters"
   ]
  },
  {
   "cell_type": "markdown",
   "metadata": {},
   "source": [
    "## Regular formatters"
   ]
  },
  {
   "cell_type": "code",
   "execution_count": 7,
   "metadata": {
    "collapsed": false
   },
   "outputs": [
    {
     "data": {
      "text/html": [
       "\n",
       "\n",
       "\n",
       "<script type=\"text/javascript\">\n",
       "\n",
       "    // Check if google jsapi is already loaded.  If not, load it.\n",
       "    if (typeof window.google == 'undefined') {\n",
       "        jQuery.getScript('https://www.google.com/jsapi', function( data, textStatus, jqxhr) {\n",
       "            google_loader();\n",
       "        });\n",
       "    } else {\n",
       "        google_loader();\n",
       "    }\n",
       "\n",
       "    // load visualization library    \n",
       "    function google_loader() {\n",
       "    \n",
       "        google.load('visualization', '1.0', {'callback': doStuff});\n",
       "    }\n",
       "    function doStuff() {\n",
       "    \n",
       "\n",
       "        // Create DataTable object from DataTable constructor or arrayToDatable()\n",
       "        var jugle_chart_6_data = new google.visualization.DataTable({\"rows\":[{\"c\":[{\"v\":\"Date(2015,0,1)\"},{\"v\":24},{\"v\":12},{\"v\":33.9793}]},{\"c\":[{\"v\":\"Date(2015,0,2)\"},{\"v\":55},{\"v\":43},{\"v\":65.3546}]},{\"c\":[{\"v\":\"Date(2015,0,3)\"},{\"v\":76},{\"v\":27},{\"v\":23.543}]}],\"cols\":[{\"type\":\"date\",\"id\":\"dates\",\"label\":\"dates\"},{\"type\":\"number\",\"id\":\"profit\",\"label\":\"profit\"},{\"type\":\"number\",\"id\":\"loss\",\"label\":\"loss\"},{\"type\":\"number\",\"id\":\"pct\",\"label\":\"pct\"}]});\n",
       "        \n",
       "        // Add formatters, if any\n",
       "        var formatter1 = new google.visualization.DateFormat({\"formatType\": \"short\"});\n",
       "        formatter1.format(, 0);\n",
       "        var formatter2 = new google.visualization.NumberFormat({\"prefix\": \"$\", \"fractionDigits\": 2});\n",
       "        formatter2.format(, 1);\n",
       "        formatter2.format(, 2);\n",
       "        var formatter3 = new google.visualization.NumberFormat({\"pattern\": \"#,###.##%\"});\n",
       "        formatter3.format(, 3);\n",
       "\n",
       "        // Create ChartWrapper\n",
       "        var google_chart_6 = new google.visualization.ChartWrapper({      \n",
       "            \"containerId\": \"google_chart_6_div_id\",\n",
       "            \"dataTable\": jugle_chart_6_data,\n",
       "            \"chartType\": \"ColumnChart\",\n",
       "            \"options\": {}\n",
       "        });\t\t\n",
       "        \n",
       "        google_chart_6.draw();\n",
       "        \n",
       "    }\n",
       "    \n",
       "</script>\n",
       "\n",
       "<div id=\"google_chart_6_div_id\" ></div>\n"
      ],
      "text/plain": [
       "<IPython.core.display.HTML object>"
      ]
     },
     "metadata": {},
     "output_type": "display_data"
    }
   ],
   "source": [
    "chart = JugleChart(df2)\n",
    "date_format = {'formatType': 'short'}\n",
    "chart.add_formatter('date', options=date_format, cols=0)\n",
    "money_format = {'prefix':'$', 'fractionDigits': 2}\n",
    "chart.add_formatter('number', options=money_format, cols=[1, 2])\n",
    "chart.add_formatter('number', options={'pattern':  '#,###.##%'}, cols=[3])\n",
    "chart.show()\n",
    "\n",
    "# test:  are the tooltips values and axis labels formatted?"
   ]
  },
  {
   "cell_type": "markdown",
   "metadata": {},
   "source": [
    "## Pattern formatter"
   ]
  },
  {
   "cell_type": "code",
   "execution_count": 8,
   "metadata": {
    "collapsed": false
   },
   "outputs": [
    {
     "data": {
      "text/html": [
       "\n",
       "\n",
       "\n",
       "<script type=\"text/javascript\">\n",
       "\n",
       "    // Check if google jsapi is already loaded.  If not, load it.\n",
       "    if (typeof window.google == 'undefined') {\n",
       "        jQuery.getScript('https://www.google.com/jsapi', function( data, textStatus, jqxhr) {\n",
       "            google_loader();\n",
       "        });\n",
       "    } else {\n",
       "        google_loader();\n",
       "    }\n",
       "\n",
       "    // load visualization library    \n",
       "    function google_loader() {\n",
       "    \n",
       "        google.load('visualization', '1.0', {'callback': doStuff});\n",
       "    }\n",
       "    function doStuff() {\n",
       "    \n",
       "\n",
       "        // Create DataTable object from DataTable constructor or arrayToDatable()\n",
       "        var jugle_chart_7_data = new google.visualization.DataTable({\"rows\":[{\"c\":[{\"v\":\"New York\"},{\"v\":29},{\"v\":12}]},{\"c\":[{\"v\":\"Chicago\"},{\"v\":45},{\"v\":32}]},{\"c\":[{\"v\":\"Dallas\"},{\"v\":62},{\"v\":5}]},{\"c\":[{\"v\":\"Boston\"},{\"v\":50},{\"v\":20}]}],\"cols\":[{\"type\":\"string\",\"id\":\"cities\",\"label\":\"cities\"},{\"type\":\"number\",\"id\":\"cakes\",\"label\":\"cakes\"},{\"type\":\"number\",\"id\":\"pies\",\"label\":\"pies\"}]});\n",
       "        \n",
       "        // Add formatters, if any\n",
       "        var formatter4 = new google.visualization.PatternFormat(\"There are {0} cakes, but only {1} pies.\");\n",
       "        formatter4.format(, [1, 2], 1);\n",
       "\n",
       "        // Create ChartWrapper\n",
       "        var google_chart_7 = new google.visualization.ChartWrapper({      \n",
       "            \"containerId\": \"google_chart_7_div_id\",\n",
       "            \"dataTable\": jugle_chart_7_data,\n",
       "            \"chartType\": \"ColumnChart\",\n",
       "            \"options\": {}\n",
       "        });\t\t\n",
       "        \n",
       "        google_chart_7.draw();\n",
       "        \n",
       "    }\n",
       "    \n",
       "</script>\n",
       "\n",
       "<div id=\"google_chart_7_div_id\" ></div>\n"
      ],
      "text/plain": [
       "<IPython.core.display.HTML object>"
      ]
     },
     "metadata": {},
     "output_type": "display_data"
    }
   ],
   "source": [
    "chart = JugleChart(sweets_df)\n",
    "pattern = \"There are {0} cakes, but only {1} pies.\"\n",
    "chart.add_formatter(\"pattern\", pattern=pattern, source_cols=[1,2])\n",
    "chart.show()\n",
    "\n",
    "# test:  is a tooltip value shown with a text pattern based on two columns?"
   ]
  },
  {
   "cell_type": "markdown",
   "metadata": {},
   "source": [
    "## Pattern formatter - hide columns"
   ]
  },
  {
   "cell_type": "code",
   "execution_count": 9,
   "metadata": {
    "collapsed": false
   },
   "outputs": [
    {
     "data": {
      "text/html": [
       "\n",
       "\n",
       "\n",
       "<script type=\"text/javascript\">\n",
       "\n",
       "    // Check if google jsapi is already loaded.  If not, load it.\n",
       "    if (typeof window.google == 'undefined') {\n",
       "        jQuery.getScript('https://www.google.com/jsapi', function( data, textStatus, jqxhr) {\n",
       "            google_loader();\n",
       "        });\n",
       "    } else {\n",
       "        google_loader();\n",
       "    }\n",
       "\n",
       "    // load visualization library    \n",
       "    function google_loader() {\n",
       "    \n",
       "        google.load('visualization', '1.0', {'callback': doStuff});\n",
       "    }\n",
       "    function doStuff() {\n",
       "    \n",
       "\n",
       "        // Create DataTable object from DataTable constructor or arrayToDatable()\n",
       "        var jugle_chart_8_data = new google.visualization.arrayToDataTable()\n",
       "        \n",
       "        // Add formatters, if any\n",
       "        var formatter5 = new google.visualization.PatternFormat(\"{0} {1} {2}\");\n",
       "        formatter5.format(, [0, 1, 2], 1);\n",
       "\n",
       "        // Create ChartWrapper\n",
       "        var google_chart_8 = new google.visualization.ChartWrapper({      \n",
       "            \"containerId\": \"google_chart_8_div_id\",\n",
       "            \"dataTable\": jugle_chart_8_data,\n",
       "            \"chartType\": \"ColumnChart\",\n",
       "            \"options\": {}\n",
       "        });\t\t\n",
       "        \n",
       "        google_chart_8.draw();\n",
       "        \n",
       "    }\n",
       "    \n",
       "</script>\n",
       "\n",
       "<div id=\"google_chart_8_div_id\" ></div>\n"
      ],
      "text/plain": [
       "<IPython.core.display.HTML object>"
      ]
     },
     "metadata": {},
     "output_type": "display_data"
    }
   ],
   "source": [
    "list2 = []\n",
    "list2.append(['First', 'Middle', 'Last'])\n",
    "list2.append(['Sally', 'A.', 'Smith'])\n",
    "list2.append(['John', 'J', 'Johnson'])\n",
    "chart = JugleChart(list2, chart_type = \"Table\")\n",
    "pattern = \"{0} {1} {2}\"\n",
    "chart.add_formatter(\"pattern\", pattern=pattern, source_cols=[0, 1, 2], dest_col=1)\n",
    "chart.hide_cols = [0, 2]\n",
    "chart.show()\n"
   ]
  },
  {
   "cell_type": "markdown",
   "metadata": {
    "collapsed": true
   },
   "source": [
    "# Options"
   ]
  },
  {
   "cell_type": "code",
   "execution_count": null,
   "metadata": {
    "collapsed": true
   },
   "outputs": [],
   "source": []
  },
  {
   "cell_type": "code",
   "execution_count": null,
   "metadata": {
    "collapsed": true
   },
   "outputs": [],
   "source": []
  },
  {
   "cell_type": "markdown",
   "metadata": {},
   "source": [
    "# Test Filters"
   ]
  },
  {
   "cell_type": "markdown",
   "metadata": {},
   "source": [
    "## One filter"
   ]
  },
  {
   "cell_type": "code",
   "execution_count": 10,
   "metadata": {
    "collapsed": false
   },
   "outputs": [
    {
     "data": {
      "text/html": [
       "\n",
       "\n",
       "\n",
       "<script type=\"text/javascript\">\n",
       "\n",
       "    // Check if google jsapi is already loaded.  If not, load it.\n",
       "    if (typeof window.google == 'undefined') {\n",
       "        jQuery.getScript('https://www.google.com/jsapi', function( data, textStatus, jqxhr) {\n",
       "            google_loader();\n",
       "        });\n",
       "    } else {\n",
       "        google_loader();\n",
       "    }\n",
       "\n",
       "    // load visualization library    \n",
       "    function google_loader() {\n",
       "\t\tgoogle.load('visualization', '1.0', {'packages':['controls'], 'callback': doStuff});\n",
       "    }\n",
       "    function doStuff() {\n",
       "    \n",
       "\n",
       "        // Create DataTable object from DataTable constructor or arrayToDatable()\n",
       "        var jugle_chart_9_data = new google.visualization.DataTable({\"rows\":[{\"c\":[{\"v\":\"New York\"},{\"v\":29},{\"v\":12}]},{\"c\":[{\"v\":\"Chicago\"},{\"v\":45},{\"v\":32}]},{\"c\":[{\"v\":\"Dallas\"},{\"v\":62},{\"v\":5}]},{\"c\":[{\"v\":\"Boston\"},{\"v\":50},{\"v\":20}]}],\"cols\":[{\"type\":\"string\",\"id\":\"cities\",\"label\":\"cities\"},{\"type\":\"number\",\"id\":\"cakes\",\"label\":\"cakes\"},{\"type\":\"number\",\"id\":\"pies\",\"label\":\"pies\"}]});\n",
       "        \n",
       "        // Add formatters, if any\n",
       "\n",
       "        // Create ChartWrapper\n",
       "        var google_chart_9 = new google.visualization.ChartWrapper({      \n",
       "            \"containerId\": \"google_chart_9_div_id\",\n",
       "            \"dataTable\": jugle_chart_9_data,\n",
       "            \"chartType\": \"ColumnChart\",\n",
       "            \"options\": {}\n",
       "        });\t\t\n",
       "        \n",
       "        google_chart_9.draw();\n",
       "        \n",
       "    }\n",
       "    \n",
       "</script>\n",
       "\n",
       "<div id=\"google_chart_9_div_id\" ></div>\n"
      ],
      "text/plain": [
       "<IPython.core.display.HTML object>"
      ]
     },
     "metadata": {},
     "output_type": "display_data"
    }
   ],
   "source": [
    "chart = JugleChart(sweets_df)\n",
    "filter = Filter('NumberRangeFilter')\n",
    "filter.add_options(filterColumnIndex=1)\n",
    "filter.add_state(lowValue=40, highValue=55)\n",
    "chart.add_filter(filter)\n",
    "chart.show()\n",
    "\n"
   ]
  },
  {
   "cell_type": "markdown",
   "metadata": {},
   "source": [
    "## Two filters"
   ]
  },
  {
   "cell_type": "code",
   "execution_count": 11,
   "metadata": {
    "collapsed": false
   },
   "outputs": [
    {
     "data": {
      "text/html": [
       "\n",
       "\n",
       "\n",
       "<script type=\"text/javascript\">\n",
       "\n",
       "    // Check if google jsapi is already loaded.  If not, load it.\n",
       "    if (typeof window.google == 'undefined') {\n",
       "        jQuery.getScript('https://www.google.com/jsapi', function( data, textStatus, jqxhr) {\n",
       "            google_loader();\n",
       "        });\n",
       "    } else {\n",
       "        google_loader();\n",
       "    }\n",
       "\n",
       "    // load visualization library    \n",
       "    function google_loader() {\n",
       "\t\tgoogle.load('visualization', '1.0', {'packages':['controls'], 'callback': doStuff});\n",
       "    }\n",
       "    function doStuff() {\n",
       "    \n",
       "\n",
       "        // Create DataTable object from DataTable constructor or arrayToDatable()\n",
       "        var jugle_chart_10_data = new google.visualization.arrayToDataTable()\n",
       "        \n",
       "        // Add formatters, if any\n",
       "\n",
       "        // Create ChartWrapper\n",
       "        var google_chart_10 = new google.visualization.ChartWrapper({      \n",
       "            \"containerId\": \"google_chart_10_div_id\",\n",
       "            \"dataTable\": jugle_chart_10_data,\n",
       "            \"chartType\": \"Table\",\n",
       "            \"options\": {}\n",
       "        });\t\t\n",
       "        \n",
       "        google_chart_10.draw();\n",
       "        \n",
       "    }\n",
       "    \n",
       "</script>\n",
       "\n",
       "<div id=\"google_chart_10_div_id\" ></div>\n"
      ],
      "text/plain": [
       "<IPython.core.display.HTML object>"
      ]
     },
     "metadata": {},
     "output_type": "display_data"
    }
   ],
   "source": [
    "list1 = []\n",
    "list1.append(['Cat1', 'Cat2', 'count'])\n",
    "list1.append(['1', 'a', 34])\n",
    "list1.append(['1', 'b', 23])\n",
    "list1.append(['1', 'k', 84])\n",
    "list1.append(['2', 'a', 62])\n",
    "list1.append(['2', 'm', 46])\n",
    "list1.append(['2', 'c', 68])\n",
    "list1.append(['3', 'g', 24])\n",
    "list1.append(['3', 'b', 86])\n",
    "list1.append(['3', 'c', 45])\n",
    "\n",
    "chart = JugleChart(list1)\n",
    "\n",
    "filter1 = Filter(type=\"CategoryFilter\")\n",
    "filter1.add_options(filterColumnIndex=0, ui_allowMultiple=True, ui_allowNone=True)\n",
    "filter2 = Filter(type=\"CategoryFilter\")\n",
    "filter2.add_options(filterColumnIndex=1, ui_allowMultiple=True, ui_allowNone=True)\n",
    "\n",
    "chart.add_filter(filter1)\n",
    "chart.add_filter(filter2)\n",
    "\n",
    "filter1.bind_filter(filter2)\n",
    "\n",
    "chart.show('Table')"
   ]
  },
  {
   "cell_type": "markdown",
   "metadata": {
    "collapsed": true
   },
   "source": [
    "# Chart Rows"
   ]
  },
  {
   "cell_type": "markdown",
   "metadata": {},
   "source": [
    "## Charts without filters"
   ]
  },
  {
   "cell_type": "code",
   "execution_count": 12,
   "metadata": {
    "collapsed": false
   },
   "outputs": [
    {
     "ename": "UndefinedError",
     "evalue": "'jg' is undefined",
     "output_type": "error",
     "traceback": [
      "\u001b[0;31m---------------------------------------------------------------------------\u001b[0m",
      "\u001b[0;31mUndefinedError\u001b[0m                            Traceback (most recent call last)",
      "\u001b[0;32m<ipython-input-12-052cad891700>\u001b[0m in \u001b[0;36m<module>\u001b[0;34m()\u001b[0m\n\u001b[1;32m     16\u001b[0m \u001b[0mrow\u001b[0m \u001b[0;34m=\u001b[0m \u001b[0mChartRow\u001b[0m\u001b[0;34m(\u001b[0m\u001b[0mchart1\u001b[0m\u001b[0;34m,\u001b[0m \u001b[0mchart2\u001b[0m\u001b[0;34m,\u001b[0m \u001b[0mchart3\u001b[0m\u001b[0;34m)\u001b[0m\u001b[0;34m\u001b[0m\u001b[0m\n\u001b[1;32m     17\u001b[0m \u001b[0;34m\u001b[0m\u001b[0m\n\u001b[0;32m---> 18\u001b[0;31m \u001b[0mrow\u001b[0m\u001b[0;34m.\u001b[0m\u001b[0mshow\u001b[0m\u001b[0;34m(\u001b[0m\u001b[0;34m)\u001b[0m\u001b[0;34m\u001b[0m\u001b[0m\n\u001b[0m",
      "\u001b[0;32m/Users/richd/Documents/python_workspace/juglechart/juglechart/juglechart_api.py\u001b[0m in \u001b[0;36mshow\u001b[0;34m(self)\u001b[0m\n\u001b[1;32m    710\u001b[0m     \u001b[0;32mdef\u001b[0m \u001b[0mshow\u001b[0m\u001b[0;34m(\u001b[0m\u001b[0mself\u001b[0m\u001b[0;34m)\u001b[0m\u001b[0;34m:\u001b[0m\u001b[0;34m\u001b[0m\u001b[0m\n\u001b[1;32m    711\u001b[0m \u001b[0;34m\u001b[0m\u001b[0m\n\u001b[0;32m--> 712\u001b[0;31m         \u001b[0mdisplay\u001b[0m\u001b[0;34m(\u001b[0m\u001b[0mHTML\u001b[0m\u001b[0;34m(\u001b[0m\u001b[0mself\u001b[0m\u001b[0;34m.\u001b[0m\u001b[0mrender\u001b[0m\u001b[0;34m(\u001b[0m\u001b[0;34m)\u001b[0m\u001b[0;34m)\u001b[0m\u001b[0;34m)\u001b[0m\u001b[0;34m\u001b[0m\u001b[0m\n\u001b[0m\u001b[1;32m    713\u001b[0m \u001b[0;34m\u001b[0m\u001b[0m\n\u001b[1;32m    714\u001b[0m \u001b[0;34m\u001b[0m\u001b[0m\n",
      "\u001b[0;32m/Users/richd/Documents/python_workspace/juglechart/juglechart/juglechart_api.py\u001b[0m in \u001b[0;36mrender\u001b[0;34m(self)\u001b[0m\n\u001b[1;32m    706\u001b[0m             \u001b[0mchart\u001b[0m\u001b[0;34m.\u001b[0m\u001b[0m_set_render_properties\u001b[0m\u001b[0;34m(\u001b[0m\u001b[0;34m)\u001b[0m\u001b[0;34m\u001b[0m\u001b[0m\n\u001b[1;32m    707\u001b[0m \u001b[0;34m\u001b[0m\u001b[0m\n\u001b[0;32m--> 708\u001b[0;31m         \u001b[0;32mreturn\u001b[0m \u001b[0mj2_env\u001b[0m\u001b[0;34m.\u001b[0m\u001b[0mget_template\u001b[0m\u001b[0;34m(\u001b[0m\u001b[0;34m'chartrow_template.html'\u001b[0m\u001b[0;34m)\u001b[0m\u001b[0;34m.\u001b[0m\u001b[0mrender\u001b[0m\u001b[0;34m(\u001b[0m\u001b[0mchartrow\u001b[0m\u001b[0;34m=\u001b[0m\u001b[0mself\u001b[0m\u001b[0;34m,\u001b[0m \u001b[0mload_controls\u001b[0m\u001b[0;34m=\u001b[0m\u001b[0mself\u001b[0m\u001b[0;34m.\u001b[0m\u001b[0mload_controls\u001b[0m\u001b[0;34m)\u001b[0m\u001b[0;34m\u001b[0m\u001b[0m\n\u001b[0m\u001b[1;32m    709\u001b[0m \u001b[0;34m\u001b[0m\u001b[0m\n\u001b[1;32m    710\u001b[0m     \u001b[0;32mdef\u001b[0m \u001b[0mshow\u001b[0m\u001b[0;34m(\u001b[0m\u001b[0mself\u001b[0m\u001b[0;34m)\u001b[0m\u001b[0;34m:\u001b[0m\u001b[0;34m\u001b[0m\u001b[0m\n",
      "\u001b[0;32m/Users/richd/ishvenv/lib/python2.7/site-packages/jinja2/environment.pyc\u001b[0m in \u001b[0;36mrender\u001b[0;34m(self, *args, **kwargs)\u001b[0m\n\u001b[1;32m    987\u001b[0m         \u001b[0;32mexcept\u001b[0m \u001b[0mException\u001b[0m\u001b[0;34m:\u001b[0m\u001b[0;34m\u001b[0m\u001b[0m\n\u001b[1;32m    988\u001b[0m             \u001b[0mexc_info\u001b[0m \u001b[0;34m=\u001b[0m \u001b[0msys\u001b[0m\u001b[0;34m.\u001b[0m\u001b[0mexc_info\u001b[0m\u001b[0;34m(\u001b[0m\u001b[0;34m)\u001b[0m\u001b[0;34m\u001b[0m\u001b[0m\n\u001b[0;32m--> 989\u001b[0;31m         \u001b[0;32mreturn\u001b[0m \u001b[0mself\u001b[0m\u001b[0;34m.\u001b[0m\u001b[0menvironment\u001b[0m\u001b[0;34m.\u001b[0m\u001b[0mhandle_exception\u001b[0m\u001b[0;34m(\u001b[0m\u001b[0mexc_info\u001b[0m\u001b[0;34m,\u001b[0m \u001b[0mTrue\u001b[0m\u001b[0;34m)\u001b[0m\u001b[0;34m\u001b[0m\u001b[0m\n\u001b[0m\u001b[1;32m    990\u001b[0m \u001b[0;34m\u001b[0m\u001b[0m\n\u001b[1;32m    991\u001b[0m     \u001b[0;32mdef\u001b[0m \u001b[0mstream\u001b[0m\u001b[0;34m(\u001b[0m\u001b[0mself\u001b[0m\u001b[0;34m,\u001b[0m \u001b[0;34m*\u001b[0m\u001b[0margs\u001b[0m\u001b[0;34m,\u001b[0m \u001b[0;34m**\u001b[0m\u001b[0mkwargs\u001b[0m\u001b[0;34m)\u001b[0m\u001b[0;34m:\u001b[0m\u001b[0;34m\u001b[0m\u001b[0m\n",
      "\u001b[0;32m/Users/richd/ishvenv/lib/python2.7/site-packages/jinja2/environment.pyc\u001b[0m in \u001b[0;36mhandle_exception\u001b[0;34m(self, exc_info, rendered, source_hint)\u001b[0m\n\u001b[1;32m    752\u001b[0m             \u001b[0mself\u001b[0m\u001b[0;34m.\u001b[0m\u001b[0mexception_handler\u001b[0m\u001b[0;34m(\u001b[0m\u001b[0mtraceback\u001b[0m\u001b[0;34m)\u001b[0m\u001b[0;34m\u001b[0m\u001b[0m\n\u001b[1;32m    753\u001b[0m         \u001b[0mexc_type\u001b[0m\u001b[0;34m,\u001b[0m \u001b[0mexc_value\u001b[0m\u001b[0;34m,\u001b[0m \u001b[0mtb\u001b[0m \u001b[0;34m=\u001b[0m \u001b[0mtraceback\u001b[0m\u001b[0;34m.\u001b[0m\u001b[0mstandard_exc_info\u001b[0m\u001b[0;34m\u001b[0m\u001b[0m\n\u001b[0;32m--> 754\u001b[0;31m         \u001b[0mreraise\u001b[0m\u001b[0;34m(\u001b[0m\u001b[0mexc_type\u001b[0m\u001b[0;34m,\u001b[0m \u001b[0mexc_value\u001b[0m\u001b[0;34m,\u001b[0m \u001b[0mtb\u001b[0m\u001b[0;34m)\u001b[0m\u001b[0;34m\u001b[0m\u001b[0m\n\u001b[0m\u001b[1;32m    755\u001b[0m \u001b[0;34m\u001b[0m\u001b[0m\n\u001b[1;32m    756\u001b[0m     \u001b[0;32mdef\u001b[0m \u001b[0mjoin_path\u001b[0m\u001b[0;34m(\u001b[0m\u001b[0mself\u001b[0m\u001b[0;34m,\u001b[0m \u001b[0mtemplate\u001b[0m\u001b[0;34m,\u001b[0m \u001b[0mparent\u001b[0m\u001b[0;34m)\u001b[0m\u001b[0;34m:\u001b[0m\u001b[0;34m\u001b[0m\u001b[0m\n",
      "\u001b[0;32m/Users/richd/Documents/python_workspace/juglechart/juglechart/jinja_templates/chartrow_template.html\u001b[0m in \u001b[0;36mtop-level template code\u001b[0;34m()\u001b[0m\n\u001b[1;32m      7\u001b[0m                 \u001b[0;34m{\u001b[0m\u001b[0;34m%\u001b[0m \u001b[0;32mfor\u001b[0m \u001b[0mchart\u001b[0m \u001b[0;32min\u001b[0m \u001b[0mchartrow\u001b[0m\u001b[0;34m.\u001b[0m\u001b[0mcharts\u001b[0m \u001b[0;34m%\u001b[0m\u001b[0;34m}\u001b[0m\u001b[0;34m\u001b[0m\u001b[0m\n\u001b[1;32m      8\u001b[0m         \u001b[0;34m//\u001b[0m \u001b[0;34m==\u001b[0m\u001b[0;34m==\u001b[0m\u001b[0;34m==\u001b[0m\u001b[0;34m==\u001b[0m\u001b[0;34m==\u001b[0m\u001b[0;34m==\u001b[0m\u001b[0;34m==\u001b[0m\u001b[0;34m==\u001b[0m\u001b[0;34m==\u001b[0m\u001b[0;34m==\u001b[0m \u001b[0mCHARTROW\u001b[0m \u001b[0mCHART\u001b[0m \u001b[0;34m{\u001b[0m\u001b[0;34m{\u001b[0m \u001b[0mloop\u001b[0m\u001b[0;34m.\u001b[0m\u001b[0mindex\u001b[0m \u001b[0;34m}\u001b[0m\u001b[0;34m}\u001b[0m \u001b[0;34m==\u001b[0m\u001b[0;34m==\u001b[0m\u001b[0;34m==\u001b[0m\u001b[0;34m==\u001b[0m\u001b[0;34m==\u001b[0m\u001b[0;34m==\u001b[0m\u001b[0;34m==\u001b[0m\u001b[0;34m==\u001b[0m\u001b[0;34m==\u001b[0m\u001b[0;34m==\u001b[0m\u001b[0;34m==\u001b[0m\u001b[0;34m==\u001b[0m\u001b[0;34m==\u001b[0m\u001b[0;34m==\u001b[0m\u001b[0;34m=\u001b[0m \u001b[0;34m//\u001b[0m\u001b[0;34m\u001b[0m\u001b[0m\n\u001b[0;32m----> 9\u001b[0;31m                         \u001b[0;34m{\u001b[0m\u001b[0;34m%\u001b[0m \u001b[0minclude\u001b[0m \u001b[0;34m'js_data.html'\u001b[0m \u001b[0;34m%\u001b[0m\u001b[0;34m}\u001b[0m\u001b[0;34m\u001b[0m\u001b[0m\n\u001b[0m\u001b[1;32m     10\u001b[0m                 \u001b[0;34m{\u001b[0m\u001b[0;34m%\u001b[0m \u001b[0;32mif\u001b[0m \u001b[0mchart\u001b[0m\u001b[0;34m.\u001b[0m\u001b[0mformatters\u001b[0m \u001b[0;34m%\u001b[0m\u001b[0;34m}\u001b[0m\u001b[0;34m\u001b[0m\u001b[0m\n\u001b[1;32m     11\u001b[0m                         \u001b[0;34m{\u001b[0m\u001b[0;34m%\u001b[0m \u001b[0minclude\u001b[0m \u001b[0;34m'js_formatters.html'\u001b[0m \u001b[0;34m%\u001b[0m\u001b[0;34m}\u001b[0m\u001b[0;34m\u001b[0m\u001b[0m\n",
      "\u001b[0;32m/Users/richd/Documents/python_workspace/juglechart/juglechart/jinja_templates/js_data.html\u001b[0m in \u001b[0;36mtop-level template code\u001b[0;34m()\u001b[0m\n\u001b[1;32m      1\u001b[0m         \u001b[0;34m//\u001b[0m \u001b[0mCreate\u001b[0m \u001b[0mDataTable\u001b[0m \u001b[0mobject\u001b[0m \u001b[0;32mfrom\u001b[0m \u001b[0mDataTable\u001b[0m \u001b[0mconstructor\u001b[0m \u001b[0;32mor\u001b[0m \u001b[0marrayToDatable\u001b[0m\u001b[0;34m(\u001b[0m\u001b[0;34m)\u001b[0m\u001b[0;34m\u001b[0m\u001b[0m\n\u001b[0;32m----> 2\u001b[0;31m         \u001b[0;34m{\u001b[0m\u001b[0;34m%\u001b[0m \u001b[0;32mif\u001b[0m \u001b[0mjg\u001b[0m\u001b[0;34m.\u001b[0m\u001b[0mjson\u001b[0m \u001b[0;34m%\u001b[0m\u001b[0;34m}\u001b[0m\u001b[0;34m\u001b[0m\u001b[0m\n\u001b[0m\u001b[1;32m      3\u001b[0m         \u001b[0mvar\u001b[0m \u001b[0;34m{\u001b[0m\u001b[0;34m{\u001b[0m \u001b[0mjg\u001b[0m\u001b[0;34m.\u001b[0m\u001b[0mdata_name\u001b[0m \u001b[0;34m}\u001b[0m\u001b[0;34m}\u001b[0m \u001b[0;34m=\u001b[0m \u001b[0mnew\u001b[0m \u001b[0mgoogle\u001b[0m\u001b[0;34m.\u001b[0m\u001b[0mvisualization\u001b[0m\u001b[0;34m.\u001b[0m\u001b[0mDataTable\u001b[0m\u001b[0;34m(\u001b[0m\u001b[0;34m{\u001b[0m\u001b[0;34m{\u001b[0m \u001b[0mjg\u001b[0m\u001b[0;34m.\u001b[0m\u001b[0mjson\u001b[0m \u001b[0;34m}\u001b[0m\u001b[0;34m}\u001b[0m\u001b[0;34m)\u001b[0m\u001b[0;34m;\u001b[0m\u001b[0;34m\u001b[0m\u001b[0m\n\u001b[1;32m      4\u001b[0m         \u001b[0;34m{\u001b[0m\u001b[0;34m%\u001b[0m \u001b[0;32melse\u001b[0m \u001b[0;34m%\u001b[0m\u001b[0;34m}\u001b[0m\u001b[0;34m\u001b[0m\u001b[0m\n\u001b[1;32m      5\u001b[0m         \u001b[0mvar\u001b[0m \u001b[0;34m{\u001b[0m\u001b[0;34m{\u001b[0m \u001b[0mjg\u001b[0m\u001b[0;34m.\u001b[0m\u001b[0mdata_name\u001b[0m \u001b[0;34m}\u001b[0m\u001b[0;34m}\u001b[0m \u001b[0;34m=\u001b[0m \u001b[0mnew\u001b[0m \u001b[0mgoogle\u001b[0m\u001b[0;34m.\u001b[0m\u001b[0mvisualization\u001b[0m\u001b[0;34m.\u001b[0m\u001b[0marrayToDataTable\u001b[0m\u001b[0;34m(\u001b[0m\u001b[0;34m{\u001b[0m\u001b[0;34m{\u001b[0m \u001b[0mchart\u001b[0m\u001b[0;34m.\u001b[0m\u001b[0mdata\u001b[0m \u001b[0;34m}\u001b[0m\u001b[0;34m}\u001b[0m\u001b[0;34m)\u001b[0m\u001b[0;34m\u001b[0m\u001b[0m\n",
      "\u001b[0;32m/Users/richd/ishvenv/lib/python2.7/site-packages/jinja2/environment.pyc\u001b[0m in \u001b[0;36mgetattr\u001b[0;34m(self, obj, attribute)\u001b[0m\n\u001b[1;32m    406\u001b[0m         \"\"\"\n\u001b[1;32m    407\u001b[0m         \u001b[0;32mtry\u001b[0m\u001b[0;34m:\u001b[0m\u001b[0;34m\u001b[0m\u001b[0m\n\u001b[0;32m--> 408\u001b[0;31m             \u001b[0;32mreturn\u001b[0m \u001b[0mgetattr\u001b[0m\u001b[0;34m(\u001b[0m\u001b[0mobj\u001b[0m\u001b[0;34m,\u001b[0m \u001b[0mattribute\u001b[0m\u001b[0;34m)\u001b[0m\u001b[0;34m\u001b[0m\u001b[0m\n\u001b[0m\u001b[1;32m    409\u001b[0m         \u001b[0;32mexcept\u001b[0m \u001b[0mAttributeError\u001b[0m\u001b[0;34m:\u001b[0m\u001b[0;34m\u001b[0m\u001b[0m\n\u001b[1;32m    410\u001b[0m             \u001b[0;32mpass\u001b[0m\u001b[0;34m\u001b[0m\u001b[0m\n",
      "\u001b[0;31mUndefinedError\u001b[0m: 'jg' is undefined"
     ]
    }
   ],
   "source": [
    "chart1 = JugleChart(sweets_df.cities, sweets_df.cakes)\n",
    "chart2 = chart1.copy()\n",
    "chart3 = chart1.copy()\n",
    "chart4 = chart1.copy()\n",
    "\n",
    "chart2.chart_type=\"PieChart\"\n",
    "chart3.chart_type=\"LineChart\"\n",
    "chart4.chart_type=\"AreaChart\"\n",
    "\n",
    "chart1.add_chart_options(chartArea_width=\"60%\")\n",
    "chart2.add_chart_options(chartArea_width=\"100%\")\n",
    "chart3.add_chart_options(chartArea_width=\"50%\")\n",
    "chart4.add_chart_options(chartArea_width=\"50%\")\n",
    "\n",
    "# row = ChartRow(chart1, chart2, chart3, chart4)\n",
    "row = ChartRow(chart1, chart2, chart3)\n",
    "\n",
    "row.show()"
   ]
  },
  {
   "cell_type": "markdown",
   "metadata": {},
   "source": [
    "## Charts with filters"
   ]
  },
  {
   "cell_type": "code",
   "execution_count": null,
   "metadata": {
    "collapsed": false,
    "scrolled": true
   },
   "outputs": [],
   "source": [
    "chart1 = JugleChart(sweets_df.cities, sweets_df.cakes)\n",
    "chart2 = chart1.copy()\n",
    "chart3 = JugleChart(list1)\n",
    "\n",
    "chart2.chart_type=\"PieChart\"\n",
    "chart3.chart_type=\"Table\"\n",
    "# chart4.chart_type=\"AreaChart\"\n",
    "\n",
    "chart1.add_chart_options(chartArea_width=\"60%\")\n",
    "chart2.add_chart_options(chartArea_width=\"100%\")\n",
    "chart3.add_chart_options(chartArea_width=\"50%\")\n",
    "# chart4.add_chart_options(chartArea_width=\"50%\")\n",
    "\n",
    "filter3a = Filter(type=\"CategoryFilter\")\n",
    "filter3a.add_options(filterColumnIndex=0, ui_allowMultiple=True, ui_allowNone=True)\n",
    "filter3b = Filter(type=\"CategoryFilter\")\n",
    "filter3b.add_options(filterColumnIndex=1, ui_allowMultiple=True, ui_allowNone=True)\n",
    "chart3.add_filter(filter3a)\n",
    "chart3.add_filter(filter3b)\n",
    "filter3a.bind_filter(filter3b)\n",
    "\n",
    "filter2 = Filter(\"NumberRangeFilter\")\n",
    "filter2.add_options(filterColumnIndex=1)\n",
    "chart2.add_filter(filter2)\n",
    "\n",
    "# row = ChartRow(chart1, chart2, chart3, chart4)\n",
    "row = ChartRow(chart1, chart2, chart3)\n",
    "\n",
    "row.show()"
   ]
  },
  {
   "cell_type": "markdown",
   "metadata": {
    "collapsed": true
   },
   "source": [
    "# Roles"
   ]
  },
  {
   "cell_type": "code",
   "execution_count": null,
   "metadata": {
    "collapsed": true
   },
   "outputs": [],
   "source": []
  },
  {
   "cell_type": "code",
   "execution_count": null,
   "metadata": {
    "collapsed": false
   },
   "outputs": [],
   "source": [
    "# annotationText appears with line chart but not column chart.\n",
    "\n",
    "day = ['Mon', 'Tue']\n",
    "stock_value = [50, 53]\n",
    "low = [47, 52]\n",
    "high = [51, 55]\n",
    "annotation = ['A', 'B']\n",
    "style = 'bar {fill-color: #c8001d; stroke-width: 3; stroke-color: #AAEEAA}'\n",
    "styles = [style, None]\n",
    "stock_columns = ['day', 'stock_value', 'low', 'high', 'annotation', 'styles']\n",
    "stock_df = pd.DataFrame({'day': day, 'stock_value': stock_value, 'low': low, 'high': high,\n",
    "                         'annotation': annotation, 'styles': styles},\n",
    "                        columns=stock_columns)\n",
    "\n",
    "gchart = JugleChart(stock_df, allow_nulls = True, chartArea_width=\"50%\")\n",
    "\n",
    "gchart.set_role(2, 'interval')\n",
    "gchart.set_role(3, 'interval')\n",
    "gchart.set_role(4, 'annotation')\n",
    "gchart.set_role(5, 'style')\n",
    "\n",
    "gchart.show()\n"
   ]
  },
  {
   "cell_type": "code",
   "execution_count": null,
   "metadata": {
    "collapsed": true
   },
   "outputs": [],
   "source": []
  }
 ],
 "metadata": {
  "kernelspec": {
   "display_name": "Python 2",
   "language": "python",
   "name": "python2"
  },
  "language_info": {
   "codemirror_mode": {
    "name": "ipython",
    "version": 2
   },
   "file_extension": ".py",
   "mimetype": "text/x-python",
   "name": "python",
   "nbconvert_exporter": "python",
   "pygments_lexer": "ipython2",
   "version": "2.7.10"
  }
 },
 "nbformat": 4,
 "nbformat_minor": 0
}
