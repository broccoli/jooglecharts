{
 "cells": [
  {
   "cell_type": "markdown",
   "metadata": {},
   "source": [
    "# Google Chart Formatters\n",
    "Google Charts provide Formatters that can change the way data is displayed in a chart without changing the underlying data.  The Google Charts documentation currently lists six available formatters:  ArrowFormat, BarFormat, ColorFormat, DateFormat, NumberFormat, PatternFormat.  JugleCharts provides formatter support.\n",
    "\n",
    "** ColorFormat is not currently supported. **\n",
    "\n",
    "ArrowFormat, BarFormat, and ColorFormat are only for use in Table charts.\n",
    "\n",
    "Example usage of supported formats follows."
   ]
  },
  {
   "cell_type": "code",
   "execution_count": 3,
   "metadata": {
    "collapsed": false
   },
   "outputs": [
    {
     "name": "stdout",
     "output_type": "stream",
     "text": [
      "2008-01-15 05:30:12\n"
     ]
    }
   ],
   "source": [
    "import pandas as pd\n",
    "from juglechart_api import JugleChart\n",
    "\n",
    "print pd.to_datetime(\"2008-01-15 05:30:12\")"
   ]
  },
  {
   "cell_type": "markdown",
   "metadata": {},
   "source": [
    "## DateFormat"
   ]
  },
  {
   "cell_type": "code",
   "execution_count": 29,
   "metadata": {
    "collapsed": false
   },
   "outputs": [
    {
     "data": {
      "text/html": [
       "\n",
       "\n",
       "\n",
       "<script type=\"text/javascript\">\n",
       "\n",
       "    // Check if google jsapi is already loaded.  If not, load it.\n",
       "    if (typeof window.google == 'undefined') {\n",
       "        jQuery.getScript('https://www.google.com/jsapi', function( data, textStatus, jqxhr) {\n",
       "            google_loader();\n",
       "        });\n",
       "    } else {\n",
       "        google_loader();\n",
       "    }\n",
       "\n",
       "    // load visualization library    \n",
       "    function google_loader() {\n",
       "    \n",
       "        google.load('visualization', '1.0', {'callback': doStuff});\n",
       "    }\n",
       "    function doStuff() {\n",
       "    \n",
       "\n",
       "        // Create DataTable object from DataTable constructor or arrayToDatable()\n",
       "        var google_chart_16_data = new google.visualization.DataTable({\"rows\":[{\"c\":[{\"v\":\"Mike\"},{\"v\":\"Date(2008,0,15)\"},{\"v\":\"Date(2008,0,15)\"},{\"v\":\"Date(2008,0,15,5,30,12)\"}]},{\"c\":[{\"v\":\"Alice\"},{\"v\":\"Date(2011,9,22)\"},{\"v\":\"Date(2011,9,22)\"},{\"v\":\"Date(2011,9,22,14,3,52)\"}]}],\"cols\":[{\"type\":\"string\",\"id\":\"Name\",\"label\":\"Name\"},{\"type\":\"date\",\"id\":\"Date format 1\",\"label\":\"Date format 1\"},{\"type\":\"date\",\"id\":\"Date format 2\",\"label\":\"Date format 2\"},{\"type\":\"datetime\",\"id\":\"Date format 3\",\"label\":\"Date format 3\"}]});\n",
       "        \n",
       "        \n",
       "        \n",
       "        // Add formatters, if any\n",
       "        var formatter21 = new google.visualization.DateFormat({\"formatType\": \"short\"});\n",
       "        formatter21.format(google_chart_16_data, 1);\n",
       "        var formatter22 = new google.visualization.DateFormat({\"formatType\": \"medium\"});\n",
       "        formatter22.format(google_chart_16_data, 2);\n",
       "        var formatter23 = new google.visualization.DateFormat({\"pattern\": \"EEE, MMM d, ''yy H:m:s\"});\n",
       "        formatter23.format(google_chart_16_data, 3);\n",
       "\n",
       "        // Create ChartWrapper\n",
       "        \n",
       "        \n",
       "        var google_chart_16 = new google.visualization.ChartWrapper({      \n",
       "            \"containerId\": \"google_chart_16_div_id\",\n",
       "            \"dataTable\": google_chart_16_data,\n",
       "            \"chartType\": \"Table\",\n",
       "            \"options\": {}\n",
       "        });\t\t\n",
       "\t\t\n",
       "\t\t\n",
       "\n",
       "        \n",
       "        google_chart_16.draw();\n",
       "        \n",
       "    }\n",
       "    \n",
       "</script>\n",
       "<div id=\"google_chart_16_div_id\" ></div>\n"
      ],
      "text/plain": [
       "<IPython.core.display.HTML object>"
      ]
     },
     "metadata": {},
     "output_type": "display_data"
    }
   ],
   "source": [
    "\n",
    "df = pd.DataFrame(columns = ['Name', 'Date format 1', 'Date format 2', 'Date format 3'])\n",
    "\n",
    "df.loc[0] = ['Mike', pd.to_datetime(\"2008-01-15 05:30:12\"),\n",
    "             pd.to_datetime(\"2008-01-15 05:30:12\"),\n",
    "             pd.to_datetime(\"2008-01-15 05:30:12\")]\n",
    "\n",
    "df.loc[1] = ['Alice', pd.to_datetime(\"2011-10-22 14:03:52\"),\n",
    "             pd.to_datetime(\"2011-10-22 14:03:52\"),\n",
    "             pd.to_datetime(\"2011-10-22 14:03:52\")]\n",
    "\n",
    "chart = JugleChart(df, chart_type=\"Table\", datetime_cols=[3])\n",
    "\n",
    "date_format = {'pattern': \"EEE, MMM d, ''yy H:m:s\"}\n",
    "\n",
    "chart.add_formatter('date', options = {'formatType': 'short'}, cols = [1])\n",
    "\n",
    "\n",
    "chart.add_formatter('date', options = {'formatType': 'medium'}, cols = [2])\n",
    "chart.add_formatter('date', options = date_format, cols = [3])\n",
    "\n",
    "chart.show()\n"
   ]
  },
  {
   "cell_type": "code",
   "execution_count": null,
   "metadata": {
    "collapsed": true
   },
   "outputs": [],
   "source": []
  }
 ],
 "metadata": {
  "kernelspec": {
   "display_name": "Python 2",
   "language": "python",
   "name": "python2"
  },
  "language_info": {
   "codemirror_mode": {
    "name": "ipython",
    "version": 2
   },
   "file_extension": ".py",
   "mimetype": "text/x-python",
   "name": "python",
   "nbconvert_exporter": "python",
   "pygments_lexer": "ipython2",
   "version": "2.7.10"
  }
 },
 "nbformat": 4,
 "nbformat_minor": 0
}
