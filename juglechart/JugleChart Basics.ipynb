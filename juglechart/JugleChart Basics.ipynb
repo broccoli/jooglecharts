{
 "cells": [
  {
   "cell_type": "markdown",
   "metadata": {},
   "source": [
    "# What is JugleChart?\n",
    "JugleChart is Python/jupyter api for creating a Google Chart using generated javascript and html that calls the Google Charts library.  JugleChart generates the javascript and html for you.  You don't have to worry about loading the chart library, creating valid javascript or html, or creating unique id's for your chart containers.\n",
    "\n",
    "*** Note: JugleChart is a thin wrapper for Google Charts.  You must consult Google Charts documenation for all types and options to pass to JugleChart.  It does not replace the Google Charts documentation.***\n",
    "\n",
    "JugleChart is designed to be simple, so it has some limitations over coding your own Google Chart.\n",
    "* JugleChart accepts only one set of data.\n",
    "* JugleChart can create only one chart.\n",
    "* JugleChart does not support javascript event handling.\n",
    "\n",
    "JugleChart will allow you to do with a chart whatever the most generic Google Chart javascript structure permits.  It will plug your selections into a basic javascript template.  In other words, any charts and options that do not require specially coded javascript should work in JugleChart.  What JugleChart will let you do:\n",
    "* Use most (if not all) Google Chart types.\n",
    "* Use most (if not all) Google Chart configuration options.\n",
    "* Apply one or more of Google Chart display formatters.\n",
    "* Create one or more dashboard controls that can bind to the data or to other controls.\n"
   ]
  },
  {
   "cell_type": "markdown",
   "metadata": {},
   "source": [
    "# Dependencies\n",
    "The following packages must be installed.\n",
    "* pandas\n",
    "* ipython\n",
    "* gviz_api\n",
    "* JugleChart"
   ]
  },
  {
   "cell_type": "markdown",
   "metadata": {},
   "source": [
    "# The import statements"
   ]
  },
  {
   "cell_type": "code",
   "execution_count": 1,
   "metadata": {
    "collapsed": false
   },
   "outputs": [],
   "source": [
    "# There is one required import.\n",
    "from juglechart_api import JugleChart\n",
    "\n",
    "# Optional import, if you're using pandas to format your data.\n",
    "import pandas as pd\n",
    "\n",
    "# Optional import, if you're going to call the display methods yourself, rather than using .show()\n",
    "from IPython.display import display, HTML \n"
   ]
  },
  {
   "cell_type": "markdown",
   "metadata": {},
   "source": [
    "# Quick Start"
   ]
  },
  {
   "cell_type": "code",
   "execution_count": 2,
   "metadata": {
    "collapsed": false
   },
   "outputs": [
    {
     "data": {
      "text/html": [
       "\n",
       "\n",
       "\n",
       "<script type=\"text/javascript\">\n",
       "\n",
       "    // Check if google jsapi is already loaded.  If not, load it.\n",
       "    if (typeof window.google == 'undefined') {\n",
       "        jQuery.getScript('https://www.google.com/jsapi', function( data, textStatus, jqxhr) {\n",
       "            google_loader();\n",
       "        });\n",
       "    } else {\n",
       "        google_loader();\n",
       "    }\n",
       "\n",
       "    // load visualization library\n",
       "    function google_loader() {\n",
       "        // Insert list of packages with Python\n",
       "        google.load('visualization', '1.0', {'callback': doMyStuff});\n",
       "    }\n",
       "    \n",
       "    function doMyStuff() {\n",
       "        // ***** Insert dataTable method -- DataTable constructor or arrayToDatable()\n",
       "        \n",
       "        var data = new google.visualization.DataTable({\"rows\":[{\"c\":[{\"v\":\"Chicago\"},{\"v\":35}]},{\"c\":[{\"v\":\"Atlanta\"},{\"v\":23}]}],\"cols\":[{\"type\":\"string\",\"id\":\"cities\",\"label\":\"cities\"},{\"type\":\"number\",\"id\":\"widgets\",\"label\":\"widgets\"}]});\n",
       "\n",
       "        // ***** Insert formatters, if any\n",
       "        \n",
       "        var wrapper = new google.visualization.ChartWrapper({      \n",
       "            \"containerId\": \"google_chart_div_id_1\",    // ***** Insert chart div id\n",
       "            \"dataTable\": data,\n",
       "            \"chartType\": \"ColumnChart\",        // ***** Insert name of chart constructor\n",
       "            \"options\": {\"is3d\": true, \"title\": \"asdfadf\"}          // ***** Insert chart options\n",
       "        });\n",
       "        wrapper.draw();\n",
       "    }\n",
       "    \n",
       "    \n",
       "    \n",
       "</script>\n",
       "        <!-- ***** Insert chart div id and div_styles into the html -->\n",
       "<div id=\"google_chart_div_id_1\" ></div>"
      ],
      "text/plain": [
       "<IPython.core.display.HTML object>"
      ]
     },
     "metadata": {},
     "output_type": "display_data"
    }
   ],
   "source": [
    "# create a chart object from a data frame.\n",
    "data = pd.DataFrame({'cities': ['Chicago', 'Atlanta'], 'widgets': [35, 23]})\n",
    "chart = JugleChart(data)\n",
    "\n",
    "# call .show()\n",
    "chart.add_chart_options(title=\"asdfadf\", is3d=True)\n",
    "chart.show(\"ColumnChart\") \n",
    "# default is line chart."
   ]
  },
  {
   "cell_type": "markdown",
   "metadata": {},
   "source": [
    "# 1. Adding data\n",
    "Data must be passed to the constructor when you create a GChart.  Data can be passed to the constructor in three ways.\n",
    "* as a 2d list\n",
    "* as a pandas DataFrame\n",
    "* as two or more pandas Series."
   ]
  },
  {
   "cell_type": "markdown",
   "metadata": {},
   "source": [
    "## Creating data as 2-d list\n",
    "The data is passed as a list of lists.  The first inner list is the headers.  Each list following contains the data.  The first item in a data list is usually the category; each following item is a plotted value."
   ]
  },
  {
   "cell_type": "code",
   "execution_count": 3,
   "metadata": {
    "collapsed": false
   },
   "outputs": [],
   "source": [
    "data = []\n",
    "\n",
    "# The first list is the column headings\n",
    "data.append(['Kid', 'cupcakes', 'candy bars'])\n",
    "\n",
    "# Each list after that is a row of data.\n",
    "data.append(['Bobby', 3, 10])\n",
    "data.append(['Cindy', 2, 7])\n",
    "data.append(['Marsha', 4, 5])\n",
    "data.append(['Greg', 5, 8])\n",
    "\n",
    "chart = JugleChart(data)"
   ]
  },
  {
   "cell_type": "markdown",
   "metadata": {},
   "source": [
    "## Creating data as a DataFrame\n",
    "Basically, the rows of a DataFrame are rows of data.  For many chart types (e.g, BarChart, ColumnChart), the first column of the DataFrame contains the categories for the chart, and each column after that has plotted values.  For other charts (like ScatterChart), the first column contains a coordinate value on one axis, and the subsequent columns contain coordinate values on the other axis.\n",
    "\n",
    "** The index is ignored by JugleChart.  If you would like the index to be used as the categories, you must reset the index on the DataFrame.**"
   ]
  },
  {
   "cell_type": "code",
   "execution_count": 4,
   "metadata": {
    "collapsed": true
   },
   "outputs": [],
   "source": [
    "kids = ['Greg', 'Marsha', 'Jan', 'Peter', 'Cindy', 'Bobby']\n",
    "sodas = [3, 5, 4, 7, 3, 2]\n",
    "burgers = [4, 6, 5, 2, 7, 8]\n",
    "\n",
    "data = pd.DataFrame({'kids': kids, 'sodas': sodas, 'burgers': burgers}, columns=['kids', 'sodas', 'burgers'])\n",
    "\n",
    "chart = JugleChart(data)"
   ]
  },
  {
   "cell_type": "markdown",
   "metadata": {},
   "source": [
    "## Passing data from two or more Series\n",
    "Selected columns of a DataFrame can be passed as Series.  The first Series is the categories or the x-values, say.  The following Series hold the y-values."
   ]
  },
  {
   "cell_type": "code",
   "execution_count": 5,
   "metadata": {
    "collapsed": false
   },
   "outputs": [],
   "source": [
    "# pass DataFrame columns\n",
    "chart = JugleChart(data.kids, data.burgers)\n"
   ]
  },
  {
   "cell_type": "markdown",
   "metadata": {},
   "source": [
    "## Data types supported\n",
    "In the javascript, data is contained in a DataTable object.  DataTable accepts the following the data types:  boolean, number, string, date, datetime, and timeofday.  When passing data to JugleChart in a 2d array, the array is turned into a DataTable with the javascript method .arrayToDataTable().  The datatypes can be specified in the 2d array, as shown in https://developers.google.com/chart/interactive/docs/datatables_dataviews#arraytodatatable.  Or, the data types can be unspecified, leaving the DataTable() constructor to infer the datatypes.\n",
    "\n",
    "When data is passed to JugleChart in a DataFrame or Series, the javascript datatypes will be explicitly set according to the dtypes on the pandas object.  The mapping of dtypes to DataTable() types is straightforward, with two caveats.\n",
    "1.  timeofday is not currently supported.\n",
    "2.  All datetimes in pandas will be converted to dates (truncating h:m:s where necessary), unless columns are specified to be dateimes with a special keyword:  **datetime_cols=[2, 3]**"
   ]
  },
  {
   "cell_type": "markdown",
   "metadata": {
    "collapsed": true
   },
   "source": [
    "## None/NaN/NaT in a DataFrame\n",
    "If there is a None, NaN, or NaT in a DataFrame or Series passed to Ghart, an exception is raised, warning about the missing values.  If you would like these values to figure into the chart, pass the keyword argument\n",
    "\n",
    "**allow_nulls=True**\n",
    "\n",
    "in the JugleChart constructor.  Any of the values -- None, NaN, or NaT -- that appear are converted to **null** in the javascript."
   ]
  },
  {
   "cell_type": "markdown",
   "metadata": {},
   "source": [
    "# 2. Selecting a chart type\n",
    "The chart has a default type of ColumnChart.  A chart type can be assigned at instantiation with the keyward argument **chart_type**.\n",
    "\n",
    "***An extensive list of chart types is shown in the Google Charts documentation.***"
   ]
  },
  {
   "cell_type": "code",
   "execution_count": 6,
   "metadata": {
    "collapsed": false
   },
   "outputs": [],
   "source": [
    "chart = JugleChart(data, chart_type = 'BarChart')"
   ]
  },
  {
   "cell_type": "markdown",
   "metadata": {},
   "source": [
    "Alternatively, a chart's type can be changed at any time by simply setting the **chart_type** property"
   ]
  },
  {
   "cell_type": "code",
   "execution_count": 7,
   "metadata": {
    "collapsed": true
   },
   "outputs": [],
   "source": [
    "chart.chart_type = 'LineChart'"
   ]
  },
  {
   "cell_type": "markdown",
   "metadata": {},
   "source": [
    "# 3. Generating a chart\n",
    "## .render()\n",
    "Calling **.render()** on the chart object will generate javascript and html that can be displayed with ipython functions.\n",
    "\n",
    "A chart can be displayed (and modified) multiple times in a notebook, as each chart container div will have it's own unique id."
   ]
  },
  {
   "cell_type": "code",
   "execution_count": 8,
   "metadata": {
    "collapsed": false
   },
   "outputs": [
    {
     "data": {
      "text/html": [
       "\n",
       "\n",
       "\n",
       "<script type=\"text/javascript\">\n",
       "\n",
       "    // Check if google jsapi is already loaded.  If not, load it.\n",
       "    if (typeof window.google == 'undefined') {\n",
       "        jQuery.getScript('https://www.google.com/jsapi', function( data, textStatus, jqxhr) {\n",
       "            google_loader();\n",
       "        });\n",
       "    } else {\n",
       "        google_loader();\n",
       "    }\n",
       "\n",
       "    // load visualization library\n",
       "    function google_loader() {\n",
       "        // Insert list of packages with Python\n",
       "        google.load('visualization', '1.0', {'callback': doMyStuff});\n",
       "    }\n",
       "    \n",
       "    function doMyStuff() {\n",
       "        // ***** Insert dataTable method -- DataTable constructor or arrayToDatable()\n",
       "        \n",
       "        var data = new google.visualization.DataTable({\"rows\":[{\"c\":[{\"v\":\"Greg\"},{\"v\":3},{\"v\":4}]},{\"c\":[{\"v\":\"Marsha\"},{\"v\":5},{\"v\":6}]},{\"c\":[{\"v\":\"Jan\"},{\"v\":4},{\"v\":5}]},{\"c\":[{\"v\":\"Peter\"},{\"v\":7},{\"v\":2}]},{\"c\":[{\"v\":\"Cindy\"},{\"v\":3},{\"v\":7}]},{\"c\":[{\"v\":\"Bobby\"},{\"v\":2},{\"v\":8}]}],\"cols\":[{\"type\":\"string\",\"id\":\"kids\",\"label\":\"kids\"},{\"type\":\"number\",\"id\":\"sodas\",\"label\":\"sodas\"},{\"type\":\"number\",\"id\":\"burgers\",\"label\":\"burgers\"}]});\n",
       "\n",
       "        // ***** Insert formatters, if any\n",
       "        \n",
       "        var wrapper = new google.visualization.ChartWrapper({      \n",
       "            \"containerId\": \"google_chart_div_id_2\",    // ***** Insert chart div id\n",
       "            \"dataTable\": data,\n",
       "            \"chartType\": \"LineChart\",        // ***** Insert name of chart constructor\n",
       "            \"options\": {}          // ***** Insert chart options\n",
       "        });\n",
       "        wrapper.draw();\n",
       "    }\n",
       "    \n",
       "    \n",
       "    \n",
       "</script>\n",
       "        <!-- ***** Insert chart div id and div_styles into the html -->\n",
       "<div id=\"google_chart_div_id_2\" ></div>"
      ],
      "text/plain": [
       "<IPython.core.display.HTML object>"
      ]
     },
     "metadata": {},
     "output_type": "display_data"
    }
   ],
   "source": [
    "display(HTML(chart.render()))"
   ]
  },
  {
   "cell_type": "markdown",
   "metadata": {},
   "source": [
    "A chart type can be passed to the render() function to display a chart type on the fly without changing\n",
    "the underlying chart type."
   ]
  },
  {
   "cell_type": "code",
   "execution_count": 9,
   "metadata": {
    "collapsed": false
   },
   "outputs": [
    {
     "data": {
      "text/html": [
       "\n",
       "\n",
       "\n",
       "<script type=\"text/javascript\">\n",
       "\n",
       "    // Check if google jsapi is already loaded.  If not, load it.\n",
       "    if (typeof window.google == 'undefined') {\n",
       "        jQuery.getScript('https://www.google.com/jsapi', function( data, textStatus, jqxhr) {\n",
       "            google_loader();\n",
       "        });\n",
       "    } else {\n",
       "        google_loader();\n",
       "    }\n",
       "\n",
       "    // load visualization library\n",
       "    function google_loader() {\n",
       "        // Insert list of packages with Python\n",
       "        google.load('visualization', '1.0', {'callback': doMyStuff});\n",
       "    }\n",
       "    \n",
       "    function doMyStuff() {\n",
       "        // ***** Insert dataTable method -- DataTable constructor or arrayToDatable()\n",
       "        \n",
       "        var data = new google.visualization.DataTable({\"rows\":[{\"c\":[{\"v\":\"Greg\"},{\"v\":3},{\"v\":4}]},{\"c\":[{\"v\":\"Marsha\"},{\"v\":5},{\"v\":6}]},{\"c\":[{\"v\":\"Jan\"},{\"v\":4},{\"v\":5}]},{\"c\":[{\"v\":\"Peter\"},{\"v\":7},{\"v\":2}]},{\"c\":[{\"v\":\"Cindy\"},{\"v\":3},{\"v\":7}]},{\"c\":[{\"v\":\"Bobby\"},{\"v\":2},{\"v\":8}]}],\"cols\":[{\"type\":\"string\",\"id\":\"kids\",\"label\":\"kids\"},{\"type\":\"number\",\"id\":\"sodas\",\"label\":\"sodas\"},{\"type\":\"number\",\"id\":\"burgers\",\"label\":\"burgers\"}]});\n",
       "\n",
       "        // ***** Insert formatters, if any\n",
       "        \n",
       "        var wrapper = new google.visualization.ChartWrapper({      \n",
       "            \"containerId\": \"google_chart_div_id_3\",    // ***** Insert chart div id\n",
       "            \"dataTable\": data,\n",
       "            \"chartType\": \"BarChart\",        // ***** Insert name of chart constructor\n",
       "            \"options\": {}          // ***** Insert chart options\n",
       "        });\n",
       "        wrapper.draw();\n",
       "    }\n",
       "    \n",
       "    \n",
       "    \n",
       "</script>\n",
       "        <!-- ***** Insert chart div id and div_styles into the html -->\n",
       "<div id=\"google_chart_div_id_3\" ></div>"
      ],
      "text/plain": [
       "<IPython.core.display.HTML object>"
      ]
     },
     "metadata": {},
     "output_type": "display_data"
    }
   ],
   "source": [
    "display(HTML(chart.render('BarChart')))"
   ]
  },
  {
   "cell_type": "markdown",
   "metadata": {},
   "source": [
    "## .show()"
   ]
  },
  {
   "cell_type": "markdown",
   "metadata": {},
   "source": [
    "For easier display, a chart has a convenience function -- **.show()** -- that wraps *.render()* and ipython's *display(HTML())*"
   ]
  },
  {
   "cell_type": "code",
   "execution_count": 10,
   "metadata": {
    "collapsed": false
   },
   "outputs": [
    {
     "data": {
      "text/html": [
       "\n",
       "\n",
       "\n",
       "<script type=\"text/javascript\">\n",
       "\n",
       "    // Check if google jsapi is already loaded.  If not, load it.\n",
       "    if (typeof window.google == 'undefined') {\n",
       "        jQuery.getScript('https://www.google.com/jsapi', function( data, textStatus, jqxhr) {\n",
       "            google_loader();\n",
       "        });\n",
       "    } else {\n",
       "        google_loader();\n",
       "    }\n",
       "\n",
       "    // load visualization library\n",
       "    function google_loader() {\n",
       "        // Insert list of packages with Python\n",
       "        google.load('visualization', '1.0', {'callback': doMyStuff});\n",
       "    }\n",
       "    \n",
       "    function doMyStuff() {\n",
       "        // ***** Insert dataTable method -- DataTable constructor or arrayToDatable()\n",
       "        \n",
       "        var data = new google.visualization.DataTable({\"rows\":[{\"c\":[{\"v\":\"Greg\"},{\"v\":3},{\"v\":4}]},{\"c\":[{\"v\":\"Marsha\"},{\"v\":5},{\"v\":6}]},{\"c\":[{\"v\":\"Jan\"},{\"v\":4},{\"v\":5}]},{\"c\":[{\"v\":\"Peter\"},{\"v\":7},{\"v\":2}]},{\"c\":[{\"v\":\"Cindy\"},{\"v\":3},{\"v\":7}]},{\"c\":[{\"v\":\"Bobby\"},{\"v\":2},{\"v\":8}]}],\"cols\":[{\"type\":\"string\",\"id\":\"kids\",\"label\":\"kids\"},{\"type\":\"number\",\"id\":\"sodas\",\"label\":\"sodas\"},{\"type\":\"number\",\"id\":\"burgers\",\"label\":\"burgers\"}]});\n",
       "\n",
       "        // ***** Insert formatters, if any\n",
       "        \n",
       "        var wrapper = new google.visualization.ChartWrapper({      \n",
       "            \"containerId\": \"google_chart_div_id_4\",    // ***** Insert chart div id\n",
       "            \"dataTable\": data,\n",
       "            \"chartType\": \"LineChart\",        // ***** Insert name of chart constructor\n",
       "            \"options\": {}          // ***** Insert chart options\n",
       "        });\n",
       "        wrapper.draw();\n",
       "    }\n",
       "    \n",
       "    \n",
       "    \n",
       "</script>\n",
       "        <!-- ***** Insert chart div id and div_styles into the html -->\n",
       "<div id=\"google_chart_div_id_4\" ></div>"
      ],
      "text/plain": [
       "<IPython.core.display.HTML object>"
      ]
     },
     "metadata": {},
     "output_type": "display_data"
    },
    {
     "data": {
      "text/html": [
       "\n",
       "\n",
       "\n",
       "<script type=\"text/javascript\">\n",
       "\n",
       "    // Check if google jsapi is already loaded.  If not, load it.\n",
       "    if (typeof window.google == 'undefined') {\n",
       "        jQuery.getScript('https://www.google.com/jsapi', function( data, textStatus, jqxhr) {\n",
       "            google_loader();\n",
       "        });\n",
       "    } else {\n",
       "        google_loader();\n",
       "    }\n",
       "\n",
       "    // load visualization library\n",
       "    function google_loader() {\n",
       "        // Insert list of packages with Python\n",
       "        google.load('visualization', '1.0', {'callback': doMyStuff});\n",
       "    }\n",
       "    \n",
       "    function doMyStuff() {\n",
       "        // ***** Insert dataTable method -- DataTable constructor or arrayToDatable()\n",
       "        \n",
       "        var data = new google.visualization.DataTable({\"rows\":[{\"c\":[{\"v\":\"Greg\"},{\"v\":3},{\"v\":4}]},{\"c\":[{\"v\":\"Marsha\"},{\"v\":5},{\"v\":6}]},{\"c\":[{\"v\":\"Jan\"},{\"v\":4},{\"v\":5}]},{\"c\":[{\"v\":\"Peter\"},{\"v\":7},{\"v\":2}]},{\"c\":[{\"v\":\"Cindy\"},{\"v\":3},{\"v\":7}]},{\"c\":[{\"v\":\"Bobby\"},{\"v\":2},{\"v\":8}]}],\"cols\":[{\"type\":\"string\",\"id\":\"kids\",\"label\":\"kids\"},{\"type\":\"number\",\"id\":\"sodas\",\"label\":\"sodas\"},{\"type\":\"number\",\"id\":\"burgers\",\"label\":\"burgers\"}]});\n",
       "\n",
       "        // ***** Insert formatters, if any\n",
       "        \n",
       "        var wrapper = new google.visualization.ChartWrapper({      \n",
       "            \"containerId\": \"google_chart_div_id_5\",    // ***** Insert chart div id\n",
       "            \"dataTable\": data,\n",
       "            \"chartType\": \"ColumnChart\",        // ***** Insert name of chart constructor\n",
       "            \"options\": {}          // ***** Insert chart options\n",
       "        });\n",
       "        wrapper.draw();\n",
       "    }\n",
       "    \n",
       "    \n",
       "    \n",
       "</script>\n",
       "        <!-- ***** Insert chart div id and div_styles into the html -->\n",
       "<div id=\"google_chart_div_id_5\" ></div>"
      ],
      "text/plain": [
       "<IPython.core.display.HTML object>"
      ]
     },
     "metadata": {},
     "output_type": "display_data"
    }
   ],
   "source": [
    "chart.show()\n",
    "chart.show(\"ColumnChart\")"
   ]
  },
  {
   "cell_type": "code",
   "execution_count": null,
   "metadata": {
    "collapsed": true
   },
   "outputs": [],
   "source": []
  },
  {
   "cell_type": "markdown",
   "metadata": {},
   "source": [
    "# 4. Chart Options\n",
    "\n",
    "The chart can be given any of the configuration options listed in the Google Charts documentation, such as chart title or size, axis attributes, or plot attributes.  \n",
    "\n",
    "*** The list of configuration options can be found in the Google Charts documentation for any chart type, e.g. BarChart:*** https://developers.google.com/chart/interactive/docs/gallery/barchart#configuration-options\n",
    "\n",
    "Chart options are passed in the **add_chart_options()** method.  There are two ways to pass options.  One or more options can be passed in dictionary.  Or, they can be passed as keyword arguments.\n",
    "\n",
    "Some configuration options are shown in the documentation as a chain of nested javascript objects -- in dot notation, and in nested braces. For example, to set the color of the horizontal axis to blue, you would use the setting\n",
    "\n",
    "**{hAxis: {titleTextStyle: {color: \"blue\"} } }**\n",
    "\n",
    "There are several ways to set a chained property with GChart.\n",
    "* As a set of nested dictionaries, paralleling the javascript object notation.\n",
    "* As a single dictionary, where the keyword has dot notation.\n",
    "* As a keyword argument, where the keyword uses '\\_' as the chain links.\n",
    "\n",
    "To set an option value to javascript true or false, pass the Python objects True or False\n",
    "\n",
    "To set an option value to javascript null, pass the Python object None."
   ]
  },
  {
   "cell_type": "markdown",
   "metadata": {},
   "source": [
    "## Passing options as a dictionary"
   ]
  },
  {
   "cell_type": "code",
   "execution_count": 11,
   "metadata": {
    "collapsed": false
   },
   "outputs": [
    {
     "data": {
      "text/html": [
       "\n",
       "\n",
       "\n",
       "<script type=\"text/javascript\">\n",
       "\n",
       "    // Check if google jsapi is already loaded.  If not, load it.\n",
       "    if (typeof window.google == 'undefined') {\n",
       "        jQuery.getScript('https://www.google.com/jsapi', function( data, textStatus, jqxhr) {\n",
       "            google_loader();\n",
       "        });\n",
       "    } else {\n",
       "        google_loader();\n",
       "    }\n",
       "\n",
       "    // load visualization library\n",
       "    function google_loader() {\n",
       "        // Insert list of packages with Python\n",
       "        google.load('visualization', '1.0', {'callback': doMyStuff});\n",
       "    }\n",
       "    \n",
       "    function doMyStuff() {\n",
       "        // ***** Insert dataTable method -- DataTable constructor or arrayToDatable()\n",
       "        \n",
       "        var data = new google.visualization.DataTable({\"rows\":[{\"c\":[{\"v\":\"Greg\"},{\"v\":3},{\"v\":4}]},{\"c\":[{\"v\":\"Marsha\"},{\"v\":5},{\"v\":6}]},{\"c\":[{\"v\":\"Jan\"},{\"v\":4},{\"v\":5}]},{\"c\":[{\"v\":\"Peter\"},{\"v\":7},{\"v\":2}]},{\"c\":[{\"v\":\"Cindy\"},{\"v\":3},{\"v\":7}]},{\"c\":[{\"v\":\"Bobby\"},{\"v\":2},{\"v\":8}]}],\"cols\":[{\"type\":\"string\",\"id\":\"kids\",\"label\":\"kids\"},{\"type\":\"number\",\"id\":\"sodas\",\"label\":\"sodas\"},{\"type\":\"number\",\"id\":\"burgers\",\"label\":\"burgers\"}]});\n",
       "\n",
       "        // ***** Insert formatters, if any\n",
       "        \n",
       "        var wrapper = new google.visualization.ChartWrapper({      \n",
       "            \"containerId\": \"google_chart_div_id_6\",    // ***** Insert chart div id\n",
       "            \"dataTable\": data,\n",
       "            \"chartType\": \"LineChart\",        // ***** Insert name of chart constructor\n",
       "            \"options\": {\"vAxis\": {\"titleTextStyle\": {\"color\": \"red\"}, \"title\": \"Treats\"}, \"width\": \"600px\", \"hAxis\": {\"titleTextStyle\": {\"color\": \"green\"}, \"title\": \"Kids\"}, \"height\": \"400px\"}          // ***** Insert chart options\n",
       "        });\n",
       "        wrapper.draw();\n",
       "    }\n",
       "    \n",
       "    \n",
       "    \n",
       "</script>\n",
       "        <!-- ***** Insert chart div id and div_styles into the html -->\n",
       "<div id=\"google_chart_div_id_6\" ></div>"
      ],
      "text/plain": [
       "<IPython.core.display.HTML object>"
      ]
     },
     "metadata": {},
     "output_type": "display_data"
    }
   ],
   "source": [
    "chart.add_chart_options({'width': '600px'})\n",
    "\n",
    "# Adding options is cumulative.\n",
    "# You can pass one or more options in one dictionary.\n",
    "chart.add_chart_options({'height':  '400px', 'width': '600px'})\n",
    "\n",
    "# Add a chained option as a fully formed dictionary...\n",
    "chart.add_chart_options({'hAxis': {'title': 'Kids'}})\n",
    "chart.add_chart_options({'hAxis': {'titleTextStyle': {'color': 'green'}}})\n",
    "\n",
    "# Or, add chained option with dot notation\n",
    "options = {}\n",
    "options['vAxis.title'] = 'Treats'\n",
    "options['vAxis.titleTextStyle.color'] = 'red'\n",
    "chart.add_chart_options(options)\n",
    "\n",
    "chart.show()"
   ]
  },
  {
   "cell_type": "markdown",
   "metadata": {},
   "source": [
    "## Passing options as keyword args"
   ]
  },
  {
   "cell_type": "code",
   "execution_count": 12,
   "metadata": {
    "collapsed": false
   },
   "outputs": [],
   "source": [
    "chart.add_chart_options(width = '600px', height = 400)\n",
    "\n",
    "# Use underscore notation to add a chained option\n",
    "chart.add_chart_options(hAxis_titleTextStyle_color = 'blue')"
   ]
  },
  {
   "cell_type": "markdown",
   "metadata": {},
   "source": [
    "## Reseting all options\n",
    "To reset all chart options, set\n",
    "\n",
    "**chart.chart_options = None**\n",
    "\n",
    "This is useful in development when you are testing styles by adding and removing them.  Unless you restart the kernel, an option remains attached to the chart unless an option is set to None, or all chart options are reset."
   ]
  },
  {
   "cell_type": "markdown",
   "metadata": {},
   "source": [
    "# 5. Chart div container styles\n",
    "CSS Styles can be applied to the div that contains the chart. Pass these in a dictionary or as keyword arguments."
   ]
  },
  {
   "cell_type": "code",
   "execution_count": 13,
   "metadata": {
    "collapsed": true
   },
   "outputs": [],
   "source": [
    "# Add styles with dictionary\n",
    "chart.add_div_styles({'height': '400px'})\n",
    "\n",
    "# Or, add styles with keyword arg\n",
    "chart.add_div_styles(width = '500px')"
   ]
  },
  {
   "cell_type": "code",
   "execution_count": null,
   "metadata": {
    "collapsed": true
   },
   "outputs": [],
   "source": []
  }
 ],
 "metadata": {
  "kernelspec": {
   "display_name": "Python 2",
   "language": "python",
   "name": "python2"
  },
  "language_info": {
   "codemirror_mode": {
    "name": "ipython",
    "version": 2
   },
   "file_extension": ".py",
   "mimetype": "text/x-python",
   "name": "python",
   "nbconvert_exporter": "python",
   "pygments_lexer": "ipython2",
   "version": "2.7.10"
  }
 },
 "nbformat": 4,
 "nbformat_minor": 0
}
