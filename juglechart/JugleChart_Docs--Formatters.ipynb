{
 "cells": [
  {
   "cell_type": "markdown",
   "metadata": {},
   "source": [
    "# Google Chart Formatters\n",
    "Google Charts provide Formatters that can change the way data is displayed in a chart (along axes and in tooltips) without changing the underlying data.  The Google Charts documentation currently lists six available formatters:  ArrowFormat, BarFormat, ColorFormat, DateFormat, NumberFormat, PatternFormat.  JugleCharts provides formatter support.\n",
    "\n",
    "** ColorFormat is not currently supported. **\n",
    "\n",
    "ArrowFormat, BarFormat, and ColorFormat are only for use in Table charts.\n",
    "\n",
    "Example usage of supported formats follows.\n",
    "\n",
    "## Formatter basics\n",
    "To add a formatter, call the charts **.add_formatter()** method, passing keyword arguments.  The Formatter names can be abbreviated as \"number\", \"date\", etc.\n",
    "\n",
    "For ArrowFormat, BarFormat, DateFormat, and NumberFormat, pass an **options** dictionary and the **cols** to apply the format to.\n",
    "\n",
    "For the PatternFormat, pass a **pattern**, **source_cols**, and an optional **dest_col**."
   ]
  },
  {
   "cell_type": "code",
   "execution_count": null,
   "metadata": {
    "collapsed": false
   },
   "outputs": [],
   "source": [
    "import pandas as pd\n",
    "from juglechart_api import JugleChart\n",
    "\n",
    "print pd.to_datetime(\"2008-01-15 05:30:12\")"
   ]
  },
  {
   "cell_type": "markdown",
   "metadata": {},
   "source": [
    "## DateFormat\n",
    "Datetime values in pandas objects default to date values in the chart.  To retain h:m:s in a datetime value, pass **datetime_cols=[*x*]** to the chart constructor."
   ]
  },
  {
   "cell_type": "code",
   "execution_count": null,
   "metadata": {
    "collapsed": false
   },
   "outputs": [],
   "source": [
    "# Create a DataFrame with several columns of dates.\n",
    "df = pd.DataFrame(columns = ['Name', 'custom format', 'short', 'medium', 'long'])\n",
    "df.loc[0] = ['Mike', pd.to_datetime(\"2008-01-15 05:30:12\"),\n",
    "             pd.to_datetime(\"2008-01-15 05:30:12\"),\n",
    "             pd.to_datetime(\"2008-01-15 05:30:12\"),\n",
    "             pd.to_datetime(\"2008-01-15 05:30:12\")]\n",
    "df.loc[1] = ['Alice', pd.to_datetime(\"2011-10-22 14:03:52\"),\n",
    "             pd.to_datetime(\"2011-10-22 14:03:52\"),\n",
    "             pd.to_datetime(\"2011-10-22 14:03:52\"),\n",
    "             pd.to_datetime(\"2011-10-22 14:03:52\")]\n",
    "\n",
    "# Specify any column that is to retain h:m:s.\n",
    "chart = JugleChart(df, chart_type=\"Table\", datetime_cols=[1])\n",
    "\n",
    "# You can specify a custom pattern in the options.\n",
    "options = {'pattern': \"EEE, MMM d, ''yy H:m:s\"}\n",
    "\n",
    "# cols takes a list of columns, or the index of a single column\n",
    "chart.add_formatter('date', options = date_format, cols = 1)\n",
    "\n",
    "# a shortcut for date format is the short, medium, or long formatType.\n",
    "chart.add_formatter('date', options = {'formatType': 'short'}, cols = [2])\n",
    "chart.add_formatter('date', options = {'formatType': 'medium'}, cols = [3])\n",
    "chart.add_formatter('date', options = {'formatType': 'long'}, cols = [4])\n",
    "\n",
    "chart.show()\n"
   ]
  },
  {
   "cell_type": "markdown",
   "metadata": {
    "collapsed": true
   },
   "source": [
    "## NumberFormat"
   ]
  },
  {
   "cell_type": "code",
   "execution_count": null,
   "metadata": {
    "collapsed": false,
    "scrolled": true
   },
   "outputs": [],
   "source": [
    "# Create a LineChart with numbers\n",
    "year = ['2001', '2002', '2003']\n",
    "profits = [46535.542535, 83573.835, 65234.574]\n",
    "columns = ['year', 'profits']\n",
    "df = pd.DataFrame({'year':year, 'profits': profits}, columns = columns)\n",
    "\n",
    "chart = JugleChart(df, chart_type = \"LineChart\")\n",
    "\n",
    "# add NumberFormat\n",
    "chart.add_formatter('number', options={'prefix': '$', 'fractionDigits': 2}, cols = 1)\n",
    "\n",
    "chart.show()"
   ]
  },
  {
   "cell_type": "markdown",
   "metadata": {},
   "source": [
    "## PatternFormat\n",
    "The PatternFormat creates a display value from the value of one or more other columns.  Pass the pattern and a list of the **source_cols** to **.add_format**.\n",
    "\n",
    "If a **dest_col** is not specified, the destination column for the completed pattern will be the first column in the source_cols."
   ]
  },
  {
   "cell_type": "code",
   "execution_count": null,
   "metadata": {
    "collapsed": false
   },
   "outputs": [],
   "source": [
    "name = ['James', 'Jenny']\n",
    "pet = ['rabbits', 'turtles']\n",
    "columns = ['name', 'pet']\n",
    "df = pd.DataFrame({'name':name, 'pet':pet}, columns=columns)\n",
    "\n",
    "chart = JugleChart(df, chart_type=\"Table\")\n",
    "\n",
    "pattern = \"{0} likes {1}!\"\n",
    "\n",
    "chart.add_formatter('pattern', pattern=pattern, source_cols=[0,1])\n",
    "\n",
    "# display defaults to the first column in source_cols.\n",
    "\n",
    "chart.show()\n"
   ]
  },
  {
   "cell_type": "markdown",
   "metadata": {},
   "source": [
    "## PatternFormat, dest_col, hide_cols\n",
    "You can specify columns to hide, which can be useful for PatternFormat."
   ]
  },
  {
   "cell_type": "code",
   "execution_count": null,
   "metadata": {
    "collapsed": false
   },
   "outputs": [],
   "source": [
    "list1 = []\n",
    "list1.append(['First', 'Middle', 'Last'])\n",
    "list1.append(['Sally', 'A.', 'Smith'])\n",
    "list1.append(['John', 'J', 'Johnson'])\n",
    "chart = JugleChart(list1, chart_type = \"Table\")\n",
    "pattern = \"{0} {1} {2}\"\n",
    "chart.add_formatter(\"pattern\", pattern=pattern, source_cols=[0, 1, 2], dest_col=1)\n",
    "chart.hide_cols = [0, 2]\n",
    "chart.show()"
   ]
  },
  {
   "cell_type": "code",
   "execution_count": null,
   "metadata": {
    "collapsed": true
   },
   "outputs": [],
   "source": []
  }
 ],
 "metadata": {
  "kernelspec": {
   "display_name": "Python 2",
   "language": "python",
   "name": "python2"
  },
  "language_info": {
   "codemirror_mode": {
    "name": "ipython",
    "version": 2
   },
   "file_extension": ".py",
   "mimetype": "text/x-python",
   "name": "python",
   "nbconvert_exporter": "python",
   "pygments_lexer": "ipython2",
   "version": "2.7.10"
  }
 },
 "nbformat": 4,
 "nbformat_minor": 0
}
