{
 "cells": [
  {
   "cell_type": "markdown",
   "metadata": {},
   "source": [
    "# Google Chart Formatters\n",
    "Google Charts provide Formatters that can change the way data is displayed in a chart (along axes and/or in tooltips) without changing the underlying data.  The Google Charts documentation currently lists six available formatters:  ArrowFormat, BarFormat, ColorFormat, DateFormat, NumberFormat, PatternFormat.  JugleCharts provides formatter support.\n",
    "\n",
    "** ColorFormat is not currently supported. **\n",
    "\n",
    "ArrowFormat, BarFormat, and ColorFormat are only for use in Table charts.\n",
    "\n",
    "Example usage of supported formats follows.\n",
    "\n",
    "## Formatter basics\n",
    "To add a formatter, call **JugleChart.add_formatter()**, passing arguments.\n",
    "\n",
    "JugleChart.add_formatter() signature:\n",
    "\n",
    "```\n",
    "    def add_formatter(self, formatter, options=None, cols=None, source_cols=None, pattern=None, dest_col=None):\n",
    "```\n",
    "\n",
    "The Formatter names can be abbreviated as \"number\", \"date\", etc.\n",
    "\n",
    "For ArrowFormat, BarFormat, DateFormat, and NumberFormat, pass an **options** dictionary and the **cols** to apply the format to.  The options for each format can be found in the Google Charts documentation:  https://developers.google.com/chart/interactive/docs/reference#formatters.\n",
    "\n",
    "For the PatternFormat, pass a **pattern**, **source_cols**, and an optional **dest_col**."
   ]
  },
  {
   "cell_type": "code",
   "execution_count": 4,
   "metadata": {
    "collapsed": false
   },
   "outputs": [],
   "source": [
    "import pandas as pd\n",
    "from juglechart_api import JugleChart"
   ]
  },
  {
   "cell_type": "markdown",
   "metadata": {},
   "source": [
    "## DateFormat\n",
    "Datetime values in pandas objects default to date values in the chart.  To retain h:m:s in a datetime value, pass **datetime_cols=[*x*]** to the chart constructor."
   ]
  },
  {
   "cell_type": "code",
   "execution_count": 3,
   "metadata": {
    "collapsed": false
   },
   "outputs": [
    {
     "data": {
      "text/html": [
       "\n",
       "\n",
       "\n",
       "<script type=\"text/javascript\">\n",
       "\n",
       "    // Check if google jsapi is already loaded.  If not, load it.\n",
       "    if (typeof window.google == 'undefined') {\n",
       "        jQuery.getScript('https://www.google.com/jsapi', function( data, textStatus, jqxhr) {\n",
       "            google_loader();\n",
       "        });\n",
       "    } else {\n",
       "        google_loader();\n",
       "    }\n",
       "\n",
       "    // load visualization library    \n",
       "    function google_loader() {\n",
       "    \n",
       "        google.load('visualization', '1.0', {'callback': doStuff});\n",
       "    }\n",
       "    function doStuff() {\n",
       "    \n",
       "\n",
       "        // Create DataTable object from DataTable constructor or arrayToDatable()\n",
       "        var google_chart_1_data = new google.visualization.DataTable({\"rows\":[{\"c\":[{\"v\":\"Mike\"},{\"v\":\"Date(2008,0,15,5,30,12)\"},{\"v\":\"Date(2008,0,15)\"},{\"v\":\"Date(2008,0,15)\"},{\"v\":\"Date(2008,0,15)\"}]},{\"c\":[{\"v\":\"Alice\"},{\"v\":\"Date(2011,9,22,14,3,52)\"},{\"v\":\"Date(2011,9,22)\"},{\"v\":\"Date(2011,9,22)\"},{\"v\":\"Date(2011,9,22)\"}]}],\"cols\":[{\"type\":\"string\",\"id\":\"Name\",\"label\":\"Name\"},{\"type\":\"datetime\",\"id\":\"custom format\",\"label\":\"custom format\"},{\"type\":\"date\",\"id\":\"short\",\"label\":\"short\"},{\"type\":\"date\",\"id\":\"medium\",\"label\":\"medium\"},{\"type\":\"date\",\"id\":\"long\",\"label\":\"long\"}]});\n",
       "        \n",
       "        // Add formatters, if any\n",
       "        var formatter1 = new google.visualization.DateFormat({\"pattern\": \"EEE, MMM d, ''yy H:m:s\"});\n",
       "        formatter1.format(google_chart_1_data, 1);\n",
       "        var formatter2 = new google.visualization.DateFormat({\"formatType\": \"short\"});\n",
       "        formatter2.format(google_chart_1_data, 2);\n",
       "        var formatter3 = new google.visualization.DateFormat({\"formatType\": \"medium\"});\n",
       "        formatter3.format(google_chart_1_data, 3);\n",
       "        var formatter4 = new google.visualization.DateFormat({\"formatType\": \"long\"});\n",
       "        formatter4.format(google_chart_1_data, 4);\n",
       "\n",
       "        // Create ChartWrapper\n",
       "        var google_chart_1 = new google.visualization.ChartWrapper({      \n",
       "            \"containerId\": \"google_chart_1_div_id\",\n",
       "            \"dataTable\": google_chart_1_data,\n",
       "            \"chartType\": \"Table\",\n",
       "            \"options\": {}\n",
       "        });\t\t\n",
       "        \n",
       "        google_chart_1.draw();\n",
       "        \n",
       "    }\n",
       "    \n",
       "</script>\n",
       "\n",
       "<div id=\"google_chart_1_div_id\" ></div>\n"
      ],
      "text/plain": [
       "<IPython.core.display.HTML object>"
      ]
     },
     "metadata": {},
     "output_type": "display_data"
    }
   ],
   "source": [
    "# Create a DataFrame with several columns of dates.\n",
    "df = pd.DataFrame(columns = ['Name', 'custom format', 'short', 'medium', 'long'])\n",
    "df.loc[0] = ['Mike', pd.to_datetime(\"2008-01-15 05:30:12\"),\n",
    "             pd.to_datetime(\"2008-01-15 05:30:12\"),\n",
    "             pd.to_datetime(\"2008-01-15 05:30:12\"),\n",
    "             pd.to_datetime(\"2008-01-15 05:30:12\")]\n",
    "df.loc[1] = ['Alice', pd.to_datetime(\"2011-10-22 14:03:52\"),\n",
    "             pd.to_datetime(\"2011-10-22 14:03:52\"),\n",
    "             pd.to_datetime(\"2011-10-22 14:03:52\"),\n",
    "             pd.to_datetime(\"2011-10-22 14:03:52\")]\n",
    "\n",
    "# Specify any column that is to retain h:m:s.\n",
    "chart = JugleChart(df, chart_type=\"Table\", datetime_cols=[1])\n",
    "\n",
    "# You can specify a custom pattern in the options.\n",
    "options = {'pattern': \"EEE, MMM d, ''yy H:m:s\"}\n",
    "\n",
    "# cols takes a list of columns, or the index of a single column\n",
    "chart.add_formatter('date', options = options, cols = 1)\n",
    "\n",
    "# a shortcut for date format is the short, medium, or long formatType.\n",
    "chart.add_formatter('date', options = {'formatType': 'short'}, cols = [2])\n",
    "chart.add_formatter('date', options = {'formatType': 'medium'}, cols = [3])\n",
    "chart.add_formatter('date', options = {'formatType': 'long'}, cols = [4])\n",
    "\n",
    "chart.show()\n"
   ]
  },
  {
   "cell_type": "markdown",
   "metadata": {
    "collapsed": true
   },
   "source": [
    "## NumberFormat"
   ]
  },
  {
   "cell_type": "code",
   "execution_count": null,
   "metadata": {
    "collapsed": false,
    "scrolled": true
   },
   "outputs": [],
   "source": [
    "# Create a LineChart with numbers\n",
    "year = ['2001', '2002', '2003']\n",
    "profits = [46535.542535, 83573.835, 65234.574]\n",
    "columns = ['year', 'profits']\n",
    "df = pd.DataFrame({'year':year, 'profits': profits}, columns = columns)\n",
    "\n",
    "chart = JugleChart(df, chart_type = \"LineChart\")\n",
    "\n",
    "# add NumberFormat\n",
    "chart.add_formatter('number', options={'prefix': '$', 'fractionDigits': 2}, cols = 1)\n",
    "\n",
    "chart.show()"
   ]
  },
  {
   "cell_type": "markdown",
   "metadata": {},
   "source": [
    "## PatternFormat\n",
    "The PatternFormat creates a display value from the value of one or more other columns.  Pass the pattern and a list of the **source_cols** to **.add_format**.\n",
    "\n",
    "If a **dest_col** is not specified, the destination column for the completed pattern will be the first column in the source_cols."
   ]
  },
  {
   "cell_type": "code",
   "execution_count": 5,
   "metadata": {
    "collapsed": false
   },
   "outputs": [
    {
     "data": {
      "text/html": [
       "\n",
       "\n",
       "\n",
       "<script type=\"text/javascript\">\n",
       "\n",
       "    // Check if google jsapi is already loaded.  If not, load it.\n",
       "    if (typeof window.google == 'undefined') {\n",
       "        jQuery.getScript('https://www.google.com/jsapi', function( data, textStatus, jqxhr) {\n",
       "            google_loader();\n",
       "        });\n",
       "    } else {\n",
       "        google_loader();\n",
       "    }\n",
       "\n",
       "    // load visualization library    \n",
       "    function google_loader() {\n",
       "    \n",
       "        google.load('visualization', '1.0', {'callback': doStuff});\n",
       "    }\n",
       "    function doStuff() {\n",
       "    \n",
       "\n",
       "        // Create DataTable object from DataTable constructor or arrayToDatable()\n",
       "        var google_chart_2_data = new google.visualization.DataTable({\"rows\":[{\"c\":[{\"v\":\"James\"},{\"v\":\"rabbits\"}]},{\"c\":[{\"v\":\"Jenny\"},{\"v\":\"turtles\"}]}],\"cols\":[{\"type\":\"string\",\"id\":\"name\",\"label\":\"name\"},{\"type\":\"string\",\"id\":\"pet\",\"label\":\"pet\"}]});\n",
       "        \n",
       "        // Add formatters, if any\n",
       "        var formatter5 = new google.visualization.PatternFormat(\"{0} likes {1}!\");\n",
       "        formatter5.format(google_chart_2_data, [0, 1], 0);\n",
       "\n",
       "        // Create ChartWrapper\n",
       "        var google_chart_2 = new google.visualization.ChartWrapper({      \n",
       "            \"containerId\": \"google_chart_2_div_id\",\n",
       "            \"dataTable\": google_chart_2_data,\n",
       "            \"chartType\": \"Table\",\n",
       "            \"options\": {}\n",
       "        });\t\t\n",
       "        \n",
       "        google_chart_2.draw();\n",
       "        \n",
       "    }\n",
       "    \n",
       "</script>\n",
       "\n",
       "<div id=\"google_chart_2_div_id\" ></div>\n"
      ],
      "text/plain": [
       "<IPython.core.display.HTML object>"
      ]
     },
     "metadata": {},
     "output_type": "display_data"
    }
   ],
   "source": [
    "name = ['James', 'Jenny']\n",
    "pet = ['rabbits', 'turtles']\n",
    "columns = ['name', 'pet']\n",
    "df = pd.DataFrame({'name':name, 'pet':pet}, columns=columns)\n",
    "\n",
    "chart = JugleChart(df, chart_type=\"Table\")\n",
    "\n",
    "pattern = \"{0} likes {1}!\"  # '{x}' indicates the index in the source_cols list\n",
    "\n",
    "chart.add_formatter('pattern', pattern=pattern, source_cols=[0,1])\n",
    "\n",
    "# display defaults to the first column in source_cols.\n",
    "\n",
    "chart.show()\n"
   ]
  },
  {
   "cell_type": "markdown",
   "metadata": {},
   "source": [
    "## PatternFormat, dest_col, hide_cols\n",
    "You can specify columns of data to hide, which can be useful for PatternFormat, as you can hide columns whose only purpose is to provide input for a PatterFormat. "
   ]
  },
  {
   "cell_type": "code",
   "execution_count": null,
   "metadata": {
    "collapsed": false
   },
   "outputs": [],
   "source": [
    "list1 = []\n",
    "list1.append(['First', 'Middle', 'Last'])\n",
    "list1.append(['Sally', 'A.', 'Smith'])\n",
    "list1.append(['John', 'J', 'Johnson'])\n",
    "chart = JugleChart(list1, chart_type = \"Table\")\n",
    "pattern = \"{0} {1} {2}\"\n",
    "chart.add_formatter(\"pattern\", pattern=pattern, source_cols=[0, 1, 2], dest_col=1)\n",
    "chart.hide_cols = [0, 2]\n",
    "chart.show()"
   ]
  },
  {
   "cell_type": "code",
   "execution_count": null,
   "metadata": {
    "collapsed": true
   },
   "outputs": [],
   "source": []
  }
 ],
 "metadata": {
  "kernelspec": {
   "display_name": "Python 2",
   "language": "python",
   "name": "python2"
  },
  "language_info": {
   "codemirror_mode": {
    "name": "ipython",
    "version": 2
   },
   "file_extension": ".py",
   "mimetype": "text/x-python",
   "name": "python",
   "nbconvert_exporter": "python",
   "pygments_lexer": "ipython2",
   "version": "2.7.10"
  }
 },
 "nbformat": 4,
 "nbformat_minor": 0
}
