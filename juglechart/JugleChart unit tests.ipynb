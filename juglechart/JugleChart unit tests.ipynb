{
 "cells": [
  {
   "cell_type": "code",
   "execution_count": 57,
   "metadata": {
    "collapsed": true
   },
   "outputs": [],
   "source": [
    "import pandas as pd\n",
    "from juglechart_api import JugleChart, Filter, ChartRow\n"
   ]
  },
  {
   "cell_type": "code",
   "execution_count": 58,
   "metadata": {
    "collapsed": false
   },
   "outputs": [],
   "source": [
    "cities = ['New York', 'Chicago', 'Dallas', 'Boston']\n",
    "cakes = [29, 45, 62, 50]\n",
    "pies = [12, 32, 5, 20]\n",
    "sweets_df = pd. DataFrame({'cities': cities, 'cakes': cakes, 'pies': pies}, columns=['cities', 'cakes', 'pies'])\n",
    "\n",
    "\n",
    "dates = ['2015-01-01', '2015-01-02', '2015-01-03']\n",
    "profit = [24, 55, 76]\n",
    "loss = [12, 43, 27]\n",
    "pct = [33.9793, 65.3546, 23.543]\n",
    "columns = ['dates', 'profit', 'loss', 'pct']\n",
    "df2 = pd.DataFrame({'dates': dates, 'profit': profit, 'loss': loss, 'pct': pct}, columns=columns)\n",
    "df2.dates = pd.to_datetime(df2.dates)\n",
    "\n",
    "\n",
    "list1 = []\n",
    "list1.append(['Cat1', 'Cat2', 'count'])\n",
    "list1.append(['1', 'a', 34])\n",
    "list1.append(['1', 'b', 23])\n",
    "list1.append(['1', 'k', 84])\n",
    "list1.append(['2', 'a', 62])\n",
    "list1.append(['2', 'm', 46])\n",
    "list1.append(['2', 'c', 68])\n",
    "list1.append(['3', 'g', 24])\n",
    "list1.append(['3', 'b', 86])\n",
    "list1.append(['3', 'c', 45])\n"
   ]
  },
  {
   "cell_type": "markdown",
   "metadata": {},
   "source": [
    "# Test passing data"
   ]
  },
  {
   "cell_type": "markdown",
   "metadata": {},
   "source": [
    "## 2d array"
   ]
  },
  {
   "cell_type": "code",
   "execution_count": 59,
   "metadata": {
    "collapsed": false
   },
   "outputs": [
    {
     "data": {
      "text/html": [
       "\n",
       "\n",
       "\n",
       "<script type=\"text/javascript\">\n",
       "\n",
       "    // Check if google jsapi is already loaded.  If not, load it.\n",
       "    if (typeof window.google == 'undefined') {\n",
       "        jQuery.getScript('https://www.google.com/jsapi', function( data, textStatus, jqxhr) {\n",
       "            google_loader();\n",
       "        });\n",
       "    } else {\n",
       "        google_loader();\n",
       "    }\n",
       "\n",
       "    // load visualization library    \n",
       "    function google_loader() {\n",
       "    \n",
       "        google.load('visualization', '1.0', {'callback': doStuff});\n",
       "    }\n",
       "    function doStuff() {\n",
       "    \n",
       "\n",
       "        // Create DataTable object from DataTable constructor or arrayToDatable()\n",
       "        var google_chart_113_data = new google.visualization.arrayToDataTable([['pets', 'count'], ['cats', 12], ['dogs', 15], ['lizards', 5]])\n",
       "        \n",
       "        // Add formatters, if any\n",
       "\n",
       "        // Create ChartWrapper\n",
       "        var google_chart_113 = new google.visualization.ChartWrapper({      \n",
       "            \"containerId\": \"google_chart_113_div_id\",\n",
       "            \"dataTable\": google_chart_113_data,\n",
       "            \"chartType\": \"ColumnChart\",\n",
       "            \"options\": {}\n",
       "        });\t\t\n",
       "        \n",
       "        google_chart_113.draw();\n",
       "        \n",
       "    }\n",
       "    \n",
       "</script>\n",
       "\n",
       "<div id=\"google_chart_113_div_id\" ></div>\n"
      ],
      "text/plain": [
       "<IPython.core.display.HTML object>"
      ]
     },
     "metadata": {},
     "output_type": "display_data"
    }
   ],
   "source": [
    "pets = []\n",
    "pets.append(['pets', 'count'])\n",
    "pets.append(['cats', 12])\n",
    "pets.append(['dogs', 15])\n",
    "pets.append(['lizards', 5])\n",
    "\n",
    "chart = JugleChart(pets)\n",
    "chart.show()\n",
    "\n",
    "# test:  does the chart render?"
   ]
  },
  {
   "cell_type": "markdown",
   "metadata": {},
   "source": [
    "## Data Frame"
   ]
  },
  {
   "cell_type": "code",
   "execution_count": 60,
   "metadata": {
    "collapsed": false
   },
   "outputs": [
    {
     "data": {
      "text/html": [
       "\n",
       "\n",
       "\n",
       "<script type=\"text/javascript\">\n",
       "\n",
       "    // Check if google jsapi is already loaded.  If not, load it.\n",
       "    if (typeof window.google == 'undefined') {\n",
       "        jQuery.getScript('https://www.google.com/jsapi', function( data, textStatus, jqxhr) {\n",
       "            google_loader();\n",
       "        });\n",
       "    } else {\n",
       "        google_loader();\n",
       "    }\n",
       "\n",
       "    // load visualization library    \n",
       "    function google_loader() {\n",
       "    \n",
       "        google.load('visualization', '1.0', {'callback': doStuff});\n",
       "    }\n",
       "    function doStuff() {\n",
       "    \n",
       "\n",
       "        // Create DataTable object from DataTable constructor or arrayToDatable()\n",
       "        var google_chart_114_data = new google.visualization.DataTable({\"rows\":[{\"c\":[{\"v\":\"New York\"},{\"v\":29},{\"v\":12}]},{\"c\":[{\"v\":\"Chicago\"},{\"v\":45},{\"v\":32}]},{\"c\":[{\"v\":\"Dallas\"},{\"v\":62},{\"v\":5}]},{\"c\":[{\"v\":\"Boston\"},{\"v\":50},{\"v\":20}]}],\"cols\":[{\"type\":\"string\",\"id\":\"cities\",\"label\":\"cities\"},{\"type\":\"number\",\"id\":\"cakes\",\"label\":\"cakes\"},{\"type\":\"number\",\"id\":\"pies\",\"label\":\"pies\"}]});\n",
       "        \n",
       "        // Add formatters, if any\n",
       "\n",
       "        // Create ChartWrapper\n",
       "        var google_chart_114 = new google.visualization.ChartWrapper({      \n",
       "            \"containerId\": \"google_chart_114_div_id\",\n",
       "            \"dataTable\": google_chart_114_data,\n",
       "            \"chartType\": \"ColumnChart\",\n",
       "            \"options\": {}\n",
       "        });\t\t\n",
       "        \n",
       "        google_chart_114.draw();\n",
       "        \n",
       "    }\n",
       "    \n",
       "</script>\n",
       "\n",
       "<div id=\"google_chart_114_div_id\" ></div>\n"
      ],
      "text/plain": [
       "<IPython.core.display.HTML object>"
      ]
     },
     "metadata": {},
     "output_type": "display_data"
    }
   ],
   "source": [
    "\n",
    "chart = JugleChart(sweets_df)\n",
    "chart.show()\n",
    "\n",
    "# test: does the chart render?"
   ]
  },
  {
   "cell_type": "markdown",
   "metadata": {},
   "source": [
    "## Series"
   ]
  },
  {
   "cell_type": "code",
   "execution_count": 61,
   "metadata": {
    "collapsed": false
   },
   "outputs": [
    {
     "data": {
      "text/html": [
       "\n",
       "\n",
       "\n",
       "<script type=\"text/javascript\">\n",
       "\n",
       "    // Check if google jsapi is already loaded.  If not, load it.\n",
       "    if (typeof window.google == 'undefined') {\n",
       "        jQuery.getScript('https://www.google.com/jsapi', function( data, textStatus, jqxhr) {\n",
       "            google_loader();\n",
       "        });\n",
       "    } else {\n",
       "        google_loader();\n",
       "    }\n",
       "\n",
       "    // load visualization library    \n",
       "    function google_loader() {\n",
       "    \n",
       "        google.load('visualization', '1.0', {'callback': doStuff});\n",
       "    }\n",
       "    function doStuff() {\n",
       "    \n",
       "\n",
       "        // Create DataTable object from DataTable constructor or arrayToDatable()\n",
       "        var google_chart_115_data = new google.visualization.DataTable({\"rows\":[{\"c\":[{\"v\":\"New York\"},{\"v\":29}]},{\"c\":[{\"v\":\"Chicago\"},{\"v\":45}]},{\"c\":[{\"v\":\"Dallas\"},{\"v\":62}]},{\"c\":[{\"v\":\"Boston\"},{\"v\":50}]}],\"cols\":[{\"type\":\"string\",\"id\":\"cities\",\"label\":\"cities\"},{\"type\":\"number\",\"id\":\"cakes\",\"label\":\"cakes\"}]});\n",
       "        \n",
       "        // Add formatters, if any\n",
       "\n",
       "        // Create ChartWrapper\n",
       "        var google_chart_115 = new google.visualization.ChartWrapper({      \n",
       "            \"containerId\": \"google_chart_115_div_id\",\n",
       "            \"dataTable\": google_chart_115_data,\n",
       "            \"chartType\": \"ColumnChart\",\n",
       "            \"options\": {}\n",
       "        });\t\t\n",
       "        \n",
       "        google_chart_115.draw();\n",
       "        \n",
       "    }\n",
       "    \n",
       "</script>\n",
       "\n",
       "<div id=\"google_chart_115_div_id\" ></div>\n"
      ],
      "text/plain": [
       "<IPython.core.display.HTML object>"
      ]
     },
     "metadata": {},
     "output_type": "display_data"
    }
   ],
   "source": [
    "chart = JugleChart(sweets_df.cities, sweets_df.cakes)\n",
    "chart.show()\n",
    "\n",
    "# test: does the chart render?"
   ]
  },
  {
   "cell_type": "markdown",
   "metadata": {},
   "source": [
    "## allow_nulls"
   ]
  },
  {
   "cell_type": "code",
   "execution_count": null,
   "metadata": {
    "collapsed": true
   },
   "outputs": [],
   "source": []
  },
  {
   "cell_type": "markdown",
   "metadata": {},
   "source": [
    "## datetime_cols"
   ]
  },
  {
   "cell_type": "markdown",
   "metadata": {},
   "source": [
    "# Test formatters"
   ]
  },
  {
   "cell_type": "markdown",
   "metadata": {},
   "source": [
    "## Regular formatters"
   ]
  },
  {
   "cell_type": "code",
   "execution_count": 62,
   "metadata": {
    "collapsed": false
   },
   "outputs": [
    {
     "data": {
      "text/html": [
       "\n",
       "\n",
       "\n",
       "<script type=\"text/javascript\">\n",
       "\n",
       "    // Check if google jsapi is already loaded.  If not, load it.\n",
       "    if (typeof window.google == 'undefined') {\n",
       "        jQuery.getScript('https://www.google.com/jsapi', function( data, textStatus, jqxhr) {\n",
       "            google_loader();\n",
       "        });\n",
       "    } else {\n",
       "        google_loader();\n",
       "    }\n",
       "\n",
       "    // load visualization library    \n",
       "    function google_loader() {\n",
       "    \n",
       "        google.load('visualization', '1.0', {'callback': doStuff});\n",
       "    }\n",
       "    function doStuff() {\n",
       "    \n",
       "\n",
       "        // Create DataTable object from DataTable constructor or arrayToDatable()\n",
       "        var google_chart_116_data = new google.visualization.DataTable({\"rows\":[{\"c\":[{\"v\":\"Date(2015,0,1)\"},{\"v\":24},{\"v\":12},{\"v\":33.9793}]},{\"c\":[{\"v\":\"Date(2015,0,2)\"},{\"v\":55},{\"v\":43},{\"v\":65.3546}]},{\"c\":[{\"v\":\"Date(2015,0,3)\"},{\"v\":76},{\"v\":27},{\"v\":23.543}]}],\"cols\":[{\"type\":\"date\",\"id\":\"dates\",\"label\":\"dates\"},{\"type\":\"number\",\"id\":\"profit\",\"label\":\"profit\"},{\"type\":\"number\",\"id\":\"loss\",\"label\":\"loss\"},{\"type\":\"number\",\"id\":\"pct\",\"label\":\"pct\"}]});\n",
       "        \n",
       "        // Add formatters, if any\n",
       "        var formatter16 = new google.visualization.DateFormat({\"formatType\": \"short\"});\n",
       "        formatter16.format(google_chart_116_data, 0);\n",
       "        var formatter17 = new google.visualization.NumberFormat({\"prefix\": \"$\", \"fractionDigits\": 2});\n",
       "        formatter17.format(google_chart_116_data, 1);\n",
       "        formatter17.format(google_chart_116_data, 2);\n",
       "        var formatter18 = new google.visualization.NumberFormat({\"pattern\": \"#,###.##%\"});\n",
       "        formatter18.format(google_chart_116_data, 3);\n",
       "\n",
       "        // Create ChartWrapper\n",
       "        var google_chart_116 = new google.visualization.ChartWrapper({      \n",
       "            \"containerId\": \"google_chart_116_div_id\",\n",
       "            \"dataTable\": google_chart_116_data,\n",
       "            \"chartType\": \"ColumnChart\",\n",
       "            \"options\": {}\n",
       "        });\t\t\n",
       "        \n",
       "        google_chart_116.draw();\n",
       "        \n",
       "    }\n",
       "    \n",
       "</script>\n",
       "\n",
       "<div id=\"google_chart_116_div_id\" ></div>\n"
      ],
      "text/plain": [
       "<IPython.core.display.HTML object>"
      ]
     },
     "metadata": {},
     "output_type": "display_data"
    }
   ],
   "source": [
    "chart = JugleChart(df2)\n",
    "date_format = {'formatType': 'short'}\n",
    "chart.add_formatter('date', options=date_format, cols=0)\n",
    "money_format = {'prefix':'$', 'fractionDigits': 2}\n",
    "chart.add_formatter('number', options=money_format, cols=[1, 2])\n",
    "chart.add_formatter('number', options={'pattern':  '#,###.##%'}, cols=[3])\n",
    "chart.show()\n",
    "\n",
    "# test:  are the tooltips values and axis labels formatted?"
   ]
  },
  {
   "cell_type": "markdown",
   "metadata": {},
   "source": [
    "## Pattern formatter"
   ]
  },
  {
   "cell_type": "code",
   "execution_count": 63,
   "metadata": {
    "collapsed": false
   },
   "outputs": [
    {
     "data": {
      "text/html": [
       "\n",
       "\n",
       "\n",
       "<script type=\"text/javascript\">\n",
       "\n",
       "    // Check if google jsapi is already loaded.  If not, load it.\n",
       "    if (typeof window.google == 'undefined') {\n",
       "        jQuery.getScript('https://www.google.com/jsapi', function( data, textStatus, jqxhr) {\n",
       "            google_loader();\n",
       "        });\n",
       "    } else {\n",
       "        google_loader();\n",
       "    }\n",
       "\n",
       "    // load visualization library    \n",
       "    function google_loader() {\n",
       "    \n",
       "        google.load('visualization', '1.0', {'callback': doStuff});\n",
       "    }\n",
       "    function doStuff() {\n",
       "    \n",
       "\n",
       "        // Create DataTable object from DataTable constructor or arrayToDatable()\n",
       "        var google_chart_117_data = new google.visualization.DataTable({\"rows\":[{\"c\":[{\"v\":\"New York\"},{\"v\":29},{\"v\":12}]},{\"c\":[{\"v\":\"Chicago\"},{\"v\":45},{\"v\":32}]},{\"c\":[{\"v\":\"Dallas\"},{\"v\":62},{\"v\":5}]},{\"c\":[{\"v\":\"Boston\"},{\"v\":50},{\"v\":20}]}],\"cols\":[{\"type\":\"string\",\"id\":\"cities\",\"label\":\"cities\"},{\"type\":\"number\",\"id\":\"cakes\",\"label\":\"cakes\"},{\"type\":\"number\",\"id\":\"pies\",\"label\":\"pies\"}]});\n",
       "        \n",
       "        // Add formatters, if any\n",
       "        var formatter19 = new google.visualization.PatternFormat(\"There are {0} cakes, but only {1} pies.\");\n",
       "        formatter19.format(google_chart_117_data, [1, 2], 1);\n",
       "\n",
       "        // Create ChartWrapper\n",
       "        var google_chart_117 = new google.visualization.ChartWrapper({      \n",
       "            \"containerId\": \"google_chart_117_div_id\",\n",
       "            \"dataTable\": google_chart_117_data,\n",
       "            \"chartType\": \"ColumnChart\",\n",
       "            \"options\": {}\n",
       "        });\t\t\n",
       "        \n",
       "        google_chart_117.draw();\n",
       "        \n",
       "    }\n",
       "    \n",
       "</script>\n",
       "\n",
       "<div id=\"google_chart_117_div_id\" ></div>\n"
      ],
      "text/plain": [
       "<IPython.core.display.HTML object>"
      ]
     },
     "metadata": {},
     "output_type": "display_data"
    }
   ],
   "source": [
    "chart = JugleChart(sweets_df)\n",
    "pattern = \"There are {0} cakes, but only {1} pies.\"\n",
    "chart.add_formatter(\"pattern\", pattern=pattern, source_cols=[1,2])\n",
    "chart.show()\n",
    "\n",
    "# test:  is a tooltip value shown with a text pattern based on two columns?"
   ]
  },
  {
   "cell_type": "markdown",
   "metadata": {},
   "source": [
    "## Pattern formatter - hide columns"
   ]
  },
  {
   "cell_type": "code",
   "execution_count": 64,
   "metadata": {
    "collapsed": false
   },
   "outputs": [
    {
     "data": {
      "text/html": [
       "\n",
       "\n",
       "\n",
       "<script type=\"text/javascript\">\n",
       "\n",
       "    // Check if google jsapi is already loaded.  If not, load it.\n",
       "    if (typeof window.google == 'undefined') {\n",
       "        jQuery.getScript('https://www.google.com/jsapi', function( data, textStatus, jqxhr) {\n",
       "            google_loader();\n",
       "        });\n",
       "    } else {\n",
       "        google_loader();\n",
       "    }\n",
       "\n",
       "    // load visualization library    \n",
       "    function google_loader() {\n",
       "    \n",
       "        google.load('visualization', '1.0', {'callback': doStuff});\n",
       "    }\n",
       "    function doStuff() {\n",
       "    \n",
       "\n",
       "        // Create DataTable object from DataTable constructor or arrayToDatable()\n",
       "        var google_chart_118_data = new google.visualization.arrayToDataTable([['First', 'Middle', 'Last'], ['Sally', 'A.', 'Smith'], ['John', 'J', 'Johnson']])\n",
       "        \n",
       "        // Add formatters, if any\n",
       "        var formatter20 = new google.visualization.PatternFormat(\"{0} {1} {2}\");\n",
       "        formatter20.format(google_chart_118_data, [0, 1, 2], 1);\n",
       "\n",
       "        // Create ChartWrapper\n",
       "        var google_chart_118 = new google.visualization.ChartWrapper({      \n",
       "            \"containerId\": \"google_chart_118_div_id\",\n",
       "            \"dataTable\": google_chart_118_data,\n",
       "            \"view\": {columns: [1]},  \n",
       "            \"chartType\": \"Table\",\n",
       "            \"options\": {}\n",
       "        });\t\t\n",
       "        \n",
       "        google_chart_118.draw();\n",
       "        \n",
       "    }\n",
       "    \n",
       "</script>\n",
       "\n",
       "<div id=\"google_chart_118_div_id\" ></div>\n"
      ],
      "text/plain": [
       "<IPython.core.display.HTML object>"
      ]
     },
     "metadata": {},
     "output_type": "display_data"
    }
   ],
   "source": [
    "list2 = []\n",
    "list2.append(['First', 'Middle', 'Last'])\n",
    "list2.append(['Sally', 'A.', 'Smith'])\n",
    "list2.append(['John', 'J', 'Johnson'])\n",
    "chart = JugleChart(list2, chart_type = \"Table\")\n",
    "pattern = \"{0} {1} {2}\"\n",
    "chart.add_formatter(\"pattern\", pattern=pattern, source_cols=[0, 1, 2], dest_col=1)\n",
    "chart.hide_cols = [0, 2]\n",
    "chart.show()\n"
   ]
  },
  {
   "cell_type": "markdown",
   "metadata": {
    "collapsed": true
   },
   "source": [
    "# Options"
   ]
  },
  {
   "cell_type": "code",
   "execution_count": null,
   "metadata": {
    "collapsed": true
   },
   "outputs": [],
   "source": []
  },
  {
   "cell_type": "code",
   "execution_count": null,
   "metadata": {
    "collapsed": true
   },
   "outputs": [],
   "source": []
  },
  {
   "cell_type": "markdown",
   "metadata": {},
   "source": [
    "# Test Filters"
   ]
  },
  {
   "cell_type": "markdown",
   "metadata": {},
   "source": [
    "## One filter"
   ]
  },
  {
   "cell_type": "code",
   "execution_count": 65,
   "metadata": {
    "collapsed": false
   },
   "outputs": [
    {
     "data": {
      "text/html": [
       "\n",
       "\n",
       "\n",
       "<script type=\"text/javascript\">\n",
       "\n",
       "    // Check if google jsapi is already loaded.  If not, load it.\n",
       "    if (typeof window.google == 'undefined') {\n",
       "        jQuery.getScript('https://www.google.com/jsapi', function( data, textStatus, jqxhr) {\n",
       "            google_loader();\n",
       "        });\n",
       "    } else {\n",
       "        google_loader();\n",
       "    }\n",
       "\n",
       "    // load visualization library    \n",
       "    function google_loader() {\n",
       "\t\tgoogle.load('visualization', '1.0', {'packages':['controls'], 'callback': doStuff});\n",
       "    }\n",
       "    function doStuff() {\n",
       "    \n",
       "\n",
       "        // Create DataTable object from DataTable constructor or arrayToDatable()\n",
       "        var google_chart_119_data = new google.visualization.DataTable({\"rows\":[{\"c\":[{\"v\":\"New York\"},{\"v\":29},{\"v\":12}]},{\"c\":[{\"v\":\"Chicago\"},{\"v\":45},{\"v\":32}]},{\"c\":[{\"v\":\"Dallas\"},{\"v\":62},{\"v\":5}]},{\"c\":[{\"v\":\"Boston\"},{\"v\":50},{\"v\":20}]}],\"cols\":[{\"type\":\"string\",\"id\":\"cities\",\"label\":\"cities\"},{\"type\":\"number\",\"id\":\"cakes\",\"label\":\"cakes\"},{\"type\":\"number\",\"id\":\"pies\",\"label\":\"pies\"}]});\n",
       "        \n",
       "        // Add formatters, if any\n",
       "\n",
       "        // Create ChartWrapper\n",
       "        var google_chart_119 = new google.visualization.ChartWrapper({      \n",
       "            \"containerId\": \"google_chart_119_div_id\",\n",
       "            \"dataTable\": google_chart_119_data,\n",
       "            \"chartType\": \"ColumnChart\",\n",
       "            \"options\": {}\n",
       "        });\t\t\n",
       "        // Create a dashboard.\n",
       "        var google_chart_119_dashboard = new google.visualization.Dashboard(\n",
       "            document.getElementById('google_chart_119_dashboard_div_id'));\n",
       "\n",
       "        // Create controls\n",
       "        var google_filter_10 = new google.visualization.ControlWrapper({\n",
       "          'controlType': 'NumberRangeFilter',\n",
       "          'containerId': 'google_filter_10_div_id',\n",
       "          'options': {\"filterColumnIndex\": 1}\n",
       "        });\n",
       "\n",
       "        // Establish dependencies.\n",
       "\t\tgoogle_chart_119_dashboard.bind(google_filter_10, google_chart_119);\n",
       "\n",
       "        // Draw the dashboard.\n",
       "        google_chart_119_dashboard.draw(google_chart_119_data);        \n",
       "    }\n",
       "    \n",
       "</script>\n",
       "\n",
       "<div id=\"google_chart_119_dashboard_div_id\">\n",
       "\t<div id=\"google_filter_10_div_id\"></div>\n",
       "\t<div id=\"google_chart_119_div_id\" ></div>\n",
       "</div>\n"
      ],
      "text/plain": [
       "<IPython.core.display.HTML object>"
      ]
     },
     "metadata": {},
     "output_type": "display_data"
    }
   ],
   "source": [
    "chart = JugleChart(sweets_df)\n",
    "filter = Filter('NumberRangeFilter')\n",
    "filter.add_options(filterColumnIndex=1)\n",
    "chart.add_filter(filter)\n",
    "chart.show()\n",
    "\n"
   ]
  },
  {
   "cell_type": "markdown",
   "metadata": {},
   "source": [
    "## Two filters"
   ]
  },
  {
   "cell_type": "code",
   "execution_count": 66,
   "metadata": {
    "collapsed": false
   },
   "outputs": [
    {
     "data": {
      "text/html": [
       "\n",
       "\n",
       "\n",
       "<script type=\"text/javascript\">\n",
       "\n",
       "    // Check if google jsapi is already loaded.  If not, load it.\n",
       "    if (typeof window.google == 'undefined') {\n",
       "        jQuery.getScript('https://www.google.com/jsapi', function( data, textStatus, jqxhr) {\n",
       "            google_loader();\n",
       "        });\n",
       "    } else {\n",
       "        google_loader();\n",
       "    }\n",
       "\n",
       "    // load visualization library    \n",
       "    function google_loader() {\n",
       "\t\tgoogle.load('visualization', '1.0', {'packages':['controls'], 'callback': doStuff});\n",
       "    }\n",
       "    function doStuff() {\n",
       "    \n",
       "\n",
       "        // Create DataTable object from DataTable constructor or arrayToDatable()\n",
       "        var google_chart_120_data = new google.visualization.arrayToDataTable([['Cat1', 'Cat2', 'count'], ['1', 'a', 34], ['1', 'b', 23], ['1', 'k', 84], ['2', 'a', 62], ['2', 'm', 46], ['2', 'c', 68], ['3', 'g', 24], ['3', 'b', 86], ['3', 'c', 45]])\n",
       "        \n",
       "        // Add formatters, if any\n",
       "\n",
       "        // Create ChartWrapper\n",
       "        var google_chart_120 = new google.visualization.ChartWrapper({      \n",
       "            \"containerId\": \"google_chart_120_div_id\",\n",
       "            \"dataTable\": google_chart_120_data,\n",
       "            \"chartType\": \"Table\",\n",
       "            \"options\": {}\n",
       "        });\t\t\n",
       "        // Create a dashboard.\n",
       "        var google_chart_120_dashboard = new google.visualization.Dashboard(\n",
       "            document.getElementById('google_chart_120_dashboard_div_id'));\n",
       "\n",
       "        // Create controls\n",
       "        var google_filter_11 = new google.visualization.ControlWrapper({\n",
       "          'controlType': 'CategoryFilter',\n",
       "          'containerId': 'google_filter_11_div_id',\n",
       "          'options': {\"ui\": {\"allowMultiple\": true, \"allowNone\": true}, \"filterColumnIndex\": 0}\n",
       "        });\n",
       "        var google_filter_12 = new google.visualization.ControlWrapper({\n",
       "          'controlType': 'CategoryFilter',\n",
       "          'containerId': 'google_filter_12_div_id',\n",
       "          'options': {\"ui\": {\"allowMultiple\": true, \"allowNone\": true}, \"filterColumnIndex\": 1}\n",
       "        });\n",
       "\n",
       "        // Establish dependencies.\n",
       "\t\tgoogle_chart_120_dashboard.bind(google_filter_11, google_filter_12);\n",
       "\t\tgoogle_chart_120_dashboard.bind(google_filter_12, google_chart_120);\n",
       "\n",
       "        // Draw the dashboard.\n",
       "        google_chart_120_dashboard.draw(google_chart_120_data);        \n",
       "    }\n",
       "    \n",
       "</script>\n",
       "\n",
       "<div id=\"google_chart_120_dashboard_div_id\">\n",
       "\t<div id=\"google_filter_11_div_id\"></div>\n",
       "\t<div id=\"google_filter_12_div_id\"></div>\n",
       "\t<div id=\"google_chart_120_div_id\" ></div>\n",
       "</div>\n"
      ],
      "text/plain": [
       "<IPython.core.display.HTML object>"
      ]
     },
     "metadata": {},
     "output_type": "display_data"
    }
   ],
   "source": [
    "list1 = []\n",
    "list1.append(['Cat1', 'Cat2', 'count'])\n",
    "list1.append(['1', 'a', 34])\n",
    "list1.append(['1', 'b', 23])\n",
    "list1.append(['1', 'k', 84])\n",
    "list1.append(['2', 'a', 62])\n",
    "list1.append(['2', 'm', 46])\n",
    "list1.append(['2', 'c', 68])\n",
    "list1.append(['3', 'g', 24])\n",
    "list1.append(['3', 'b', 86])\n",
    "list1.append(['3', 'c', 45])\n",
    "\n",
    "chart = JugleChart(list1)\n",
    "\n",
    "filter1 = Filter(type=\"CategoryFilter\")\n",
    "filter1.add_options(filterColumnIndex=0, ui_allowMultiple=True, ui_allowNone=True)\n",
    "filter2 = Filter(type=\"CategoryFilter\")\n",
    "filter2.add_options(filterColumnIndex=1, ui_allowMultiple=True, ui_allowNone=True)\n",
    "\n",
    "chart.add_filter(filter1)\n",
    "chart.add_filter(filter2)\n",
    "\n",
    "filter1.bind_filter(filter2)\n",
    "\n",
    "chart.show('Table')"
   ]
  },
  {
   "cell_type": "markdown",
   "metadata": {
    "collapsed": true
   },
   "source": [
    "# Chart Rows"
   ]
  },
  {
   "cell_type": "markdown",
   "metadata": {},
   "source": [
    "## Charts without filters"
   ]
  },
  {
   "cell_type": "code",
   "execution_count": 67,
   "metadata": {
    "collapsed": false
   },
   "outputs": [
    {
     "data": {
      "text/html": [
       "<script type=\"text/javascript\">\n",
       "\n",
       "    // Check if google jsapi is already loaded.  If not, load it.\n",
       "    if (typeof window.google == 'undefined') {\n",
       "        jQuery.getScript('https://www.google.com/jsapi', function( data, textStatus, jqxhr) {\n",
       "            google_loader();\n",
       "        });\n",
       "    } else {\n",
       "        google_loader();\n",
       "    }\n",
       "\n",
       "    // load visualization library    \n",
       "    function google_loader() {\n",
       "    \n",
       "        google.load('visualization', '1.0', {'callback': doStuff});\n",
       "    }\n",
       "    function doStuff() {\n",
       "    \n",
       "\t// ==================== CHARTROW CHART 1 ============================= //\n",
       "        // Create DataTable object from DataTable constructor or arrayToDatable()\n",
       "        var google_chart_121_data = new google.visualization.DataTable({\"rows\":[{\"c\":[{\"v\":\"New York\"},{\"v\":29}]},{\"c\":[{\"v\":\"Chicago\"},{\"v\":45}]},{\"c\":[{\"v\":\"Dallas\"},{\"v\":62}]},{\"c\":[{\"v\":\"Boston\"},{\"v\":50}]}],\"cols\":[{\"type\":\"string\",\"id\":\"cities\",\"label\":\"cities\"},{\"type\":\"number\",\"id\":\"cakes\",\"label\":\"cakes\"}]});\n",
       "\t\n",
       "        // Create ChartWrapper\n",
       "        var google_chart_121 = new google.visualization.ChartWrapper({      \n",
       "            \"containerId\": \"google_chart_121_div_id\",\n",
       "            \"dataTable\": google_chart_121_data,\n",
       "            \"chartType\": \"ColumnChart\",\n",
       "            \"options\": {\"chartArea\": {\"width\": \"60%\"}}\n",
       "        });\t\t\t\n",
       "\t        \n",
       "\t        google_chart_121.draw();\n",
       "\t// ==================================================================== //\n",
       "\t        \n",
       "\t// ==================== CHARTROW CHART 2 ============================= //\n",
       "        // Create DataTable object from DataTable constructor or arrayToDatable()\n",
       "        var google_chart_122_data = new google.visualization.DataTable({\"rows\":[{\"c\":[{\"v\":\"New York\"},{\"v\":29}]},{\"c\":[{\"v\":\"Chicago\"},{\"v\":45}]},{\"c\":[{\"v\":\"Dallas\"},{\"v\":62}]},{\"c\":[{\"v\":\"Boston\"},{\"v\":50}]}],\"cols\":[{\"type\":\"string\",\"id\":\"cities\",\"label\":\"cities\"},{\"type\":\"number\",\"id\":\"cakes\",\"label\":\"cakes\"}]});\n",
       "\t\n",
       "        // Create ChartWrapper\n",
       "        var google_chart_122 = new google.visualization.ChartWrapper({      \n",
       "            \"containerId\": \"google_chart_122_div_id\",\n",
       "            \"dataTable\": google_chart_122_data,\n",
       "            \"chartType\": \"PieChart\",\n",
       "            \"options\": {\"chartArea\": {\"width\": \"100%\"}}\n",
       "        });\t\t\t\n",
       "\t        \n",
       "\t        google_chart_122.draw();\n",
       "\t// ==================================================================== //\n",
       "\t        \n",
       "\t// ==================== CHARTROW CHART 3 ============================= //\n",
       "        // Create DataTable object from DataTable constructor or arrayToDatable()\n",
       "        var google_chart_123_data = new google.visualization.DataTable({\"rows\":[{\"c\":[{\"v\":\"New York\"},{\"v\":29}]},{\"c\":[{\"v\":\"Chicago\"},{\"v\":45}]},{\"c\":[{\"v\":\"Dallas\"},{\"v\":62}]},{\"c\":[{\"v\":\"Boston\"},{\"v\":50}]}],\"cols\":[{\"type\":\"string\",\"id\":\"cities\",\"label\":\"cities\"},{\"type\":\"number\",\"id\":\"cakes\",\"label\":\"cakes\"}]});\n",
       "\t\n",
       "        // Create ChartWrapper\n",
       "        var google_chart_123 = new google.visualization.ChartWrapper({      \n",
       "            \"containerId\": \"google_chart_123_div_id\",\n",
       "            \"dataTable\": google_chart_123_data,\n",
       "            \"chartType\": \"LineChart\",\n",
       "            \"options\": {\"chartArea\": {\"width\": \"50%\"}}\n",
       "        });\t\t\t\n",
       "\t        \n",
       "\t        google_chart_123.draw();\n",
       "\t// ==================================================================== //\n",
       "\t        \n",
       "    }\n",
       "    \n",
       "</script>\n",
       "<div class=\"row\">\n",
       "\t<div class=\"col-sm-4\">\n",
       "<div id=\"google_chart_121_div_id\" ></div>\t</div>\n",
       "\t<div class=\"col-sm-4\">\n",
       "<div id=\"google_chart_122_div_id\" ></div>\t</div>\n",
       "\t<div class=\"col-sm-4\">\n",
       "<div id=\"google_chart_123_div_id\" ></div>\t</div>\n",
       "</div>\n",
       "\n"
      ],
      "text/plain": [
       "<IPython.core.display.HTML object>"
      ]
     },
     "metadata": {},
     "output_type": "display_data"
    }
   ],
   "source": [
    "chart1 = JugleChart(sweets_df.cities, sweets_df.cakes)\n",
    "chart2 = chart1.copy()\n",
    "chart3 = chart1.copy()\n",
    "chart4 = chart1.copy()\n",
    "\n",
    "chart2.chart_type=\"PieChart\"\n",
    "chart3.chart_type=\"LineChart\"\n",
    "chart4.chart_type=\"AreaChart\"\n",
    "\n",
    "chart1.add_chart_options(chartArea_width=\"60%\")\n",
    "chart2.add_chart_options(chartArea_width=\"100%\")\n",
    "chart3.add_chart_options(chartArea_width=\"50%\")\n",
    "chart4.add_chart_options(chartArea_width=\"50%\")\n",
    "\n",
    "# row = ChartRow(chart1, chart2, chart3, chart4)\n",
    "row = ChartRow(chart1, chart2, chart3)\n",
    "\n",
    "row.show()"
   ]
  },
  {
   "cell_type": "markdown",
   "metadata": {},
   "source": [
    "## Charts with filters"
   ]
  },
  {
   "cell_type": "code",
   "execution_count": 73,
   "metadata": {
    "collapsed": false
   },
   "outputs": [
    {
     "data": {
      "text/html": [
       "<script type=\"text/javascript\">\n",
       "\n",
       "    // Check if google jsapi is already loaded.  If not, load it.\n",
       "    if (typeof window.google == 'undefined') {\n",
       "        jQuery.getScript('https://www.google.com/jsapi', function( data, textStatus, jqxhr) {\n",
       "            google_loader();\n",
       "        });\n",
       "    } else {\n",
       "        google_loader();\n",
       "    }\n",
       "\n",
       "    // load visualization library    \n",
       "    function google_loader() {\n",
       "\t\tgoogle.load('visualization', '1.0', {'packages':['controls'], 'callback': doStuff});\n",
       "    }\n",
       "    function doStuff() {\n",
       "    \n",
       "\t// ==================== CHARTROW CHART 1 ============================= //\n",
       "        // Create DataTable object from DataTable constructor or arrayToDatable()\n",
       "        var google_chart_142_data = new google.visualization.DataTable({\"rows\":[{\"c\":[{\"v\":\"New York\"},{\"v\":29}]},{\"c\":[{\"v\":\"Chicago\"},{\"v\":45}]},{\"c\":[{\"v\":\"Dallas\"},{\"v\":62}]},{\"c\":[{\"v\":\"Boston\"},{\"v\":50}]}],\"cols\":[{\"type\":\"string\",\"id\":\"cities\",\"label\":\"cities\"},{\"type\":\"number\",\"id\":\"cakes\",\"label\":\"cakes\"}]});\n",
       "\t\n",
       "        // Create ChartWrapper\n",
       "        var google_chart_142 = new google.visualization.ChartWrapper({      \n",
       "            \"containerId\": \"google_chart_142_div_id\",\n",
       "            \"dataTable\": google_chart_142_data,\n",
       "            \"chartType\": \"ColumnChart\",\n",
       "            \"options\": {\"chartArea\": {\"width\": \"60%\"}}\n",
       "        });\t\t\t\n",
       "\t        \n",
       "\t        google_chart_142.draw();\n",
       "\t// ==================================================================== //\n",
       "\t        \n",
       "\t// ==================== CHARTROW CHART 2 ============================= //\n",
       "        // Create DataTable object from DataTable constructor or arrayToDatable()\n",
       "        var google_chart_143_data = new google.visualization.DataTable({\"rows\":[{\"c\":[{\"v\":\"New York\"},{\"v\":29}]},{\"c\":[{\"v\":\"Chicago\"},{\"v\":45}]},{\"c\":[{\"v\":\"Dallas\"},{\"v\":62}]},{\"c\":[{\"v\":\"Boston\"},{\"v\":50}]}],\"cols\":[{\"type\":\"string\",\"id\":\"cities\",\"label\":\"cities\"},{\"type\":\"number\",\"id\":\"cakes\",\"label\":\"cakes\"}]});\n",
       "\t\n",
       "        // Create ChartWrapper\n",
       "        var google_chart_143 = new google.visualization.ChartWrapper({      \n",
       "            \"containerId\": \"google_chart_143_div_id\",\n",
       "            \"dataTable\": google_chart_143_data,\n",
       "            \"chartType\": \"PieChart\",\n",
       "            \"options\": {\"chartArea\": {\"width\": \"100%\"}}\n",
       "        });\t\t\t\n",
       "        // Create a dashboard.\n",
       "        var google_chart_143_dashboard = new google.visualization.Dashboard(\n",
       "            document.getElementById('google_chart_143_dashboard_div_id'));\n",
       "\n",
       "        // Create controls\n",
       "        var google_filter_23 = new google.visualization.ControlWrapper({\n",
       "          'controlType': 'NumberRangeFilter',\n",
       "          'containerId': 'google_filter_23_div_id',\n",
       "          'options': {\"filterColumnIndex\": 1}\n",
       "        });\n",
       "\n",
       "        // Establish dependencies.\n",
       "\t\tgoogle_chart_143_dashboard.bind(google_filter_23, google_chart_143);\n",
       "\n",
       "        // Draw the dashboard.\n",
       "        google_chart_143_dashboard.draw(google_chart_143_data);\t// ==================== CHARTROW CHART 3 ============================= //\n",
       "        // Create DataTable object from DataTable constructor or arrayToDatable()\n",
       "        var google_chart_144_data = new google.visualization.arrayToDataTable([['Cat1', 'Cat2', 'count'], ['1', 'a', 34], ['1', 'b', 23], ['1', 'k', 84], ['2', 'a', 62], ['2', 'm', 46], ['2', 'c', 68], ['3', 'g', 24], ['3', 'b', 86], ['3', 'c', 45]])\n",
       "\t\n",
       "        // Create ChartWrapper\n",
       "        var google_chart_144 = new google.visualization.ChartWrapper({      \n",
       "            \"containerId\": \"google_chart_144_div_id\",\n",
       "            \"dataTable\": google_chart_144_data,\n",
       "            \"chartType\": \"Table\",\n",
       "            \"options\": {\"chartArea\": {\"width\": \"50%\"}}\n",
       "        });\t\t\t\n",
       "        // Create a dashboard.\n",
       "        var google_chart_144_dashboard = new google.visualization.Dashboard(\n",
       "            document.getElementById('google_chart_144_dashboard_div_id'));\n",
       "\n",
       "        // Create controls\n",
       "        var google_filter_21 = new google.visualization.ControlWrapper({\n",
       "          'controlType': 'CategoryFilter',\n",
       "          'containerId': 'google_filter_21_div_id',\n",
       "          'options': {\"ui\": {\"allowMultiple\": true, \"allowNone\": true}, \"filterColumnIndex\": 0}\n",
       "        });\n",
       "        var google_filter_22 = new google.visualization.ControlWrapper({\n",
       "          'controlType': 'CategoryFilter',\n",
       "          'containerId': 'google_filter_22_div_id',\n",
       "          'options': {\"ui\": {\"allowMultiple\": true, \"allowNone\": true}, \"filterColumnIndex\": 1}\n",
       "        });\n",
       "\n",
       "        // Establish dependencies.\n",
       "\t\tgoogle_chart_144_dashboard.bind(google_filter_21, google_filter_22);\n",
       "\t\tgoogle_chart_144_dashboard.bind(google_filter_22, google_chart_144);\n",
       "\n",
       "        // Draw the dashboard.\n",
       "        google_chart_144_dashboard.draw(google_chart_144_data);    }\n",
       "    \n",
       "</script>\n",
       "<div class=\"row\">\n",
       "\t<div class=\"col-sm-4\">\n",
       "<div id=\"google_chart_142_div_id\" ></div>\t</div>\n",
       "\t<div class=\"col-sm-4\">\n",
       "<div id=\"google_chart_143_dashboard_div_id\">\n",
       "\t<div id=\"google_filter_23_div_id\"></div>\n",
       "\t<div id=\"google_chart_143_div_id\" ></div>\n",
       "</div>\t</div>\n",
       "\t<div class=\"col-sm-4\">\n",
       "<div id=\"google_chart_144_dashboard_div_id\">\n",
       "\t<div id=\"google_filter_21_div_id\"></div>\n",
       "\t<div id=\"google_filter_22_div_id\"></div>\n",
       "\t<div id=\"google_chart_144_div_id\" ></div>\n",
       "</div>\t</div>\n",
       "</div>\n",
       "\n"
      ],
      "text/plain": [
       "<IPython.core.display.HTML object>"
      ]
     },
     "metadata": {},
     "output_type": "display_data"
    }
   ],
   "source": [
    "chart1 = JugleChart(sweets_df.cities, sweets_df.cakes)\n",
    "chart2 = chart1.copy()\n",
    "chart3 = JugleChart(list1)\n",
    "\n",
    "chart2.chart_type=\"PieChart\"\n",
    "chart3.chart_type=\"Table\"\n",
    "# chart4.chart_type=\"AreaChart\"\n",
    "\n",
    "chart1.add_chart_options(chartArea_width=\"60%\")\n",
    "chart2.add_chart_options(chartArea_width=\"100%\")\n",
    "chart3.add_chart_options(chartArea_width=\"50%\")\n",
    "# chart4.add_chart_options(chartArea_width=\"50%\")\n",
    "\n",
    "filter3a = Filter(type=\"CategoryFilter\")\n",
    "filter3a.add_options(filterColumnIndex=0, ui_allowMultiple=True, ui_allowNone=True)\n",
    "filter3b = Filter(type=\"CategoryFilter\")\n",
    "filter3b.add_options(filterColumnIndex=1, ui_allowMultiple=True, ui_allowNone=True)\n",
    "chart3.add_filter(filter3a)\n",
    "chart3.add_filter(filter3b)\n",
    "filter3a.bind_filter(filter3b)\n",
    "\n",
    "filter2 = Filter(\"NumberRangeFilter\")\n",
    "filter2.add_options(filterColumnIndex=1)\n",
    "chart2.add_filter(filter2)\n",
    "\n",
    "# row = ChartRow(chart1, chart2, chart3, chart4)\n",
    "row = ChartRow(chart1, chart2, chart3)\n",
    "\n",
    "row.show()"
   ]
  },
  {
   "cell_type": "code",
   "execution_count": null,
   "metadata": {
    "collapsed": true
   },
   "outputs": [],
   "source": []
  }
 ],
 "metadata": {
  "kernelspec": {
   "display_name": "Python 2",
   "language": "python",
   "name": "python2"
  },
  "language_info": {
   "codemirror_mode": {
    "name": "ipython",
    "version": 2
   },
   "file_extension": ".py",
   "mimetype": "text/x-python",
   "name": "python",
   "nbconvert_exporter": "python",
   "pygments_lexer": "ipython2",
   "version": "2.7.10"
  }
 },
 "nbformat": 4,
 "nbformat_minor": 0
}
