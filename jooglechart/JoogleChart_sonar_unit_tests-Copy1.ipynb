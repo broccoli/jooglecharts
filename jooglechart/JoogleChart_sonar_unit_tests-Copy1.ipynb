{
 "cells": [
  {
   "cell_type": "code",
   "execution_count": null,
   "metadata": {
    "collapsed": true
   },
   "outputs": [],
   "source": [
    "import pandas as pd\n",
    "from jooglechart_api import JoogleChart, Filter, ChartRow, sonar_keys\n",
    "from utils import get_df, get_date_df\n",
    "from widgets import ButtonGroup, CheckboxGroup\n",
    "from contrib.display.bi_styles import get_styler\n",
    "from IPython.display import display, HTML\n"
   ]
  },
  {
   "cell_type": "markdown",
   "metadata": {},
   "source": [
    "# Category Filter send to chart filter"
   ]
  },
  {
   "cell_type": "code",
   "execution_count": null,
   "metadata": {
    "collapsed": false
   },
   "outputs": [],
   "source": [
    "df = get_df()\n",
    "chart1 = JoogleChart(df)\n",
    "filter1 = Filter(\"CategoryFilter\")\n",
    "filter1.add_options(filterColumnIndex=0)\n",
    "filter1.add_sender(key=sonar_keys.ONE)\n",
    "chart1.add_filter(filter1)\n",
    "chart1.add_styler(get_styler())\n",
    "\n",
    "chart2 = JoogleChart(df, chart_type=\"Table\")\n",
    "filter2 = Filter(\"CategoryFilter\")\n",
    "filter2.add_options(filterColumnIndex=0)\n",
    "filter2.add_receiver(key=sonar_keys.ONE)\n",
    "filter2.add_options(ui_cssClass=\"hidden\")\n",
    "chart2.add_filter(filter2)\n",
    "\n",
    "\n",
    "# print chart1.render()\n",
    "# print chart2.render(include_common=False)\n",
    "chart1.show()\n",
    "chart2.show()\n",
    "# row = ChartRow(chart1, chart2)\n",
    "# row.show()"
   ]
  },
  {
   "cell_type": "markdown",
   "metadata": {},
   "source": [
    "\n",
    "\n",
    "# DateRange filter send to chart filter"
   ]
  },
  {
   "cell_type": "code",
   "execution_count": null,
   "metadata": {
    "collapsed": false
   },
   "outputs": [],
   "source": [
    "df1 = get_date_df(days=10, num_series=2)\n",
    "chart1 = JoogleChart(df1, chart_type=\"LineChart\")\n",
    "filter1 = Filter(\"DateRangeFilter\")\n",
    "filter1.add_options(filterColumnIndex=0)\n",
    "filter1.add_sender(key=\"KEY2\")\n",
    "chart1.add_filter(filter1)\n",
    "chart1.add_styler(get_styler())\n",
    "\n",
    "df2 = get_date_df(days=10, num_series=2)\n",
    "chart2 = JoogleChart(df2, chart_type=\"LineChart\")\n",
    "filter2 = Filter(\"DateRangeFilter\")\n",
    "filter2.add_receiver(key=\"KEY2\")\n",
    "filter2.add_options(filterColumnIndex=0)\n",
    "chart2.add_filter(filter2)\n",
    "chart2.add_styler(get_styler())\n",
    "\n",
    "# print chart1.render()\n",
    "# print chart2.render(force_common=False)\n",
    "row = ChartRow(chart1, chart2)\n",
    "row.show()\n"
   ]
  },
  {
   "cell_type": "markdown",
   "metadata": {},
   "source": [
    "# NumberRangeFilter send to chart filter"
   ]
  },
  {
   "cell_type": "code",
   "execution_count": null,
   "metadata": {
    "collapsed": false,
    "scrolled": true
   },
   "outputs": [],
   "source": [
    "df = get_df(rows=10, min=10, max=20)\n",
    "chart1 = JoogleChart(df, chart_type=\"ColumnChart\")\n",
    "filter1 = Filter(\"NumberRangeFilter\")\n",
    "filter1.add_options(filterColumnIndex=1)\n",
    "filter1.add_sender(key=\"QWE\")\n",
    "chart1.add_filter(filter1)\n",
    "chart1.add_styler(get_styler())\n",
    "\n",
    "chart2 = JoogleChart(df, chart_type=\"BarChart\")\n",
    "filter2 = Filter(\"NumberRangeFilter\")\n",
    "filter2.add_receiver(key=\"QWE\")\n",
    "filter2.add_options(filterColumnIndex=1)\n",
    "chart2.add_filter(filter2)\n",
    "chart2.add_styler(get_styler())\n",
    "\n",
    "row = ChartRow(chart1, chart2)\n",
    "row.show()"
   ]
  },
  {
   "cell_type": "markdown",
   "metadata": {},
   "source": [
    "# Chart select with categorical data"
   ]
  },
  {
   "cell_type": "code",
   "execution_count": null,
   "metadata": {
    "collapsed": false
   },
   "outputs": [],
   "source": [
    "df = get_df(cols=2)\n",
    "chart1 = JoogleChart(df)\n",
    "filter1 = Filter(\"CategoryFilter\")\n",
    "filter1.add_options(filterColumnIndex=0)\n",
    "filter1.add_options(ui_cssClass=\"hidden\")\n",
    "# filter1.add_receiver(key=\"KEY4\")\n",
    "# filter1.add_sender(key=\"KEY1\")\n",
    "chart1.add_filter(filter1)\n",
    "chart1.add_sender(key=\"KEY3\")\n",
    "chart1.add_styler(get_styler())\n",
    "\n",
    "chart2 = JoogleChart(df, chart_type=\"Table\")\n",
    "filter2 = Filter(\"CategoryFilter\")\n",
    "filter2.add_options(filterColumnIndex=0)\n",
    "filter2.add_receiver(key=\"KEY3\")\n",
    "# filter2.add_options(ui_cssClass=\"hidden\")\n",
    "chart2.add_filter(filter2)\n",
    "\n",
    "row = ChartRow(chart1, chart2)\n",
    "row.show()\n"
   ]
  },
  {
   "cell_type": "markdown",
   "metadata": {},
   "source": [
    "# Button Group send to chart filter"
   ]
  },
  {
   "cell_type": "code",
   "execution_count": null,
   "metadata": {
    "collapsed": false
   },
   "outputs": [],
   "source": [
    "df = get_df(cols=2)\n",
    "\n",
    "bg = ButtonGroup(values=df.cities, clear_button=True)\n",
    "bg.add_sender(key=\"KEY1\")\n",
    "# bg.show()\n",
    "\n",
    "\n",
    "\n",
    "\n",
    "chart1 = JoogleChart(df)\n",
    "filter1 = Filter(\"CategoryFilter\")\n",
    "filter1.add_options(filterColumnIndex=0)\n",
    "filter1.add_options(ui_cssClass=\"hidden\")\n",
    "filter1.add_receiver(key=\"KEY1\")\n",
    "chart1.add_filter(filter1)\n",
    "chart1.add_styler(get_styler())\n",
    "\n",
    "chart2 = JoogleChart(df, chart_type=\"Table\")\n",
    "filter2 = Filter(\"CategoryFilter\")\n",
    "filter2.add_options(filterColumnIndex=0)\n",
    "filter2.add_receiver(key=\"KEY1\")\n",
    "# filter2.add_options(ui_cssClass=\"hidden\")\n",
    "chart2.add_filter(filter2)\n",
    "# chart2.add_styler(get_styler())\n",
    "\n",
    "bg.show()\n",
    "\n",
    "row = ChartRow(chart1, chart2)\n",
    "row.show()\n",
    "\n",
    "# chart1.show()"
   ]
  },
  {
   "cell_type": "markdown",
   "metadata": {
    "collapsed": true
   },
   "source": [
    "# CheckboxGroup send to chart filter"
   ]
  },
  {
   "cell_type": "code",
   "execution_count": null,
   "metadata": {
    "collapsed": false
   },
   "outputs": [],
   "source": [
    "df = get_df(cols=2)\n",
    "\n",
    "cbg = CheckboxGroup(values=df.cities, clear_button=True)\n",
    "cbg.add_sender(key=\"KEY1\")\n",
    "cbg.show()\n",
    "\n",
    "chart1 = JoogleChart(df)\n",
    "filter1 = Filter(\"CategoryFilter\")\n",
    "filter1.add_options(filterColumnIndex=0)\n",
    "filter1.add_options(ui_cssClass=\"hidden\")\n",
    "filter1.add_receiver(key=\"KEY1\")\n",
    "chart1.add_filter(filter1)\n",
    "chart1.add_styler(get_styler())\n",
    "\n",
    "chart2 = JoogleChart(df, chart_type=\"Table\")\n",
    "filter2 = Filter(\"CategoryFilter\")\n",
    "filter2.add_options(filterColumnIndex=0)\n",
    "filter2.add_receiver(key=\"KEY1\")\n",
    "# filter2.add_options(ui_cssClass=\"hidden\")\n",
    "chart2.add_filter(filter2)\n",
    "# chart2.add_styler(get_styler())\n",
    "\n",
    "row = ChartRow(chart1, chart2)\n",
    "row.show()\n",
    "\n",
    "# bg.show()\n",
    "# chart1.show()"
   ]
  },
  {
   "cell_type": "markdown",
   "metadata": {
    "collapsed": true
   },
   "source": [
    "# Chart receiver update selection"
   ]
  },
  {
   "cell_type": "code",
   "execution_count": null,
   "metadata": {
    "collapsed": false
   },
   "outputs": [],
   "source": [
    "df = get_df(cols=2)\n",
    "\n",
    "bg = ButtonGroup(values=df.cities, clear_button=True)\n",
    "bg.add_sender(key=\"XXX\")\n",
    "bg.show()\n",
    "\n",
    "df = get_df(cols=2)\n",
    "\n",
    "bg2 = ButtonGroup(values=df.cities, clear_button=True)\n",
    "bg2.add_sender(key=\"YYY\")\n",
    "bg2.show()\n",
    "\n",
    "\n",
    "chart1 = JoogleChart(df)\n",
    "filter1 = Filter(\"CategoryFilter\")\n",
    "filter1.add_options(filterColumnIndex=0)\n",
    "# filter1.add_options(ui_cssClass=\"hidden\")\n",
    "filter1.add_receiver(key=\"YYY\")\n",
    "chart1.add_receiver(key=\"XXX\")\n",
    "# chart1.add_receiver(key=\"YYY\")\n",
    "chart1.add_filter(filter1)\n",
    "chart1.add_styler(get_styler())\n",
    "\n",
    "chart1.show()\n",
    "\n",
    "# print bg.render()\n",
    "# print bg2.render(include_common=False)\n",
    "# print chart1.render(include_common=False)\n",
    "# chart2 = JoogleChart(df, chart_type=\"Table\")\n",
    "# filter2 = Filter(\"CategoryFilter\")\n",
    "# filter2.add_options(filterColumnIndex=0)\n",
    "# # filter2.add_receiver(key=\"KEY1\")\n",
    "# filter2.add_options(ui_cssClass=\"hidden\")\n",
    "# chart2.add_filter(filter2)\n",
    "# # chart2.add_styler(get_styler())\n",
    "\n",
    "\n",
    "# row = ChartRow(chart1)\n",
    "# row.show()\n",
    "\n",
    "# chart1.show()"
   ]
  },
  {
   "cell_type": "code",
   "execution_count": null,
   "metadata": {
    "collapsed": true
   },
   "outputs": [],
   "source": []
  }
 ],
 "metadata": {
  "kernelspec": {
   "display_name": "Python 2",
   "language": "python",
   "name": "python2"
  },
  "language_info": {
   "codemirror_mode": {
    "name": "ipython",
    "version": 2
   },
   "file_extension": ".py",
   "mimetype": "text/x-python",
   "name": "python",
   "nbconvert_exporter": "python",
   "pygments_lexer": "ipython2",
   "version": "2.7.10"
  }
 },
 "nbformat": 4,
 "nbformat_minor": 0
}
