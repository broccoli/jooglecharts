{
 "cells": [
  {
   "cell_type": "code",
   "execution_count": 4,
   "metadata": {
    "collapsed": true
   },
   "outputs": [],
   "source": [
    "import pandas as pd\n",
    "from jooglechart_api import JoogleChart, Filter, ChartRow, sonar_keys\n",
    "from utils import get_df, get_date_df\n",
    "from widgets import ButtonGroup, CheckboxGroup\n",
    "from contrib.display.bi_styles import get_styler\n",
    "from IPython.display import display, HTML\n"
   ]
  },
  {
   "cell_type": "markdown",
   "metadata": {},
   "source": [
    "# Category Filter send to chart filter"
   ]
  },
  {
   "cell_type": "code",
   "execution_count": 5,
   "metadata": {
    "collapsed": false
   },
   "outputs": [
    {
     "data": {
      "text/html": [
       "\n",
       "<script type=\"text/javascript\">\n",
       "\n",
       "$(document).ready(function() {\n",
       "\n",
       "\t\n",
       "\tglobals.call_jooglechart_callback(doStuff_7);\n",
       "});\n",
       "\n",
       "    function doStuff_7() {\n",
       "        // Create DataTable object from DataTable constructor or arrayToDatable()\n",
       "        var jooglechart_7_data = new google.visualization.DataTable({\"rows\":[{\"c\":[{\"v\":\"Sacramento\"},{\"v\":97}]},{\"c\":[{\"v\":\"Montpelier\"},{\"v\":96}]},{\"c\":[{\"v\":\"Juneau\"},{\"v\":24}]},{\"c\":[{\"v\":\"Montgomery\"},{\"v\":26}]},{\"c\":[{\"v\":\"Little Rock\"},{\"v\":87}]}],\"cols\":[{\"type\":\"string\",\"id\":\"cities\",\"label\":\"cities\"},{\"type\":\"number\",\"id\":\"Aaaaaaaaa\",\"label\":\"Aaaaaaaaa\"}]});\n",
       "        \n",
       "        // Add formatters, if any\n",
       "\n",
       "        // Create ChartWrapper\n",
       "        var google_chart_8 = new google.visualization.ChartWrapper({      \n",
       "            \"containerId\": \"google_chart_8_div_id\",\n",
       "            \"dataTable\": jooglechart_7_data,\n",
       "            \"chartType\": \"ColumnChart\",\n",
       "            \"options\": {\"fontName\": \"Helvetica Neue\", \"bar\": {\"groupWidth\": 55}, \"hAxis\": {\"titleTextStyle\": {\"bold\": true, \"italic\": false}}, \"chartArea\": {\"width\": 440, \"top\": 20, \"height\": 295, \"left\": 60}, \"height\": 375, \"width\": 500, \"fontSize\": 12, \"vAxis\": {\"titleTextStyle\": {\"bold\": true, \"italic\": false}}, \"titleTextStyle\": {\"fontSize\": 16}, \"legend\": {\"position\": \"top\"}}\n",
       "        });\n",
       "    \n",
       "        // Create a dashboard.\n",
       "        var jooglechart_7_dashboard = new google.visualization.Dashboard(\n",
       "            document.getElementById('jooglechart_7_dashboard_div_id'));\n",
       "\n",
       "        // Create controls\n",
       "\t\t\t\n",
       "        var google_filter_9 = new google.visualization.ControlWrapper({\n",
       "          'controlType': 'CategoryFilter',\n",
       "          'containerId': 'google_filter_9_div_id',\n",
       "          'options': {\"filterColumnIndex\": 0},\n",
       "          'state': {}\n",
       "        });\n",
       "\n",
       "        // Establish dependencies.\n",
       "\t\tjooglechart_7_dashboard.bind(google_filter_9, google_chart_8);\n",
       "\n",
       "\t\t// Add sonar senders, if any\n",
       "        google.visualization.events.addListener(google_filter_9, \"statechange\", function () {\n",
       "\t\t\tvar selected_values = google_filter_9.getState().selectedValues;\n",
       "\t\t\tglobals.sonar.send(\"SONAR_KEY_ONE\", selected_values);\n",
       "\t\t});\n",
       "        // Draw the dashboard.\n",
       "        jooglechart_7_dashboard.draw(jooglechart_7_data);\n",
       "        \n",
       "        // Add sonar receivers, if any\n",
       "        \n",
       "\n",
       "\t\t// -------------- Add senders, if any -------------\n",
       "          \n",
       "\t\t// ------------------------------------------------\n",
       "\n",
       "\t\t// -------------- Add receivers, if any -------------\n",
       "          \n",
       "\t\t// --------------------------------------------------\n",
       "\n",
       "    }\n",
       "    \n",
       "</script>\n",
       "\n",
       "\n",
       "\n",
       "\n",
       "<div id=\"jooglechart_7_dashboard_div_id\">\n",
       "\t<div id=\"google_filter_9_div_id\"></div>\n",
       "\t\n",
       "<div id=\"google_chart_8_div_id\" class=\"jooglechart_container jooglechart_type_ColumnChart\" ></div>\n",
       "\t\n",
       "</div>\n"
      ],
      "text/plain": [
       "<IPython.core.display.HTML object>"
      ]
     },
     "metadata": {},
     "output_type": "display_data"
    },
    {
     "data": {
      "text/html": [
       "<h1>ASDFASDF</h1>"
      ],
      "text/plain": [
       "<IPython.core.display.HTML object>"
      ]
     },
     "metadata": {},
     "output_type": "display_data"
    }
   ],
   "source": [
    "df = get_df()\n",
    "chart1 = JoogleChart(df)\n",
    "filter1 = Filter(\"CategoryFilter\")\n",
    "filter1.add_options(filterColumnIndex=0)\n",
    "filter1.add_sender(key=sonar_keys.ONE)\n",
    "chart1.add_filter(filter1)\n",
    "chart1.add_styler(get_styler())\n",
    "\n",
    "# print chart1.render()\n",
    "chart1.show()\n",
    "\n",
    "chart2 = JoogleChart(df, chart_type=\"Table\")\n",
    "filter2 = Filter(\"CategoryFilter\")\n",
    "filter2.add_options(filterColumnIndex=0)\n",
    "# filter2.add_receiver(key=sonar_keys.ONE)\n",
    "filter2.add_options(ui_cssClass=\"hidden\")\n",
    "chart2.add_filter(filter2)\n",
    "\n",
    "# row = ChartRow(chart1, chart2)\n",
    "# row.show()\n",
    "display(HTML(\"<h1>ASDFASDF</h1>\"))"
   ]
  },
  {
   "cell_type": "markdown",
   "metadata": {},
   "source": [
    "\n",
    "\n",
    "# DateRange filter send to chart filter"
   ]
  },
  {
   "cell_type": "code",
   "execution_count": null,
   "metadata": {
    "collapsed": false
   },
   "outputs": [],
   "source": [
    "df1 = get_date_df(days=10, num_series=2)\n",
    "chart1 = JoogleChart(df1, chart_type=\"LineChart\")\n",
    "filter1 = Filter(\"DateRangeFilter\")\n",
    "filter1.add_options(filterColumnIndex=0)\n",
    "filter1.add_sender(key=\"KEY2\")\n",
    "chart1.add_filter(filter1)\n",
    "chart1.add_styler(get_styler())\n",
    "\n",
    "df2 = get_date_df(days=10, num_series=2)\n",
    "chart2 = JoogleChart(df2, chart_type=\"LineChart\")\n",
    "filter2 = Filter(\"DateRangeFilter\")\n",
    "filter2.add_receiver(key=\"KEY2\")\n",
    "filter2.add_options(filterColumnIndex=0)\n",
    "chart2.add_filter(filter2)\n",
    "chart2.add_styler(get_styler())\n",
    "\n",
    "# print chart1.render()\n",
    "# print chart2.render(force_common=False)\n",
    "row = ChartRow(chart1, chart2)\n",
    "row.show()\n"
   ]
  },
  {
   "cell_type": "markdown",
   "metadata": {},
   "source": [
    "# Chart select with categorical data"
   ]
  },
  {
   "cell_type": "code",
   "execution_count": null,
   "metadata": {
    "collapsed": false
   },
   "outputs": [],
   "source": [
    "df = get_df(cols=2)\n",
    "chart1 = JoogleChart(df)\n",
    "filter1 = Filter(\"CategoryFilter\")\n",
    "filter1.add_options(filterColumnIndex=0)\n",
    "filter1.add_options(ui_cssClass=\"hidden\")\n",
    "# filter1.add_receiver(key=\"KEY4\")\n",
    "# filter1.add_sender(key=\"KEY1\")\n",
    "chart1.add_filter(filter1)\n",
    "chart1.add_sender(key=\"KEY3\")\n",
    "chart1.add_styler(get_styler())\n",
    "\n",
    "chart2 = JoogleChart(df, chart_type=\"Table\")\n",
    "filter2 = Filter(\"CategoryFilter\")\n",
    "filter2.add_options(filterColumnIndex=0)\n",
    "filter2.add_receiver(key=\"KEY3\")\n",
    "# filter2.add_options(ui_cssClass=\"hidden\")\n",
    "chart2.add_filter(filter2)\n",
    "\n",
    "row = ChartRow(chart1, chart2)\n",
    "row.show()\n"
   ]
  },
  {
   "cell_type": "markdown",
   "metadata": {},
   "source": [
    "# Button Group send to chart filter"
   ]
  },
  {
   "cell_type": "code",
   "execution_count": null,
   "metadata": {
    "collapsed": false
   },
   "outputs": [],
   "source": [
    "df = get_df(cols=2)\n",
    "\n",
    "bg = ButtonGroup(values=df.cities, clear_button=True)\n",
    "bg.add_sender(key=\"KEY1\")\n",
    "# bg.show()\n",
    "\n",
    "\n",
    "\n",
    "\n",
    "chart1 = JoogleChart(df)\n",
    "filter1 = Filter(\"CategoryFilter\")\n",
    "filter1.add_options(filterColumnIndex=0)\n",
    "filter1.add_options(ui_cssClass=\"hidden\")\n",
    "filter1.add_receiver(key=\"KEY1\")\n",
    "chart1.add_filter(filter1)\n",
    "chart1.add_styler(get_styler())\n",
    "\n",
    "chart2 = JoogleChart(df, chart_type=\"Table\")\n",
    "filter2 = Filter(\"CategoryFilter\")\n",
    "filter2.add_options(filterColumnIndex=0)\n",
    "# filter2.add_receiver(key=\"KEY1\")\n",
    "filter2.add_options(ui_cssClass=\"hidden\")\n",
    "chart2.add_filter(filter2)\n",
    "# chart2.add_styler(get_styler())\n",
    "\n",
    "bg.show()\n",
    "\n",
    "row = ChartRow(chart1, chart2)\n",
    "row.show()\n",
    "\n",
    "# chart1.show()"
   ]
  },
  {
   "cell_type": "markdown",
   "metadata": {
    "collapsed": true
   },
   "source": [
    "# CheckboxGroup send to chart filter"
   ]
  },
  {
   "cell_type": "code",
   "execution_count": null,
   "metadata": {
    "collapsed": false
   },
   "outputs": [],
   "source": [
    "df = get_df(cols=2)\n",
    "\n",
    "cbg = CheckboxGroup(values=df.cities, clear_button=True)\n",
    "cbg.add_sender(key=\"KEY1\")\n",
    "cbg.show()\n",
    "\n",
    "chart1 = JoogleChart(df)\n",
    "filter1 = Filter(\"CategoryFilter\")\n",
    "filter1.add_options(filterColumnIndex=0)\n",
    "filter1.add_options(ui_cssClass=\"hidden\")\n",
    "filter1.add_receiver(key=\"KEY1\")\n",
    "chart1.add_filter(filter1)\n",
    "chart1.add_styler(get_styler())\n",
    "\n",
    "chart2 = JoogleChart(df, chart_type=\"Table\")\n",
    "filter2 = Filter(\"CategoryFilter\")\n",
    "filter2.add_options(filterColumnIndex=0)\n",
    "filter2.add_receiver(key=\"KEY1\")\n",
    "filter2.add_options(ui_cssClass=\"hidden\")\n",
    "chart2.add_filter(filter2)\n",
    "# chart2.add_styler(get_styler())\n",
    "\n",
    "row = ChartRow(chart1, chart2)\n",
    "row.show()\n",
    "\n",
    "# bg.show()\n",
    "# chart1.show()"
   ]
  },
  {
   "cell_type": "markdown",
   "metadata": {
    "collapsed": true
   },
   "source": [
    "# Chart receiver update selection"
   ]
  },
  {
   "cell_type": "code",
   "execution_count": null,
   "metadata": {
    "collapsed": false
   },
   "outputs": [],
   "source": [
    "df = get_df(cols=2)\n",
    "\n",
    "bg = ButtonGroup(values=df.cities, clear_button=True)\n",
    "bg.add_sender(key=\"XXX\")\n",
    "bg.show()\n",
    "\n",
    "df = get_df(cols=2)\n",
    "\n",
    "bg2 = ButtonGroup(values=df.cities, clear_button=True)\n",
    "bg2.add_sender(key=\"YYY\")\n",
    "bg2.show()\n",
    "\n",
    "\n",
    "chart1 = JoogleChart(df)\n",
    "filter1 = Filter(\"CategoryFilter\")\n",
    "filter1.add_options(filterColumnIndex=0)\n",
    "filter1.add_options(ui_cssClass=\"hidden\")\n",
    "filter1.add_receiver(key=\"YYY\")\n",
    "chart1.add_receiver(key=\"XXX\")\n",
    "chart1.add_filter(filter1)\n",
    "chart1.add_styler(get_styler())\n",
    "\n",
    "chart1.show()\n",
    "\n",
    "# print bg.render()\n",
    "# print bg2.render(force_common=False)\n",
    "# print chart1.render(force_common=False)\n",
    "# chart2 = JoogleChart(df, chart_type=\"Table\")\n",
    "# filter2 = Filter(\"CategoryFilter\")\n",
    "# filter2.add_options(filterColumnIndex=0)\n",
    "# # filter2.add_receiver(key=\"KEY1\")\n",
    "# filter2.add_options(ui_cssClass=\"hidden\")\n",
    "# chart2.add_filter(filter2)\n",
    "# # chart2.add_styler(get_styler())\n",
    "\n",
    "\n",
    "# row = ChartRow(chart1, chart2)\n",
    "# row.show()\n",
    "\n",
    "# chart1.show()"
   ]
  },
  {
   "cell_type": "code",
   "execution_count": null,
   "metadata": {
    "collapsed": true
   },
   "outputs": [],
   "source": []
  }
 ],
 "metadata": {
  "kernelspec": {
   "display_name": "Python 2",
   "language": "python",
   "name": "python2"
  },
  "language_info": {
   "codemirror_mode": {
    "name": "ipython",
    "version": 2
   },
   "file_extension": ".py",
   "mimetype": "text/x-python",
   "name": "python",
   "nbconvert_exporter": "python",
   "pygments_lexer": "ipython2",
   "version": "2.7.10"
  }
 },
 "nbformat": 4,
 "nbformat_minor": 0
}
