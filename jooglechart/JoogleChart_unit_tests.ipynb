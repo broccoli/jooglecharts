{
 "cells": [
  {
   "cell_type": "code",
   "execution_count": 4,
   "metadata": {
    "collapsed": false
   },
   "outputs": [],
   "source": [
    "import pandas as pd\n",
    "from jooglechart import JoogleChart, Filter, ChartRow, _Chart\n"
   ]
  },
  {
   "cell_type": "code",
   "execution_count": 5,
   "metadata": {
    "collapsed": false
   },
   "outputs": [],
   "source": [
    "cities = ['New York', 'Chicago', 'Dallas', 'Boston']\n",
    "cakes = [29, 45, 62, 50]\n",
    "pies = [12, 32, 5, 20]\n",
    "sweets_df = pd. DataFrame({'cities': cities, 'cakes': cakes, 'pies': pies}, columns=['cities', 'cakes', 'pies'])\n",
    "\n",
    "\n",
    "dates = ['2015-01-01', '2015-01-02', '2015-01-03']\n",
    "profit = [24, 55, 76]\n",
    "loss = [12, 43, 27]\n",
    "pct = [33.9793, 65.3546, 23.543]\n",
    "columns = ['dates', 'profit', 'loss', 'pct']\n",
    "df2 = pd.DataFrame({'dates': dates, 'profit': profit, 'loss': loss, 'pct': pct}, columns=columns)\n",
    "df2.dates = pd.to_datetime(df2.dates)\n",
    "\n",
    "\n",
    "list1 = []\n",
    "list1.append(['Cat1', 'Cat2', 'count'])\n",
    "list1.append(['1', 'a', 34])\n",
    "list1.append(['1', 'b', 23])\n",
    "list1.append(['1', 'k', 84])\n",
    "list1.append(['2', 'a', 62])\n",
    "list1.append(['2', 'm', 46])\n",
    "list1.append(['2', 'c', 68])\n",
    "list1.append(['3', 'g', 24])\n",
    "list1.append(['3', 'b', 86])\n",
    "list1.append(['3', 'c', 45])\n"
   ]
  },
  {
   "cell_type": "markdown",
   "metadata": {},
   "source": [
    "# Test passing data"
   ]
  },
  {
   "cell_type": "markdown",
   "metadata": {},
   "source": [
    "## 2d array"
   ]
  },
  {
   "cell_type": "code",
   "execution_count": 6,
   "metadata": {
    "collapsed": false
   },
   "outputs": [
    {
     "data": {
      "text/html": [
       "\n",
       "\n",
       "\n",
       "<script type=\"text/javascript\">\n",
       "\n",
       "    // Check if google jsapi is already loaded.  If not, load it.\n",
       "    if (typeof window.google == 'undefined') {\n",
       "        jQuery.getScript('https://www.google.com/jsapi', function( data, textStatus, jqxhr) {\n",
       "            google_loader_1();\n",
       "        });\n",
       "    } else {\n",
       "        google_loader_1();\n",
       "    }\n",
       "\n",
       "    // load visualization library    \n",
       "    function google_loader_1() {\n",
       "    \n",
       "        google.load('visualization', '1.0', {'callback': doStuff_1});\n",
       "    }\n",
       "    function doStuff_1() {\n",
       "    \n",
       "\n",
       "        // Create DataTable object from DataTable constructor or arrayToDatable()\n",
       "        var jugle_chart_1_data = new google.visualization.arrayToDataTable([['pets', 'count'], ['cats', 12], ['dogs', 15], ['lizards', 5]])\n",
       "        \n",
       "        // Add formatters, if any\n",
       "\n",
       "        // Create ChartWrapper\n",
       "        var google_chart_1 = new google.visualization.ChartWrapper({      \n",
       "            \"containerId\": \"google_chart_1_div_id\",\n",
       "            \"dataTable\": jugle_chart_1_data,\n",
       "            \"chartType\": \"PieChart\",\n",
       "            \"options\": {\"width\": \"400\"}\n",
       "        });\n",
       "\t\t\n",
       "        \n",
       "        google_chart_1.draw();\n",
       "        \n",
       "        \n",
       "    }\n",
       "    \n",
       "</script>\n",
       "\n",
       "<div id=\"google_chart_1_div_id\" ></div>\n",
       "\n"
      ],
      "text/plain": [
       "<IPython.core.display.HTML object>"
      ]
     },
     "metadata": {},
     "output_type": "display_data"
    }
   ],
   "source": [
    "pets = []\n",
    "pets.append(['pets', 'count'])\n",
    "pets.append(['cats', 12])\n",
    "pets.append(['dogs', 15])\n",
    "pets.append(['lizards', 5])\n",
    "\n",
    "chart = JoogleChart(pets)\n",
    "chart.show(\"PieChart\", width=\"400\")\n",
    "\n",
    "# test:  does the chart render?"
   ]
  },
  {
   "cell_type": "markdown",
   "metadata": {},
   "source": [
    "## Data Frame"
   ]
  },
  {
   "cell_type": "code",
   "execution_count": 7,
   "metadata": {
    "collapsed": false
   },
   "outputs": [
    {
     "data": {
      "text/html": [
       "\n",
       "\n",
       "\n",
       "<script type=\"text/javascript\">\n",
       "\n",
       "    // Check if google jsapi is already loaded.  If not, load it.\n",
       "    if (typeof window.google == 'undefined') {\n",
       "        jQuery.getScript('https://www.google.com/jsapi', function( data, textStatus, jqxhr) {\n",
       "            google_loader_2();\n",
       "        });\n",
       "    } else {\n",
       "        google_loader_2();\n",
       "    }\n",
       "\n",
       "    // load visualization library    \n",
       "    function google_loader_2() {\n",
       "    \n",
       "        google.load('visualization', '1.0', {'callback': doStuff_2});\n",
       "    }\n",
       "    function doStuff_2() {\n",
       "    \n",
       "\n",
       "        // Create DataTable object from DataTable constructor or arrayToDatable()\n",
       "        var jugle_chart_2_data = new google.visualization.DataTable({\"rows\":[{\"c\":[{\"v\":\"New York\"},{\"v\":29},{\"v\":12}]},{\"c\":[{\"v\":\"Chicago\"},{\"v\":45},{\"v\":32}]},{\"c\":[{\"v\":\"Dallas\"},{\"v\":62},{\"v\":5}]},{\"c\":[{\"v\":\"Boston\"},{\"v\":50},{\"v\":20}]}],\"cols\":[{\"type\":\"string\",\"id\":\"cities\",\"label\":\"cities\"},{\"type\":\"number\",\"id\":\"cakes\",\"label\":\"cakes\"},{\"type\":\"number\",\"id\":\"pies\",\"label\":\"pies\"}]});\n",
       "        \n",
       "        // Add formatters, if any\n",
       "\n",
       "        // Create ChartWrapper\n",
       "        var google_chart_2 = new google.visualization.ChartWrapper({      \n",
       "            \"containerId\": \"google_chart_2_div_id\",\n",
       "            \"dataTable\": jugle_chart_2_data,\n",
       "            \"chartType\": \"ColumnChart\",\n",
       "            \"options\": {\"width\": \"400\", \"title\": \"Hello\"}\n",
       "        });\n",
       "\t\t\n",
       "        \n",
       "        google_chart_2.draw();\n",
       "        \n",
       "        \n",
       "    }\n",
       "    \n",
       "</script>\n",
       "\n",
       "<div id=\"google_chart_2_div_id\" ></div>\n",
       "\n"
      ],
      "text/plain": [
       "<IPython.core.display.HTML object>"
      ]
     },
     "metadata": {},
     "output_type": "display_data"
    }
   ],
   "source": [
    "\n",
    "chart = JoogleChart(sweets_df)\n",
    "chart.show(width=\"400\", title=\"Hello\")\n",
    "\n",
    "# test: does the chart render?"
   ]
  },
  {
   "cell_type": "markdown",
   "metadata": {},
   "source": [
    "## Series"
   ]
  },
  {
   "cell_type": "code",
   "execution_count": 8,
   "metadata": {
    "collapsed": false
   },
   "outputs": [
    {
     "data": {
      "text/html": [
       "\n",
       "\n",
       "\n",
       "<script type=\"text/javascript\">\n",
       "\n",
       "    // Check if google jsapi is already loaded.  If not, load it.\n",
       "    if (typeof window.google == 'undefined') {\n",
       "        jQuery.getScript('https://www.google.com/jsapi', function( data, textStatus, jqxhr) {\n",
       "            google_loader_3();\n",
       "        });\n",
       "    } else {\n",
       "        google_loader_3();\n",
       "    }\n",
       "\n",
       "    // load visualization library    \n",
       "    function google_loader_3() {\n",
       "    \n",
       "        google.load('visualization', '1.0', {'callback': doStuff_3});\n",
       "    }\n",
       "    function doStuff_3() {\n",
       "    \n",
       "\n",
       "        // Create DataTable object from DataTable constructor or arrayToDatable()\n",
       "        var jugle_chart_3_data = new google.visualization.DataTable({\"rows\":[{\"c\":[{\"v\":\"New York\"},{\"v\":29}]},{\"c\":[{\"v\":\"Chicago\"},{\"v\":45}]},{\"c\":[{\"v\":\"Dallas\"},{\"v\":62}]},{\"c\":[{\"v\":\"Boston\"},{\"v\":50}]}],\"cols\":[{\"type\":\"string\",\"id\":\"cities\",\"label\":\"cities\"},{\"type\":\"number\",\"id\":\"cakes\",\"label\":\"cakes\"}]});\n",
       "        \n",
       "        // Add formatters, if any\n",
       "\n",
       "        // Create ChartWrapper\n",
       "        var google_chart_3 = new google.visualization.ChartWrapper({      \n",
       "            \"containerId\": \"google_chart_3_div_id\",\n",
       "            \"dataTable\": jugle_chart_3_data,\n",
       "            \"chartType\": \"ColumnChart\",\n",
       "            \"options\": {}\n",
       "        });\n",
       "\t\t\n",
       "        \n",
       "        google_chart_3.draw();\n",
       "        \n",
       "        \n",
       "    }\n",
       "    \n",
       "</script>\n",
       "\n",
       "<div id=\"google_chart_3_div_id\" ></div>\n",
       "\n"
      ],
      "text/plain": [
       "<IPython.core.display.HTML object>"
      ]
     },
     "metadata": {},
     "output_type": "display_data"
    }
   ],
   "source": [
    "chart = JoogleChart(sweets_df.cities, sweets_df.cakes)\n",
    "chart.show()\n",
    "\n",
    "# test: does the chart render?"
   ]
  },
  {
   "cell_type": "markdown",
   "metadata": {},
   "source": [
    "## One line plotting on DataFrames -- .gplot()"
   ]
  },
  {
   "cell_type": "code",
   "execution_count": 9,
   "metadata": {
    "collapsed": false
   },
   "outputs": [
    {
     "data": {
      "text/html": [
       "\n",
       "\n",
       "\n",
       "<script type=\"text/javascript\">\n",
       "\n",
       "    // Check if google jsapi is already loaded.  If not, load it.\n",
       "    if (typeof window.google == 'undefined') {\n",
       "        jQuery.getScript('https://www.google.com/jsapi', function( data, textStatus, jqxhr) {\n",
       "            google_loader_4();\n",
       "        });\n",
       "    } else {\n",
       "        google_loader_4();\n",
       "    }\n",
       "\n",
       "    // load visualization library    \n",
       "    function google_loader_4() {\n",
       "    \n",
       "        google.load('visualization', '1.0', {'callback': doStuff_4});\n",
       "    }\n",
       "    function doStuff_4() {\n",
       "    \n",
       "\n",
       "        // Create DataTable object from DataTable constructor or arrayToDatable()\n",
       "        var jugle_chart_4_data = new google.visualization.DataTable({\"rows\":[{\"c\":[{\"v\":\"New York\"},{\"v\":29},{\"v\":12}]},{\"c\":[{\"v\":\"Chicago\"},{\"v\":45},{\"v\":32}]},{\"c\":[{\"v\":\"Dallas\"},{\"v\":62},{\"v\":5}]},{\"c\":[{\"v\":\"Boston\"},{\"v\":50},{\"v\":20}]}],\"cols\":[{\"type\":\"string\",\"id\":\"cities\",\"label\":\"cities\"},{\"type\":\"number\",\"id\":\"cakes\",\"label\":\"cakes\"},{\"type\":\"number\",\"id\":\"pies\",\"label\":\"pies\"}]});\n",
       "        \n",
       "        // Add formatters, if any\n",
       "\n",
       "        // Create ChartWrapper\n",
       "        var google_chart_4 = new google.visualization.ChartWrapper({      \n",
       "            \"containerId\": \"google_chart_4_div_id\",\n",
       "            \"dataTable\": jugle_chart_4_data,\n",
       "            \"chartType\": \"ColumnChart\",\n",
       "            \"options\": {\"chartArea\": {\"width\": \"50%\"}, \"title\": \"Sweets\"}\n",
       "        });\n",
       "\t\t\n",
       "        \n",
       "        google_chart_4.draw();\n",
       "        \n",
       "        \n",
       "    }\n",
       "    \n",
       "</script>\n",
       "\n",
       "<div id=\"google_chart_4_div_id\" ></div>\n",
       "\n"
      ],
      "text/plain": [
       "<IPython.core.display.HTML object>"
      ]
     },
     "metadata": {},
     "output_type": "display_data"
    }
   ],
   "source": [
    "sweets_df.gplot(title=\"Sweets\", chartArea_width=\"50%\")"
   ]
  },
  {
   "cell_type": "markdown",
   "metadata": {},
   "source": [
    "## allow_nulls"
   ]
  },
  {
   "cell_type": "code",
   "execution_count": null,
   "metadata": {
    "collapsed": true
   },
   "outputs": [],
   "source": []
  },
  {
   "cell_type": "markdown",
   "metadata": {},
   "source": [
    "## datetime_cols"
   ]
  },
  {
   "cell_type": "code",
   "execution_count": null,
   "metadata": {
    "collapsed": true
   },
   "outputs": [],
   "source": []
  },
  {
   "cell_type": "markdown",
   "metadata": {},
   "source": [
    "# Test adding options"
   ]
  },
  {
   "cell_type": "code",
   "execution_count": 10,
   "metadata": {
    "collapsed": false
   },
   "outputs": [
    {
     "data": {
      "text/html": [
       "\n",
       "\n",
       "\n",
       "<script type=\"text/javascript\">\n",
       "\n",
       "    // Check if google jsapi is already loaded.  If not, load it.\n",
       "    if (typeof window.google == 'undefined') {\n",
       "        jQuery.getScript('https://www.google.com/jsapi', function( data, textStatus, jqxhr) {\n",
       "            google_loader_5();\n",
       "        });\n",
       "    } else {\n",
       "        google_loader_5();\n",
       "    }\n",
       "\n",
       "    // load visualization library    \n",
       "    function google_loader_5() {\n",
       "    \n",
       "        google.load('visualization', '1.0', {'callback': doStuff_5});\n",
       "    }\n",
       "    function doStuff_5() {\n",
       "    \n",
       "\n",
       "        // Create DataTable object from DataTable constructor or arrayToDatable()\n",
       "        var jugle_chart_5_data = new google.visualization.DataTable({\"rows\":[{\"c\":[{\"v\":\"New York\"},{\"v\":29}]},{\"c\":[{\"v\":\"Chicago\"},{\"v\":45}]},{\"c\":[{\"v\":\"Dallas\"},{\"v\":62}]},{\"c\":[{\"v\":\"Boston\"},{\"v\":50}]}],\"cols\":[{\"type\":\"string\",\"id\":\"cities\",\"label\":\"cities\"},{\"type\":\"number\",\"id\":\"cakes\",\"label\":\"cakes\"}]});\n",
       "        \n",
       "        // Add formatters, if any\n",
       "\n",
       "        // Create ChartWrapper\n",
       "        var google_chart_5 = new google.visualization.ChartWrapper({      \n",
       "            \"containerId\": \"google_chart_5_div_id\",\n",
       "            \"dataTable\": jugle_chart_5_data,\n",
       "            \"chartType\": \"ColumnChart\",\n",
       "            \"options\": {\"width\": 300}\n",
       "        });\n",
       "\t\t\n",
       "        \n",
       "        google_chart_5.draw();\n",
       "        \n",
       "        \n",
       "    }\n",
       "    \n",
       "</script>\n",
       "\n",
       "<div id=\"google_chart_5_div_id\" ></div>\n",
       "\n"
      ],
      "text/plain": [
       "<IPython.core.display.HTML object>"
      ]
     },
     "metadata": {},
     "output_type": "display_data"
    }
   ],
   "source": [
    "chart = JoogleChart(sweets_df.cities, sweets_df.cakes)\n",
    "chart.add_chart_options(width=300)\n",
    "chart.show()"
   ]
  },
  {
   "cell_type": "code",
   "execution_count": 27,
   "metadata": {
    "collapsed": false
   },
   "outputs": [
    {
     "name": "stdout",
     "output_type": "stream",
     "text": [
      "\n",
      "\n",
      "\n",
      "<script type=\"text/javascript\">\n",
      "\n",
      "    // Check if google jsapi is already loaded.  If not, load it.\n",
      "    if (typeof window.google == 'undefined') {\n",
      "        jQuery.getScript('https://www.google.com/jsapi', function( data, textStatus, jqxhr) {\n",
      "            google_loader_33();\n",
      "        });\n",
      "    } else {\n",
      "        google_loader_33();\n",
      "    }\n",
      "\n",
      "    // load visualization library    \n",
      "    function google_loader_33() {\n",
      "\t\tgoogle.load('visualization', '1.0', {'packages':['controls'], 'callback': doStuff_33});\n",
      "    }\n",
      "    function doStuff_33() {\n",
      "    \n",
      "\n",
      "        // Create DataTable object from DataTable constructor or arrayToDatable()\n",
      "        var jugle_chart_33_data = new google.visualization.arrayToDataTable([['Cat1', 'Cat2', 'widgets', 'doodads'], ['A', 'a', 34, 24], ['B', 'b', 23, 54], ['C', 'k', 84, 35], ['D', 'a', 62, 86], ['E', 'm', 46, 35], ['F', 'c', 68, 63], ['G', 'g', 24, 64], ['H', 'b', 86, 24], ['I', 'c', 45, 94]])\n",
      "        \n",
      "        // Add formatters, if any\n",
      "\n",
      "        // Create ChartWrapper\n",
      "        var google_chart_35 = new google.visualization.ChartWrapper({      \n",
      "            \"containerId\": \"google_chart_35_div_id\",\n",
      "            \"dataTable\": jugle_chart_33_data,\n",
      "            \"view\": {columns: [0, 2]},  \n",
      "            \"chartType\": \"ColumnChart\",\n",
      "            \"options\": {\"a\": 0, \"height\": 400, \"b\": {\"y\": 5}, \"legend\": {\"textStyle\": {\"color\": \"green\"}}, \"title\": \"asdf\"}\n",
      "        });\n",
      "        var google_chart_36 = new google.visualization.ChartWrapper({      \n",
      "            \"containerId\": \"google_chart_36_div_id\",\n",
      "            \"dataTable\": jugle_chart_33_data,\n",
      "            \"view\": {columns: [0, 3]},  \n",
      "            \"chartType\": \"ColumnChart\",\n",
      "            \"options\": {\"colors\": [\"#354684\"]}\n",
      "        });\n",
      "\t\t\n",
      "        // Create a dashboard.\n",
      "        var jugle_chart_33_dashboard = new google.visualization.Dashboard(\n",
      "            document.getElementById('jugle_chart_33_dashboard_div_id'));\n",
      "\n",
      "        // Create controls\n",
      "        var google_filter_13 = new google.visualization.ControlWrapper({\n",
      "          'controlType': 'CategoryFilter',\n",
      "          'containerId': 'google_filter_13_div_id',\n",
      "          'options': {\"ui\": {\"allowMultiple\": true}, \"filterColumnIndex\": 0},\n",
      "          'state': {}\n",
      "        });\n",
      "        var google_filter_14 = new google.visualization.ControlWrapper({\n",
      "          'controlType': 'CategoryFilter',\n",
      "          'containerId': 'google_filter_14_div_id',\n",
      "          'options': {\"ui\": {\"allowMultiple\": true}, \"filterColumnIndex\": 1},\n",
      "          'state': {}\n",
      "        });\n",
      "\n",
      "        // Establish dependencies.\n",
      "\t\tjugle_chart_33_dashboard.bind(google_filter_13, google_chart_35);\n",
      "\t\tjugle_chart_33_dashboard.bind(google_filter_13, google_chart_36);\n",
      "\t\tjugle_chart_33_dashboard.bind(google_filter_14, google_chart_35);\n",
      "\t\tjugle_chart_33_dashboard.bind(google_filter_14, google_chart_36);\n",
      "\n",
      "        // Draw the dashboard.\n",
      "        jugle_chart_33_dashboard.draw(jugle_chart_33_data);        \n",
      "    }\n",
      "    \n",
      "</script>\n",
      "\n",
      "<div id=\"jugle_chart_33_dashboard_div_id\">\n",
      "\t<div id=\"google_filter_13_div_id\"></div>\n",
      "\t<div id=\"google_filter_14_div_id\"></div>\n",
      "\t<div id=\"google_chart_35_div_id\" ></div>\n",
      "\t<div id=\"google_chart_36_div_id\" ></div>\n",
      "</div>\n",
      "\n"
     ]
    },
    {
     "data": {
      "text/html": [
       "\n",
       "\n",
       "\n",
       "<script type=\"text/javascript\">\n",
       "\n",
       "    // Check if google jsapi is already loaded.  If not, load it.\n",
       "    if (typeof window.google == 'undefined') {\n",
       "        jQuery.getScript('https://www.google.com/jsapi', function( data, textStatus, jqxhr) {\n",
       "            google_loader_34();\n",
       "        });\n",
       "    } else {\n",
       "        google_loader_34();\n",
       "    }\n",
       "\n",
       "    // load visualization library    \n",
       "    function google_loader_34() {\n",
       "\t\tgoogle.load('visualization', '1.0', {'packages':['controls'], 'callback': doStuff_34});\n",
       "    }\n",
       "    function doStuff_34() {\n",
       "    \n",
       "\n",
       "        // Create DataTable object from DataTable constructor or arrayToDatable()\n",
       "        var jugle_chart_34_data = new google.visualization.arrayToDataTable([['Cat1', 'Cat2', 'widgets', 'doodads'], ['A', 'a', 34, 24], ['B', 'b', 23, 54], ['C', 'k', 84, 35], ['D', 'a', 62, 86], ['E', 'm', 46, 35], ['F', 'c', 68, 63], ['G', 'g', 24, 64], ['H', 'b', 86, 24], ['I', 'c', 45, 94]])\n",
       "        \n",
       "        // Add formatters, if any\n",
       "\n",
       "        // Create ChartWrapper\n",
       "        var google_chart_37 = new google.visualization.ChartWrapper({      \n",
       "            \"containerId\": \"google_chart_37_div_id\",\n",
       "            \"dataTable\": jugle_chart_34_data,\n",
       "            \"view\": {columns: [0, 2]},  \n",
       "            \"chartType\": \"ColumnChart\",\n",
       "            \"options\": {\"a\": 0, \"height\": 400, \"b\": {\"y\": 5}, \"legend\": {\"textStyle\": {\"color\": \"green\"}}, \"title\": \"asdf\"}\n",
       "        });\n",
       "        var google_chart_38 = new google.visualization.ChartWrapper({      \n",
       "            \"containerId\": \"google_chart_38_div_id\",\n",
       "            \"dataTable\": jugle_chart_34_data,\n",
       "            \"view\": {columns: [0, 3]},  \n",
       "            \"chartType\": \"ColumnChart\",\n",
       "            \"options\": {\"colors\": [\"#354684\"]}\n",
       "        });\n",
       "\t\t\n",
       "        // Create a dashboard.\n",
       "        var jugle_chart_34_dashboard = new google.visualization.Dashboard(\n",
       "            document.getElementById('jugle_chart_34_dashboard_div_id'));\n",
       "\n",
       "        // Create controls\n",
       "        var google_filter_15 = new google.visualization.ControlWrapper({\n",
       "          'controlType': 'CategoryFilter',\n",
       "          'containerId': 'google_filter_15_div_id',\n",
       "          'options': {\"ui\": {\"allowMultiple\": true}, \"filterColumnIndex\": 0},\n",
       "          'state': {}\n",
       "        });\n",
       "        var google_filter_16 = new google.visualization.ControlWrapper({\n",
       "          'controlType': 'CategoryFilter',\n",
       "          'containerId': 'google_filter_16_div_id',\n",
       "          'options': {\"ui\": {\"allowMultiple\": true}, \"filterColumnIndex\": 1},\n",
       "          'state': {}\n",
       "        });\n",
       "\n",
       "        // Establish dependencies.\n",
       "\t\tjugle_chart_34_dashboard.bind(google_filter_15, google_chart_37);\n",
       "\t\tjugle_chart_34_dashboard.bind(google_filter_15, google_chart_38);\n",
       "\t\tjugle_chart_34_dashboard.bind(google_filter_16, google_chart_37);\n",
       "\t\tjugle_chart_34_dashboard.bind(google_filter_16, google_chart_38);\n",
       "\n",
       "        // Draw the dashboard.\n",
       "        jugle_chart_34_dashboard.draw(jugle_chart_34_data);        \n",
       "    }\n",
       "    \n",
       "</script>\n",
       "\n",
       "<div id=\"jugle_chart_34_dashboard_div_id\">\n",
       "\t<div id=\"google_filter_15_div_id\"></div>\n",
       "\t<div id=\"google_filter_16_div_id\"></div>\n",
       "\t<div id=\"google_chart_37_div_id\" ></div>\n",
       "\t<div id=\"google_chart_38_div_id\" ></div>\n",
       "</div>\n"
      ],
      "text/plain": [
       "<IPython.core.display.HTML object>"
      ]
     },
     "metadata": {},
     "output_type": "display_data"
    }
   ],
   "source": [
    "chart.add_chart_options(None)\n",
    "chart.add_chart_options(a = 0, b_x = 4, b_y = 5)\n",
    "\n",
    "chart.add_chart_options(title=\"asdf\",height=400, legend_position=\"bottom\", legend_textStyle_color=\"green\")\n",
    "print chart.render()\n",
    "chart.show()"
   ]
  },
  {
   "cell_type": "markdown",
   "metadata": {},
   "source": [
    "## resetting options"
   ]
  },
  {
   "cell_type": "code",
   "execution_count": 12,
   "metadata": {
    "collapsed": false
   },
   "outputs": [
    {
     "data": {
      "text/html": [
       "\n",
       "\n",
       "\n",
       "<script type=\"text/javascript\">\n",
       "\n",
       "    // Check if google jsapi is already loaded.  If not, load it.\n",
       "    if (typeof window.google == 'undefined') {\n",
       "        jQuery.getScript('https://www.google.com/jsapi', function( data, textStatus, jqxhr) {\n",
       "            google_loader_7();\n",
       "        });\n",
       "    } else {\n",
       "        google_loader_7();\n",
       "    }\n",
       "\n",
       "    // load visualization library    \n",
       "    function google_loader_7() {\n",
       "    \n",
       "        google.load('visualization', '1.0', {'callback': doStuff_7});\n",
       "    }\n",
       "    function doStuff_7() {\n",
       "    \n",
       "\n",
       "        // Create DataTable object from DataTable constructor or arrayToDatable()\n",
       "        var jugle_chart_7_data = new google.visualization.DataTable({\"rows\":[{\"c\":[{\"v\":\"New York\"},{\"v\":29}]},{\"c\":[{\"v\":\"Chicago\"},{\"v\":45}]},{\"c\":[{\"v\":\"Dallas\"},{\"v\":62}]},{\"c\":[{\"v\":\"Boston\"},{\"v\":50}]}],\"cols\":[{\"type\":\"string\",\"id\":\"cities\",\"label\":\"cities\"},{\"type\":\"number\",\"id\":\"cakes\",\"label\":\"cakes\"}]});\n",
       "        \n",
       "        // Add formatters, if any\n",
       "\n",
       "        // Create ChartWrapper\n",
       "        var google_chart_7 = new google.visualization.ChartWrapper({      \n",
       "            \"containerId\": \"google_chart_7_div_id\",\n",
       "            \"dataTable\": jugle_chart_7_data,\n",
       "            \"chartType\": \"ColumnChart\",\n",
       "            \"options\": {}\n",
       "        });\n",
       "\t\t\n",
       "        \n",
       "        google_chart_7.draw();\n",
       "        \n",
       "        \n",
       "    }\n",
       "    \n",
       "</script>\n",
       "\n",
       "<div id=\"google_chart_7_div_id\" ></div>\n",
       "\n"
      ],
      "text/plain": [
       "<IPython.core.display.HTML object>"
      ]
     },
     "metadata": {},
     "output_type": "display_data"
    }
   ],
   "source": [
    "chart = JoogleChart(sweets_df.cities, sweets_df.cakes)\n",
    "chart.add_chart_options(width=300)\n",
    "chart.add_chart_options(None)\n",
    "chart.show()"
   ]
  },
  {
   "cell_type": "markdown",
   "metadata": {},
   "source": [
    "# Test adding div styles"
   ]
  },
  {
   "cell_type": "code",
   "execution_count": 13,
   "metadata": {
    "collapsed": false
   },
   "outputs": [
    {
     "data": {
      "text/html": [
       "\n",
       "\n",
       "\n",
       "<script type=\"text/javascript\">\n",
       "\n",
       "    // Check if google jsapi is already loaded.  If not, load it.\n",
       "    if (typeof window.google == 'undefined') {\n",
       "        jQuery.getScript('https://www.google.com/jsapi', function( data, textStatus, jqxhr) {\n",
       "            google_loader_8();\n",
       "        });\n",
       "    } else {\n",
       "        google_loader_8();\n",
       "    }\n",
       "\n",
       "    // load visualization library    \n",
       "    function google_loader_8() {\n",
       "    \n",
       "        google.load('visualization', '1.0', {'callback': doStuff_8});\n",
       "    }\n",
       "    function doStuff_8() {\n",
       "    \n",
       "\n",
       "        // Create DataTable object from DataTable constructor or arrayToDatable()\n",
       "        var jugle_chart_8_data = new google.visualization.DataTable({\"rows\":[{\"c\":[{\"v\":\"New York\"},{\"v\":29}]},{\"c\":[{\"v\":\"Chicago\"},{\"v\":45}]},{\"c\":[{\"v\":\"Dallas\"},{\"v\":62}]},{\"c\":[{\"v\":\"Boston\"},{\"v\":50}]}],\"cols\":[{\"type\":\"string\",\"id\":\"cities\",\"label\":\"cities\"},{\"type\":\"number\",\"id\":\"cakes\",\"label\":\"cakes\"}]});\n",
       "        \n",
       "        // Add formatters, if any\n",
       "\n",
       "        // Create ChartWrapper\n",
       "        var google_chart_8 = new google.visualization.ChartWrapper({      \n",
       "            \"containerId\": \"google_chart_8_div_id\",\n",
       "            \"dataTable\": jugle_chart_8_data,\n",
       "            \"chartType\": \"ColumnChart\",\n",
       "            \"options\": {}\n",
       "        });\n",
       "\t\t\n",
       "        \n",
       "        google_chart_8.draw();\n",
       "        \n",
       "        \n",
       "    }\n",
       "    \n",
       "</script>\n",
       "\n",
       "<div id=\"google_chart_8_div_id\" style=\"width: 300px\"></div>\n",
       "\n"
      ],
      "text/plain": [
       "<IPython.core.display.HTML object>"
      ]
     },
     "metadata": {},
     "output_type": "display_data"
    }
   ],
   "source": [
    "chart = JoogleChart(sweets_df.cities, sweets_df.cakes)\n",
    "chart.add_div_styles(width=\"300px\")\n",
    "chart.show()"
   ]
  },
  {
   "cell_type": "markdown",
   "metadata": {},
   "source": [
    "## test resetting div style"
   ]
  },
  {
   "cell_type": "code",
   "execution_count": 14,
   "metadata": {
    "collapsed": false
   },
   "outputs": [
    {
     "data": {
      "text/html": [
       "\n",
       "\n",
       "\n",
       "<script type=\"text/javascript\">\n",
       "\n",
       "    // Check if google jsapi is already loaded.  If not, load it.\n",
       "    if (typeof window.google == 'undefined') {\n",
       "        jQuery.getScript('https://www.google.com/jsapi', function( data, textStatus, jqxhr) {\n",
       "            google_loader_9();\n",
       "        });\n",
       "    } else {\n",
       "        google_loader_9();\n",
       "    }\n",
       "\n",
       "    // load visualization library    \n",
       "    function google_loader_9() {\n",
       "    \n",
       "        google.load('visualization', '1.0', {'callback': doStuff_9});\n",
       "    }\n",
       "    function doStuff_9() {\n",
       "    \n",
       "\n",
       "        // Create DataTable object from DataTable constructor or arrayToDatable()\n",
       "        var jugle_chart_9_data = new google.visualization.DataTable({\"rows\":[{\"c\":[{\"v\":\"New York\"},{\"v\":29}]},{\"c\":[{\"v\":\"Chicago\"},{\"v\":45}]},{\"c\":[{\"v\":\"Dallas\"},{\"v\":62}]},{\"c\":[{\"v\":\"Boston\"},{\"v\":50}]}],\"cols\":[{\"type\":\"string\",\"id\":\"cities\",\"label\":\"cities\"},{\"type\":\"number\",\"id\":\"cakes\",\"label\":\"cakes\"}]});\n",
       "        \n",
       "        // Add formatters, if any\n",
       "\n",
       "        // Create ChartWrapper\n",
       "        var google_chart_9 = new google.visualization.ChartWrapper({      \n",
       "            \"containerId\": \"google_chart_9_div_id\",\n",
       "            \"dataTable\": jugle_chart_9_data,\n",
       "            \"chartType\": \"ColumnChart\",\n",
       "            \"options\": {}\n",
       "        });\n",
       "\t\t\n",
       "        \n",
       "        google_chart_9.draw();\n",
       "        \n",
       "        \n",
       "    }\n",
       "    \n",
       "</script>\n",
       "\n",
       "<div id=\"google_chart_9_div_id\" ></div>\n",
       "\n"
      ],
      "text/plain": [
       "<IPython.core.display.HTML object>"
      ]
     },
     "metadata": {},
     "output_type": "display_data"
    }
   ],
   "source": [
    "chart = JoogleChart(sweets_df.cities, sweets_df.cakes)\n",
    "chart.add_div_styles(width=\"300px\")\n",
    "chart.add_div_styles(None)\n",
    "chart.show()"
   ]
  },
  {
   "cell_type": "code",
   "execution_count": null,
   "metadata": {
    "collapsed": true
   },
   "outputs": [],
   "source": []
  },
  {
   "cell_type": "markdown",
   "metadata": {},
   "source": [
    "# Test formatters"
   ]
  },
  {
   "cell_type": "markdown",
   "metadata": {},
   "source": [
    "## Regular formatters"
   ]
  },
  {
   "cell_type": "code",
   "execution_count": 15,
   "metadata": {
    "collapsed": false
   },
   "outputs": [
    {
     "data": {
      "text/html": [
       "\n",
       "\n",
       "\n",
       "<script type=\"text/javascript\">\n",
       "\n",
       "    // Check if google jsapi is already loaded.  If not, load it.\n",
       "    if (typeof window.google == 'undefined') {\n",
       "        jQuery.getScript('https://www.google.com/jsapi', function( data, textStatus, jqxhr) {\n",
       "            google_loader_10();\n",
       "        });\n",
       "    } else {\n",
       "        google_loader_10();\n",
       "    }\n",
       "\n",
       "    // load visualization library    \n",
       "    function google_loader_10() {\n",
       "    \n",
       "        google.load('visualization', '1.0', {'callback': doStuff_10});\n",
       "    }\n",
       "    function doStuff_10() {\n",
       "    \n",
       "\n",
       "        // Create DataTable object from DataTable constructor or arrayToDatable()\n",
       "        var jugle_chart_10_data = new google.visualization.DataTable({\"rows\":[{\"c\":[{\"v\":\"Date(2015,0,1)\"},{\"v\":24},{\"v\":12},{\"v\":33.9793}]},{\"c\":[{\"v\":\"Date(2015,0,2)\"},{\"v\":55},{\"v\":43},{\"v\":65.3546}]},{\"c\":[{\"v\":\"Date(2015,0,3)\"},{\"v\":76},{\"v\":27},{\"v\":23.543}]}],\"cols\":[{\"type\":\"date\",\"id\":\"dates\",\"label\":\"dates\"},{\"type\":\"number\",\"id\":\"profit\",\"label\":\"profit\"},{\"type\":\"number\",\"id\":\"loss\",\"label\":\"loss\"},{\"type\":\"number\",\"id\":\"pct\",\"label\":\"pct\"}]});\n",
       "        \n",
       "        // Add formatters, if any\n",
       "        var formatter1 = new google.visualization.DateFormat({\"formatType\": \"short\"});\n",
       "        formatter1.format(jugle_chart_10_data, 0);\n",
       "        var formatter2 = new google.visualization.NumberFormat({\"prefix\": \"$\", \"fractionDigits\": 2});\n",
       "        formatter2.format(jugle_chart_10_data, 1);\n",
       "        formatter2.format(jugle_chart_10_data, 2);\n",
       "        var formatter3 = new google.visualization.NumberFormat({\"pattern\": \"#,###.##%\"});\n",
       "        formatter3.format(jugle_chart_10_data, 3);\n",
       "\n",
       "        // Create ChartWrapper\n",
       "        var google_chart_10 = new google.visualization.ChartWrapper({      \n",
       "            \"containerId\": \"google_chart_10_div_id\",\n",
       "            \"dataTable\": jugle_chart_10_data,\n",
       "            \"chartType\": \"ColumnChart\",\n",
       "            \"options\": {}\n",
       "        });\n",
       "\t\t\n",
       "        \n",
       "        google_chart_10.draw();\n",
       "        \n",
       "        \n",
       "    }\n",
       "    \n",
       "</script>\n",
       "\n",
       "<div id=\"google_chart_10_div_id\" ></div>\n",
       "\n"
      ],
      "text/plain": [
       "<IPython.core.display.HTML object>"
      ]
     },
     "metadata": {},
     "output_type": "display_data"
    }
   ],
   "source": [
    "chart = JoogleChart(df2)\n",
    "date_format = {'formatType': 'short'}\n",
    "chart.add_formatter('date', options=date_format, cols=0)\n",
    "money_format = {'prefix':'$', 'fractionDigits': 2}\n",
    "chart.add_formatter('number', options=money_format, cols=[1, 2])\n",
    "chart.add_formatter('number', options={'pattern':  '#,###.##%'}, cols=[3])\n",
    "chart.show()\n",
    "\n",
    "# test:  are the tooltips values and axis labels formatted?"
   ]
  },
  {
   "cell_type": "markdown",
   "metadata": {},
   "source": [
    "## Pattern formatter"
   ]
  },
  {
   "cell_type": "code",
   "execution_count": 16,
   "metadata": {
    "collapsed": false
   },
   "outputs": [
    {
     "data": {
      "text/html": [
       "\n",
       "\n",
       "\n",
       "<script type=\"text/javascript\">\n",
       "\n",
       "    // Check if google jsapi is already loaded.  If not, load it.\n",
       "    if (typeof window.google == 'undefined') {\n",
       "        jQuery.getScript('https://www.google.com/jsapi', function( data, textStatus, jqxhr) {\n",
       "            google_loader_11();\n",
       "        });\n",
       "    } else {\n",
       "        google_loader_11();\n",
       "    }\n",
       "\n",
       "    // load visualization library    \n",
       "    function google_loader_11() {\n",
       "    \n",
       "        google.load('visualization', '1.0', {'callback': doStuff_11});\n",
       "    }\n",
       "    function doStuff_11() {\n",
       "    \n",
       "\n",
       "        // Create DataTable object from DataTable constructor or arrayToDatable()\n",
       "        var jugle_chart_11_data = new google.visualization.DataTable({\"rows\":[{\"c\":[{\"v\":\"New York\"},{\"v\":29},{\"v\":12}]},{\"c\":[{\"v\":\"Chicago\"},{\"v\":45},{\"v\":32}]},{\"c\":[{\"v\":\"Dallas\"},{\"v\":62},{\"v\":5}]},{\"c\":[{\"v\":\"Boston\"},{\"v\":50},{\"v\":20}]}],\"cols\":[{\"type\":\"string\",\"id\":\"cities\",\"label\":\"cities\"},{\"type\":\"number\",\"id\":\"cakes\",\"label\":\"cakes\"},{\"type\":\"number\",\"id\":\"pies\",\"label\":\"pies\"}]});\n",
       "        \n",
       "        // Add formatters, if any\n",
       "        var formatter4 = new google.visualization.PatternFormat(\"There are {0} cakes, but only {1} pies.\");\n",
       "        formatter4.format(jugle_chart_11_data, [1, 2], 1);\n",
       "\n",
       "        // Create ChartWrapper\n",
       "        var google_chart_11 = new google.visualization.ChartWrapper({      \n",
       "            \"containerId\": \"google_chart_11_div_id\",\n",
       "            \"dataTable\": jugle_chart_11_data,\n",
       "            \"chartType\": \"ColumnChart\",\n",
       "            \"options\": {}\n",
       "        });\n",
       "\t\t\n",
       "        \n",
       "        google_chart_11.draw();\n",
       "        \n",
       "        \n",
       "    }\n",
       "    \n",
       "</script>\n",
       "\n",
       "<div id=\"google_chart_11_div_id\" ></div>\n",
       "\n"
      ],
      "text/plain": [
       "<IPython.core.display.HTML object>"
      ]
     },
     "metadata": {},
     "output_type": "display_data"
    }
   ],
   "source": [
    "chart = JoogleChart(sweets_df)\n",
    "pattern = \"There are {0} cakes, but only {1} pies.\"\n",
    "chart.add_formatter(\"pattern\", pattern=pattern, source_cols=[1,2])\n",
    "chart.show()\n",
    "\n",
    "# test:  is a tooltip value shown with a text pattern based on two columns?"
   ]
  },
  {
   "cell_type": "markdown",
   "metadata": {},
   "source": [
    "## Pattern formatter - hide columns"
   ]
  },
  {
   "cell_type": "code",
   "execution_count": 17,
   "metadata": {
    "collapsed": false
   },
   "outputs": [
    {
     "data": {
      "text/html": [
       "\n",
       "\n",
       "\n",
       "<script type=\"text/javascript\">\n",
       "\n",
       "    // Check if google jsapi is already loaded.  If not, load it.\n",
       "    if (typeof window.google == 'undefined') {\n",
       "        jQuery.getScript('https://www.google.com/jsapi', function( data, textStatus, jqxhr) {\n",
       "            google_loader_12();\n",
       "        });\n",
       "    } else {\n",
       "        google_loader_12();\n",
       "    }\n",
       "\n",
       "    // load visualization library    \n",
       "    function google_loader_12() {\n",
       "    \n",
       "        google.load('visualization', '1.0', {'callback': doStuff_12});\n",
       "    }\n",
       "    function doStuff_12() {\n",
       "    \n",
       "\n",
       "        // Create DataTable object from DataTable constructor or arrayToDatable()\n",
       "        var jugle_chart_12_data = new google.visualization.arrayToDataTable([['First', 'Middle', 'Last'], ['Sally', 'A.', 'Smith'], ['John', 'J', 'Johnson']])\n",
       "        \n",
       "        // Add formatters, if any\n",
       "        var formatter5 = new google.visualization.PatternFormat(\"{0} {1} {2}\");\n",
       "        formatter5.format(jugle_chart_12_data, [0, 1, 2], 1);\n",
       "\n",
       "        // Create ChartWrapper\n",
       "        var google_chart_12 = new google.visualization.ChartWrapper({      \n",
       "            \"containerId\": \"google_chart_12_div_id\",\n",
       "            \"dataTable\": jugle_chart_12_data,\n",
       "            \"view\": {columns: [1]},  \n",
       "            \"chartType\": \"Table\",\n",
       "            \"options\": {}\n",
       "        });\n",
       "\t\t\n",
       "        \n",
       "        google_chart_12.draw();\n",
       "        \n",
       "        \n",
       "    }\n",
       "    \n",
       "</script>\n",
       "\n",
       "<div id=\"google_chart_12_div_id\" ></div>\n",
       "\n"
      ],
      "text/plain": [
       "<IPython.core.display.HTML object>"
      ]
     },
     "metadata": {},
     "output_type": "display_data"
    }
   ],
   "source": [
    "list2 = []\n",
    "list2.append(['First', 'Middle', 'Last'])\n",
    "list2.append(['Sally', 'A.', 'Smith'])\n",
    "list2.append(['John', 'J', 'Johnson'])\n",
    "chart = JoogleChart(list2, chart_type = \"Table\")\n",
    "pattern = \"{0} {1} {2}\"\n",
    "chart.add_formatter(\"pattern\", pattern=pattern, source_cols=[0, 1, 2], dest_col=1)\n",
    "chart.set_view_cols(1)\n",
    "chart.show()\n"
   ]
  },
  {
   "cell_type": "markdown",
   "metadata": {
    "collapsed": true
   },
   "source": [
    "# Options"
   ]
  },
  {
   "cell_type": "code",
   "execution_count": null,
   "metadata": {
    "collapsed": true
   },
   "outputs": [],
   "source": []
  },
  {
   "cell_type": "code",
   "execution_count": null,
   "metadata": {
    "collapsed": true
   },
   "outputs": [],
   "source": []
  },
  {
   "cell_type": "code",
   "execution_count": null,
   "metadata": {
    "collapsed": true
   },
   "outputs": [],
   "source": []
  },
  {
   "cell_type": "markdown",
   "metadata": {},
   "source": [
    "# Test Filters"
   ]
  },
  {
   "cell_type": "markdown",
   "metadata": {},
   "source": [
    "## One filter"
   ]
  },
  {
   "cell_type": "code",
   "execution_count": 18,
   "metadata": {
    "collapsed": false
   },
   "outputs": [
    {
     "data": {
      "text/html": [
       "\n",
       "\n",
       "\n",
       "<script type=\"text/javascript\">\n",
       "\n",
       "    // Check if google jsapi is already loaded.  If not, load it.\n",
       "    if (typeof window.google == 'undefined') {\n",
       "        jQuery.getScript('https://www.google.com/jsapi', function( data, textStatus, jqxhr) {\n",
       "            google_loader_13();\n",
       "        });\n",
       "    } else {\n",
       "        google_loader_13();\n",
       "    }\n",
       "\n",
       "    // load visualization library    \n",
       "    function google_loader_13() {\n",
       "\t\tgoogle.load('visualization', '1.0', {'packages':['controls'], 'callback': doStuff_13});\n",
       "    }\n",
       "    function doStuff_13() {\n",
       "    \n",
       "\n",
       "        // Create DataTable object from DataTable constructor or arrayToDatable()\n",
       "        var jugle_chart_13_data = new google.visualization.DataTable({\"rows\":[{\"c\":[{\"v\":\"New York\"},{\"v\":29},{\"v\":12}]},{\"c\":[{\"v\":\"Chicago\"},{\"v\":45},{\"v\":32}]},{\"c\":[{\"v\":\"Dallas\"},{\"v\":62},{\"v\":5}]},{\"c\":[{\"v\":\"Boston\"},{\"v\":50},{\"v\":20}]}],\"cols\":[{\"type\":\"string\",\"id\":\"cities\",\"label\":\"cities\"},{\"type\":\"number\",\"id\":\"cakes\",\"label\":\"cakes\"},{\"type\":\"number\",\"id\":\"pies\",\"label\":\"pies\"}]});\n",
       "        \n",
       "        // Add formatters, if any\n",
       "\n",
       "        // Create ChartWrapper\n",
       "        var google_chart_13 = new google.visualization.ChartWrapper({      \n",
       "            \"containerId\": \"google_chart_13_div_id\",\n",
       "            \"dataTable\": jugle_chart_13_data,\n",
       "            \"chartType\": \"ColumnChart\",\n",
       "            \"options\": {}\n",
       "        });\n",
       "\t\t\n",
       "        // Create a dashboard.\n",
       "        var jugle_chart_13_dashboard = new google.visualization.Dashboard(\n",
       "            document.getElementById('jugle_chart_13_dashboard_div_id'));\n",
       "\n",
       "        // Create controls\n",
       "        var google_filter_1 = new google.visualization.ControlWrapper({\n",
       "          'controlType': 'NumberRangeFilter',\n",
       "          'containerId': 'google_filter_1_div_id',\n",
       "          'options': {\"filterColumnIndex\": 1},\n",
       "          'state': {\"lowValue\": 40, \"highValue\": 55}\n",
       "        });\n",
       "\n",
       "        // Establish dependencies.\n",
       "\t\tjugle_chart_13_dashboard.bind(google_filter_1, google_chart_13);\n",
       "\n",
       "        // Draw the dashboard.\n",
       "        jugle_chart_13_dashboard.draw(jugle_chart_13_data);        \n",
       "    }\n",
       "    \n",
       "</script>\n",
       "\n",
       "<div id=\"jugle_chart_13_dashboard_div_id\">\n",
       "\t<div id=\"google_filter_1_div_id\"></div>\n",
       "\t<div id=\"google_chart_13_div_id\" ></div>\n",
       "</div>\n"
      ],
      "text/plain": [
       "<IPython.core.display.HTML object>"
      ]
     },
     "metadata": {},
     "output_type": "display_data"
    }
   ],
   "source": [
    "chart = JoogleChart(sweets_df)\n",
    "filter = Filter('NumberRangeFilter')\n",
    "filter.add_options(filterColumnIndex=1)\n",
    "filter.add_state(lowValue=40, highValue=55)\n",
    "chart.add_filter(filter)\n",
    "chart.show()\n",
    "\n"
   ]
  },
  {
   "cell_type": "markdown",
   "metadata": {},
   "source": [
    "## Two filters"
   ]
  },
  {
   "cell_type": "code",
   "execution_count": 19,
   "metadata": {
    "collapsed": false
   },
   "outputs": [
    {
     "data": {
      "text/html": [
       "\n",
       "\n",
       "\n",
       "<script type=\"text/javascript\">\n",
       "\n",
       "    // Check if google jsapi is already loaded.  If not, load it.\n",
       "    if (typeof window.google == 'undefined') {\n",
       "        jQuery.getScript('https://www.google.com/jsapi', function( data, textStatus, jqxhr) {\n",
       "            google_loader_14();\n",
       "        });\n",
       "    } else {\n",
       "        google_loader_14();\n",
       "    }\n",
       "\n",
       "    // load visualization library    \n",
       "    function google_loader_14() {\n",
       "\t\tgoogle.load('visualization', '1.0', {'packages':['controls'], 'callback': doStuff_14});\n",
       "    }\n",
       "    function doStuff_14() {\n",
       "    \n",
       "\n",
       "        // Create DataTable object from DataTable constructor or arrayToDatable()\n",
       "        var jugle_chart_14_data = new google.visualization.arrayToDataTable([['Cat1', 'Cat2', 'count'], ['1', 'a', 34], ['1', 'b', 23], ['1', 'k', 84], ['2', 'a', 62], ['2', 'm', 46], ['2', 'c', 68], ['3', 'g', 24], ['3', 'b', 86], ['3', 'c', 45]])\n",
       "        \n",
       "        // Add formatters, if any\n",
       "\n",
       "        // Create ChartWrapper\n",
       "        var google_chart_14 = new google.visualization.ChartWrapper({      \n",
       "            \"containerId\": \"google_chart_14_div_id\",\n",
       "            \"dataTable\": jugle_chart_14_data,\n",
       "            \"chartType\": \"Table\",\n",
       "            \"options\": {}\n",
       "        });\n",
       "\t\t\n",
       "        // Create a dashboard.\n",
       "        var jugle_chart_14_dashboard = new google.visualization.Dashboard(\n",
       "            document.getElementById('jugle_chart_14_dashboard_div_id'));\n",
       "\n",
       "        // Create controls\n",
       "        var google_filter_2 = new google.visualization.ControlWrapper({\n",
       "          'controlType': 'CategoryFilter',\n",
       "          'containerId': 'google_filter_2_div_id',\n",
       "          'options': {\"ui\": {\"allowMultiple\": true}, \"filterColumnIndex\": 0},\n",
       "          'state': {}\n",
       "        });\n",
       "        var google_filter_3 = new google.visualization.ControlWrapper({\n",
       "          'controlType': 'CategoryFilter',\n",
       "          'containerId': 'google_filter_3_div_id',\n",
       "          'options': {\"ui\": {\"allowMultiple\": true}, \"filterColumnIndex\": 1},\n",
       "          'state': {}\n",
       "        });\n",
       "\n",
       "        // Establish dependencies.\n",
       "\t\tjugle_chart_14_dashboard.bind(google_filter_2, google_filter_3);\n",
       "\t\tjugle_chart_14_dashboard.bind(google_filter_3, google_chart_14);\n",
       "\n",
       "        // Draw the dashboard.\n",
       "        jugle_chart_14_dashboard.draw(jugle_chart_14_data);        \n",
       "    }\n",
       "    \n",
       "</script>\n",
       "\n",
       "<div id=\"jugle_chart_14_dashboard_div_id\">\n",
       "\t<div id=\"google_filter_2_div_id\"></div>\n",
       "\t<div id=\"google_filter_3_div_id\"></div>\n",
       "\t<div id=\"google_chart_14_div_id\" ></div>\n",
       "</div>\n"
      ],
      "text/plain": [
       "<IPython.core.display.HTML object>"
      ]
     },
     "metadata": {},
     "output_type": "display_data"
    }
   ],
   "source": [
    "list1 = []\n",
    "list1.append(['Cat1', 'Cat2', 'count'])\n",
    "list1.append(['1', 'a', 34])\n",
    "list1.append(['1', 'b', 23])\n",
    "list1.append(['1', 'k', 84])\n",
    "list1.append(['2', 'a', 62])\n",
    "list1.append(['2', 'm', 46])\n",
    "list1.append(['2', 'c', 68])\n",
    "list1.append(['3', 'g', 24])\n",
    "list1.append(['3', 'b', 86])\n",
    "list1.append(['3', 'c', 45])\n",
    "\n",
    "chart = JoogleChart(list1)\n",
    "\n",
    "filter1 = Filter(type=\"CategoryFilter\")\n",
    "filter1.add_options(filterColumnIndex=0, ui_allowMultiple=True, ui_allowNone=True)\n",
    "filter2 = Filter(type=\"CategoryFilter\")\n",
    "filter2.add_options(filterColumnIndex=1, ui_allowMultiple=True, ui_allowNone=True)\n",
    "\n",
    "chart.add_filter(filter1)\n",
    "chart.add_filter(filter2)\n",
    "\n",
    "filter1.bind_filter(filter2)\n",
    "\n",
    "chart.show('Table')"
   ]
  },
  {
   "cell_type": "markdown",
   "metadata": {},
   "source": [
    "# Additional chart"
   ]
  },
  {
   "cell_type": "code",
   "execution_count": 20,
   "metadata": {
    "collapsed": false
   },
   "outputs": [
    {
     "data": {
      "text/html": [
       "\n",
       "\n",
       "\n",
       "<script type=\"text/javascript\">\n",
       "\n",
       "    // Check if google jsapi is already loaded.  If not, load it.\n",
       "    if (typeof window.google == 'undefined') {\n",
       "        jQuery.getScript('https://www.google.com/jsapi', function( data, textStatus, jqxhr) {\n",
       "            google_loader_15();\n",
       "        });\n",
       "    } else {\n",
       "        google_loader_15();\n",
       "    }\n",
       "\n",
       "    // load visualization library    \n",
       "    function google_loader_15() {\n",
       "    \n",
       "        google.load('visualization', '1.0', {'callback': doStuff_15});\n",
       "    }\n",
       "    function doStuff_15() {\n",
       "    \n",
       "\n",
       "        // Create DataTable object from DataTable constructor or arrayToDatable()\n",
       "        var jugle_chart_15_data = new google.visualization.DataTable({\"rows\":[{\"c\":[{\"v\":\"New York\"},{\"v\":29},{\"v\":12}]},{\"c\":[{\"v\":\"Chicago\"},{\"v\":45},{\"v\":32}]},{\"c\":[{\"v\":\"Dallas\"},{\"v\":62},{\"v\":5}]},{\"c\":[{\"v\":\"Boston\"},{\"v\":50},{\"v\":20}]}],\"cols\":[{\"type\":\"string\",\"id\":\"cities\",\"label\":\"cities\"},{\"type\":\"number\",\"id\":\"cakes\",\"label\":\"cakes\"},{\"type\":\"number\",\"id\":\"pies\",\"label\":\"pies\"}]});\n",
       "        \n",
       "        // Add formatters, if any\n",
       "\n",
       "        // Create ChartWrapper\n",
       "        var google_chart_15 = new google.visualization.ChartWrapper({      \n",
       "            \"containerId\": \"google_chart_15_div_id\",\n",
       "            \"dataTable\": jugle_chart_15_data,\n",
       "            \"view\": {columns: [0, 1]},  \n",
       "            \"chartType\": \"BarChart\",\n",
       "            \"options\": {}\n",
       "        });\n",
       "        var google_chart_16 = new google.visualization.ChartWrapper({      \n",
       "            \"containerId\": \"google_chart_16_div_id\",\n",
       "            \"dataTable\": jugle_chart_15_data,\n",
       "            \"view\": {columns: [0, 2]},  \n",
       "            \"chartType\": \"ColumnChart\",\n",
       "            \"options\": {}\n",
       "        });\n",
       "\t\t\n",
       "        \n",
       "        google_chart_15.draw();\n",
       "        \n",
       "        \n",
       "        google_chart_16.draw();\n",
       "        \n",
       "        \n",
       "    }\n",
       "    \n",
       "</script>\n",
       "\n",
       "<div id=\"google_chart_15_div_id\" ></div>\n",
       "<div id=\"google_chart_16_div_id\" ></div>\n",
       "\n"
      ],
      "text/plain": [
       "<IPython.core.display.HTML object>"
      ]
     },
     "metadata": {},
     "output_type": "display_data"
    }
   ],
   "source": [
    "chart = JoogleChart(sweets_df)\n",
    "chart.set_chart_type(\"BarChart\")\n",
    "chart.set_view_cols([0, 1])\n",
    "# chart.show()\n",
    "\n",
    "c2 = _Chart(\"ColumnChart\")\n",
    "c2.set_view_cols([0, 2])\n",
    "chart._add_chart(c2)\n",
    "\n",
    "\n",
    "chart.show()\n"
   ]
  },
  {
   "cell_type": "markdown",
   "metadata": {
    "collapsed": true
   },
   "source": [
    "## Additional chart with filtering"
   ]
  },
  {
   "cell_type": "code",
   "execution_count": 21,
   "metadata": {
    "collapsed": false
   },
   "outputs": [
    {
     "data": {
      "text/html": [
       "\n",
       "\n",
       "\n",
       "<script type=\"text/javascript\">\n",
       "\n",
       "    // Check if google jsapi is already loaded.  If not, load it.\n",
       "    if (typeof window.google == 'undefined') {\n",
       "        jQuery.getScript('https://www.google.com/jsapi', function( data, textStatus, jqxhr) {\n",
       "            google_loader_16();\n",
       "        });\n",
       "    } else {\n",
       "        google_loader_16();\n",
       "    }\n",
       "\n",
       "    // load visualization library    \n",
       "    function google_loader_16() {\n",
       "\t\tgoogle.load('visualization', '1.0', {'packages':['controls'], 'callback': doStuff_16});\n",
       "    }\n",
       "    function doStuff_16() {\n",
       "    \n",
       "\n",
       "        // Create DataTable object from DataTable constructor or arrayToDatable()\n",
       "        var jugle_chart_16_data = new google.visualization.arrayToDataTable([['Cat1', 'Cat2', 'widgets', 'doodads'], ['A', 'a', 34, 24], ['B', 'b', 23, 54], ['C', 'k', 84, 35], ['D', 'a', 62, 86], ['E', 'm', 46, 35], ['F', 'c', 68, 63], ['G', 'g', 24, 64], ['H', 'b', 86, 24], ['I', 'c', 45, 94]])\n",
       "        \n",
       "        // Add formatters, if any\n",
       "\n",
       "        // Create ChartWrapper\n",
       "        var google_chart_17 = new google.visualization.ChartWrapper({      \n",
       "            \"containerId\": \"google_chart_17_div_id\",\n",
       "            \"dataTable\": jugle_chart_16_data,\n",
       "            \"view\": {columns: [0, 2]},  \n",
       "            \"chartType\": \"ColumnChart\",\n",
       "            \"options\": {}\n",
       "        });\n",
       "        var google_chart_18 = new google.visualization.ChartWrapper({      \n",
       "            \"containerId\": \"google_chart_18_div_id\",\n",
       "            \"dataTable\": jugle_chart_16_data,\n",
       "            \"view\": {columns: [0, 3]},  \n",
       "            \"chartType\": \"ColumnChart\",\n",
       "            \"options\": {\"colors\": [\"#354684\"]}\n",
       "        });\n",
       "\t\t\n",
       "        // Create a dashboard.\n",
       "        var jugle_chart_16_dashboard = new google.visualization.Dashboard(\n",
       "            document.getElementById('jugle_chart_16_dashboard_div_id'));\n",
       "\n",
       "        // Create controls\n",
       "        var google_filter_4 = new google.visualization.ControlWrapper({\n",
       "          'controlType': 'CategoryFilter',\n",
       "          'containerId': 'google_filter_4_div_id',\n",
       "          'options': {\"ui\": {\"allowMultiple\": true}, \"filterColumnIndex\": 0},\n",
       "          'state': {}\n",
       "        });\n",
       "        var google_filter_5 = new google.visualization.ControlWrapper({\n",
       "          'controlType': 'CategoryFilter',\n",
       "          'containerId': 'google_filter_5_div_id',\n",
       "          'options': {\"ui\": {\"allowMultiple\": true}, \"filterColumnIndex\": 1},\n",
       "          'state': {}\n",
       "        });\n",
       "\n",
       "        // Establish dependencies.\n",
       "\t\tjugle_chart_16_dashboard.bind(google_filter_4, google_chart_17);\n",
       "\t\tjugle_chart_16_dashboard.bind(google_filter_4, google_chart_18);\n",
       "\t\tjugle_chart_16_dashboard.bind(google_filter_5, google_chart_17);\n",
       "\t\tjugle_chart_16_dashboard.bind(google_filter_5, google_chart_18);\n",
       "\n",
       "        // Draw the dashboard.\n",
       "        jugle_chart_16_dashboard.draw(jugle_chart_16_data);        \n",
       "    }\n",
       "    \n",
       "</script>\n",
       "\n",
       "<div id=\"jugle_chart_16_dashboard_div_id\">\n",
       "\t<div id=\"google_filter_4_div_id\"></div>\n",
       "\t<div id=\"google_filter_5_div_id\"></div>\n",
       "\t<div id=\"google_chart_17_div_id\" ></div>\n",
       "\t<div id=\"google_chart_18_div_id\" ></div>\n",
       "</div>\n"
      ],
      "text/plain": [
       "<IPython.core.display.HTML object>"
      ]
     },
     "metadata": {},
     "output_type": "display_data"
    }
   ],
   "source": [
    "list1 = []\n",
    "list1.append(['Cat1', 'Cat2', 'widgets', 'doodads'])\n",
    "list1.append(['A', 'a', 34, 24])\n",
    "list1.append(['B', 'b', 23, 54])\n",
    "list1.append(['C', 'k', 84, 35])\n",
    "list1.append(['D', 'a', 62, 86])\n",
    "list1.append(['E', 'm', 46, 35])\n",
    "list1.append(['F', 'c', 68, 63])\n",
    "list1.append(['G', 'g', 24, 64])\n",
    "list1.append(['H', 'b', 86, 24])\n",
    "list1.append(['I', 'c', 45, 94])\n",
    "\n",
    "chart = JoogleChart(list1)\n",
    "chart.set_view_cols([0, 2])\n",
    "filter1 = Filter(type=\"CategoryFilter\")\n",
    "filter1.add_options(filterColumnIndex=0, ui_allowMultiple=True, ui_allowNone=True)\n",
    "filter2 = Filter(type=\"CategoryFilter\")\n",
    "filter2.add_options(filterColumnIndex=1, ui_allowMultiple=True, ui_allowNone=True)\n",
    "\n",
    "chart.add_filter(filter1)\n",
    "chart.add_filter(filter2)\n",
    "\n",
    "c2 = _Chart()\n",
    "c2.set_view_cols([0, 3])\n",
    "c2.add_chart_options(colors = ['#354684'])\n",
    "\n",
    "chart._add_chart(c2)\n",
    "\n",
    "chart.show()"
   ]
  },
  {
   "cell_type": "code",
   "execution_count": null,
   "metadata": {
    "collapsed": true
   },
   "outputs": [],
   "source": []
  },
  {
   "cell_type": "markdown",
   "metadata": {
    "collapsed": true
   },
   "source": [
    "# Chart Rows"
   ]
  },
  {
   "cell_type": "markdown",
   "metadata": {},
   "source": [
    "## Charts without filters"
   ]
  },
  {
   "cell_type": "code",
   "execution_count": 22,
   "metadata": {
    "collapsed": false
   },
   "outputs": [
    {
     "data": {
      "text/html": [
       "<script type=\"text/javascript\">\n",
       "\n",
       "    // Check if google jsapi is already loaded.  If not, load it.\n",
       "    if (typeof window.google == 'undefined') {\n",
       "        jQuery.getScript('https://www.google.com/jsapi', function( data, textStatus, jqxhr) {\n",
       "            google_loader_17();\n",
       "        });\n",
       "    } else {\n",
       "        google_loader_17();\n",
       "    }\n",
       "\n",
       "    // load visualization library    \n",
       "    function google_loader_17() {\n",
       "    \n",
       "        google.load('visualization', '1.0', {'callback': doStuff_17});\n",
       "    }\n",
       "    function doStuff_17() {\n",
       "    \n",
       "\t// ==================== CHARTROW CHART 1 ============================= //\n",
       "        // Create DataTable object from DataTable constructor or arrayToDatable()\n",
       "        var jugle_chart_18_data = new google.visualization.DataTable({\"rows\":[{\"c\":[{\"v\":\"New York\"},{\"v\":29}]},{\"c\":[{\"v\":\"Chicago\"},{\"v\":45}]},{\"c\":[{\"v\":\"Dallas\"},{\"v\":62}]},{\"c\":[{\"v\":\"Boston\"},{\"v\":50}]}],\"cols\":[{\"type\":\"string\",\"id\":\"cities\",\"label\":\"cities\"},{\"type\":\"number\",\"id\":\"cakes\",\"label\":\"cakes\"}]});\n",
       "\t\n",
       "        // Create ChartWrapper\n",
       "        var google_chart_19 = new google.visualization.ChartWrapper({      \n",
       "            \"containerId\": \"google_chart_19_div_id\",\n",
       "            \"dataTable\": jugle_chart_18_data,\n",
       "            \"chartType\": \"ColumnChart\",\n",
       "            \"options\": {\"chartArea\": {\"width\": \"60%\"}}\n",
       "        });\n",
       "\t\t\t\n",
       "\t        \n",
       "        \n",
       "        \t\t\tgoogle_chart_19.draw();\n",
       "        \n",
       "\t// ==================================================================== //\n",
       "\t        \n",
       "\t// ==================== CHARTROW CHART 2 ============================= //\n",
       "        // Create DataTable object from DataTable constructor or arrayToDatable()\n",
       "        var jugle_chart_19_data = new google.visualization.DataTable({\"rows\":[{\"c\":[{\"v\":\"New York\"},{\"v\":29}]},{\"c\":[{\"v\":\"Chicago\"},{\"v\":45}]},{\"c\":[{\"v\":\"Dallas\"},{\"v\":62}]},{\"c\":[{\"v\":\"Boston\"},{\"v\":50}]}],\"cols\":[{\"type\":\"string\",\"id\":\"cities\",\"label\":\"cities\"},{\"type\":\"number\",\"id\":\"cakes\",\"label\":\"cakes\"}]});\n",
       "\t\n",
       "        // Create ChartWrapper\n",
       "        var google_chart_20 = new google.visualization.ChartWrapper({      \n",
       "            \"containerId\": \"google_chart_20_div_id\",\n",
       "            \"dataTable\": jugle_chart_19_data,\n",
       "            \"chartType\": \"PieChart\",\n",
       "            \"options\": {\"chartArea\": {\"width\": \"100%\"}}\n",
       "        });\n",
       "\t\t\t\n",
       "\t        \n",
       "        \n",
       "        \t\t\tgoogle_chart_20.draw();\n",
       "        \n",
       "\t// ==================================================================== //\n",
       "\t        \n",
       "\t// ==================== CHARTROW CHART 3 ============================= //\n",
       "        // Create DataTable object from DataTable constructor or arrayToDatable()\n",
       "        var jugle_chart_20_data = new google.visualization.DataTable({\"rows\":[{\"c\":[{\"v\":\"New York\"},{\"v\":29}]},{\"c\":[{\"v\":\"Chicago\"},{\"v\":45}]},{\"c\":[{\"v\":\"Dallas\"},{\"v\":62}]},{\"c\":[{\"v\":\"Boston\"},{\"v\":50}]}],\"cols\":[{\"type\":\"string\",\"id\":\"cities\",\"label\":\"cities\"},{\"type\":\"number\",\"id\":\"cakes\",\"label\":\"cakes\"}]});\n",
       "\t\n",
       "        // Create ChartWrapper\n",
       "        var google_chart_21 = new google.visualization.ChartWrapper({      \n",
       "            \"containerId\": \"google_chart_21_div_id\",\n",
       "            \"dataTable\": jugle_chart_20_data,\n",
       "            \"chartType\": \"LineChart\",\n",
       "            \"options\": {\"chartArea\": {\"width\": \"50%\"}}\n",
       "        });\n",
       "\t\t\t\n",
       "\t        \n",
       "        \n",
       "        \t\t\tgoogle_chart_21.draw();\n",
       "        \n",
       "\t// ==================================================================== //\n",
       "\t        \n",
       "\t// ==================== CHARTROW CHART 4 ============================= //\n",
       "        // Create DataTable object from DataTable constructor or arrayToDatable()\n",
       "        var jugle_chart_21_data = new google.visualization.DataTable({\"rows\":[{\"c\":[{\"v\":\"New York\"},{\"v\":29}]},{\"c\":[{\"v\":\"Chicago\"},{\"v\":45}]},{\"c\":[{\"v\":\"Dallas\"},{\"v\":62}]},{\"c\":[{\"v\":\"Boston\"},{\"v\":50}]}],\"cols\":[{\"type\":\"string\",\"id\":\"cities\",\"label\":\"cities\"},{\"type\":\"number\",\"id\":\"cakes\",\"label\":\"cakes\"}]});\n",
       "\t\n",
       "        // Create ChartWrapper\n",
       "        var google_chart_22 = new google.visualization.ChartWrapper({      \n",
       "            \"containerId\": \"google_chart_22_div_id\",\n",
       "            \"dataTable\": jugle_chart_21_data,\n",
       "            \"chartType\": \"ColumnChart\",\n",
       "            \"options\": {\"chartArea\": {\"width\": \"50%\"}}\n",
       "        });\n",
       "\t\t\t\n",
       "\t        \n",
       "        \n",
       "        \t\t\tgoogle_chart_22.draw();\n",
       "        \n",
       "\t// ==================================================================== //\n",
       "\t        \n",
       "    }\n",
       "    \n",
       "</script>\n",
       "<div class=\"row\">\n",
       "\t<div class=\"col-sm-3\">\n",
       "<div id=\"google_chart_19_div_id\" ></div>\n",
       "\t</div>\n",
       "\t<div class=\"col-sm-3\">\n",
       "<div id=\"google_chart_20_div_id\" ></div>\n",
       "\t</div>\n",
       "\t<div class=\"col-sm-3\">\n",
       "<div id=\"google_chart_21_div_id\" ></div>\n",
       "\t</div>\n",
       "\t<div class=\"col-sm-3\">\n",
       "<div id=\"google_chart_22_div_id\" ></div>\n",
       "\t</div>\n",
       "</div>\n",
       "\n"
      ],
      "text/plain": [
       "<IPython.core.display.HTML object>"
      ]
     },
     "metadata": {},
     "output_type": "display_data"
    }
   ],
   "source": [
    "chart1 = JoogleChart(sweets_df.cities, sweets_df.cakes)\n",
    "chart2 = chart1.copy()\n",
    "chart3 = chart1.copy()\n",
    "chart4 = chart1.copy()\n",
    "\n",
    "chart2.set_chart_type(\"PieChart\")\n",
    "chart3.set_chart_type(\"LineChart\")\n",
    "chart4.set_chart_type=(\"AreaChart\")\n",
    "\n",
    "chart1.add_chart_options(chartArea_width=\"60%\")\n",
    "chart2.add_chart_options(chartArea_width=\"100%\")\n",
    "chart3.add_chart_options(chartArea_width=\"50%\")\n",
    "chart4.add_chart_options(chartArea_width=\"50%\")\n",
    "\n",
    "row = ChartRow(chart1, chart2, chart3, chart4)\n",
    "# row = ChartRow(chart1, chart2, chart3)\n",
    "\n",
    "row.show()"
   ]
  },
  {
   "cell_type": "code",
   "execution_count": null,
   "metadata": {
    "collapsed": true
   },
   "outputs": [],
   "source": []
  },
  {
   "cell_type": "markdown",
   "metadata": {},
   "source": [
    "## Charts with filters"
   ]
  },
  {
   "cell_type": "code",
   "execution_count": 23,
   "metadata": {
    "collapsed": false,
    "scrolled": true
   },
   "outputs": [
    {
     "data": {
      "text/html": [
       "<script type=\"text/javascript\">\n",
       "\n",
       "    // Check if google jsapi is already loaded.  If not, load it.\n",
       "    if (typeof window.google == 'undefined') {\n",
       "        jQuery.getScript('https://www.google.com/jsapi', function( data, textStatus, jqxhr) {\n",
       "            google_loader_22();\n",
       "        });\n",
       "    } else {\n",
       "        google_loader_22();\n",
       "    }\n",
       "\n",
       "    // load visualization library    \n",
       "    function google_loader_22() {\n",
       "\t\tgoogle.load('visualization', '1.0', {'packages':['controls'], 'callback': doStuff_22});\n",
       "    }\n",
       "    function doStuff_22() {\n",
       "    \n",
       "\t// ==================== CHARTROW CHART 1 ============================= //\n",
       "        // Create DataTable object from DataTable constructor or arrayToDatable()\n",
       "        var jugle_chart_23_data = new google.visualization.DataTable({\"rows\":[{\"c\":[{\"v\":\"New York\"},{\"v\":29}]},{\"c\":[{\"v\":\"Chicago\"},{\"v\":45}]},{\"c\":[{\"v\":\"Dallas\"},{\"v\":62}]},{\"c\":[{\"v\":\"Boston\"},{\"v\":50}]}],\"cols\":[{\"type\":\"string\",\"id\":\"cities\",\"label\":\"cities\"},{\"type\":\"number\",\"id\":\"cakes\",\"label\":\"cakes\"}]});\n",
       "\t\n",
       "        // Create ChartWrapper\n",
       "        var google_chart_23 = new google.visualization.ChartWrapper({      \n",
       "            \"containerId\": \"google_chart_23_div_id\",\n",
       "            \"dataTable\": jugle_chart_23_data,\n",
       "            \"chartType\": \"ColumnChart\",\n",
       "            \"options\": {\"chartArea\": {\"width\": \"60%\"}}\n",
       "        });\n",
       "\t\t\t\n",
       "\t        \n",
       "        \n",
       "        \t\t\tgoogle_chart_23.draw();\n",
       "        \n",
       "\t// ==================================================================== //\n",
       "\t        \n",
       "\t// ==================== CHARTROW CHART 2 ============================= //\n",
       "        // Create DataTable object from DataTable constructor or arrayToDatable()\n",
       "        var jugle_chart_24_data = new google.visualization.DataTable({\"rows\":[{\"c\":[{\"v\":\"New York\"},{\"v\":29}]},{\"c\":[{\"v\":\"Chicago\"},{\"v\":45}]},{\"c\":[{\"v\":\"Dallas\"},{\"v\":62}]},{\"c\":[{\"v\":\"Boston\"},{\"v\":50}]}],\"cols\":[{\"type\":\"string\",\"id\":\"cities\",\"label\":\"cities\"},{\"type\":\"number\",\"id\":\"cakes\",\"label\":\"cakes\"}]});\n",
       "\t\n",
       "        // Create ChartWrapper\n",
       "        var google_chart_24 = new google.visualization.ChartWrapper({      \n",
       "            \"containerId\": \"google_chart_24_div_id\",\n",
       "            \"dataTable\": jugle_chart_24_data,\n",
       "            \"chartType\": \"PieChart\",\n",
       "            \"options\": {\"chartArea\": {\"width\": \"100%\"}}\n",
       "        });\n",
       "\t\t\t\n",
       "        // Create a dashboard.\n",
       "        var jugle_chart_24_dashboard = new google.visualization.Dashboard(\n",
       "            document.getElementById('jugle_chart_24_dashboard_div_id'));\n",
       "\n",
       "        // Create controls\n",
       "        var google_filter_6 = new google.visualization.ControlWrapper({\n",
       "          'controlType': 'NumberRangeFilter',\n",
       "          'containerId': 'google_filter_6_div_id',\n",
       "          'options': {\"filterColumnIndex\": 1},\n",
       "          'state': {}\n",
       "        });\n",
       "\n",
       "        // Establish dependencies.\n",
       "\t\tjugle_chart_24_dashboard.bind(google_filter_6, google_chart_24);\n",
       "\n",
       "        // Draw the dashboard.\n",
       "        jugle_chart_24_dashboard.draw(jugle_chart_24_data);\t// ==================================================================== //\n",
       "\t        \n",
       "\t// ==================== CHARTROW CHART 3 ============================= //\n",
       "        // Create DataTable object from DataTable constructor or arrayToDatable()\n",
       "        var jugle_chart_25_data = new google.visualization.arrayToDataTable([['Cat1', 'Cat2', 'widgets', 'doodads'], ['A', 'a', 34, 24], ['B', 'b', 23, 54], ['C', 'k', 84, 35], ['D', 'a', 62, 86], ['E', 'm', 46, 35], ['F', 'c', 68, 63], ['G', 'g', 24, 64], ['H', 'b', 86, 24], ['I', 'c', 45, 94]])\n",
       "\t\n",
       "        // Create ChartWrapper\n",
       "        var google_chart_25 = new google.visualization.ChartWrapper({      \n",
       "            \"containerId\": \"google_chart_25_div_id\",\n",
       "            \"dataTable\": jugle_chart_25_data,\n",
       "            \"chartType\": \"Table\",\n",
       "            \"options\": {\"chartArea\": {\"width\": \"50%\"}}\n",
       "        });\n",
       "\t\t\t\n",
       "        // Create a dashboard.\n",
       "        var jugle_chart_25_dashboard = new google.visualization.Dashboard(\n",
       "            document.getElementById('jugle_chart_25_dashboard_div_id'));\n",
       "\n",
       "        // Create controls\n",
       "        var google_filter_7 = new google.visualization.ControlWrapper({\n",
       "          'controlType': 'CategoryFilter',\n",
       "          'containerId': 'google_filter_7_div_id',\n",
       "          'options': {\"ui\": {\"allowMultiple\": true}, \"filterColumnIndex\": 0},\n",
       "          'state': {}\n",
       "        });\n",
       "        var google_filter_8 = new google.visualization.ControlWrapper({\n",
       "          'controlType': 'CategoryFilter',\n",
       "          'containerId': 'google_filter_8_div_id',\n",
       "          'options': {\"ui\": {\"allowMultiple\": true}, \"filterColumnIndex\": 1},\n",
       "          'state': {}\n",
       "        });\n",
       "\n",
       "        // Establish dependencies.\n",
       "\t\tjugle_chart_25_dashboard.bind(google_filter_7, google_filter_8);\n",
       "\t\tjugle_chart_25_dashboard.bind(google_filter_8, google_chart_25);\n",
       "\n",
       "        // Draw the dashboard.\n",
       "        jugle_chart_25_dashboard.draw(jugle_chart_25_data);\t// ==================================================================== //\n",
       "\t        \n",
       "    }\n",
       "    \n",
       "</script>\n",
       "<div class=\"row\">\n",
       "\t<div class=\"col-sm-4\">\n",
       "<div id=\"google_chart_23_div_id\" ></div>\n",
       "\t</div>\n",
       "\t<div class=\"col-sm-4\">\n",
       "<div id=\"jugle_chart_24_dashboard_div_id\">\n",
       "\t<div id=\"google_filter_6_div_id\"></div>\n",
       "\t<div id=\"google_chart_24_div_id\" ></div>\n",
       "</div>\t</div>\n",
       "\t<div class=\"col-sm-4\">\n",
       "<div id=\"jugle_chart_25_dashboard_div_id\">\n",
       "\t<div id=\"google_filter_7_div_id\"></div>\n",
       "\t<div id=\"google_filter_8_div_id\"></div>\n",
       "\t<div id=\"google_chart_25_div_id\" ></div>\n",
       "</div>\t</div>\n",
       "</div>\n",
       "\n"
      ],
      "text/plain": [
       "<IPython.core.display.HTML object>"
      ]
     },
     "metadata": {},
     "output_type": "display_data"
    }
   ],
   "source": [
    "chart1 = JoogleChart(sweets_df.cities, sweets_df.cakes)\n",
    "chart2 = chart1.copy()\n",
    "chart3 = JoogleChart(list1)\n",
    "\n",
    "chart2.set_chart_type(\"PieChart\")\n",
    "chart3.set_chart_type(\"Table\")\n",
    "# chart4.chart_type=\"AreaChart\"\n",
    "\n",
    "chart1.add_chart_options(chartArea_width=\"60%\")\n",
    "chart2.add_chart_options(chartArea_width=\"100%\")\n",
    "chart3.add_chart_options(chartArea_width=\"50%\")\n",
    "# chart4.add_chart_options(chartArea_width=\"50%\")\n",
    "\n",
    "filter3a = Filter(type=\"CategoryFilter\")\n",
    "filter3a.add_options(filterColumnIndex=0, ui_allowMultiple=True, ui_allowNone=True)\n",
    "filter3b = Filter(type=\"CategoryFilter\")\n",
    "filter3b.add_options(filterColumnIndex=1, ui_allowMultiple=True, ui_allowNone=True)\n",
    "chart3.add_filter(filter3a)\n",
    "chart3.add_filter(filter3b)\n",
    "filter3a.bind_filter(filter3b)\n",
    "\n",
    "filter2 = Filter(\"NumberRangeFilter\")\n",
    "filter2.add_options(filterColumnIndex=1)\n",
    "chart2.add_filter(filter2)\n",
    "\n",
    "# row = ChartRow(chart1, chart2, chart3, chart4)\n",
    "row = ChartRow(chart1, chart2, chart3)\n",
    "\n",
    "row.show()"
   ]
  },
  {
   "cell_type": "markdown",
   "metadata": {},
   "source": [
    "## chart row with extra chart"
   ]
  },
  {
   "cell_type": "code",
   "execution_count": 24,
   "metadata": {
    "collapsed": false
   },
   "outputs": [
    {
     "data": {
      "text/html": [
       "<script type=\"text/javascript\">\n",
       "\n",
       "    // Check if google jsapi is already loaded.  If not, load it.\n",
       "    if (typeof window.google == 'undefined') {\n",
       "        jQuery.getScript('https://www.google.com/jsapi', function( data, textStatus, jqxhr) {\n",
       "            google_loader_26();\n",
       "        });\n",
       "    } else {\n",
       "        google_loader_26();\n",
       "    }\n",
       "\n",
       "    // load visualization library    \n",
       "    function google_loader_26() {\n",
       "    \n",
       "        google.load('visualization', '1.0', {'callback': doStuff_26});\n",
       "    }\n",
       "    function doStuff_26() {\n",
       "    \n",
       "\t// ==================== CHARTROW CHART 1 ============================= //\n",
       "        // Create DataTable object from DataTable constructor or arrayToDatable()\n",
       "        var jugle_chart_27_data = new google.visualization.DataTable({\"rows\":[{\"c\":[{\"v\":\"New York\"},{\"v\":29}]},{\"c\":[{\"v\":\"Chicago\"},{\"v\":45}]},{\"c\":[{\"v\":\"Dallas\"},{\"v\":62}]},{\"c\":[{\"v\":\"Boston\"},{\"v\":50}]}],\"cols\":[{\"type\":\"string\",\"id\":\"cities\",\"label\":\"cities\"},{\"type\":\"number\",\"id\":\"cakes\",\"label\":\"cakes\"}]});\n",
       "\t\n",
       "        // Create ChartWrapper\n",
       "        var google_chart_26 = new google.visualization.ChartWrapper({      \n",
       "            \"containerId\": \"google_chart_26_div_id\",\n",
       "            \"dataTable\": jugle_chart_27_data,\n",
       "            \"chartType\": \"ColumnChart\",\n",
       "            \"options\": {\"chartArea\": {\"width\": \"60%\"}}\n",
       "        });\n",
       "        var google_chart_27 = new google.visualization.ChartWrapper({      \n",
       "            \"containerId\": \"google_chart_27_div_id\",\n",
       "            \"dataTable\": jugle_chart_27_data,\n",
       "            \"chartType\": \"BarChart\",\n",
       "            \"options\": {}\n",
       "        });\n",
       "\t\t\t\n",
       "\t        \n",
       "        \n",
       "        \t\t\tgoogle_chart_26.draw();\n",
       "        \n",
       "        \n",
       "        \t\t\tgoogle_chart_27.draw();\n",
       "        \n",
       "\t// ==================================================================== //\n",
       "\t        \n",
       "\t// ==================== CHARTROW CHART 2 ============================= //\n",
       "        // Create DataTable object from DataTable constructor or arrayToDatable()\n",
       "        var jugle_chart_28_data = new google.visualization.DataTable({\"rows\":[{\"c\":[{\"v\":\"New York\"},{\"v\":29}]},{\"c\":[{\"v\":\"Chicago\"},{\"v\":45}]},{\"c\":[{\"v\":\"Dallas\"},{\"v\":62}]},{\"c\":[{\"v\":\"Boston\"},{\"v\":50}]}],\"cols\":[{\"type\":\"string\",\"id\":\"cities\",\"label\":\"cities\"},{\"type\":\"number\",\"id\":\"cakes\",\"label\":\"cakes\"}]});\n",
       "\t\n",
       "        // Create ChartWrapper\n",
       "        var google_chart_28 = new google.visualization.ChartWrapper({      \n",
       "            \"containerId\": \"google_chart_28_div_id\",\n",
       "            \"dataTable\": jugle_chart_28_data,\n",
       "            \"chartType\": \"PieChart\",\n",
       "            \"options\": {\"chartArea\": {\"width\": \"100%\"}}\n",
       "        });\n",
       "\t\t\t\n",
       "\t        \n",
       "        \n",
       "        \t\t\tgoogle_chart_28.draw();\n",
       "        \n",
       "\t// ==================================================================== //\n",
       "\t        \n",
       "\t// ==================== CHARTROW CHART 3 ============================= //\n",
       "        // Create DataTable object from DataTable constructor or arrayToDatable()\n",
       "        var jugle_chart_29_data = new google.visualization.arrayToDataTable([['Cat1', 'Cat2', 'widgets', 'doodads'], ['A', 'a', 34, 24], ['B', 'b', 23, 54], ['C', 'k', 84, 35], ['D', 'a', 62, 86], ['E', 'm', 46, 35], ['F', 'c', 68, 63], ['G', 'g', 24, 64], ['H', 'b', 86, 24], ['I', 'c', 45, 94]])\n",
       "\t\n",
       "        // Create ChartWrapper\n",
       "        var google_chart_29 = new google.visualization.ChartWrapper({      \n",
       "            \"containerId\": \"google_chart_29_div_id\",\n",
       "            \"dataTable\": jugle_chart_29_data,\n",
       "            \"chartType\": \"Table\",\n",
       "            \"options\": {\"chartArea\": {\"width\": \"50%\"}}\n",
       "        });\n",
       "\t\t\t\n",
       "\t        \n",
       "        \n",
       "        \t\t\tgoogle_chart_29.draw();\n",
       "        \n",
       "\t// ==================================================================== //\n",
       "\t        \n",
       "    }\n",
       "    \n",
       "</script>\n",
       "<div class=\"row\">\n",
       "\t<div class=\"col-sm-4\">\n",
       "<div id=\"google_chart_26_div_id\" ></div>\n",
       "<div id=\"google_chart_27_div_id\" ></div>\n",
       "\t</div>\n",
       "\t<div class=\"col-sm-4\">\n",
       "<div id=\"google_chart_28_div_id\" ></div>\n",
       "\t</div>\n",
       "\t<div class=\"col-sm-4\">\n",
       "<div id=\"google_chart_29_div_id\" ></div>\n",
       "\t</div>\n",
       "</div>\n",
       "\n"
      ],
      "text/plain": [
       "<IPython.core.display.HTML object>"
      ]
     },
     "metadata": {},
     "output_type": "display_data"
    }
   ],
   "source": [
    "chart1 = JoogleChart(sweets_df.cities, sweets_df.cakes)\n",
    "chart2 = chart1.copy()\n",
    "chart3 = JoogleChart(list1)\n",
    "\n",
    "chart2.set_chart_type(\"PieChart\")\n",
    "chart3.set_chart_type(\"Table\")\n",
    "\n",
    "chart1.add_chart_options(chartArea_width=\"60%\")\n",
    "chart2.add_chart_options(chartArea_width=\"100%\")\n",
    "chart3.add_chart_options(chartArea_width=\"50%\")\n",
    "\n",
    "c2 = _Chart(\"BarChart\")\n",
    "# c2.set_view_cols([0, 2])\n",
    "chart1._add_chart(c2)\n",
    "\n",
    "row = ChartRow(chart1, chart2, chart3)\n",
    "\n",
    "row.show()"
   ]
  },
  {
   "cell_type": "markdown",
   "metadata": {
    "collapsed": true
   },
   "source": [
    "# Roles"
   ]
  },
  {
   "cell_type": "code",
   "execution_count": null,
   "metadata": {
    "collapsed": true
   },
   "outputs": [],
   "source": []
  },
  {
   "cell_type": "code",
   "execution_count": 25,
   "metadata": {
    "collapsed": false
   },
   "outputs": [
    {
     "data": {
      "text/html": [
       "\n",
       "\n",
       "\n",
       "<script type=\"text/javascript\">\n",
       "\n",
       "    // Check if google jsapi is already loaded.  If not, load it.\n",
       "    if (typeof window.google == 'undefined') {\n",
       "        jQuery.getScript('https://www.google.com/jsapi', function( data, textStatus, jqxhr) {\n",
       "            google_loader_30();\n",
       "        });\n",
       "    } else {\n",
       "        google_loader_30();\n",
       "    }\n",
       "\n",
       "    // load visualization library    \n",
       "    function google_loader_30() {\n",
       "    \n",
       "        google.load('visualization', '1.0', {'callback': doStuff_30});\n",
       "    }\n",
       "    function doStuff_30() {\n",
       "    \n",
       "\n",
       "        // Create DataTable object from DataTable constructor or arrayToDatable()\n",
       "        var jugle_chart_30_data = new google.visualization.DataTable({\"rows\": [{\"c\": [{\"v\": \"Mon\"}, {\"v\": 50}, {\"v\": 47}, {\"v\": 51}, {\"v\": \"A\"}, {\"v\": \"bar {fill-color: #c8001d; stroke-width: 3; stroke-color: #AAEEAA}\"}]}, {\"c\": [{\"v\": \"Tue\"}, {\"v\": 53}, {\"v\": 52}, {\"v\": 55}, {\"v\": \"B\"}, null]}], \"cols\": [{\"type\": \"string\", \"id\": \"day\", \"label\": \"day\"}, {\"type\": \"number\", \"id\": \"stock_value\", \"label\": \"stock_value\"}, {\"p\": {\"role\": \"interval\"}, \"type\": \"number\", \"id\": \"low\", \"label\": \"low\"}, {\"p\": {\"role\": \"interval\"}, \"type\": \"number\", \"id\": \"high\", \"label\": \"high\"}, {\"p\": {\"role\": \"annotation\"}, \"type\": \"string\", \"id\": \"annotation\", \"label\": \"annotation\"}, {\"p\": {\"role\": \"style\"}, \"type\": \"string\", \"id\": \"styles\", \"label\": \"styles\"}]});\n",
       "        \n",
       "        // Add formatters, if any\n",
       "\n",
       "        // Create ChartWrapper\n",
       "        var google_chart_30 = new google.visualization.ChartWrapper({      \n",
       "            \"containerId\": \"google_chart_30_div_id\",\n",
       "            \"dataTable\": jugle_chart_30_data,\n",
       "            \"chartType\": \"ColumnChart\",\n",
       "            \"options\": {\"chartArea\": {\"width\": \"50%\"}}\n",
       "        });\n",
       "\t\t\n",
       "        \n",
       "        google_chart_30.draw();\n",
       "        \n",
       "        \n",
       "    }\n",
       "    \n",
       "</script>\n",
       "\n",
       "<div id=\"google_chart_30_div_id\" ></div>\n",
       "\n"
      ],
      "text/plain": [
       "<IPython.core.display.HTML object>"
      ]
     },
     "metadata": {},
     "output_type": "display_data"
    }
   ],
   "source": [
    "# annotationText appears with line chart but not column chart.\n",
    "\n",
    "day = ['Mon', 'Tue']\n",
    "stock_value = [50, 53]\n",
    "low = [47, 52]\n",
    "high = [51, 55]\n",
    "annotation = ['A', 'B']\n",
    "style = 'bar {fill-color: #c8001d; stroke-width: 3; stroke-color: #AAEEAA}'\n",
    "styles = [style, None]\n",
    "stock_columns = ['day', 'stock_value', 'low', 'high', 'annotation', 'styles']\n",
    "stock_df = pd.DataFrame({'day': day, 'stock_value': stock_value, 'low': low, 'high': high,\n",
    "                         'annotation': annotation, 'styles': styles},\n",
    "                        columns=stock_columns)\n",
    "\n",
    "gchart = JoogleChart(stock_df, allow_nulls = True, chartArea_width=\"50%\")\n",
    "\n",
    "gchart.set_role(2, 'interval')\n",
    "gchart.set_role(3, 'interval')\n",
    "gchart.set_role(4, 'annotation')\n",
    "gchart.set_role(5, 'style')\n",
    "\n",
    "gchart.show()\n"
   ]
  },
  {
   "cell_type": "code",
   "execution_count": null,
   "metadata": {
    "collapsed": true
   },
   "outputs": [],
   "source": []
  }
 ],
 "metadata": {
  "kernelspec": {
   "display_name": "Python 2",
   "language": "python",
   "name": "python2"
  },
  "language_info": {
   "codemirror_mode": {
    "name": "ipython",
    "version": 2
   },
   "file_extension": ".py",
   "mimetype": "text/x-python",
   "name": "python",
   "nbconvert_exporter": "python",
   "pygments_lexer": "ipython2",
   "version": "2.7.10"
  }
 },
 "nbformat": 4,
 "nbformat_minor": 0
}
