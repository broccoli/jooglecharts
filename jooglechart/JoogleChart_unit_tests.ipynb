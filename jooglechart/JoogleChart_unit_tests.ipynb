{
 "cells": [
  {
   "cell_type": "code",
   "execution_count": null,
   "metadata": {
    "collapsed": false
   },
   "outputs": [],
   "source": [
    "import pandas as pd\n",
    "from jooglechart_api import JoogleChart, Filter, ChartRow, _Chart, SeriesFilter, SuperCategoryFilter\n",
    "from utils import get_df\n",
    "from contrib.display.bi_styles import get_styler\n",
    "\n",
    "\n",
    "import random"
   ]
  },
  {
   "cell_type": "code",
   "execution_count": null,
   "metadata": {
    "collapsed": false
   },
   "outputs": [],
   "source": [
    "# include()"
   ]
  },
  {
   "cell_type": "code",
   "execution_count": null,
   "metadata": {
    "collapsed": false
   },
   "outputs": [],
   "source": [
    "cities = ['New York', 'Chicago', 'Dallas', 'Boston']\n",
    "cakes = [29, 45, 62, 50]\n",
    "pies = [12, 32, 5, 20]\n",
    "sweets_df = pd. DataFrame({'cities': cities, 'cakes': cakes, 'pies': pies}, columns=['cities', 'cakes', 'pies'])\n",
    "\n",
    "\n",
    "dates = ['2015-01-01', '2015-01-02', '2015-01-03']\n",
    "profit = [24, 55, 76]\n",
    "loss = [12, 43, 27]\n",
    "pct = [33.9793, 65.3546, 23.543]\n",
    "columns = ['dates', 'profit', 'loss', 'pct']\n",
    "df2 = pd.DataFrame({'dates': dates, 'profit': profit, 'loss': loss, 'pct': pct}, columns=columns)\n",
    "df2.dates = pd.to_datetime(df2.dates)\n",
    "\n",
    "\n",
    "list1 = []\n",
    "list1.append(['Cat1', 'Cat2', 'count'])\n",
    "list1.append(['1', 'a', 34])\n",
    "list1.append(['1', 'b', 23])\n",
    "list1.append(['1', 'k', 84])\n",
    "list1.append(['2', 'a', 62])\n",
    "list1.append(['2', 'm', 46])\n",
    "list1.append(['2', 'c', 68])\n",
    "list1.append(['3', 'g', 24])\n",
    "list1.append(['3', 'b', 86])\n",
    "list1.append(['3', 'c', 45])\n"
   ]
  },
  {
   "cell_type": "markdown",
   "metadata": {},
   "source": [
    "# Test passing data"
   ]
  },
  {
   "cell_type": "markdown",
   "metadata": {},
   "source": [
    "## 2d array"
   ]
  },
  {
   "cell_type": "code",
   "execution_count": null,
   "metadata": {
    "collapsed": false
   },
   "outputs": [],
   "source": [
    "pets = []\n",
    "pets.append(['pets', 'count'])\n",
    "pets.append(['cats', 12])\n",
    "pets.append(['dogs', 15])\n",
    "pets.append(['lizards', 5])\n",
    "\n",
    "chart = JoogleChart(pets, chart_type=\"Table\")\n",
    "chart.show(width=\"400\")\n",
    "\n",
    "# include()\n",
    "\n",
    "# print chart.render()\n",
    "# test:  does the chart render?"
   ]
  },
  {
   "cell_type": "markdown",
   "metadata": {},
   "source": [
    "## Data Frame"
   ]
  },
  {
   "cell_type": "code",
   "execution_count": null,
   "metadata": {
    "collapsed": false
   },
   "outputs": [],
   "source": [
    "\n",
    "chart = JoogleChart(sweets_df)\n",
    "chart.show(width=\"400\", title=\"Hello\")\n",
    "\n",
    "# test: does the chart render?"
   ]
  },
  {
   "cell_type": "markdown",
   "metadata": {},
   "source": [
    "## Series"
   ]
  },
  {
   "cell_type": "code",
   "execution_count": null,
   "metadata": {
    "collapsed": false
   },
   "outputs": [],
   "source": [
    "chart = JoogleChart(sweets_df.cities, sweets_df.cakes)\n",
    "chart.show()\n",
    "\n",
    "# test: does the chart render?"
   ]
  },
  {
   "cell_type": "markdown",
   "metadata": {},
   "source": [
    "## One line plotting on DataFrames -- .gplot()"
   ]
  },
  {
   "cell_type": "code",
   "execution_count": null,
   "metadata": {
    "collapsed": false
   },
   "outputs": [],
   "source": [
    "sweets_df.gplot(title=\"Sweets\", chartArea_width=\"50%\")"
   ]
  },
  {
   "cell_type": "markdown",
   "metadata": {},
   "source": [
    "## allow_nulls"
   ]
  },
  {
   "cell_type": "code",
   "execution_count": null,
   "metadata": {
    "collapsed": true
   },
   "outputs": [],
   "source": []
  },
  {
   "cell_type": "markdown",
   "metadata": {},
   "source": [
    "## datetime_cols"
   ]
  },
  {
   "cell_type": "code",
   "execution_count": null,
   "metadata": {
    "collapsed": true
   },
   "outputs": [],
   "source": []
  },
  {
   "cell_type": "markdown",
   "metadata": {},
   "source": [
    "# Test adding options"
   ]
  },
  {
   "cell_type": "code",
   "execution_count": null,
   "metadata": {
    "collapsed": false
   },
   "outputs": [],
   "source": [
    "chart = JoogleChart(sweets_df.cities, sweets_df.cakes)\n",
    "chart.add_chart_options(width=300)\n",
    "chart.show()"
   ]
  },
  {
   "cell_type": "markdown",
   "metadata": {},
   "source": [
    "## resetting options"
   ]
  },
  {
   "cell_type": "code",
   "execution_count": null,
   "metadata": {
    "collapsed": false
   },
   "outputs": [],
   "source": [
    "chart = JoogleChart(sweets_df.cities, sweets_df.cakes)\n",
    "chart.add_chart_options(width=300)\n",
    "chart.add_chart_options(None)\n",
    "chart.show()"
   ]
  },
  {
   "cell_type": "markdown",
   "metadata": {},
   "source": [
    "# Test adding div styles"
   ]
  },
  {
   "cell_type": "code",
   "execution_count": null,
   "metadata": {
    "collapsed": false
   },
   "outputs": [],
   "source": [
    "chart = JoogleChart(sweets_df.cities, sweets_df.cakes)\n",
    "chart.add_div_styles(width=\"300px\")\n",
    "chart.show()"
   ]
  },
  {
   "cell_type": "markdown",
   "metadata": {},
   "source": [
    "## test resetting div style"
   ]
  },
  {
   "cell_type": "code",
   "execution_count": null,
   "metadata": {
    "collapsed": false
   },
   "outputs": [],
   "source": [
    "chart = JoogleChart(sweets_df.cities, sweets_df.cakes)\n",
    "chart.add_div_styles(width=\"300px\")\n",
    "chart.add_div_styles(None)\n",
    "chart.show()"
   ]
  },
  {
   "cell_type": "code",
   "execution_count": null,
   "metadata": {
    "collapsed": true
   },
   "outputs": [],
   "source": []
  },
  {
   "cell_type": "markdown",
   "metadata": {},
   "source": [
    "# Test formatters"
   ]
  },
  {
   "cell_type": "markdown",
   "metadata": {},
   "source": [
    "## Regular formatters"
   ]
  },
  {
   "cell_type": "code",
   "execution_count": null,
   "metadata": {
    "collapsed": false
   },
   "outputs": [],
   "source": [
    "chart = JoogleChart(df2)\n",
    "date_format = {'formatType': 'short'}\n",
    "chart.add_formatter('date', options=date_format, cols=0)\n",
    "money_format = {'prefix':'$', 'fractionDigits': 2}\n",
    "chart.add_formatter('number', options=money_format, cols=[1, 2])\n",
    "chart.add_formatter('number', options={'pattern':  '#,###.##%'}, cols=[3])\n",
    "chart.show()\n",
    "\n",
    "# test:  are the tooltips values and axis labels formatted?"
   ]
  },
  {
   "cell_type": "markdown",
   "metadata": {},
   "source": [
    "## Pattern formatter"
   ]
  },
  {
   "cell_type": "code",
   "execution_count": null,
   "metadata": {
    "collapsed": false
   },
   "outputs": [],
   "source": [
    "chart = JoogleChart(sweets_df)\n",
    "pattern = \"There are {0} cakes, but only {1} pies.\"\n",
    "chart.add_formatter(\"pattern\", pattern=pattern, source_cols=[1,2])\n",
    "chart.show()\n",
    "\n",
    "# test:  is a tooltip value shown with a text pattern based on two columns?"
   ]
  },
  {
   "cell_type": "markdown",
   "metadata": {},
   "source": [
    "## Pattern formatter - hide columns"
   ]
  },
  {
   "cell_type": "code",
   "execution_count": null,
   "metadata": {
    "collapsed": false
   },
   "outputs": [],
   "source": [
    "list2 = []\n",
    "list2.append(['First', 'Middle', 'Last'])\n",
    "list2.append(['Sally', 'A.', 'Smith'])\n",
    "list2.append(['John', 'J', 'Johnson'])\n",
    "chart = JoogleChart(list2, chart_type = \"Table\")\n",
    "pattern = \"{0} {1} {2}\"\n",
    "chart.add_formatter(\"pattern\", pattern=pattern, source_cols=[0, 1, 2], dest_col=1)\n",
    "chart.set_view_cols(1)\n",
    "chart.show()\n"
   ]
  },
  {
   "cell_type": "markdown",
   "metadata": {
    "collapsed": true
   },
   "source": [
    "# Options"
   ]
  },
  {
   "cell_type": "code",
   "execution_count": null,
   "metadata": {
    "collapsed": true
   },
   "outputs": [],
   "source": []
  },
  {
   "cell_type": "code",
   "execution_count": null,
   "metadata": {
    "collapsed": true
   },
   "outputs": [],
   "source": []
  },
  {
   "cell_type": "code",
   "execution_count": null,
   "metadata": {
    "collapsed": true
   },
   "outputs": [],
   "source": []
  },
  {
   "cell_type": "markdown",
   "metadata": {},
   "source": [
    "# Test Filters"
   ]
  },
  {
   "cell_type": "markdown",
   "metadata": {},
   "source": [
    "## One filter"
   ]
  },
  {
   "cell_type": "code",
   "execution_count": null,
   "metadata": {
    "collapsed": false
   },
   "outputs": [],
   "source": [
    "chart = JoogleChart(sweets_df)\n",
    "filter = Filter('NumberRangeFilter')\n",
    "filter.add_options(filterColumnIndex=1)\n",
    "filter.add_state(lowValue=40, highValue=55)\n",
    "chart.add_filter(filter)\n",
    "chart.show()\n",
    "\n"
   ]
  },
  {
   "cell_type": "markdown",
   "metadata": {},
   "source": [
    "## Two filters"
   ]
  },
  {
   "cell_type": "code",
   "execution_count": null,
   "metadata": {
    "collapsed": false
   },
   "outputs": [],
   "source": [
    "list1 = []\n",
    "list1.append(['Cat1', 'Cat2', 'count'])\n",
    "list1.append(['1', 'a', 34])\n",
    "list1.append(['1', 'b', 23])\n",
    "list1.append(['1', 'k', 84])\n",
    "list1.append(['2', 'a', 62])\n",
    "list1.append(['2', 'm', 46])\n",
    "list1.append(['2', 'c', 68])\n",
    "list1.append(['3', 'g', 24])\n",
    "list1.append(['3', 'b', 86])\n",
    "list1.append(['3', 'c', 45])\n",
    "\n",
    "chart = JoogleChart(list1, chart_type=\"Table\")\n",
    "\n",
    "filter1 = Filter(type=\"CategoryFilter\")\n",
    "filter1.add_options(filterColumnIndex=0, ui_allowMultiple=True, ui_allowNone=True)\n",
    "filter2 = Filter(type=\"CategoryFilter\")\n",
    "filter2.add_options(filterColumnIndex=1, ui_allowMultiple=True, ui_allowNone=True)\n",
    "\n",
    "chart.add_filter(filter1)\n",
    "chart.add_filter(filter2)\n",
    "\n",
    "filter1.bind_filter(filter2)\n",
    "\n",
    "# print chart.render()\n",
    "\n",
    "chart.show()"
   ]
  },
  {
   "cell_type": "markdown",
   "metadata": {},
   "source": [
    "# Additional chart"
   ]
  },
  {
   "cell_type": "code",
   "execution_count": null,
   "metadata": {
    "collapsed": false
   },
   "outputs": [],
   "source": [
    "chart = JoogleChart(sweets_df)\n",
    "chart.set_chart_type(\"BarChart\")\n",
    "chart.set_view_cols([0, 1])\n",
    "# chart.show()\n",
    "\n",
    "c2 = _Chart(\"ColumnChart\")\n",
    "c2.set_view_cols([0, 2])\n",
    "chart._add_chart(c2)\n",
    "\n",
    "\n",
    "chart.show()\n"
   ]
  },
  {
   "cell_type": "markdown",
   "metadata": {
    "collapsed": true
   },
   "source": [
    "## Additional chart with filtering"
   ]
  },
  {
   "cell_type": "code",
   "execution_count": null,
   "metadata": {
    "collapsed": false
   },
   "outputs": [],
   "source": [
    "list1 = []\n",
    "list1.append(['Cat1', 'Cat2', 'widgets', 'doodads'])\n",
    "list1.append(['A', 'a', 34, 24])\n",
    "list1.append(['B', 'b', 23, 54])\n",
    "list1.append(['C', 'k', 84, 35])\n",
    "list1.append(['D', 'a', 62, 86])\n",
    "list1.append(['E', 'm', 46, 35])\n",
    "list1.append(['F', 'c', 68, 63])\n",
    "list1.append(['G', 'g', 24, 64])\n",
    "list1.append(['H', 'b', 86, 24])\n",
    "list1.append(['I', 'c', 45, 94])\n",
    "\n",
    "chart = JoogleChart(list1)\n",
    "chart.set_view_cols([0, 2])\n",
    "filter1 = Filter(type=\"CategoryFilter\")\n",
    "filter1.add_options(filterColumnIndex=0, ui_allowMultiple=True, ui_allowNone=True)\n",
    "filter2 = Filter(type=\"CategoryFilter\")\n",
    "filter2.add_options(filterColumnIndex=1, ui_allowMultiple=True, ui_allowNone=True)\n",
    "\n",
    "chart.add_filter(filter1)\n",
    "chart.add_filter(filter2)\n",
    "\n",
    "c2 = _Chart()\n",
    "c2.set_view_cols([0, 3])\n",
    "c2.add_chart_options(colors = ['#354684'])\n",
    "\n",
    "chart._add_chart(c2)\n",
    "\n",
    "chart.show()"
   ]
  },
  {
   "cell_type": "code",
   "execution_count": null,
   "metadata": {
    "collapsed": true
   },
   "outputs": [],
   "source": []
  },
  {
   "cell_type": "markdown",
   "metadata": {
    "collapsed": true
   },
   "source": [
    "# Chart Rows"
   ]
  },
  {
   "cell_type": "markdown",
   "metadata": {},
   "source": [
    "## Charts without filters"
   ]
  },
  {
   "cell_type": "code",
   "execution_count": null,
   "metadata": {
    "collapsed": false
   },
   "outputs": [],
   "source": [
    "chart1 = JoogleChart(sweets_df.cities, sweets_df.cakes)\n",
    "chart2 = chart1.copy()\n",
    "chart3 = chart1.copy()\n",
    "chart4 = chart1.copy()\n",
    "\n",
    "chart2.set_chart_type(\"PieChart\")\n",
    "chart3.set_chart_type(\"LineChart\")\n",
    "chart4.set_chart_type=(\"AreaChart\")\n",
    "\n",
    "chart1.add_chart_options(chartArea_width=\"60%\")\n",
    "chart2.add_chart_options(chartArea_width=\"100%\")\n",
    "chart3.add_chart_options(chartArea_width=\"50%\")\n",
    "chart4.add_chart_options(chartArea_width=\"50%\")\n",
    "\n",
    "row = ChartRow(chart1, chart2, chart3, chart4)\n",
    "# row = ChartRow(chart1, chart2, chart3)\n",
    "\n",
    "row.show()"
   ]
  },
  {
   "cell_type": "code",
   "execution_count": null,
   "metadata": {
    "collapsed": true
   },
   "outputs": [],
   "source": []
  },
  {
   "cell_type": "markdown",
   "metadata": {},
   "source": [
    "## Charts with filters"
   ]
  },
  {
   "cell_type": "code",
   "execution_count": null,
   "metadata": {
    "collapsed": false,
    "scrolled": false
   },
   "outputs": [],
   "source": [
    "chart1 = JoogleChart(sweets_df.cities, sweets_df.cakes)\n",
    "chart2 = chart1.copy()\n",
    "chart3 = JoogleChart(list1)\n",
    "\n",
    "chart2.set_chart_type(\"PieChart\")\n",
    "chart3.set_chart_type(\"Table\")\n",
    "# chart4.chart_type=\"AreaChart\"\n",
    "\n",
    "chart1.add_chart_options(chartArea_width=\"60%\")\n",
    "chart2.add_chart_options(chartArea_width=\"100%\")\n",
    "chart3.add_chart_options(chartArea_width=\"50%\")\n",
    "# chart4.add_chart_options(chartArea_width=\"50%\")\n",
    "\n",
    "filter3a = Filter(type=\"CategoryFilter\")\n",
    "filter3a.add_options(filterColumnIndex=0, ui_allowMultiple=True, ui_allowNone=True)\n",
    "filter3b = Filter(type=\"CategoryFilter\")\n",
    "filter3b.add_options(filterColumnIndex=1, ui_allowMultiple=True, ui_allowNone=True)\n",
    "chart3.add_filter(filter3a)\n",
    "chart3.add_filter(filter3b)\n",
    "filter3a.bind_filter(filter3b)\n",
    "\n",
    "filter2 = Filter(\"NumberRangeFilter\")\n",
    "filter2.add_options(filterColumnIndex=1)\n",
    "chart2.add_filter(filter2)\n",
    "\n",
    "# row = ChartRow(chart1, chart2, chart3, chart4)\n",
    "row = ChartRow(chart1, chart2, chart3)\n",
    "\n",
    "row.show()"
   ]
  },
  {
   "cell_type": "markdown",
   "metadata": {},
   "source": [
    "## chart row with extra chart"
   ]
  },
  {
   "cell_type": "code",
   "execution_count": null,
   "metadata": {
    "collapsed": false
   },
   "outputs": [],
   "source": [
    "chart1 = JoogleChart(sweets_df.cities, sweets_df.cakes)\n",
    "chart2 = chart1.copy()\n",
    "chart3 = JoogleChart(list1)\n",
    "\n",
    "chart2.set_chart_type(\"PieChart\")\n",
    "chart3.set_chart_type(\"Table\")\n",
    "\n",
    "chart1.add_chart_options(chartArea_width=\"60%\")\n",
    "chart2.add_chart_options(chartArea_width=\"100%\")\n",
    "chart3.add_chart_options(chartArea_width=\"50%\")\n",
    "\n",
    "c2 = _Chart(\"BarChart\")\n",
    "# c2.set_view_cols([0, 2])\n",
    "chart1._add_chart(c2)\n",
    "\n",
    "row = ChartRow(chart1, chart2, chart3)\n",
    "\n",
    "row.show()"
   ]
  },
  {
   "cell_type": "markdown",
   "metadata": {},
   "source": [
    "#  ChartRow with string"
   ]
  },
  {
   "cell_type": "code",
   "execution_count": null,
   "metadata": {
    "collapsed": false
   },
   "outputs": [],
   "source": [
    "df = get_df()\n",
    "chart = JoogleChart(df)\n",
    "chart.add_styler(get_styler())\n",
    "s = \"\"\"\n",
    "<h1>Extra Text</h2>\n",
    "<div>Now is the time for all good men to come to the aid of their country.</div>\n",
    "\"\"\"\n",
    "row = ChartRow(chart, s)\n",
    "row.show()"
   ]
  },
  {
   "cell_type": "markdown",
   "metadata": {
    "collapsed": true
   },
   "source": [
    "# Roles"
   ]
  },
  {
   "cell_type": "code",
   "execution_count": null,
   "metadata": {
    "collapsed": true
   },
   "outputs": [],
   "source": []
  },
  {
   "cell_type": "code",
   "execution_count": null,
   "metadata": {
    "collapsed": false
   },
   "outputs": [],
   "source": [
    "# annotationText appears with line chart but not column chart.\n",
    "\n",
    "day = ['Mon', 'Tue']\n",
    "stock_value = [50, 53]\n",
    "low = [47, 52]\n",
    "high = [51, 55]\n",
    "annotation = ['A', 'B']\n",
    "style = 'bar {fill-color: #c8001d; stroke-width: 3; stroke-color: #AAEEAA}'\n",
    "styles = [style, None]\n",
    "stock_columns = ['day', 'stock_value', 'low', 'high', 'annotation', 'styles']\n",
    "stock_df = pd.DataFrame({'day': day, 'stock_value': stock_value, 'low': low, 'high': high,\n",
    "                         'annotation': annotation, 'styles': styles},\n",
    "                        columns=stock_columns)\n",
    "\n",
    "gchart = JoogleChart(stock_df, allow_nulls = True, chartArea_width=\"50%\")\n",
    "\n",
    "gchart.set_role(2, 'interval')\n",
    "gchart.set_role(3, 'interval')\n",
    "gchart.set_role(4, 'annotation')\n",
    "gchart.set_role(5, 'style')\n",
    "\n",
    "gchart.show()\n"
   ]
  },
  {
   "cell_type": "markdown",
   "metadata": {
    "collapsed": true
   },
   "source": [
    "# Series Filter"
   ]
  },
  {
   "cell_type": "code",
   "execution_count": null,
   "metadata": {
    "collapsed": false
   },
   "outputs": [],
   "source": [
    "# Create a dataframe with a series of dates\n",
    "periods = 20\n",
    "states = ['AL', 'AK', 'CT', 'RI']\n",
    "\n",
    "random.seed(1)\n",
    "widgets = [random.randint(10, 20) for i in range(len(states))]\n",
    "doodads = [random.randint(10, 20) for i in range(len(states))]\n",
    "thingums = [random.randint(10, 20) for i in range(len(states))]\n",
    "whoozits = [random.randint(10, 20) for i in range(len(states))]\n",
    "\n",
    "data = {}\n",
    "data['states'] = states\n",
    "data['widgets'] = widgets\n",
    "data['doodads'] = doodads\n",
    "data['thingums'] = thingums\n",
    "data['whoozits'] = whoozits\n",
    "columns = ['states', 'widgets', 'doodads', 'thingums', 'whoozits']\n",
    "\n",
    "df = pd.DataFrame(data, columns=columns)\n",
    "\n",
    "sf_chart = JoogleChart(df, chart_type = \"ColumnChart\")\n",
    "\n",
    "\n",
    "sf = SeriesFilter()\n",
    "sf.add_state(selectedValues=[''])\n",
    "sf_chart.add_filter(sf)\n",
    "\n",
    "# sf_chart.set_view_cols([0, 2, 3])\n",
    "\n",
    "\n",
    "sf_chart.show()"
   ]
  },
  {
   "cell_type": "markdown",
   "metadata": {},
   "source": [
    "## SeriesFilter and CategoryFilter"
   ]
  },
  {
   "cell_type": "code",
   "execution_count": null,
   "metadata": {
    "collapsed": false
   },
   "outputs": [],
   "source": [
    "filter1 = Filter(\"CategoryFilter\")\n",
    "filter1.add_options(filterColumnIndex=0)\n",
    "sf_chart.add_filter(filter1)\n",
    "\n",
    "sf_chart.show()"
   ]
  },
  {
   "cell_type": "markdown",
   "metadata": {
    "collapsed": true
   },
   "source": [
    "## Series Filter with roles and view_cols"
   ]
  },
  {
   "cell_type": "code",
   "execution_count": null,
   "metadata": {
    "collapsed": false
   },
   "outputs": [],
   "source": [
    "categories = ['A', 'B', 'C']\n",
    "widgets = [5, 7, 3]\n",
    "tooltips = ['wsw', 'eded', 'rfrfr']\n",
    "doodads = [20, 32, 41]\n",
    "things = [20, 32, 41]\n",
    "whats = [20, 32, 41]\n",
    "d = {}\n",
    "d['categories'] = categories\n",
    "d['widgets'] = widgets\n",
    "d['tooltips'] = tooltips\n",
    "d['doodads'] = doodads\n",
    "d['things'] = things\n",
    "d['whats'] = whats\n",
    "sf_df = pd.DataFrame(d, columns=['categories', 'widgets', 'tooltips', 'doodads', 'things', 'whats'])\n",
    "\n",
    "chart = JoogleChart(sf_df)\n",
    "sf = SeriesFilter()\n",
    "chart.add_filter(sf)\n",
    "chart.set_tooltip(2)\n",
    "chart.set_view_cols([0, 1, 2, 3, 5])\n",
    "chart.show()"
   ]
  },
  {
   "cell_type": "markdown",
   "metadata": {
    "collapsed": true
   },
   "source": [
    "# SuperCategoryFilter"
   ]
  },
  {
   "cell_type": "code",
   "execution_count": null,
   "metadata": {
    "collapsed": false,
    "scrolled": true
   },
   "outputs": [],
   "source": [
    "categories = ['A', 'B', 'C']\n",
    "widgets = [5, 7, 3]\n",
    "doodads = [20, 32, 41]\n",
    "d1 = {}\n",
    "d1['categories'] = categories\n",
    "d1['widgets'] = widgets\n",
    "d2 = {}\n",
    "d2['categories'] = categories\n",
    "d2['doodads'] = doodads\n",
    "\n",
    "df1 = pd.DataFrame(d1, columns=['categories', 'widgets'])\n",
    "df2 = pd.DataFrame(d2, columns=['categories', 'doodads'])\n",
    "\n",
    "chart1 = JoogleChart(df1)\n",
    "chart2 = JoogleChart(df2)\n",
    "\n",
    "filter1_label = \"filter1\"\n",
    "filter1 = Filter(\"CategoryFilter\")\n",
    "filter1.set_filter_label(filter1_label)\n",
    "filter1.add_options(filterColumnIndex=0)\n",
    "chart1.add_filter(filter1)\n",
    "\n",
    "filter2_label = \"filter2\"\n",
    "filter2 = Filter(\"CategoryFilter\")\n",
    "filter2.set_filter_label(filter2_label)\n",
    "filter2.add_options(filterColumnIndex=0)\n",
    "chart2.add_filter(filter2)\n",
    "\n",
    "scf = SuperCategoryFilter(df1.categories)\n",
    "scf.add_filter_label(filter1_label)\n",
    "scf.add_filter_label(filter2_label)\n",
    "scf.add_state(selectedValues=['A', 'C'])\n",
    "\n",
    "scf.show()\n",
    "chart1.show()\n",
    "chart2.show()"
   ]
  },
  {
   "cell_type": "markdown",
   "metadata": {},
   "source": [
    "## SuperCategoryFilter on SeriesFilter"
   ]
  },
  {
   "cell_type": "code",
   "execution_count": null,
   "metadata": {
    "collapsed": false
   },
   "outputs": [],
   "source": [
    "# categories = ['A', 'B', 'C']\n",
    "d1 = {}\n",
    "d1['categories'] = ['A', 'B', 'C']\n",
    "d1['widgets'] = [24, 53, 64]\n",
    "d1['doodads'] = [56, 42, 36]\n",
    "d1['things'] = [42, 53, 46]\n",
    "\n",
    "d2 = {}\n",
    "d2['categories'] = ['X', 'Y', 'Z']\n",
    "d2['widgets'] = [35, 64, 24]\n",
    "d2['doodads'] = [35, 64, 24]\n",
    "d2['things'] = [24, 54, 46]\n",
    "\n",
    "df1 = pd.DataFrame(d1, columns=['categories', 'widgets', 'doodads', 'things'])\n",
    "df2 = pd.DataFrame(d2, columns=['categories', 'widgets', 'doodads', 'things'])\n",
    "\n",
    "chart1 = JoogleChart(df1)\n",
    "chart1.add_chart_options(isStacked=True)\n",
    "chart2 = JoogleChart(df2)\n",
    "chart2.add_chart_options(isStacked=True)\n",
    "\n",
    "choices = (['widgets', 'doodads', 'things'])\n",
    "filter1_label = \"series_filter_1\"\n",
    "filter1 = SeriesFilter()\n",
    "filter1.set_filter_label(filter1_label)\n",
    "chart1.add_filter(filter1)\n",
    "\n",
    "filter2_label = \"series_filter_2\"\n",
    "filter2 = SeriesFilter()\n",
    "filter2.set_filter_label(filter2_label)\n",
    "chart2.add_filter(filter2)\n",
    "\n",
    "scf = SuperCategoryFilter(choices)\n",
    "scf.add_filter_label(filter1_label)\n",
    "scf.add_filter_label(filter2_label)\n",
    "scf.add_state(selectedValues=choices)\n",
    "\n",
    "scf.show()\n",
    "chart1.show()\n",
    "chart2.show()"
   ]
  },
  {
   "cell_type": "markdown",
   "metadata": {
    "collapsed": true
   },
   "source": [
    "# Global title"
   ]
  },
  {
   "cell_type": "code",
   "execution_count": null,
   "metadata": {
    "collapsed": false
   },
   "outputs": [],
   "source": [
    "chart1 = JoogleChart(sweets_df)\n",
    "chart1.add_global_title(\"This is the Global Title\")\n",
    "chart1.add_chart_options(title=\"This is the regular title\")\n",
    "# chart1.add_styler(styler)\n",
    "# f1 = Filter(\"CategoryFilter\")\n",
    "# f1.add_options(filterColumnIndex=0)\n",
    "# chart1.add_filter(f1)\n",
    "chart1.show()"
   ]
  },
  {
   "cell_type": "markdown",
   "metadata": {
    "collapsed": true
   },
   "source": [
    "# GeoChart"
   ]
  },
  {
   "cell_type": "code",
   "execution_count": null,
   "metadata": {
    "collapsed": false,
    "scrolled": true
   },
   "outputs": [],
   "source": [
    "data = {}\n",
    "data['countries'] = ['Canada', 'United States', 'Mexico']\n",
    "data['widgets'] = [466, 650, 876]\n",
    "columns = ['countries', 'widgets']\n",
    "df = pd.DataFrame(data, columns=columns)\n",
    "\n",
    "chart = JoogleChart(df, chart_type=\"GeoChart\")\n",
    "chart.show()"
   ]
  },
  {
   "cell_type": "code",
   "execution_count": null,
   "metadata": {
    "collapsed": true
   },
   "outputs": [],
   "source": []
  }
 ],
 "metadata": {
  "kernelspec": {
   "display_name": "Python 2",
   "language": "python",
   "name": "python2"
  },
  "language_info": {
   "codemirror_mode": {
    "name": "ipython",
    "version": 2
   },
   "file_extension": ".py",
   "mimetype": "text/x-python",
   "name": "python",
   "nbconvert_exporter": "python",
   "pygments_lexer": "ipython2",
   "version": "2.7.10"
  }
 },
 "nbformat": 4,
 "nbformat_minor": 0
}
