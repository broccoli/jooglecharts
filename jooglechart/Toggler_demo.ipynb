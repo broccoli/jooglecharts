{
 "cells": [
  {
   "cell_type": "code",
   "execution_count": null,
   "metadata": {
    "collapsed": true
   },
   "outputs": [],
   "source": [
    "from jooglechart_api import JoogleChart, ChartRow\n",
    "from utils import get_df\n",
    "from widgets import Toggler, Box"
   ]
  },
  {
   "cell_type": "code",
   "execution_count": null,
   "metadata": {
    "collapsed": true
   },
   "outputs": [],
   "source": [
    "s = \"\"\"\n",
    "Lorem ipsum dolor sit amet, consectetur adipiscing elit. Sed et condimentum arcu. Curabitur tellus diam, \n",
    "pharetra nec eleifend ac, blandit sit amet est. Sed a lectus ante. Nam at sapien nunc. Donec non aliquet \n",
    "metus, vel tempus arcu. Fusce at nisl sed lacus tincidunt efficitur faucibus non est. Phasellus quis laoreet\n",
    "urna. Mauris in convallis lacus. Phasellus vitae enim ante. Maecenas congue ullamcorper risus at pharetra.\n",
    "</br>\n",
    "</br>\n",
    "Ut placerat fringilla orci id efficitur. Fusce elit leo, facilisis eget turpis eu, porttitor vulputate \n",
    "tellus. Aliquam orci sapien, ultrices molestie ultricies quis, lobortis a velit. Mauris posuere magna eu\n",
    "ex eleifend dictum. Vestibulum vulputate massa in nibh sagittis convallis. Duis quis aliquam odio. Aliquam\n",
    "viverra fringilla leo, et vestibulum ex suscipit a. Etiam ac erat ultrices diam ullamcorper commodo \n",
    "eu sed erat. Sed mattis volutpat nisi et condimentum.\n",
    "\"\"\""
   ]
  },
  {
   "cell_type": "code",
   "execution_count": null,
   "metadata": {
    "collapsed": false
   },
   "outputs": [],
   "source": [
    "# default settings\n",
    "t = Toggler(s)\n",
    "t.show()"
   ]
  },
  {
   "cell_type": "code",
   "execution_count": null,
   "metadata": {
    "collapsed": false
   },
   "outputs": [],
   "source": [
    "# icon options:  plus, arrow\n",
    "t = Toggler(s, icon=\"plus\")\n",
    "t.show()"
   ]
  },
  {
   "cell_type": "code",
   "execution_count": null,
   "metadata": {
    "collapsed": false
   },
   "outputs": [],
   "source": [
    "# set open_prompt and close_prompt\n",
    "t = Toggler(s, open_prompt=\"Instructions\", close_prompt=\"Instructions\", icon=\"arrow\")\n",
    "t.show()"
   ]
  },
  {
   "cell_type": "code",
   "execution_count": null,
   "metadata": {
    "collapsed": false
   },
   "outputs": [],
   "source": [
    "# state=\"closed\" to start closed\n",
    "t = Toggler(s, state=\"closed\")\n",
    "t.show()"
   ]
  },
  {
   "cell_type": "code",
   "execution_count": null,
   "metadata": {
    "collapsed": false
   },
   "outputs": [],
   "source": [
    "# duration in milliseconds, \"slow\" or \"fast\".  Slow=600ms.  Fast=200ms.  Default is 400ms.\n",
    "t = Toggler(s, duration=100)\n",
    "t.show()"
   ]
  },
  {
   "cell_type": "code",
   "execution_count": null,
   "metadata": {
    "collapsed": false
   },
   "outputs": [],
   "source": [
    "# Add CSS styles to the prompt and/or the content with kwargs or dictionary.  Use underscore for hyphenated css styles in kwargs\n",
    "t = Toggler(s)\n",
    "t.add_prompt_div_styles(background_color=\"#eee\", display=\"block\", text_align=\"right\", font_size=\"18px\", color=\"chocolate\")\n",
    "\n",
    "t.add_content_div_styles(background_color=\"#eef\", border=\"2px darkcyan solid\")\n",
    "t.show()"
   ]
  },
  {
   "cell_type": "code",
   "execution_count": null,
   "metadata": {
    "collapsed": false
   },
   "outputs": [],
   "source": [
    "# Toggler is a container that takes one object -- a string or another joogle object.\n",
    "\n",
    "df = get_df()\n",
    "chart = JoogleChart(df)\n",
    "chart.add_chart_options(legend_position=\"top\", width=\"500\")\n",
    "\n",
    "# Put a chart in Toggler!\n",
    "t1 =  Toggler(chart, state=\"closed\")\n",
    "t1.add_div_styles(width=\"530px\")\n",
    "\n",
    "# Put a container in Toggler!\n",
    "row = ChartRow(s, chart.copy())\n",
    "t2 = Toggler(row, state=\"closed\")\n",
    "\n",
    "# Put toggler in a Box!\n",
    "box = Box(t1, t2)\n",
    "box.show()"
   ]
  },
  {
   "cell_type": "code",
   "execution_count": null,
   "metadata": {
    "collapsed": true
   },
   "outputs": [],
   "source": []
  }
 ],
 "metadata": {
  "kernelspec": {
   "display_name": "Python 2",
   "language": "python",
   "name": "python2"
  },
  "language_info": {
   "codemirror_mode": {
    "name": "ipython",
    "version": 2
   },
   "file_extension": ".py",
   "mimetype": "text/x-python",
   "name": "python",
   "nbconvert_exporter": "python",
   "pygments_lexer": "ipython2",
   "version": "2.7.10"
  }
 },
 "nbformat": 4,
 "nbformat_minor": 0
}
