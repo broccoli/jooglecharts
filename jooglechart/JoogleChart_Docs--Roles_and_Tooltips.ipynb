{
 "cells": [
  {
   "cell_type": "markdown",
   "metadata": {},
   "source": [
    "# Roles and Tooltips\n",
    "Google Charts allows the user to specify special roles for columns (e.g., style, annotation, interval).  JoogleChart supports roles.  It is very easy with pandas DataFrame.  Just add a column for the role in the DataFrame (the name of the column doesn't matter).  Then specify the role for the column by calling **set_roll** on the JoogleChart.  ***Be sure to keep the role column visible.***\n",
    "\n",
    "There is also a role for tooltip, but JoogleChart has a specify method for the tooltip role -- **set_tooltip** -- because the tooltip role also allows you to specify whether the data in the tooltip column is to be displayed as html.\n",
    "\n",
    "Following are a few examples of roles."
   ]
  },
  {
   "cell_type": "markdown",
   "metadata": {},
   "source": [
    "## Style"
   ]
  },
  {
   "cell_type": "code",
   "execution_count": 4,
   "metadata": {
    "collapsed": true
   },
   "outputs": [],
   "source": [
    "from jooglechart import JoogleChart\n",
    "import pandas as pd"
   ]
  },
  {
   "cell_type": "code",
   "execution_count": 9,
   "metadata": {
    "collapsed": false
   },
   "outputs": [
    {
     "data": {
      "text/html": [
       "\n",
       "\n",
       "\n",
       "<script type=\"text/javascript\">\n",
       "\n",
       "    // Check if google jsapi is already loaded.  If not, load it.\n",
       "    if (typeof window.google == 'undefined') {\n",
       "        jQuery.getScript('https://www.google.com/jsapi', function( data, textStatus, jqxhr) {\n",
       "            google_loader_4();\n",
       "        });\n",
       "    } else {\n",
       "        google_loader_4();\n",
       "    }\n",
       "\n",
       "    // load visualization library    \n",
       "    function google_loader_4() {\n",
       "    \n",
       "        google.load('visualization', '1.0', {'callback': doStuff_4});\n",
       "    }\n",
       "    function doStuff_4() {\n",
       "    \n",
       "\n",
       "        // Create DataTable object from DataTable constructor or arrayToDatable()\n",
       "        var jugle_chart_4_data = new google.visualization.DataTable({\"rows\": [{\"c\": [{\"v\": \"Iron Man\"}, {\"v\": 60}, {\"v\": \"color: #db9500;stroke-width: 10; stroke-color: #a30300\"}]}, {\"c\": [{\"v\": \"Spiderman\"}, {\"v\": 100}, {\"v\": \"fill-color: #c8001d; stroke-width: 3; stroke-color: #1800c8\"}]}], \"cols\": [{\"type\": \"string\", \"id\": \"superheroes\", \"label\": \"superheroes\"}, {\"type\": \"number\", \"id\": \"popularity\", \"label\": \"popularity\"}, {\"p\": {\"role\": \"style\"}, \"type\": \"string\", \"id\": \"style\", \"label\": \"style\"}]});\n",
       "        \n",
       "        // Add formatters, if any\n",
       "\n",
       "        // Create ChartWrapper\n",
       "        var google_chart_4 = new google.visualization.ChartWrapper({      \n",
       "            \"containerId\": \"google_chart_4_div_id\",\n",
       "            \"dataTable\": jugle_chart_4_data,\n",
       "            \"chartType\": \"ColumnChart\",\n",
       "            \"options\": {\"style\": \"ColumnChart\"}\n",
       "        });\n",
       "\t\t\n",
       "        \n",
       "        google_chart_4.draw();\n",
       "        \n",
       "        \n",
       "    }\n",
       "    \n",
       "</script>\n",
       "\n",
       "<div id=\"google_chart_4_div_id\" ></div>\n",
       "\n"
      ],
      "text/plain": [
       "<IPython.core.display.HTML object>"
      ]
     },
     "metadata": {},
     "output_type": "display_data"
    }
   ],
   "source": [
    "superheroes = ['Iron Man', 'Spiderman']\n",
    "popularity = [60, 100]\n",
    "style = ['color: #db9500;stroke-width: 10; stroke-color: #a30300', 'fill-color: #c8001d; stroke-width: 3; stroke-color: #1800c8']\n",
    "df = pd.DataFrame({'superheroes': superheroes, 'popularity': popularity, 'style': style},\n",
    "                  columns = ['superheroes', 'popularity', 'style'])\n",
    "\n",
    "chart = JoogleChart(df, style=\"ColumnChart\")\n",
    "chart.set_role(2, 'style')\n",
    "chart.show()"
   ]
  },
  {
   "cell_type": "markdown",
   "metadata": {},
   "source": [
    "If you are applying a role to only certain values in the column, fill the rest of the column with **None** and set the JoogleChart to allow nulls."
   ]
  },
  {
   "cell_type": "code",
   "execution_count": 19,
   "metadata": {
    "collapsed": false
   },
   "outputs": [
    {
     "data": {
      "text/html": [
       "\n",
       "\n",
       "\n",
       "<script type=\"text/javascript\">\n",
       "\n",
       "    // Check if google jsapi is already loaded.  If not, load it.\n",
       "    if (typeof window.google == 'undefined') {\n",
       "        jQuery.getScript('https://www.google.com/jsapi', function( data, textStatus, jqxhr) {\n",
       "            google_loader_12();\n",
       "        });\n",
       "    } else {\n",
       "        google_loader_12();\n",
       "    }\n",
       "\n",
       "    // load visualization library    \n",
       "    function google_loader_12() {\n",
       "    \n",
       "        google.load('visualization', '1.0', {'callback': doStuff_12});\n",
       "    }\n",
       "    function doStuff_12() {\n",
       "    \n",
       "\n",
       "        // Create DataTable object from DataTable constructor or arrayToDatable()\n",
       "        var jugle_chart_12_data = new google.visualization.DataTable({\"rows\": [{\"c\": [{\"v\": 4}, {\"v\": 7}, null]}, {\"c\": [{\"v\": 5}, {\"v\": 3}, {\"v\": \"point {size: 18; shape-type: star; fill-color: #a52714; }\"}]}, {\"c\": [{\"v\": 2}, {\"v\": 7}, null]}, {\"c\": [{\"v\": 6}, {\"v\": 4}, null]}], \"cols\": [{\"type\": \"number\", \"id\": \"X\", \"label\": \"X\"}, {\"type\": \"number\", \"id\": \"Y\", \"label\": \"Y\"}, {\"p\": {\"role\": \"style\"}, \"type\": \"string\", \"id\": \"style\", \"label\": \"style\"}]});\n",
       "        \n",
       "        // Add formatters, if any\n",
       "\n",
       "        // Create ChartWrapper\n",
       "        var google_chart_12 = new google.visualization.ChartWrapper({      \n",
       "            \"containerId\": \"google_chart_12_div_id\",\n",
       "            \"dataTable\": jugle_chart_12_data,\n",
       "            \"chartType\": \"ScatterChart\",\n",
       "            \"options\": {}\n",
       "        });\n",
       "\t\t\n",
       "        \n",
       "        google_chart_12.draw();\n",
       "        \n",
       "        \n",
       "    }\n",
       "    \n",
       "</script>\n",
       "\n",
       "<div id=\"google_chart_12_div_id\" ></div>\n",
       "\n"
      ],
      "text/plain": [
       "<IPython.core.display.HTML object>"
      ]
     },
     "metadata": {},
     "output_type": "display_data"
    }
   ],
   "source": [
    "x = [4, 5, 2, 6]\n",
    "y = [7, 3, 7, 4]\n",
    "style  = [None, 'point {size: 18; shape-type: star; fill-color: #a52714; }', None, None]\n",
    "df = pd.DataFrame({'X': x, 'Y': y, 'style': style}, columns = ['X', 'Y', 'style'])\n",
    "\n",
    "chart = JoogleChart(df, chart_type=\"ScatterChart\", allow_nulls=True)\n",
    "chart.set_role(col=2, role='style')\n",
    "chart.show()"
   ]
  },
  {
   "cell_type": "markdown",
   "metadata": {},
   "source": [
    "## Tooltips"
   ]
  },
  {
   "cell_type": "code",
   "execution_count": 42,
   "metadata": {
    "collapsed": false
   },
   "outputs": [
    {
     "data": {
      "text/html": [
       "\n",
       "\n",
       "\n",
       "<script type=\"text/javascript\">\n",
       "\n",
       "    // Check if google jsapi is already loaded.  If not, load it.\n",
       "    if (typeof window.google == 'undefined') {\n",
       "        jQuery.getScript('https://www.google.com/jsapi', function( data, textStatus, jqxhr) {\n",
       "            google_loader_32();\n",
       "        });\n",
       "    } else {\n",
       "        google_loader_32();\n",
       "    }\n",
       "\n",
       "    // load visualization library    \n",
       "    function google_loader_32() {\n",
       "    \n",
       "        google.load('visualization', '1.0', {'callback': doStuff_32});\n",
       "    }\n",
       "    function doStuff_32() {\n",
       "    \n",
       "\n",
       "        // Create DataTable object from DataTable constructor or arrayToDatable()\n",
       "        var jugle_chart_32_data = new google.visualization.DataTable({\"rows\": [{\"c\": [{\"v\": \"cats\"}, {\"v\": 35}, {\"v\": \"Cats are cute!\"}]}, {\"c\": [{\"v\": \"dogs\"}, {\"v\": 53}, {\"v\": \"Humans' best friend\"}]}, {\"c\": [{\"v\": \"birds\"}, {\"v\": 12}, {\"v\": \"Tweet, Tweet!\"}]}], \"cols\": [{\"type\": \"string\", \"id\": \"pets\", \"label\": \"pets\"}, {\"type\": \"number\", \"id\": \"total\", \"label\": \"total\"}, {\"p\": {\"role\": \"tooltip\"}, \"type\": \"string\", \"id\": \"tooltip\", \"label\": \"tooltip\"}]});\n",
       "        \n",
       "        // Add formatters, if any\n",
       "\n",
       "        // Create ChartWrapper\n",
       "        var google_chart_32 = new google.visualization.ChartWrapper({      \n",
       "            \"containerId\": \"google_chart_32_div_id\",\n",
       "            \"dataTable\": jugle_chart_32_data,\n",
       "            \"chartType\": \"ColumnChart\",\n",
       "            \"options\": {}\n",
       "        });\n",
       "\t\t\n",
       "        \n",
       "        google_chart_32.draw();\n",
       "        \n",
       "        \n",
       "    }\n",
       "    \n",
       "</script>\n",
       "\n",
       "<div id=\"google_chart_32_div_id\" ></div>\n",
       "\n"
      ],
      "text/plain": [
       "<IPython.core.display.HTML object>"
      ]
     },
     "metadata": {},
     "output_type": "display_data"
    }
   ],
   "source": [
    "pets = ['cats', 'dogs', 'birds']\n",
    "total = [35, 53, 12]\n",
    "tooltip = ['Cats are cute!', \"Humans' best friend\", 'Tweet, Tweet!']\n",
    "df = pd.DataFrame({'pets': pets, 'total': total, 'tooltip': tooltip}, columns=['pets', 'total', 'tooltip'])\n",
    "\n",
    "chart = JoogleChart(df)\n",
    "\n",
    "# Set the tooltip role with the special method\n",
    "chart.set_tooltip(2)\n",
    "\n",
    "chart.show()"
   ]
  },
  {
   "cell_type": "markdown",
   "metadata": {},
   "source": [
    "## Tooltips:  html"
   ]
  },
  {
   "cell_type": "code",
   "execution_count": 43,
   "metadata": {
    "collapsed": false,
    "scrolled": false
   },
   "outputs": [
    {
     "data": {
      "text/html": [
       "\n",
       "\n",
       "\n",
       "<script type=\"text/javascript\">\n",
       "\n",
       "    // Check if google jsapi is already loaded.  If not, load it.\n",
       "    if (typeof window.google == 'undefined') {\n",
       "        jQuery.getScript('https://www.google.com/jsapi', function( data, textStatus, jqxhr) {\n",
       "            google_loader_33();\n",
       "        });\n",
       "    } else {\n",
       "        google_loader_33();\n",
       "    }\n",
       "\n",
       "    // load visualization library    \n",
       "    function google_loader_33() {\n",
       "    \n",
       "        google.load('visualization', '1.0', {'callback': doStuff_33});\n",
       "    }\n",
       "    function doStuff_33() {\n",
       "    \n",
       "\n",
       "        // Create DataTable object from DataTable constructor or arrayToDatable()\n",
       "        var jugle_chart_33_data = new google.visualization.DataTable({\"rows\": [{\"c\": [{\"v\": \"apples\"}, {\"v\": 70}, {\"v\": \"<img src=\\\"http://dreamatico.com/data_images/apple/apple-7.jpg\\\" style=\\\"width:100px;height:80px;\\\">\"}]}, {\"c\": [{\"v\": \"oranges\"}, {\"v\": 30}, {\"v\": \"<img src=\\\"http://www.jackieleonards.ie/wp-content/uploads/2015/03/orange-05.jpg\\\" style=\\\"width:100px;height:90px;\\\">\"}]}], \"cols\": [{\"type\": \"string\", \"id\": \"fruit\", \"label\": \"fruit\"}, {\"type\": \"number\", \"id\": \"total\", \"label\": \"total\"}, {\"p\": {\"html\": true, \"role\": \"tooltip\"}, \"type\": \"string\", \"id\": \"tooltip\", \"label\": \"tooltip\"}]});\n",
       "        \n",
       "        // Add formatters, if any\n",
       "\n",
       "        // Create ChartWrapper\n",
       "        var google_chart_33 = new google.visualization.ChartWrapper({      \n",
       "            \"containerId\": \"google_chart_33_div_id\",\n",
       "            \"dataTable\": jugle_chart_33_data,\n",
       "            \"chartType\": \"PieChart\",\n",
       "            \"options\": {\"colors\": [\"#FF0000\", \"#FF8000\"], \"tooltip\": {\"isHtml\": true}}\n",
       "        });\n",
       "\t\t\n",
       "        \n",
       "        google_chart_33.draw();\n",
       "        \n",
       "        \n",
       "    }\n",
       "    \n",
       "</script>\n",
       "\n",
       "<div id=\"google_chart_33_div_id\" ></div>\n",
       "\n"
      ],
      "text/plain": [
       "<IPython.core.display.HTML object>"
      ]
     },
     "metadata": {},
     "output_type": "display_data"
    }
   ],
   "source": [
    "fruit = ['apples', 'oranges']\n",
    "total = [70, 30]\n",
    "tooltip = ['<img src=\"http://dreamatico.com/data_images/apple/apple-7.jpg\" style=\"width:100px;height:80px;\">',\n",
    "           '<img src=\"http://www.jackieleonards.ie/wp-content/uploads/2015/03/orange-05.jpg\" style=\"width:100px;height:90px;\">']\n",
    "\n",
    "df = pd.DataFrame({'fruit': fruit, 'total': total, 'tooltip': tooltip}, columns=['fruit', 'total', 'tooltip'])\n",
    "\n",
    "chart = JoogleChart(df, chart_type=\"PieChart\")\n",
    "\n",
    "# set html to True\n",
    "chart.set_tooltip(2, html=True)\n",
    "\n",
    "chart.add_chart_options(colors=[\"#FF0000\", \"#FF8000\"])\n",
    "\n",
    "chart.show()"
   ]
  },
  {
   "cell_type": "code",
   "execution_count": null,
   "metadata": {
    "collapsed": true
   },
   "outputs": [],
   "source": []
  }
 ],
 "metadata": {
  "kernelspec": {
   "display_name": "Python 2",
   "language": "python",
   "name": "python2"
  },
  "language_info": {
   "codemirror_mode": {
    "name": "ipython",
    "version": 2
   },
   "file_extension": ".py",
   "mimetype": "text/x-python",
   "name": "python",
   "nbconvert_exporter": "python",
   "pygments_lexer": "ipython2",
   "version": "2.7.10"
  }
 },
 "nbformat": 4,
 "nbformat_minor": 0
}
