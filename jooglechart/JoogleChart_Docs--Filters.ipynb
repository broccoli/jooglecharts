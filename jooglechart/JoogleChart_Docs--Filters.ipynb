{
 "cells": [
  {
   "cell_type": "markdown",
   "metadata": {},
   "source": [
    "# Filters\n",
    "The Google Charts API permits the creation of a dashboard with controls, which allows the user to filter the data displayed in the chart.  JoogleChart supports the addition of one or more filters to a chart.\n",
    "\n",
    "A filter can \"bind\" the data or another filter.  When a filter binds the data, the filter affects only the data displayed.  When a filter binds another filter, it affects both the data displayed and the filtering options in the other filter.  By default, a filter in JoogleChart binds the data.  To bind another filter, the binding must be explicitly set.\n",
    "\n",
    "### Filter types\n",
    "Google Charts currently offers the following filters.  All types are supported in JoogleCharts.\n",
    "\n",
    "- CategoryFilter\n",
    "- NumberRangeFilter\n",
    "- DateRangeFilter\n",
    "- ChartRangeFilter\n",
    "- StringFilter\n",
    "\n",
    "### Creating a filter\n",
    "1.  Create a filter object\n",
    "2.  Add filter options, as found in the Google Charts documenation.\n",
    "3.  Add the filter to the chart\n",
    "4.  Bind another filter, if applicable.\n",
    "\n",
    "### Setting filter state\n",
    "We can initialize the filter control with state properties if we want.  See the Google Charts documentation for each control's state properties."
   ]
  },
  {
   "cell_type": "code",
   "execution_count": 23,
   "metadata": {
    "collapsed": true
   },
   "outputs": [],
   "source": [
    "import random\n",
    "import pandas as pd\n",
    "from jooglechart import JoogleChart, Filter"
   ]
  },
  {
   "cell_type": "markdown",
   "metadata": {},
   "source": [
    "Following are some examples of Filter usage."
   ]
  },
  {
   "cell_type": "markdown",
   "metadata": {},
   "source": [
    "## CategoryFilter"
   ]
  },
  {
   "cell_type": "code",
   "execution_count": 24,
   "metadata": {
    "collapsed": false
   },
   "outputs": [
    {
     "data": {
      "text/html": [
       "\n",
       "\n",
       "\n",
       "<script type=\"text/javascript\">\n",
       "\n",
       "    // Check if google jsapi is already loaded.  If not, load it.\n",
       "    if (typeof window.google == 'undefined') {\n",
       "        jQuery.getScript('https://www.google.com/jsapi', function( data, textStatus, jqxhr) {\n",
       "            google_loader_21();\n",
       "        });\n",
       "    } else {\n",
       "        google_loader_21();\n",
       "    }\n",
       "\n",
       "    // load visualization library    \n",
       "    function google_loader_21() {\n",
       "\t\tgoogle.load('visualization', '1.0', {'packages':['controls'], 'callback': doStuff_21});\n",
       "    }\n",
       "    function doStuff_21() {\n",
       "    \n",
       "\n",
       "        // Create DataTable object from DataTable constructor or arrayToDatable()\n",
       "        var jugle_chart_21_data = new google.visualization.arrayToDataTable([['Salesperson', 'State', 'Sales'], ['Bobby', 'TX', 34], ['Bobby', 'LA', 23], ['Bobby', 'CO', 84], ['Marsha', 'TX', 62], ['Marsha', 'IL', 46], ['Marsha', 'OK', 68], ['Cindy', 'KY', 24], ['Cindy', 'LA', 86], ['Cindy', 'OK', 45]])\n",
       "        \n",
       "        // Add formatters, if any\n",
       "\n",
       "        // Create ChartWrapper\n",
       "        var google_chart_21 = new google.visualization.ChartWrapper({      \n",
       "            \"containerId\": \"google_chart_21_div_id\",\n",
       "            \"dataTable\": jugle_chart_21_data,\n",
       "            \"chartType\": \"Table\",\n",
       "            \"options\": {}\n",
       "        });\n",
       "\t\t\n",
       "        // Create a dashboard.\n",
       "        var jugle_chart_21_dashboard = new google.visualization.Dashboard(\n",
       "            document.getElementById('jugle_chart_21_dashboard_div_id'));\n",
       "\n",
       "        // Create controls\n",
       "        var google_filter_21 = new google.visualization.ControlWrapper({\n",
       "          'controlType': 'CategoryFilter',\n",
       "          'containerId': 'google_filter_21_div_id',\n",
       "          'options': {\"ui\": {\"allowMultiple\": true, \"allowNone\": true}, \"filterColumnIndex\": 0},\n",
       "          'state': {}\n",
       "        });\n",
       "\n",
       "        // Establish dependencies.\n",
       "\t\tjugle_chart_21_dashboard.bind(google_filter_21, google_chart_21);\n",
       "\n",
       "        // Draw the dashboard.\n",
       "        jugle_chart_21_dashboard.draw(jugle_chart_21_data);        \n",
       "    }\n",
       "    \n",
       "</script>\n",
       "\n",
       "<div id=\"jugle_chart_21_dashboard_div_id\">\n",
       "\t<div id=\"google_filter_21_div_id\"></div>\n",
       "\t<div id=\"google_chart_21_div_id\" ></div>\n",
       "</div>\n"
      ],
      "text/plain": [
       "<IPython.core.display.HTML object>"
      ]
     },
     "metadata": {},
     "output_type": "display_data"
    }
   ],
   "source": [
    "list1 = []\n",
    "list1.append(['Salesperson', 'State', 'Sales'])\n",
    "list1.append(['Bobby', 'TX', 34])\n",
    "list1.append(['Bobby', 'LA', 23])\n",
    "list1.append(['Bobby', 'CO', 84])\n",
    "list1.append(['Marsha', 'TX', 62])\n",
    "list1.append(['Marsha', 'IL', 46])\n",
    "list1.append(['Marsha', 'OK', 68])\n",
    "list1.append(['Cindy', 'KY', 24])\n",
    "list1.append(['Cindy', 'LA', 86])\n",
    "list1.append(['Cindy', 'OK', 45])\n",
    "\n",
    "table = JoogleChart(list1, chart_type=\"Table\")\n",
    "\n",
    "# create the filter object\n",
    "filter1 = Filter(type=\"CategoryFilter\")\n",
    "\n",
    "# set the filter options\n",
    "filter1.add_options(filterColumnIndex=0, ui_allowMultiple=True, ui_allowNone=True)\n",
    "\n",
    "table.add_filter(filter1)\n",
    "\n",
    "table.show()\n"
   ]
  },
  {
   "cell_type": "markdown",
   "metadata": {},
   "source": [
    "## CategoryFilter: binding another filter"
   ]
  },
  {
   "cell_type": "code",
   "execution_count": 25,
   "metadata": {
    "collapsed": false
   },
   "outputs": [
    {
     "data": {
      "text/html": [
       "\n",
       "\n",
       "\n",
       "<script type=\"text/javascript\">\n",
       "\n",
       "    // Check if google jsapi is already loaded.  If not, load it.\n",
       "    if (typeof window.google == 'undefined') {\n",
       "        jQuery.getScript('https://www.google.com/jsapi', function( data, textStatus, jqxhr) {\n",
       "            google_loader_22();\n",
       "        });\n",
       "    } else {\n",
       "        google_loader_22();\n",
       "    }\n",
       "\n",
       "    // load visualization library    \n",
       "    function google_loader_22() {\n",
       "\t\tgoogle.load('visualization', '1.0', {'packages':['controls'], 'callback': doStuff_22});\n",
       "    }\n",
       "    function doStuff_22() {\n",
       "    \n",
       "\n",
       "        // Create DataTable object from DataTable constructor or arrayToDatable()\n",
       "        var jugle_chart_22_data = new google.visualization.arrayToDataTable([['Salesperson', 'State', 'Sales'], ['Bobby', 'TX', 34], ['Bobby', 'LA', 23], ['Bobby', 'CO', 84], ['Marsha', 'TX', 62], ['Marsha', 'IL', 46], ['Marsha', 'OK', 68], ['Cindy', 'KY', 24], ['Cindy', 'LA', 86], ['Cindy', 'OK', 45]])\n",
       "        \n",
       "        // Add formatters, if any\n",
       "\n",
       "        // Create ChartWrapper\n",
       "        var google_chart_22 = new google.visualization.ChartWrapper({      \n",
       "            \"containerId\": \"google_chart_22_div_id\",\n",
       "            \"dataTable\": jugle_chart_22_data,\n",
       "            \"chartType\": \"Table\",\n",
       "            \"options\": {}\n",
       "        });\n",
       "\t\t\n",
       "        // Create a dashboard.\n",
       "        var jugle_chart_22_dashboard = new google.visualization.Dashboard(\n",
       "            document.getElementById('jugle_chart_22_dashboard_div_id'));\n",
       "\n",
       "        // Create controls\n",
       "        var google_filter_22 = new google.visualization.ControlWrapper({\n",
       "          'controlType': 'CategoryFilter',\n",
       "          'containerId': 'google_filter_22_div_id',\n",
       "          'options': {\"ui\": {\"allowMultiple\": true, \"allowNone\": true}, \"filterColumnIndex\": 0},\n",
       "          'state': {}\n",
       "        });\n",
       "        var google_filter_23 = new google.visualization.ControlWrapper({\n",
       "          'controlType': 'CategoryFilter',\n",
       "          'containerId': 'google_filter_23_div_id',\n",
       "          'options': {\"ui\": {\"allowMultiple\": true, \"allowNone\": true}, \"filterColumnIndex\": 1},\n",
       "          'state': {}\n",
       "        });\n",
       "\n",
       "        // Establish dependencies.\n",
       "\t\tjugle_chart_22_dashboard.bind(google_filter_22, google_filter_23);\n",
       "\t\tjugle_chart_22_dashboard.bind(google_filter_23, google_chart_22);\n",
       "\n",
       "        // Draw the dashboard.\n",
       "        jugle_chart_22_dashboard.draw(jugle_chart_22_data);        \n",
       "    }\n",
       "    \n",
       "</script>\n",
       "\n",
       "<div id=\"jugle_chart_22_dashboard_div_id\">\n",
       "\t<div id=\"google_filter_22_div_id\"></div>\n",
       "\t<div id=\"google_filter_23_div_id\"></div>\n",
       "\t<div id=\"google_chart_22_div_id\" ></div>\n",
       "</div>\n"
      ],
      "text/plain": [
       "<IPython.core.display.HTML object>"
      ]
     },
     "metadata": {},
     "output_type": "display_data"
    }
   ],
   "source": [
    "# binding a second filter to the first will cause the first filter to \n",
    "# control the selectable options in the second.\n",
    "\n",
    "filter2 = Filter(type=\"CategoryFilter\")\n",
    "filter2.add_options(filterColumnIndex=1, ui_allowMultiple=True, ui_allowNone=True)\n",
    "\n",
    "table.add_filter(filter2)\n",
    "\n",
    "filter1.bind_filter(filter2)\n",
    "\n",
    "table.show()"
   ]
  },
  {
   "cell_type": "markdown",
   "metadata": {},
   "source": [
    "## CategoryFilter:  filtering a non-table chart\n",
    "To filter on a non-display column, you'll need to set the viewable columns on the chart with the **set_view_cols()** method.  In essence, you're hiding the filtering column.  Doing this keeps the charted data in accord with the data model required for the desired chart type.  Omitting this step will produce an error message from Google Charts."
   ]
  },
  {
   "cell_type": "code",
   "execution_count": 26,
   "metadata": {
    "collapsed": false
   },
   "outputs": [
    {
     "data": {
      "text/html": [
       "\n",
       "\n",
       "\n",
       "<script type=\"text/javascript\">\n",
       "\n",
       "    // Check if google jsapi is already loaded.  If not, load it.\n",
       "    if (typeof window.google == 'undefined') {\n",
       "        jQuery.getScript('https://www.google.com/jsapi', function( data, textStatus, jqxhr) {\n",
       "            google_loader_23();\n",
       "        });\n",
       "    } else {\n",
       "        google_loader_23();\n",
       "    }\n",
       "\n",
       "    // load visualization library    \n",
       "    function google_loader_23() {\n",
       "\t\tgoogle.load('visualization', '1.0', {'packages':['controls'], 'callback': doStuff_23});\n",
       "    }\n",
       "    function doStuff_23() {\n",
       "    \n",
       "\n",
       "        // Create DataTable object from DataTable constructor or arrayToDatable()\n",
       "        var jugle_chart_23_data = new google.visualization.DataTable({\"rows\":[{\"c\":[{\"v\":\"CA\"},{\"v\":\"Modesto\"},{\"v\":35},{\"v\":23}]},{\"c\":[{\"v\":\"CA\"},{\"v\":\"Sacramento\"},{\"v\":65},{\"v\":64}]},{\"c\":[{\"v\":\"CA\"},{\"v\":\"Redlands\"},{\"v\":44},{\"v\":23}]},{\"c\":[{\"v\":\"TX\"},{\"v\":\"Flugerville\"},{\"v\":76},{\"v\":24}]},{\"c\":[{\"v\":\"TX\"},{\"v\":\"Laredo\"},{\"v\":24},{\"v\":75}]},{\"c\":[{\"v\":\"TX\"},{\"v\":\"El Paso\"},{\"v\":46},{\"v\":24}]}],\"cols\":[{\"type\":\"string\",\"id\":\"state\",\"label\":\"state\"},{\"type\":\"string\",\"id\":\"city\",\"label\":\"city\"},{\"type\":\"number\",\"id\":\"coconuts\",\"label\":\"coconuts\"},{\"type\":\"number\",\"id\":\"mangos\",\"label\":\"mangos\"}]});\n",
       "        \n",
       "        // Add formatters, if any\n",
       "\n",
       "        // Create ChartWrapper\n",
       "        var google_chart_23 = new google.visualization.ChartWrapper({      \n",
       "            \"containerId\": \"google_chart_23_div_id\",\n",
       "            \"dataTable\": jugle_chart_23_data,\n",
       "            \"view\": {columns: [1, 2, 3]},  \n",
       "            \"chartType\": \"ColumnChart\",\n",
       "            \"options\": {}\n",
       "        });\n",
       "\t\t\n",
       "        // Create a dashboard.\n",
       "        var jugle_chart_23_dashboard = new google.visualization.Dashboard(\n",
       "            document.getElementById('jugle_chart_23_dashboard_div_id'));\n",
       "\n",
       "        // Create controls\n",
       "        var google_filter_24 = new google.visualization.ControlWrapper({\n",
       "          'controlType': 'CategoryFilter',\n",
       "          'containerId': 'google_filter_24_div_id',\n",
       "          'options': {\"ui\": {\"allowMultiple\": true, \"allowNone\": true}, \"filterColumnIndex\": 0},\n",
       "          'state': {}\n",
       "        });\n",
       "\n",
       "        // Establish dependencies.\n",
       "\t\tjugle_chart_23_dashboard.bind(google_filter_24, google_chart_23);\n",
       "\n",
       "        // Draw the dashboard.\n",
       "        jugle_chart_23_dashboard.draw(jugle_chart_23_data);        \n",
       "    }\n",
       "    \n",
       "</script>\n",
       "\n",
       "<div id=\"jugle_chart_23_dashboard_div_id\">\n",
       "\t<div id=\"google_filter_24_div_id\"></div>\n",
       "\t<div id=\"google_chart_23_div_id\" ></div>\n",
       "</div>\n"
      ],
      "text/plain": [
       "<IPython.core.display.HTML object>"
      ]
     },
     "metadata": {},
     "output_type": "display_data"
    }
   ],
   "source": [
    "# Create a dataframe with two categories and a couple of data series\n",
    "state = ['CA', 'CA', 'CA', 'TX', 'TX', 'TX']\n",
    "city = ['Modesto', 'Sacramento', 'Redlands', 'Flugerville', 'Laredo', 'El Paso']\n",
    "coconuts = [35, 65, 44, 76, 24, 46]\n",
    "mangos = [23, 64, 23, 24, 75, 24]\n",
    "df = pd.DataFrame({'state': state, 'city': city, 'coconuts': coconuts, 'mangos': mangos},\n",
    "                  columns=['state', 'city', 'coconuts', 'mangos'])\n",
    "\n",
    "chart = JoogleChart(df, chart_type=\"ColumnChart\")\n",
    "\n",
    "filter1 = Filter(type=\"CategoryFilter\")\n",
    "filter1.add_options(filterColumnIndex=0, ui_allowMultiple=True, ui_allowNone=True)\n",
    "\n",
    "chart.add_filter(filter1)\n",
    "\n",
    "# REQURIED:  set the viewable columns\n",
    "chart.set_view_cols([1, 2, 3])\n",
    "\n",
    "chart.show()"
   ]
  },
  {
   "cell_type": "markdown",
   "metadata": {},
   "source": [
    "## NumberRangeFilter"
   ]
  },
  {
   "cell_type": "code",
   "execution_count": 27,
   "metadata": {
    "collapsed": false
   },
   "outputs": [
    {
     "data": {
      "text/html": [
       "\n",
       "\n",
       "\n",
       "<script type=\"text/javascript\">\n",
       "\n",
       "    // Check if google jsapi is already loaded.  If not, load it.\n",
       "    if (typeof window.google == 'undefined') {\n",
       "        jQuery.getScript('https://www.google.com/jsapi', function( data, textStatus, jqxhr) {\n",
       "            google_loader_24();\n",
       "        });\n",
       "    } else {\n",
       "        google_loader_24();\n",
       "    }\n",
       "\n",
       "    // load visualization library    \n",
       "    function google_loader_24() {\n",
       "\t\tgoogle.load('visualization', '1.0', {'packages':['controls'], 'callback': doStuff_24});\n",
       "    }\n",
       "    function doStuff_24() {\n",
       "    \n",
       "\n",
       "        // Create DataTable object from DataTable constructor or arrayToDatable()\n",
       "        var jugle_chart_24_data = new google.visualization.DataTable({\"rows\":[{\"c\":[{\"v\":\"New York\"},{\"v\":12}]},{\"c\":[{\"v\":\"Chicago\"},{\"v\":32}]},{\"c\":[{\"v\":\"Dallas\"},{\"v\":5}]},{\"c\":[{\"v\":\"Boston\"},{\"v\":20}]}],\"cols\":[{\"type\":\"string\",\"id\":\"cities\",\"label\":\"cities\"},{\"type\":\"number\",\"id\":\"pies\",\"label\":\"pies\"}]});\n",
       "        \n",
       "        // Add formatters, if any\n",
       "\n",
       "        // Create ChartWrapper\n",
       "        var google_chart_24 = new google.visualization.ChartWrapper({      \n",
       "            \"containerId\": \"google_chart_24_div_id\",\n",
       "            \"dataTable\": jugle_chart_24_data,\n",
       "            \"chartType\": \"PieChart\",\n",
       "            \"options\": {}\n",
       "        });\n",
       "\t\t\n",
       "        // Create a dashboard.\n",
       "        var jugle_chart_24_dashboard = new google.visualization.Dashboard(\n",
       "            document.getElementById('jugle_chart_24_dashboard_div_id'));\n",
       "\n",
       "        // Create controls\n",
       "        var google_filter_25 = new google.visualization.ControlWrapper({\n",
       "          'controlType': 'NumberRangeFilter',\n",
       "          'containerId': 'google_filter_25_div_id',\n",
       "          'options': {\"filterColumnIndex\": 1},\n",
       "          'state': {}\n",
       "        });\n",
       "\n",
       "        // Establish dependencies.\n",
       "\t\tjugle_chart_24_dashboard.bind(google_filter_25, google_chart_24);\n",
       "\n",
       "        // Draw the dashboard.\n",
       "        jugle_chart_24_dashboard.draw(jugle_chart_24_data);        \n",
       "    }\n",
       "    \n",
       "</script>\n",
       "\n",
       "<div id=\"jugle_chart_24_dashboard_div_id\">\n",
       "\t<div id=\"google_filter_25_div_id\"></div>\n",
       "\t<div id=\"google_chart_24_div_id\" ></div>\n",
       "</div>\n"
      ],
      "text/plain": [
       "<IPython.core.display.HTML object>"
      ]
     },
     "metadata": {},
     "output_type": "display_data"
    }
   ],
   "source": [
    "cities = ['New York', 'Chicago', 'Dallas', 'Boston']\n",
    "pies = [12, 32, 5, 20]\n",
    "pies_df = pd.DataFrame({'cities': cities, 'pies': pies}, columns=['cities', 'pies'])\n",
    "\n",
    "pie = JoogleChart(pies_df, chart_type=\"PieChart\")\n",
    "\n",
    "filter1 = Filter(type=\"NumberRangeFilter\")\n",
    "filter1.add_options(filterColumnIndex=1)\n",
    "\n",
    "pie.add_filter(filter1)\n",
    "\n",
    "pie.show()\n"
   ]
  },
  {
   "cell_type": "markdown",
   "metadata": {},
   "source": [
    "## NumberRangeFilter:  adding state"
   ]
  },
  {
   "cell_type": "code",
   "execution_count": 28,
   "metadata": {
    "collapsed": false
   },
   "outputs": [
    {
     "data": {
      "text/html": [
       "\n",
       "\n",
       "\n",
       "<script type=\"text/javascript\">\n",
       "\n",
       "    // Check if google jsapi is already loaded.  If not, load it.\n",
       "    if (typeof window.google == 'undefined') {\n",
       "        jQuery.getScript('https://www.google.com/jsapi', function( data, textStatus, jqxhr) {\n",
       "            google_loader_25();\n",
       "        });\n",
       "    } else {\n",
       "        google_loader_25();\n",
       "    }\n",
       "\n",
       "    // load visualization library    \n",
       "    function google_loader_25() {\n",
       "\t\tgoogle.load('visualization', '1.0', {'packages':['controls'], 'callback': doStuff_25});\n",
       "    }\n",
       "    function doStuff_25() {\n",
       "    \n",
       "\n",
       "        // Create DataTable object from DataTable constructor or arrayToDatable()\n",
       "        var jugle_chart_25_data = new google.visualization.DataTable({\"rows\":[{\"c\":[{\"v\":\"New York\"},{\"v\":12}]},{\"c\":[{\"v\":\"Chicago\"},{\"v\":32}]},{\"c\":[{\"v\":\"Dallas\"},{\"v\":5}]},{\"c\":[{\"v\":\"Boston\"},{\"v\":20}]}],\"cols\":[{\"type\":\"string\",\"id\":\"cities\",\"label\":\"cities\"},{\"type\":\"number\",\"id\":\"pies\",\"label\":\"pies\"}]});\n",
       "        \n",
       "        // Add formatters, if any\n",
       "\n",
       "        // Create ChartWrapper\n",
       "        var google_chart_25 = new google.visualization.ChartWrapper({      \n",
       "            \"containerId\": \"google_chart_25_div_id\",\n",
       "            \"dataTable\": jugle_chart_25_data,\n",
       "            \"chartType\": \"PieChart\",\n",
       "            \"options\": {}\n",
       "        });\n",
       "\t\t\n",
       "        // Create a dashboard.\n",
       "        var jugle_chart_25_dashboard = new google.visualization.Dashboard(\n",
       "            document.getElementById('jugle_chart_25_dashboard_div_id'));\n",
       "\n",
       "        // Create controls\n",
       "        var google_filter_26 = new google.visualization.ControlWrapper({\n",
       "          'controlType': 'NumberRangeFilter',\n",
       "          'containerId': 'google_filter_26_div_id',\n",
       "          'options': {\"filterColumnIndex\": 1},\n",
       "          'state': {\"lowValue\": 10, \"highValue\": 25}\n",
       "        });\n",
       "\n",
       "        // Establish dependencies.\n",
       "\t\tjugle_chart_25_dashboard.bind(google_filter_26, google_chart_25);\n",
       "\n",
       "        // Draw the dashboard.\n",
       "        jugle_chart_25_dashboard.draw(jugle_chart_25_data);        \n",
       "    }\n",
       "    \n",
       "</script>\n",
       "\n",
       "<div id=\"jugle_chart_25_dashboard_div_id\">\n",
       "\t<div id=\"google_filter_26_div_id\"></div>\n",
       "\t<div id=\"google_chart_25_div_id\" ></div>\n",
       "</div>\n"
      ],
      "text/plain": [
       "<IPython.core.display.HTML object>"
      ]
     },
     "metadata": {},
     "output_type": "display_data"
    }
   ],
   "source": [
    "# We will add state values to the filter we created above.  Notice that we can modify the filter object\n",
    "# at any time, even after it has been added to the chart object.\n",
    "filter1.add_state(lowValue=10, highValue=25)\n",
    "\n",
    "pie.show()"
   ]
  },
  {
   "cell_type": "markdown",
   "metadata": {},
   "source": [
    "## DateRangeFilter\n",
    "To add lowValue and highValue to a DateRangeFilter, pass a python date or datetime object.  Pandas Timestamp objects will also work."
   ]
  },
  {
   "cell_type": "code",
   "execution_count": 29,
   "metadata": {
    "collapsed": false
   },
   "outputs": [
    {
     "data": {
      "text/html": [
       "\n",
       "\n",
       "\n",
       "<script type=\"text/javascript\">\n",
       "\n",
       "    // Check if google jsapi is already loaded.  If not, load it.\n",
       "    if (typeof window.google == 'undefined') {\n",
       "        jQuery.getScript('https://www.google.com/jsapi', function( data, textStatus, jqxhr) {\n",
       "            google_loader_26();\n",
       "        });\n",
       "    } else {\n",
       "        google_loader_26();\n",
       "    }\n",
       "\n",
       "    // load visualization library    \n",
       "    function google_loader_26() {\n",
       "\t\tgoogle.load('visualization', '1.0', {'packages':['controls'], 'callback': doStuff_26});\n",
       "    }\n",
       "    function doStuff_26() {\n",
       "    \n",
       "\n",
       "        // Create DataTable object from DataTable constructor or arrayToDatable()\n",
       "        var jugle_chart_26_data = new google.visualization.DataTable({\"rows\":[{\"c\":[{\"v\":\"Date(2016,0,1)\"},{\"v\":11}]},{\"c\":[{\"v\":\"Date(2016,0,2)\"},{\"v\":19}]},{\"c\":[{\"v\":\"Date(2016,0,3)\"},{\"v\":18}]},{\"c\":[{\"v\":\"Date(2016,0,4)\"},{\"v\":12}]},{\"c\":[{\"v\":\"Date(2016,0,5)\"},{\"v\":15}]},{\"c\":[{\"v\":\"Date(2016,0,6)\"},{\"v\":14}]},{\"c\":[{\"v\":\"Date(2016,0,7)\"},{\"v\":17}]},{\"c\":[{\"v\":\"Date(2016,0,8)\"},{\"v\":18}]},{\"c\":[{\"v\":\"Date(2016,0,9)\"},{\"v\":11}]},{\"c\":[{\"v\":\"Date(2016,0,10)\"},{\"v\":10}]},{\"c\":[{\"v\":\"Date(2016,0,11)\"},{\"v\":19}]},{\"c\":[{\"v\":\"Date(2016,0,12)\"},{\"v\":14}]},{\"c\":[{\"v\":\"Date(2016,0,13)\"},{\"v\":18}]},{\"c\":[{\"v\":\"Date(2016,0,14)\"},{\"v\":10}]},{\"c\":[{\"v\":\"Date(2016,0,15)\"},{\"v\":14}]},{\"c\":[{\"v\":\"Date(2016,0,16)\"},{\"v\":17}]},{\"c\":[{\"v\":\"Date(2016,0,17)\"},{\"v\":12}]},{\"c\":[{\"v\":\"Date(2016,0,18)\"},{\"v\":20}]},{\"c\":[{\"v\":\"Date(2016,0,19)\"},{\"v\":19}]},{\"c\":[{\"v\":\"Date(2016,0,20)\"},{\"v\":10}]}],\"cols\":[{\"type\":\"date\",\"id\":\"dates\",\"label\":\"dates\"},{\"type\":\"number\",\"id\":\"widgets\",\"label\":\"widgets\"}]});\n",
       "        \n",
       "        // Add formatters, if any\n",
       "\n",
       "        // Create ChartWrapper\n",
       "        var google_chart_26 = new google.visualization.ChartWrapper({      \n",
       "            \"containerId\": \"google_chart_26_div_id\",\n",
       "            \"dataTable\": jugle_chart_26_data,\n",
       "            \"chartType\": \"LineChart\",\n",
       "            \"options\": {}\n",
       "        });\n",
       "\t\t\n",
       "        // Create a dashboard.\n",
       "        var jugle_chart_26_dashboard = new google.visualization.Dashboard(\n",
       "            document.getElementById('jugle_chart_26_dashboard_div_id'));\n",
       "\n",
       "        // Create controls\n",
       "        var google_filter_27 = new google.visualization.ControlWrapper({\n",
       "          'controlType': 'DateRangeFilter',\n",
       "          'containerId': 'google_filter_27_div_id',\n",
       "          'options': {\"filterColumnIndex\": 0},\n",
       "          'state': {\"lowValue\": new Date(2016, 0, 7, 0, 0, 0), \"highValue\": new Date(2016, 0, 15, 0, 0, 0)}\n",
       "        });\n",
       "\n",
       "        // Establish dependencies.\n",
       "\t\tjugle_chart_26_dashboard.bind(google_filter_27, google_chart_26);\n",
       "\n",
       "        // Draw the dashboard.\n",
       "        jugle_chart_26_dashboard.draw(jugle_chart_26_data);        \n",
       "    }\n",
       "    \n",
       "</script>\n",
       "\n",
       "<div id=\"jugle_chart_26_dashboard_div_id\">\n",
       "\t<div id=\"google_filter_27_div_id\"></div>\n",
       "\t<div id=\"google_chart_26_div_id\" ></div>\n",
       "</div>\n"
      ],
      "text/plain": [
       "<IPython.core.display.HTML object>"
      ]
     },
     "metadata": {},
     "output_type": "display_data"
    }
   ],
   "source": [
    "# Create a dataframe with a series of dates\n",
    "periods = 20\n",
    "dates = pd.date_range('2016-01-01', periods=periods, freq='D')\n",
    "\n",
    "random.seed(1)\n",
    "widgets = [random.randint(10, 20) for i in range(periods)]\n",
    "\n",
    "data = {}\n",
    "data['dates'] = dates\n",
    "data['widgets'] = widgets\n",
    "columns = ['dates', 'widgets']\n",
    "\n",
    "df = pd.DataFrame(data, columns=columns)\n",
    "\n",
    "date_chart = JoogleChart(df, chart_type = \"LineChart\")\n",
    "\n",
    "# Create DateRangeFilter and add state values as date objects\n",
    "filter1 = Filter(\"DateRangeFilter\")\n",
    "filter1.add_options(filterColumnIndex=0)\n",
    "\n",
    "low_value = pd.to_datetime('2016-01-07')\n",
    "filter1.add_state(lowValue=low_value)\n",
    "\n",
    "high_value = pd.to_datetime('2016-01-15')\n",
    "filter1.add_state(highValue=high_value)\n",
    "\n",
    "date_chart.add_filter(filter1)\n",
    "\n",
    "date_chart.show()"
   ]
  },
  {
   "cell_type": "markdown",
   "metadata": {},
   "source": [
    "## Series Filter\n",
    "JoogleCharts has a custom filter that allows the user to filter on columns of the data, rather than rows.  If a SeriesFilter is applied to a line chart, for example, lines will appear or disappear as the series of data are selected or deselected.\n",
    "\n",
    "The SeriesFilter can be used wherever the data model"
   ]
  },
  {
   "cell_type": "code",
   "execution_count": null,
   "metadata": {
    "collapsed": true
   },
   "outputs": [],
   "source": []
  }
 ],
 "metadata": {
  "kernelspec": {
   "display_name": "Python 2",
   "language": "python",
   "name": "python2"
  },
  "language_info": {
   "codemirror_mode": {
    "name": "ipython",
    "version": 2
   },
   "file_extension": ".py",
   "mimetype": "text/x-python",
   "name": "python",
   "nbconvert_exporter": "python",
   "pygments_lexer": "ipython2",
   "version": "2.7.10"
  }
 },
 "nbformat": 4,
 "nbformat_minor": 0
}
