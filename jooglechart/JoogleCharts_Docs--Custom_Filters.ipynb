{
 "cells": [
  {
   "cell_type": "markdown",
   "metadata": {},
   "source": [
    "# Custom Filters\n",
    "In addition to the filters documented in Google Charts, JoogleCharts provides some custom filters.  The custom filters are typically extensions of the filters provided by Google Charts, so be sure to read about how to use the regular filters in JoogleCharts."
   ]
  },
  {
   "cell_type": "code",
   "execution_count": 1,
   "metadata": {
    "collapsed": false
   },
   "outputs": [
    {
     "ename": "ImportError",
     "evalue": "cannot import name SuperCategoryFilter",
     "output_type": "error",
     "traceback": [
      "\u001b[0;31m---------------------------------------------------------------------------\u001b[0m",
      "\u001b[0;31mImportError\u001b[0m                               Traceback (most recent call last)",
      "\u001b[0;32m<ipython-input-1-f5f0a0da3a97>\u001b[0m in \u001b[0;36m<module>\u001b[0;34m()\u001b[0m\n\u001b[1;32m      1\u001b[0m \u001b[0;32mimport\u001b[0m \u001b[0mpandas\u001b[0m \u001b[0;32mas\u001b[0m \u001b[0mpd\u001b[0m\u001b[0;34m\u001b[0m\u001b[0m\n\u001b[0;32m----> 2\u001b[0;31m \u001b[0;32mfrom\u001b[0m \u001b[0mjooglechart\u001b[0m \u001b[0;32mimport\u001b[0m \u001b[0mJoogleChart\u001b[0m\u001b[0;34m,\u001b[0m \u001b[0mFilter\u001b[0m\u001b[0;34m,\u001b[0m \u001b[0mSeriesFilter\u001b[0m\u001b[0;34m,\u001b[0m \u001b[0mSuperCategoryFilter\u001b[0m\u001b[0;34m\u001b[0m\u001b[0m\n\u001b[0m",
      "\u001b[0;31mImportError\u001b[0m: cannot import name SuperCategoryFilter"
     ]
    }
   ],
   "source": [
    "import pandas as pd\n",
    "from jooglechart import JoogleChart, Filter, SeriesFilter, SuperCategoryFilter"
   ]
  },
  {
   "cell_type": "markdown",
   "metadata": {},
   "source": [
    "## Series Filter\n",
    "JoogleCharts has a custom filter that allows the user to filter on columns of the data, rather than rows.  The data model used in the chart must have a column of categories, followed by columns with data series, as with a line chart or column chart.  If a SeriesFilter is applied to a line chart, for example, lines will appear or disappear as the series of data are selected or deselected.\n",
    "\n",
    "The SeriesFilter will be most effective with a chart like line chart or ***stacked*** column chart, where series can be toggled on and off without leaving gaps along the axis where the data is now \"missing.\"\n",
    "\n",
    "The SeriesFilter under the hood is a re-purporsed CategoryFilter, so any options CategoryFilter takes can be applied to SeriesFilter.  However, not all will be relevant; filterColumnLabel and filterColumnIndex cannot be used.\n",
    "\n",
    "By default, all available series will be selected on rendering.  The filter can be initialized with selections by passing SelectedValues as added filter state.  The default label for the filter is \"Columns,\" which can be overriden with the ui.label filter option.\n",
    "\n",
    "SeriesFilter can be combined with other types of filters.  In that case, the SeriesFilter will be rendered on top.\n",
    "\n",
    "SeriesFilter will work even when the view_cols have been set (i.e., where some columns have been hidden), and when columns have been set as roles, including tooltips."
   ]
  },
  {
   "cell_type": "code",
   "execution_count": null,
   "metadata": {
    "collapsed": true
   },
   "outputs": [],
   "source": [
    "bradys = ['Bobby', 'Cindy', 'Jan']\n",
    "snickers = [34, 64, 24]\n",
    "mounds = [20, 32, 41]\n",
    "milky_way = [35, 32, 50]\n",
    "payday = [23, 64, 27]\n",
    "\n",
    "d = {}\n",
    "d['Kids'] = bradys\n",
    "d['Snickers'] = snickers\n",
    "d['Mounds'] = mounds\n",
    "d['Milky Way'] = milky_way\n",
    "d['Payday'] = payday\n",
    "sf_df = pd.DataFrame(d, columns=['Kids', 'Snickers', 'Mounds', 'Milky Way', 'Payday'])\n",
    "\n",
    "chart = JoogleChart(sf_df, chart_type=\"ColumnChart\")\n",
    "chart.add_chart_options(isStacked=True)\n",
    "sf = SeriesFilter()\n",
    "sf.add_options(ui_label=\"Candy Bars\")\n",
    "chart.add_filter(sf)\n",
    "chart.show()"
   ]
  },
  {
   "cell_type": "code",
   "execution_count": null,
   "metadata": {
    "collapsed": true
   },
   "outputs": [],
   "source": []
  }
 ],
 "metadata": {
  "kernelspec": {
   "display_name": "Python 2",
   "language": "python",
   "name": "python2"
  },
  "language_info": {
   "codemirror_mode": {
    "name": "ipython",
    "version": 2
   },
   "file_extension": ".py",
   "mimetype": "text/x-python",
   "name": "python",
   "nbconvert_exporter": "python",
   "pygments_lexer": "ipython2",
   "version": "2.7.10"
  }
 },
 "nbformat": 4,
 "nbformat_minor": 0
}
