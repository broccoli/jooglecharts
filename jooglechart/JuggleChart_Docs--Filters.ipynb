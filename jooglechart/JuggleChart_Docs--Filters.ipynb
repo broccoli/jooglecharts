{
 "cells": [
  {
   "cell_type": "markdown",
   "metadata": {},
   "source": [
    "# Filters\n",
    "The Google Charts API permits the creation of a dashboard with controls, which allow the user to filter the data displayed in the chart.  JugleChart supports the addition of one or more filters to a chart.\n",
    "\n",
    "A filter can \"bind\" the data or another filter.  When a filter binds the data, the filter affects only the data displayed.  When a filter binds another filter, it affects both the data displayed and the filtering options in the other filter.  By default, a filter in JugleChart binds the data.  To bind another filter, the binding must be explicitly set.\n",
    "\n",
    "### Filter types\n",
    "Google Charts currently offers the following filters.  All types are supported in JugleCharts.\n",
    "\n",
    "- CategoryFilter\n",
    "- NumberRangeFilter\n",
    "- DateRangeFilter\n",
    "- ... more\n",
    "\n",
    "### Creating a filter\n",
    "1.  Create a filter object\n",
    "2.  Add filter options, as found in ...\n",
    "3.  Add the filter to the chart\n",
    "4.  Bind another filter, if applicable.\n",
    "\n",
    "### Setting filter state\n",
    "We can initialize the filter control's with state properties if we want.  See the Google Charts documentation for each control's state properties."
   ]
  },
  {
   "cell_type": "code",
   "execution_count": 5,
   "metadata": {
    "collapsed": true
   },
   "outputs": [],
   "source": [
    "import pandas as pd\n",
    "from juglechart_api import JugleChart, Filter"
   ]
  },
  {
   "cell_type": "markdown",
   "metadata": {},
   "source": [
    "## CategoryFilter"
   ]
  },
  {
   "cell_type": "code",
   "execution_count": 8,
   "metadata": {
    "collapsed": false
   },
   "outputs": [
    {
     "data": {
      "text/html": [
       "\n",
       "\n",
       "\n",
       "<script type=\"text/javascript\">\n",
       "\n",
       "    // Check if google jsapi is already loaded.  If not, load it.\n",
       "    if (typeof window.google == 'undefined') {\n",
       "        jQuery.getScript('https://www.google.com/jsapi', function( data, textStatus, jqxhr) {\n",
       "            google_loader();\n",
       "        });\n",
       "    } else {\n",
       "        google_loader();\n",
       "    }\n",
       "\n",
       "    // load visualization library    \n",
       "    function google_loader() {\n",
       "\t\tgoogle.load('visualization', '1.0', {'packages':['controls'], 'callback': doStuff});\n",
       "    }\n",
       "    function doStuff() {\n",
       "    \n",
       "\n",
       "        // Create DataTable object from DataTable constructor or arrayToDatable()\n",
       "        var google_chart_4_data = new google.visualization.arrayToDataTable([['Salesperson', 'State', 'Sales'], ['Bobby', 'TX', 34], ['Bobby', 'LA', 23], ['Bobby', 'CO', 84], ['Marsha', 'TX', 62], ['Marsha', 'IL', 46], ['Marsha', 'OK', 68], ['Cindy', 'KY', 24], ['Cindy', 'LA', 86], ['Cindy', 'OK', 45]])\n",
       "        \n",
       "        // Add formatters, if any\n",
       "\n",
       "        // Create ChartWrapper\n",
       "        var google_chart_4 = new google.visualization.ChartWrapper({      \n",
       "            \"containerId\": \"google_chart_4_div_id\",\n",
       "            \"dataTable\": google_chart_4_data,\n",
       "            \"chartType\": \"Table\",\n",
       "            \"options\": {}\n",
       "        });\t\t\n",
       "        // Create a dashboard.\n",
       "        var google_chart_4_dashboard = new google.visualization.Dashboard(\n",
       "            document.getElementById('google_chart_4_dashboard_div_id'));\n",
       "\n",
       "        // Create controls\n",
       "        var google_filter_4 = new google.visualization.ControlWrapper({\n",
       "          'controlType': 'CategoryFilter',\n",
       "          'containerId': 'google_filter_4_div_id',\n",
       "          'options': {\"ui\": {\"allowMultiple\": true, \"allowNone\": true}, \"filterColumnIndex\": 0},\n",
       "          'state': {}\n",
       "        });\n",
       "\n",
       "        // Establish dependencies.\n",
       "\t\tgoogle_chart_4_dashboard.bind(google_filter_4, google_chart_4);\n",
       "\n",
       "        // Draw the dashboard.\n",
       "        google_chart_4_dashboard.draw(google_chart_4_data);        \n",
       "    }\n",
       "    \n",
       "</script>\n",
       "\n",
       "<div id=\"google_chart_4_dashboard_div_id\">\n",
       "\t<div id=\"google_filter_4_div_id\"></div>\n",
       "\t<div id=\"google_chart_4_div_id\" ></div>\n",
       "</div>\n"
      ],
      "text/plain": [
       "<IPython.core.display.HTML object>"
      ]
     },
     "metadata": {},
     "output_type": "display_data"
    }
   ],
   "source": [
    "list1 = []\n",
    "list1.append(['Salesperson', 'State', 'Sales'])\n",
    "list1.append(['Bobby', 'TX', 34])\n",
    "list1.append(['Bobby', 'LA', 23])\n",
    "list1.append(['Bobby', 'CO', 84])\n",
    "list1.append(['Marsha', 'TX', 62])\n",
    "list1.append(['Marsha', 'IL', 46])\n",
    "list1.append(['Marsha', 'OK', 68])\n",
    "list1.append(['Cindy', 'KY', 24])\n",
    "list1.append(['Cindy', 'LA', 86])\n",
    "list1.append(['Cindy', 'OK', 45])\n",
    "\n",
    "table = JugleChart(list1, chart_type=\"Table\")\n",
    "\n",
    "# create the filter object\n",
    "filter1 = Filter(type=\"CategoryFilter\")\n",
    "\n",
    "# set the filter options\n",
    "filter1.add_options(filterColumnIndex=0, ui_allowMultiple=True, ui_allowNone=True)\n",
    "\n",
    "table.add_filter(filter1)\n",
    "\n",
    "table.show()\n"
   ]
  },
  {
   "cell_type": "markdown",
   "metadata": {},
   "source": [
    "## CategoryFilter: binding another filter"
   ]
  },
  {
   "cell_type": "code",
   "execution_count": 7,
   "metadata": {
    "collapsed": false
   },
   "outputs": [
    {
     "data": {
      "text/html": [
       "\n",
       "\n",
       "\n",
       "<script type=\"text/javascript\">\n",
       "\n",
       "    // Check if google jsapi is already loaded.  If not, load it.\n",
       "    if (typeof window.google == 'undefined') {\n",
       "        jQuery.getScript('https://www.google.com/jsapi', function( data, textStatus, jqxhr) {\n",
       "            google_loader();\n",
       "        });\n",
       "    } else {\n",
       "        google_loader();\n",
       "    }\n",
       "\n",
       "    // load visualization library    \n",
       "    function google_loader() {\n",
       "\t\tgoogle.load('visualization', '1.0', {'packages':['controls'], 'callback': doStuff});\n",
       "    }\n",
       "    function doStuff() {\n",
       "    \n",
       "\n",
       "        // Create DataTable object from DataTable constructor or arrayToDatable()\n",
       "        var google_chart_3_data = new google.visualization.arrayToDataTable([['Salesperson', 'State', 'Sales'], ['Bobby', 'TX', 34], ['Bobby', 'LA', 23], ['Bobby', 'CO', 84], ['Marsha', 'TX', 62], ['Marsha', 'IL', 46], ['Marsha', 'OK', 68], ['Cindy', 'KY', 24], ['Cindy', 'LA', 86], ['Cindy', 'OK', 45]])\n",
       "        \n",
       "        // Add formatters, if any\n",
       "\n",
       "        // Create ChartWrapper\n",
       "        var google_chart_3 = new google.visualization.ChartWrapper({      \n",
       "            \"containerId\": \"google_chart_3_div_id\",\n",
       "            \"dataTable\": google_chart_3_data,\n",
       "            \"chartType\": \"ColumnChart\",\n",
       "            \"options\": {}\n",
       "        });\t\t\n",
       "        // Create a dashboard.\n",
       "        var google_chart_3_dashboard = new google.visualization.Dashboard(\n",
       "            document.getElementById('google_chart_3_dashboard_div_id'));\n",
       "\n",
       "        // Create controls\n",
       "        var google_filter_1 = new google.visualization.ControlWrapper({\n",
       "          'controlType': 'CategoryFilter',\n",
       "          'containerId': 'google_filter_1_div_id',\n",
       "          'options': {\"ui\": {\"allowMultiple\": true, \"allowNone\": true}, \"filterColumnIndex\": 0},\n",
       "          'state': {}\n",
       "        });\n",
       "        var google_filter_2 = new google.visualization.ControlWrapper({\n",
       "          'controlType': 'CategoryFilter',\n",
       "          'containerId': 'google_filter_2_div_id',\n",
       "          'options': {\"ui\": {\"allowMultiple\": true, \"allowNone\": true}, \"filterColumnIndex\": 1},\n",
       "          'state': {}\n",
       "        });\n",
       "        var google_filter_3 = new google.visualization.ControlWrapper({\n",
       "          'controlType': 'CategoryFilter',\n",
       "          'containerId': 'google_filter_3_div_id',\n",
       "          'options': {\"ui\": {\"allowMultiple\": true, \"allowNone\": true}, \"filterColumnIndex\": 1},\n",
       "          'state': {}\n",
       "        });\n",
       "\n",
       "        // Establish dependencies.\n",
       "\t\tgoogle_chart_3_dashboard.bind(google_filter_1, google_filter_3);\n",
       "\t\tgoogle_chart_3_dashboard.bind(google_filter_2, google_chart_3);\n",
       "\t\tgoogle_chart_3_dashboard.bind(google_filter_3, google_chart_3);\n",
       "\n",
       "        // Draw the dashboard.\n",
       "        google_chart_3_dashboard.draw(google_chart_3_data);        \n",
       "    }\n",
       "    \n",
       "</script>\n",
       "\n",
       "<div id=\"google_chart_3_dashboard_div_id\">\n",
       "\t<div id=\"google_filter_1_div_id\"></div>\n",
       "\t<div id=\"google_filter_2_div_id\"></div>\n",
       "\t<div id=\"google_filter_3_div_id\"></div>\n",
       "\t<div id=\"google_chart_3_div_id\" ></div>\n",
       "</div>\n"
      ],
      "text/plain": [
       "<IPython.core.display.HTML object>"
      ]
     },
     "metadata": {},
     "output_type": "display_data"
    }
   ],
   "source": [
    "filter2 = Filter(type=\"CategoryFilter\")\n",
    "filter2.add_options(filterColumnIndex=1, ui_allowMultiple=True, ui_allowNone=True)\n",
    "\n",
    "table.add_filter(filter2)\n",
    "\n",
    "filter1.bind_filter(filter2)\n",
    "\n",
    "table.show()"
   ]
  },
  {
   "cell_type": "markdown",
   "metadata": {},
   "source": [
    "## NumberRangeFilter"
   ]
  },
  {
   "cell_type": "code",
   "execution_count": 10,
   "metadata": {
    "collapsed": false
   },
   "outputs": [
    {
     "data": {
      "text/html": [
       "\n",
       "\n",
       "\n",
       "<script type=\"text/javascript\">\n",
       "\n",
       "    // Check if google jsapi is already loaded.  If not, load it.\n",
       "    if (typeof window.google == 'undefined') {\n",
       "        jQuery.getScript('https://www.google.com/jsapi', function( data, textStatus, jqxhr) {\n",
       "            google_loader();\n",
       "        });\n",
       "    } else {\n",
       "        google_loader();\n",
       "    }\n",
       "\n",
       "    // load visualization library    \n",
       "    function google_loader() {\n",
       "\t\tgoogle.load('visualization', '1.0', {'packages':['controls'], 'callback': doStuff});\n",
       "    }\n",
       "    function doStuff() {\n",
       "    \n",
       "\n",
       "        // Create DataTable object from DataTable constructor or arrayToDatable()\n",
       "        var google_chart_5_data = new google.visualization.DataTable({\"rows\":[{\"c\":[{\"v\":\"New York\"},{\"v\":12}]},{\"c\":[{\"v\":\"Chicago\"},{\"v\":32}]},{\"c\":[{\"v\":\"Dallas\"},{\"v\":5}]},{\"c\":[{\"v\":\"Boston\"},{\"v\":20}]}],\"cols\":[{\"type\":\"string\",\"id\":\"cities\",\"label\":\"cities\"},{\"type\":\"number\",\"id\":\"pies\",\"label\":\"pies\"}]});\n",
       "        \n",
       "        // Add formatters, if any\n",
       "\n",
       "        // Create ChartWrapper\n",
       "        var google_chart_5 = new google.visualization.ChartWrapper({      \n",
       "            \"containerId\": \"google_chart_5_div_id\",\n",
       "            \"dataTable\": google_chart_5_data,\n",
       "            \"chartType\": \"PieChart\",\n",
       "            \"options\": {}\n",
       "        });\t\t\n",
       "        // Create a dashboard.\n",
       "        var google_chart_5_dashboard = new google.visualization.Dashboard(\n",
       "            document.getElementById('google_chart_5_dashboard_div_id'));\n",
       "\n",
       "        // Create controls\n",
       "        var google_filter_6 = new google.visualization.ControlWrapper({\n",
       "          'controlType': 'NumberRangeFilter',\n",
       "          'containerId': 'google_filter_6_div_id',\n",
       "          'options': {\"filterColumnIndex\": 1},\n",
       "          'state': {}\n",
       "        });\n",
       "\n",
       "        // Establish dependencies.\n",
       "\t\tgoogle_chart_5_dashboard.bind(google_filter_6, google_chart_5);\n",
       "\n",
       "        // Draw the dashboard.\n",
       "        google_chart_5_dashboard.draw(google_chart_5_data);        \n",
       "    }\n",
       "    \n",
       "</script>\n",
       "\n",
       "<div id=\"google_chart_5_dashboard_div_id\">\n",
       "\t<div id=\"google_filter_6_div_id\"></div>\n",
       "\t<div id=\"google_chart_5_div_id\" ></div>\n",
       "</div>\n"
      ],
      "text/plain": [
       "<IPython.core.display.HTML object>"
      ]
     },
     "metadata": {},
     "output_type": "display_data"
    }
   ],
   "source": [
    "cities = ['New York', 'Chicago', 'Dallas', 'Boston']\n",
    "pies = [12, 32, 5, 20]\n",
    "pies_df = pd. DataFrame({'cities': cities, 'pies': pies}, columns=['cities', 'pies'])\n",
    "\n",
    "pie = JugleChart(pies_df, chart_type=\"PieChart\")\n",
    "\n",
    "filter1 = Filter(type=\"NumberRangeFilter\")\n",
    "filter1.add_options(filterColumnIndex=1)\n",
    "\n",
    "pie.add_filter(filter1)\n",
    "\n",
    "pie.show()\n"
   ]
  },
  {
   "cell_type": "markdown",
   "metadata": {},
   "source": [
    "## NumberRangeFilter:  adding state"
   ]
  },
  {
   "cell_type": "code",
   "execution_count": null,
   "metadata": {
    "collapsed": true
   },
   "outputs": [],
   "source": [
    "# We will add state values to the filter we created above.  Notice that we can modify the filter object\n",
    "# at any time, even after it has been added to the chart object.\n",
    "filter1.add_state(lowValue=10, highValue=25)\n",
    "\n",
    "pie.show()"
   ]
  }
 ],
 "metadata": {
  "kernelspec": {
   "display_name": "Python 2",
   "language": "python",
   "name": "python2"
  },
  "language_info": {
   "codemirror_mode": {
    "name": "ipython",
    "version": 2
   },
   "file_extension": ".py",
   "mimetype": "text/x-python",
   "name": "python",
   "nbconvert_exporter": "python",
   "pygments_lexer": "ipython2",
   "version": "2.7.10"
  }
 },
 "nbformat": 4,
 "nbformat_minor": 0
}
