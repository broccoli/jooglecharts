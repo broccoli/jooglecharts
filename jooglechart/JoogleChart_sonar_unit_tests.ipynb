{
 "cells": [
  {
   "cell_type": "code",
   "execution_count": null,
   "metadata": {
    "collapsed": false,
    "slideshow": {
     "slide_type": "skip"
    }
   },
   "outputs": [],
   "source": [
    "import pandas as pd\n",
    "from jooglechart_api import JoogleChart, Filter, ChartRow, sonar_keys, joogle_include, SeriesFilter\n",
    "from jooglechart.utils import get_df, get_date_df\n",
    "from widgets import ButtonGroup, CheckboxGroup, Button, Box, TextReceiver\n",
    "from contrib.display.bi_styles import get_styler\n",
    "from IPython.display import display, HTML\n"
   ]
  },
  {
   "cell_type": "code",
   "execution_count": null,
   "metadata": {
    "collapsed": false,
    "slideshow": {
     "slide_type": "slide"
    }
   },
   "outputs": [],
   "source": [
    "joogle_include()"
   ]
  },
  {
   "cell_type": "raw",
   "metadata": {
    "collapsed": true,
    "slideshow": {
     "slide_type": "slide"
    }
   },
   "source": [
    "<link rel=\"stylesheet\" href=\"reveal.js/css/theme/custom_theme.css\" id=\"theme\">"
   ]
  },
  {
   "cell_type": "raw",
   "metadata": {
    "slideshow": {
     "slide_type": "slide"
    }
   },
   "source": [
    "<style>\n",
    "    div.prompt {\n",
    "        display:none;\n",
    "    }\n",
    "    .slides {\n",
    "        overflow-y: auto !important;\n",
    "        overflow-x: hidden !important;\n",
    "        height: 700px;\n",
    "    }\n",
    "    .rendered_html h1:first-child {\n",
    "        margin-top:0;\n",
    "    }\n",
    "    .reveal .slides > section {\n",
    "        padding:0;\n",
    "    }    \n",
    "</style>"
   ]
  },
  {
   "cell_type": "markdown",
   "metadata": {
    "slideshow": {
     "slide_type": "slide"
    }
   },
   "source": [
    "# CategoryFilter send to CategoryFilter receiver"
   ]
  },
  {
   "cell_type": "code",
   "execution_count": null,
   "metadata": {
    "collapsed": false,
    "slideshow": {
     "slide_type": "-"
    }
   },
   "outputs": [],
   "source": [
    "df = get_df()\n",
    "chart1 = JoogleChart(df)\n",
    "filter1 = Filter(\"CategoryFilter\")\n",
    "filter1.add_options(filterColumnIndex=0)\n",
    "filter1.add_sender(key=sonar_keys.ONE)\n",
    "chart1.add_filter(filter1)\n",
    "chart1.add_styler(get_styler())\n",
    "\n",
    "chart2 = JoogleChart(df, chart_type=\"Table\")\n",
    "filter2 = Filter(\"CategoryFilter\")\n",
    "filter2.add_options(filterColumnIndex=0)\n",
    "filter2.add_receiver(key=sonar_keys.ONE)\n",
    "# filter2.add_options(ui_cssClass=\"hidden\")\n",
    "chart2.add_filter(filter2)\n",
    "\n",
    "row = ChartRow(chart1, chart2)\n",
    "row.show()\n",
    "# print row.render(include_common=True)"
   ]
  },
  {
   "cell_type": "markdown",
   "metadata": {
    "slideshow": {
     "slide_type": "slide"
    }
   },
   "source": [
    "\n",
    "\n",
    "# DateRange filter send to DateRange filter receiver"
   ]
  },
  {
   "cell_type": "code",
   "execution_count": null,
   "metadata": {
    "collapsed": false,
    "slideshow": {
     "slide_type": "-"
    }
   },
   "outputs": [],
   "source": [
    "df1 = get_date_df(days=10, num_series=2)\n",
    "chart1 = JoogleChart(df1, chart_type=\"LineChart\")\n",
    "filter1 = Filter(\"DateRangeFilter\")\n",
    "filter1.add_options(filterColumnIndex=0)\n",
    "filter1.add_sender(key=\"KEY2\")\n",
    "chart1.add_filter(filter1)\n",
    "chart1.add_styler(get_styler())\n",
    "\n",
    "df2 = get_date_df(days=10, num_series=2)\n",
    "chart2 = JoogleChart(df2, chart_type=\"LineChart\")\n",
    "filter2 = Filter(\"DateRangeFilter\")\n",
    "filter2.add_receiver(key=\"KEY2\")\n",
    "filter2.add_options(filterColumnIndex=0)\n",
    "chart2.add_filter(filter2)\n",
    "chart2.add_styler(get_styler())\n",
    "\n",
    "# print chart1.render()\n",
    "# print chart2.render(force_common=False)\n",
    "row = ChartRow(chart1, chart2)\n",
    "row.show()\n"
   ]
  },
  {
   "cell_type": "markdown",
   "metadata": {
    "slideshow": {
     "slide_type": "slide"
    }
   },
   "source": [
    "# NumberRangeFilter send to NumberRangeFilter receiver"
   ]
  },
  {
   "cell_type": "code",
   "execution_count": null,
   "metadata": {
    "collapsed": false,
    "scrolled": true
   },
   "outputs": [],
   "source": [
    "df = get_df(rows=10, min=10, max=20)\n",
    "chart1 = JoogleChart(df, chart_type=\"ColumnChart\")\n",
    "filter1 = Filter(\"NumberRangeFilter\")\n",
    "filter1.add_options(filterColumnIndex=1)\n",
    "filter1.add_sender(key=\"QWE\")\n",
    "chart1.add_filter(filter1)\n",
    "chart1.add_styler(get_styler())\n",
    "\n",
    "chart2 = JoogleChart(df, chart_type=\"BarChart\")\n",
    "filter2 = Filter(\"NumberRangeFilter\")\n",
    "filter2.add_receiver(key=\"QWE\")\n",
    "filter2.add_options(filterColumnIndex=1)\n",
    "chart2.add_filter(filter2)\n",
    "chart2.add_styler(get_styler())\n",
    "\n",
    "row = ChartRow(chart1, chart2)\n",
    "row.show()"
   ]
  },
  {
   "cell_type": "markdown",
   "metadata": {
    "slideshow": {
     "slide_type": "slide"
    }
   },
   "source": [
    "# Chart select sender with categorical data"
   ]
  },
  {
   "cell_type": "code",
   "execution_count": null,
   "metadata": {
    "collapsed": false
   },
   "outputs": [],
   "source": [
    "df = get_df(cols=2)\n",
    "chart1 = JoogleChart(df)\n",
    "chart1.add_sender(key=\"KEY3\")\n",
    "chart1.add_styler(get_styler())\n",
    "\n",
    "chart2 = JoogleChart(df, chart_type=\"Table\")\n",
    "filter2 = Filter(\"CategoryFilter\")\n",
    "filter2.add_options(filterColumnIndex=0)\n",
    "filter2.add_receiver(key=\"KEY3\")\n",
    "# filter2.add_options(ui_cssClass=\"hidden\")\n",
    "chart2.add_filter(filter2)\n",
    "\n",
    "row = ChartRow(chart1, chart2)\n",
    "row.show()"
   ]
  },
  {
   "cell_type": "markdown",
   "metadata": {},
   "source": [
    "# Chart select with filter\n",
    "Combing these two had caused the wrong selection to send when the filter was applied."
   ]
  },
  {
   "cell_type": "code",
   "execution_count": null,
   "metadata": {
    "collapsed": false
   },
   "outputs": [],
   "source": [
    "df = get_df(cols=2)\n",
    "chart1 = JoogleChart(df)\n",
    "filter1 = Filter(\"CategoryFilter\")\n",
    "filter1.add_options(filterColumnIndex=0)\n",
    "chart1.add_filter(filter1)\n",
    "chart1.add_sender(key=\"KEY3\")\n",
    "chart1.add_styler(get_styler())\n",
    "\n",
    "chart2 = JoogleChart(df, chart_type=\"Table\")\n",
    "filter2 = Filter(\"CategoryFilter\")\n",
    "filter2.add_options(filterColumnIndex=0)\n",
    "filter2.add_receiver(key=\"KEY3\")\n",
    "# filter2.add_options(ui_cssClass=\"hidden\")\n",
    "chart2.add_filter(filter2)\n",
    "\n",
    "row = ChartRow(chart1, chart2)\n",
    "row.show()\n",
    "# print row.render(include_common=True)\n"
   ]
  },
  {
   "cell_type": "markdown",
   "metadata": {},
   "source": [
    "# Series Filter w/ sender"
   ]
  },
  {
   "cell_type": "code",
   "execution_count": null,
   "metadata": {
    "collapsed": false
   },
   "outputs": [],
   "source": [
    "df = get_df(cols=4)\n",
    "sf = SeriesFilter()\n",
    "sf.add_sender(key=\"ECK\")\n",
    "chart = JoogleChart(df)\n",
    "chart.add_filter(sf)\n",
    "chart.add_styler(get_styler())\n",
    "\n",
    "tr = TextReceiver(key=\"ECK\", template=\"Received: {}\")\n",
    "\n",
    "row = ChartRow(chart, tr)\n",
    "row.show()"
   ]
  },
  {
   "cell_type": "markdown",
   "metadata": {},
   "source": [
    "# SeriesFilter with receiver"
   ]
  },
  {
   "cell_type": "code",
   "execution_count": null,
   "metadata": {
    "collapsed": false
   },
   "outputs": [],
   "source": [
    "df = get_df(cols=4)\n",
    "\n",
    "sf = SeriesFilter()\n",
    "sf.add_receiver(key=\"JNM\")\n",
    "\n",
    "chart = JoogleChart(df)\n",
    "chart.add_filter(sf)\n",
    "chart.add_styler(get_styler())\n",
    "\n",
    "series = chart.get_viewable_series()\n",
    "\n",
    "buttons = ButtonGroup(values=series, clear_button=True, initial_values=series[0:2])\n",
    "buttons.add_sender(key=\"JNM\")\n",
    "\n",
    "row = ChartRow(buttons, chart)\n",
    "row.show()\n",
    "# print row.render(include_common=True)"
   ]
  },
  {
   "cell_type": "markdown",
   "metadata": {},
   "source": [
    "# ButtonGroup send to chart filter"
   ]
  },
  {
   "cell_type": "code",
   "execution_count": null,
   "metadata": {
    "collapsed": false
   },
   "outputs": [],
   "source": [
    "df = get_df(cols=2)\n",
    "\n",
    "bg = ButtonGroup(values=df.cities, clear_button=True, clear_button_bold=True)\n",
    "bg.add_sender(key=\"CVB\")\n",
    "# bg.show()\n",
    "\n",
    "chart1 = JoogleChart(df)\n",
    "filter1 = Filter(\"CategoryFilter\")\n",
    "filter1.add_options(filterColumnIndex=0)\n",
    "filter1.add_options(ui_cssClass=\"hidden\")\n",
    "filter1.add_receiver(key=\"CVB\")\n",
    "chart1.add_filter(filter1)\n",
    "chart1.add_styler(get_styler())\n",
    "\n",
    "chart2 = JoogleChart(df, chart_type=\"Table\")\n",
    "filter2 = Filter(\"CategoryFilter\")\n",
    "filter2.add_options(filterColumnIndex=0)\n",
    "filter2.add_receiver(key=\"CVB\")\n",
    "# filter2.add_options(ui_cssClass=\"hidden\")\n",
    "chart2.add_filter(filter2)\n",
    "# chart2.add_styler(get_styler())\n",
    "\n",
    "bg.show()\n",
    "\n",
    "row = ChartRow(chart1, chart2)\n",
    "# row.flex = True\n",
    "row.show()\n",
    "\n",
    "# chart1.show()"
   ]
  },
  {
   "cell_type": "markdown",
   "metadata": {
    "collapsed": true
   },
   "source": [
    "# CheckboxGroup send to chart filter"
   ]
  },
  {
   "cell_type": "code",
   "execution_count": null,
   "metadata": {
    "collapsed": false
   },
   "outputs": [],
   "source": [
    "df = get_df(cols=2)\n",
    "\n",
    "cbg = CheckboxGroup(values=df.cities, clear_button=True)\n",
    "cbg.add_sender(key=\"KEY1\")\n",
    "\n",
    "# print cbg.render()\n",
    "\n",
    "chart1 = JoogleChart(df)\n",
    "filter1 = Filter(\"CategoryFilter\")\n",
    "filter1.add_options(filterColumnIndex=0)\n",
    "filter1.add_options(ui_cssClass=\"hidden\")\n",
    "filter1.add_receiver(key=\"KEY1\")\n",
    "chart1.add_filter(filter1)\n",
    "chart1.add_styler(get_styler())\n",
    "\n",
    "chart2 = JoogleChart(df, chart_type=\"Table\")\n",
    "filter2 = Filter(\"CategoryFilter\")\n",
    "filter2.add_options(filterColumnIndex=0)\n",
    "filter2.add_receiver(key=\"KEY1\")\n",
    "filter2.add_options(ui_cssClass=\"hidden\")\n",
    "chart2.add_filter(filter2)\n",
    "# chart2.add_styler(get_styler())\n",
    "\n",
    "row = ChartRow(cbg, chart1, mode=\"free\")\n",
    "row.show()\n",
    "\n",
    "# bg.show()\n",
    "# chart1.show()"
   ]
  },
  {
   "cell_type": "markdown",
   "metadata": {},
   "source": [
    "# CheckboxGroup Sender to CheckboxGroup Reciever to Chart"
   ]
  },
  {
   "cell_type": "code",
   "execution_count": null,
   "metadata": {
    "collapsed": false,
    "scrolled": false
   },
   "outputs": [],
   "source": [
    "df = get_df()\n",
    "\n",
    "checks1 = CheckboxGroup(df.cities, clear_button=True, orientation=\"vertical\")\n",
    "checks1.add_sender(key=\"XX1\")\n",
    "\n",
    "checks2 = CheckboxGroup(df.cities, clear_button=True)\n",
    "checks2.add_receiver(key=\"XX1\")\n",
    "checks2.add_sender(key=\"XX2\")\n",
    "\n",
    "chart = JoogleChart(df)\n",
    "chart.add_styler(get_styler())\n",
    "chart.add_receiver(key=\"XX2\", column=0)\n",
    "\n",
    "row = ChartRow(checks1, checks2, chart)\n",
    "\n",
    "row.show()\n",
    "# print row.render(include_common = True)\n"
   ]
  },
  {
   "cell_type": "markdown",
   "metadata": {},
   "source": [
    "# ButtonGroup Sender to ButtonGroup Reciever to Chart\n"
   ]
  },
  {
   "cell_type": "code",
   "execution_count": null,
   "metadata": {
    "collapsed": false
   },
   "outputs": [],
   "source": [
    "df = get_df()\n",
    "\n",
    "buttons1 = ButtonGroup(df.cities, clear_button=True, orientation=\"vertical\")\n",
    "buttons1.add_sender(key=\"KLO1\")\n",
    "\n",
    "buttons2 = ButtonGroup(df.cities, clear_button=True)\n",
    "buttons2.add_receiver(key=\"KLO1\")\n",
    "buttons2.add_sender(key=\"KLO2\")\n",
    "\n",
    "chart = JoogleChart(df)\n",
    "chart.add_styler(get_styler(width=\"small\"))\n",
    "chart.add_receiver(key=\"KLO2\", column=0)\n",
    "\n",
    "row = ChartRow(buttons2, buttons2, chart)\n",
    "\n",
    "row.show()\n",
    "# print row.render(include_common = True)\n"
   ]
  },
  {
   "cell_type": "markdown",
   "metadata": {
    "collapsed": true
   },
   "source": [
    "# Chart receiver update selection"
   ]
  },
  {
   "cell_type": "code",
   "execution_count": null,
   "metadata": {
    "collapsed": false
   },
   "outputs": [],
   "source": [
    "df = get_df(cols=2)\n",
    "\n",
    "bg = ButtonGroup(values=df.cities, clear_button=True, clear_button_bold=True, orientation=\"vertical\")\n",
    "bg.add_sender(key=\"XXX\")\n",
    "# bg.show()\n",
    "\n",
    "chart1 = JoogleChart(df)\n",
    "chart1.add_receiver(key=\"XXX\", column=0)\n",
    "chart1.add_styler(get_styler())\n",
    "chart1.add_chart_options(width=300)\n",
    "\n",
    "chart2 = JoogleChart(df)\n",
    "chart2.add_receiver(key=\"XXX\", column=0)\n",
    "chart2.add_styler(get_styler())\n",
    "\n",
    "row = ChartRow(bg, chart1, mode=\"free\")\n",
    "row.show()"
   ]
  },
  {
   "cell_type": "markdown",
   "metadata": {
    "collapsed": true
   },
   "source": [
    "# Standalone Category Filter"
   ]
  },
  {
   "cell_type": "code",
   "execution_count": null,
   "metadata": {
    "collapsed": false
   },
   "outputs": [],
   "source": [
    "df = get_df()\n",
    "\n",
    "f = Filter(\"CategoryFilter\", data=df.cities)\n",
    "f.add_sender(key=\"ASDX\")\n",
    "f.add_options(filterColumnIndex=0)\n",
    "\n",
    "chart1 = JoogleChart(df)\n",
    "chart1.add_receiver(key=\"ASDX\", column=0)\n",
    "chart1.add_styler(get_styler())\n",
    "\n",
    "# df2 = get_df(cols=3)\n",
    "# chart2 = JoogleChart(df2, chart_type=\"BarChart\")\n",
    "# chart2.add_receiver(key=\"ASD\", column=0)\n",
    "# chart2.add_styler(get_styler())\n",
    "# chart2.add_chart_options(colors=['red','yellow', 'green'])\n",
    "\n",
    "# chart3 = JoogleChart(df2, chart_type=\"Table\")\n",
    "# chart3.add_receiver(key=\"ASD\", column=0)\n",
    "# row = ChartRow(chart1, chart2)\n",
    "\n",
    "# f.show()\n",
    "row = ChartRow(f, chart1)\n",
    "row.show()\n",
    "# print row.render(include_common=True)"
   ]
  },
  {
   "cell_type": "markdown",
   "metadata": {},
   "source": [
    "# Standalone DateRangeFilter and Chart Receiver update range"
   ]
  },
  {
   "cell_type": "code",
   "execution_count": null,
   "metadata": {
    "collapsed": false
   },
   "outputs": [],
   "source": [
    "df = get_date_df(days=10)\n",
    "\n",
    "f = Filter(\"DateRangeFilter\", data=df.dates)\n",
    "# f.set_data(df.dates)\n",
    "f.add_options(filterColumnIndex=0)\n",
    "f.add_sender(key=\"CCC\")\n",
    "# f.show()\n",
    "\n",
    "chart1 = JoogleChart(df, chart_type=\"LineChart\")\n",
    "chart1.add_receiver(key=\"CCC\", column=0, action=\"filter_range\")\n",
    "chart1.add_styler(get_styler())\n",
    "\n",
    "box = Box(f, chart1)\n",
    "box.show()\n",
    "# print box.render(include_common=True)"
   ]
  },
  {
   "cell_type": "markdown",
   "metadata": {
    "collapsed": true
   },
   "source": [
    "# Standalone NumberRangeFilter send to Chart Receiver update range"
   ]
  },
  {
   "cell_type": "code",
   "execution_count": null,
   "metadata": {
    "collapsed": false
   },
   "outputs": [],
   "source": [
    "df = get_df(rows=10, min=10, max=20)\n",
    "# print df\n",
    "f = Filter(\"NumberRangeFilter\", data=df)\n",
    "# f.set_data(df)\n",
    "f.add_options(filterColumnIndex=1)\n",
    "f.add_sender(key=\"FGH\")\n",
    "f.show()\n",
    "\n",
    "chart1 = JoogleChart(df, chart_type=\"ColumnChart\")\n",
    "chart1.add_receiver(key=\"FGH\", column=1, action=\"filter_range\")\n",
    "chart1.add_styler(get_styler())\n",
    "\n",
    "chart1.show()"
   ]
  },
  {
   "cell_type": "markdown",
   "metadata": {},
   "source": [
    "# Standalone CategoryFilter to chart filter_columns receiver"
   ]
  },
  {
   "cell_type": "code",
   "execution_count": null,
   "metadata": {
    "collapsed": false
   },
   "outputs": [],
   "source": [
    "    df = get_df(cols=4)\n",
    "    \n",
    "    chart = JoogleChart(df)\n",
    "    chart.add_styler(get_styler())\n",
    "    chart.add_receiver(key=\"RTYS\", column=0, action=\"filter_columns\")\n",
    "\n",
    "    series = chart.get_viewable_series()\n",
    "    f1 = Filter(\"CategoryFilter\", data=pd.Series(series, name=\"letters\"))\n",
    "    f1.add_sender(key=\"RTYS\")\n",
    "    f1.add_options(filterColumnIndex=0)\n",
    "    f1.add_state(selectedValues=series[1:3])\n",
    "    \n",
    "    box = Box(f1, chart)\n",
    "    box.show()"
   ]
  },
  {
   "cell_type": "markdown",
   "metadata": {},
   "source": [
    "# Two Standalone CategoryFilters send to filter_values and filter_columns"
   ]
  },
  {
   "cell_type": "code",
   "execution_count": null,
   "metadata": {
    "collapsed": false
   },
   "outputs": [],
   "source": [
    "    df = get_df(cols=4)\n",
    "    chart = JoogleChart(df)\n",
    "    chart.add_styler(get_styler())\n",
    "    chart.add_receiver(key=\"RTY\", column=0, action=\"filter_columns\")\n",
    "    chart.add_receiver(key=\"BMH\", column=0)\n",
    "\n",
    "    series = chart.get_viewable_series()\n",
    "    f1 = Filter(\"CategoryFilter\", data=pd.Series(series, name=\"letters\"))\n",
    "    f1.add_sender(key=\"RTY\")\n",
    "    f1.add_options(filterColumnIndex=0)\n",
    "\n",
    "    f2 = Filter(\"CategoryFilter\", data=df.cities)\n",
    "    f2.add_options(filterColumnIndex=0)\n",
    "    f2.add_sender(key=\"BMH\")\n",
    "    \n",
    "    row = ChartRow(f2, Box(f1, chart))\n",
    "    row.show()\n"
   ]
  },
  {
   "cell_type": "markdown",
   "metadata": {
    "collapsed": true
   },
   "source": [
    "# Category Filter Binding:  update binding selection"
   ]
  },
  {
   "cell_type": "code",
   "execution_count": null,
   "metadata": {
    "collapsed": false
   },
   "outputs": [],
   "source": [
    "df = get_df(category_column=True, rows=15)\n",
    "f1 = Filter(\"CategoryFilter\", data = df)\n",
    "f1.add_options(filterColumnIndex = 1)\n",
    "f1.add_sender(key=\"AAA\")\n",
    "    \n",
    "f2 = Filter(\"CategoryFilter\", data = df)\n",
    "f2.add_options(filterColumnIndex = 0)\n",
    "f2.add_receiver(key=\"AAA\", action=\"update_binding_values\", bound_column=1)\n",
    "f2.add_sender(key=\"BBB\")\n",
    "    \n",
    "chart = JoogleChart(df)\n",
    "chart.add_styler(get_styler(width=\"small\"))\n",
    "chart.add_receiver(key=\"AAA\", column=1)\n",
    "chart.add_receiver(key=\"BBB\", column=0)\n",
    "chart.set_view_cols([0, 2])\n",
    "\n",
    "\n",
    "box = Box(f1, f2)\n",
    "row = ChartRow(chart, box, mode=\"free\", padding=20)\n",
    "# styles = {}\n",
    "# styles['border'] = \"1px solid black\"\n",
    "# styles['background-color'] = \"red\"\n",
    "# row.add_div_styles(styles)\n",
    "\n",
    "# print row.render(include_common=True)\n",
    "row.show()"
   ]
  },
  {
   "cell_type": "markdown",
   "metadata": {
    "collapsed": true
   },
   "source": [
    "# Button sender"
   ]
  },
  {
   "cell_type": "code",
   "execution_count": null,
   "metadata": {
    "collapsed": false
   },
   "outputs": [],
   "source": [
    "df = get_df()\n",
    "button = Button(value=\"Sacramento\", text=\"Sacramento\")\n",
    "button.add_sender(key=\"VBN\")\n",
    "button.add_div_styles(display=\"inline-block\")\n",
    "\n",
    "button2 = Button(value=\"\", text=\"Clear selections\")\n",
    "button2.add_sender(key=\"VBN\")\n",
    "button2.add_div_styles(display=\"inline-block\")\n",
    "\n",
    "chart = JoogleChart(df)\n",
    "chart.add_styler(get_styler(width=\"small\"))\n",
    "chart.add_receiver(key=\"VBN\", column=0)\n",
    "\n",
    "button.show()\n",
    "button2.show()\n",
    "chart.show()\n"
   ]
  },
  {
   "cell_type": "markdown",
   "metadata": {},
   "source": [
    "# Button send to Button receiver to chart"
   ]
  },
  {
   "cell_type": "code",
   "execution_count": null,
   "metadata": {
    "collapsed": false
   },
   "outputs": [],
   "source": [
    "df = get_df()\n",
    "button1 = Button(value=\"Sacramento\", text=\"Sacramento\")\n",
    "button1.add_sender(key=\"VBN\")\n",
    "button1.add_div_styles(display=\"inline-block\")\n",
    "\n",
    "button2 = Button(value=\"\", text=\"Clear selections\")\n",
    "button2.add_sender(key=\"VBN\")\n",
    "button2.add_div_styles(display=\"inline-block\")\n",
    "\n",
    "button3 = Button(value=\"Sacramento\", text=\"Sacramento\")\n",
    "button3.add_receiver(key=\"VBN\")\n",
    "button3.add_sender(key=\"RUD\")\n",
    "button3.add_div_styles(display=\"inline-block\")\n",
    "\n",
    "button4 = Button(value=\"\", text=\"Clear selections\")\n",
    "button4.add_receiver(key=\"VBN\")\n",
    "button4.add_sender(key=\"RUD\")\n",
    "button4.add_div_styles(display=\"inline-block\")\n",
    "\n",
    "chart = JoogleChart(df)\n",
    "chart.add_styler(get_styler(width=\"small\"))\n",
    "chart.add_receiver(key=\"RUD\", column=0)\n",
    "\n",
    "row = ChartRow(Box(button1, button2), Box(button3, button4), chart)\n",
    "row.show()"
   ]
  },
  {
   "cell_type": "markdown",
   "metadata": {
    "collapsed": false,
    "scrolled": true
   },
   "source": [
    "# Text Receiver"
   ]
  },
  {
   "cell_type": "code",
   "execution_count": null,
   "metadata": {
    "collapsed": false
   },
   "outputs": [],
   "source": [
    "\n",
    "tr = TextReceiver(template=\"The value is: {}.\", key=\"BHM\")\n",
    "b1 = Button(value=\"banana\", text=\"b1\")\n",
    "b1.add_sender(key=\"BHM\")\n",
    "\n",
    "b2 = Button(value=['banana'], text=\"b2\")\n",
    "b2.add_sender(key=\"BHM\")\n",
    "\n",
    "b3 = Button(value=['banana', 'apple'], text=\"b3\")\n",
    "b3.add_sender(key=\"BHM\")\n",
    "\n",
    "b4 = Button(value=['banana', 'apple', 'cherry'], text=\"b4\")\n",
    "b4.add_sender(key=\"BHM\")\n",
    "\n",
    "b5 = Button(value=\"no selection\", text=\"None\")\n",
    "b5.add_sender(key=\"BHM\")\n",
    "\n",
    "box = Box(b1, b2, b3, b4, b5)\n",
    "row = ChartRow(box, tr)\n",
    "row.show()\n"
   ]
  },
  {
   "cell_type": "code",
   "execution_count": null,
   "metadata": {
    "collapsed": true
   },
   "outputs": [],
   "source": []
  }
 ],
 "metadata": {
  "kernelspec": {
   "display_name": "Python 2",
   "language": "python",
   "name": "python2"
  },
  "language_info": {
   "codemirror_mode": {
    "name": "ipython",
    "version": 2
   },
   "file_extension": ".py",
   "mimetype": "text/x-python",
   "name": "python",
   "nbconvert_exporter": "python",
   "pygments_lexer": "ipython2",
   "version": "2.7.10"
  }
 },
 "nbformat": 4,
 "nbformat_minor": 0
}
