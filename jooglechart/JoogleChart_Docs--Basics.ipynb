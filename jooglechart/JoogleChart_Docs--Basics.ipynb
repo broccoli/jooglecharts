{
 "cells": [
  {
   "cell_type": "markdown",
   "metadata": {},
   "source": [
    "# What is JoogleChart?\n",
    "JoogleChart is Python/Jupyter api for creating a Google Chart using generated javascript and html that calls the Google Charts library.  JoogleChart generates the javascript and html for you.  You don't have to worry about loading the chart library, creating valid javascript or html, or creating unique id's for your chart containers.\n",
    "\n",
    "*** Note: JoogleChart is a thin wrapper for Google Charts.  You must consult Google Charts documenation for all types and options to pass to JoogleChart.  It does not replace the Google Charts documentation.***\n",
    "\n",
    "JoogleChart is designed to be simple, so it has some limitations over coding your own Google Chart.\n",
    "* JoogleChart accepts only one set of data.\n",
    "* JoogleChart does not support javascript event handling.\n",
    "* Data Views are not supported.\n",
    "* Loading data from an external source is not (yet) supported.\n",
    "\n",
    "JoogleChart will allow you to do with a chart whatever the most generic Google Chart javascript structure permits.  It will plug your configurations into a basic javascript template.  In other words, any charts and options that do not require specially coded javascript should work in JoogleChart.  What JoogleChart will let you do:\n",
    "* Use most (if not all) Google Chart types.\n",
    "* Use most (if not all) Google Chart configuration options.\n",
    "* Use most Formatters for customizing data display (currently excepting only ColorFormat).\n",
    "* Create one or more dashboard controls that can bind to the data or to other controls.\n"
   ]
  },
  {
   "cell_type": "markdown",
   "metadata": {},
   "source": [
    "# Dependencies\n",
    "\n",
    "## Python 2.7\n",
    "The following following packages must be installed.  Specific versions not tested.\n",
    "* gviz_api\n",
    "* pandas\n",
    "* ipython\n",
    "* jupyter\n",
    "* jooglechart\n",
    "* jinja2 (already part of jupyter environment)\n",
    "\n",
    "## Javascript\n",
    "* jquery (already part of the jupyter environment)\n",
    "\n",
    "## CSS\n",
    "* bootstrap (already part of the jupyter environment)\n",
    "\n",
    "# Installation\n",
    "1. Install gviz_api.\n",
    "`````\n",
    "pip install git+https://github.com/google/google-visualization-python\n",
    "`````\n",
    "\n",
    "2.  Install jooglecharts\n",
    "```\n",
    "pip install git+https://code.corp.indeed.com/richd/jooglechart.git\n",
    "```"
   ]
  },
  {
   "cell_type": "markdown",
   "metadata": {},
   "source": [
    "# The import statements"
   ]
  },
  {
   "cell_type": "code",
   "execution_count": 48,
   "metadata": {
    "collapsed": false
   },
   "outputs": [],
   "source": [
    "# There is one required import.\n",
    "from jooglechart_api import JoogleChart\n",
    "\n",
    "# Optional import, if you're using pandas to format your data.\n",
    "import pandas as pd\n",
    "\n",
    "# Optional import, if you're going to call the display methods yourself, rather than using .show()\n",
    "from IPython.display import display, HTML \n"
   ]
  },
  {
   "cell_type": "markdown",
   "metadata": {},
   "source": [
    "# Quick Start"
   ]
  },
  {
   "cell_type": "code",
   "execution_count": 49,
   "metadata": {
    "collapsed": false
   },
   "outputs": [
    {
     "data": {
      "text/html": [
       "\n",
       "\n",
       "\n",
       "<script type=\"text/javascript\">\n",
       "\n",
       "    // Check if google jsapi is already loaded.  If not, load it.\n",
       "    if (typeof window.google == 'undefined') {\n",
       "        jQuery.getScript('https://www.google.com/jsapi', function( data, textStatus, jqxhr) {\n",
       "            google_loader_33();\n",
       "        });\n",
       "    } else {\n",
       "        google_loader_33();\n",
       "    }\n",
       "\n",
       "    // load visualization library    \n",
       "    function google_loader_33() {\n",
       "    \n",
       "        google.load('visualization', '1.0', {'callback': doStuff_33});\n",
       "    }\n",
       "    function doStuff_33() {\n",
       "    \n",
       "\n",
       "        // Create DataTable object from DataTable constructor or arrayToDatable()\n",
       "        var jugle_chart_33_data = new google.visualization.DataTable({\"rows\":[{\"c\":[{\"v\":\"Chicago\"},{\"v\":35}]},{\"c\":[{\"v\":\"Atlanta\"},{\"v\":23}]}],\"cols\":[{\"type\":\"string\",\"id\":\"cities\",\"label\":\"cities\"},{\"type\":\"number\",\"id\":\"widgets\",\"label\":\"widgets\"}]});\n",
       "        \n",
       "        // Add formatters, if any\n",
       "\n",
       "        // Create ChartWrapper\n",
       "        var google_chart_33 = new google.visualization.ChartWrapper({      \n",
       "            \"containerId\": \"google_chart_33_div_id\",\n",
       "            \"dataTable\": jugle_chart_33_data,\n",
       "            \"chartType\": \"ColumnChart\",\n",
       "            \"options\": {}\n",
       "        });\n",
       "\t\t\n",
       "        \n",
       "        google_chart_33.draw();\n",
       "        \n",
       "        \n",
       "    }\n",
       "    \n",
       "</script>\n",
       "\n",
       "<div id=\"google_chart_33_div_id\" ></div>\n",
       "\n"
      ],
      "text/plain": [
       "<IPython.core.display.HTML object>"
      ]
     },
     "metadata": {},
     "output_type": "display_data"
    }
   ],
   "source": [
    "# create a chart object from a data frame.\n",
    "data = pd.DataFrame({'cities': ['Chicago', 'Atlanta'], 'widgets': [35, 23]})\n",
    "chart = JoogleChart(data)\n",
    "\n",
    "# call .show()\n",
    "chart.show()\n",
    "\n",
    "# current default is ColumnChart."
   ]
  },
  {
   "cell_type": "markdown",
   "metadata": {},
   "source": [
    "# 1. Adding data\n",
    "Data must be passed to the constructor when you create a JoogleChart.  Data can be passed to the constructor in three ways.\n",
    "* as a 2d list\n",
    "* as a pandas DataFrame\n",
    "* as two or more pandas Series."
   ]
  },
  {
   "cell_type": "markdown",
   "metadata": {},
   "source": [
    "## Creating data as 2-d list\n",
    "The data is passed as a list of lists.  The first inner list is the headers.  Each list following contains the data.  The first item in a data list is usually the category; each following item is a plotted value."
   ]
  },
  {
   "cell_type": "code",
   "execution_count": 50,
   "metadata": {
    "collapsed": false
   },
   "outputs": [],
   "source": [
    "data = []\n",
    "\n",
    "# The first list is the column headings\n",
    "data.append(['Kid', 'cupcakes', 'candy bars'])\n",
    "\n",
    "# Each list after that is a row of data.\n",
    "data.append(['Bobby', 3, 10])\n",
    "data.append(['Cindy', 2, 7])\n",
    "data.append(['Marsha', 4, 5])\n",
    "data.append(['Greg', 5, 8])\n",
    "\n",
    "chart = JoogleChart(data)"
   ]
  },
  {
   "cell_type": "markdown",
   "metadata": {},
   "source": [
    "## Creating data as a DataFrame\n",
    "Basically, the rows of a DataFrame are rows of data.  For many chart types (e.g, BarChart, ColumnChart), the first column of the DataFrame contains the categories for the chart, and each column after that has plotted values.  For other charts (like ScatterChart), the first column contains a coordinate value on one axis, and the subsequent columns contain coordinate values on the other axis.\n",
    "\n",
    "** The index is ignored by JoogleChart.  If you would like the index to be used as the categories, you must reset the index on the DataFrame.**"
   ]
  },
  {
   "cell_type": "code",
   "execution_count": 51,
   "metadata": {
    "collapsed": true
   },
   "outputs": [],
   "source": [
    "kids = ['Greg', 'Marsha', 'Jan', 'Peter', 'Cindy', 'Bobby']\n",
    "sodas = [3, 5, 4, 7, 3, 2]\n",
    "burgers = [4, 6, 5, 2, 7, 8]\n",
    "\n",
    "data = pd.DataFrame({'kids': kids, 'sodas': sodas, 'burgers': burgers}, columns=['kids', 'sodas', 'burgers'])\n",
    "\n",
    "chart = JoogleChart(data)"
   ]
  },
  {
   "cell_type": "markdown",
   "metadata": {},
   "source": [
    "## Passing data from two or more Series\n",
    "Selected columns of a DataFrame can be passed as Series.  The first Series is the categories or the x-values, say.  The following Series hold the y-values."
   ]
  },
  {
   "cell_type": "code",
   "execution_count": 52,
   "metadata": {
    "collapsed": false
   },
   "outputs": [
    {
     "data": {
      "text/html": [
       "\n",
       "\n",
       "\n",
       "<script type=\"text/javascript\">\n",
       "\n",
       "    // Check if google jsapi is already loaded.  If not, load it.\n",
       "    if (typeof window.google == 'undefined') {\n",
       "        jQuery.getScript('https://www.google.com/jsapi', function( data, textStatus, jqxhr) {\n",
       "            google_loader_34();\n",
       "        });\n",
       "    } else {\n",
       "        google_loader_34();\n",
       "    }\n",
       "\n",
       "    // load visualization library    \n",
       "    function google_loader_34() {\n",
       "    \n",
       "        google.load('visualization', '1.0', {'callback': doStuff_34});\n",
       "    }\n",
       "    function doStuff_34() {\n",
       "    \n",
       "\n",
       "        // Create DataTable object from DataTable constructor or arrayToDatable()\n",
       "        var jugle_chart_34_data = new google.visualization.DataTable({\"rows\":[{\"c\":[{\"v\":\"Greg\"},{\"v\":4}]},{\"c\":[{\"v\":\"Marsha\"},{\"v\":6}]},{\"c\":[{\"v\":\"Jan\"},{\"v\":5}]},{\"c\":[{\"v\":\"Peter\"},{\"v\":2}]},{\"c\":[{\"v\":\"Cindy\"},{\"v\":7}]},{\"c\":[{\"v\":\"Bobby\"},{\"v\":8}]}],\"cols\":[{\"type\":\"string\",\"id\":\"kids\",\"label\":\"kids\"},{\"type\":\"number\",\"id\":\"burgers\",\"label\":\"burgers\"}]});\n",
       "        \n",
       "        // Add formatters, if any\n",
       "\n",
       "        // Create ChartWrapper\n",
       "        var google_chart_34 = new google.visualization.ChartWrapper({      \n",
       "            \"containerId\": \"google_chart_34_div_id\",\n",
       "            \"dataTable\": jugle_chart_34_data,\n",
       "            \"chartType\": \"PieChart\",\n",
       "            \"options\": {}\n",
       "        });\n",
       "\t\t\n",
       "        \n",
       "        google_chart_34.draw();\n",
       "        \n",
       "        \n",
       "    }\n",
       "    \n",
       "</script>\n",
       "\n",
       "<div id=\"google_chart_34_div_id\" ></div>\n",
       "\n"
      ],
      "text/plain": [
       "<IPython.core.display.HTML object>"
      ]
     },
     "metadata": {},
     "output_type": "display_data"
    }
   ],
   "source": [
    "# pass DataFrame columns\n",
    "chart = JoogleChart(data.kids, data.burgers)\n",
    "chart.show(\"PieChart\")\n"
   ]
  },
  {
   "cell_type": "markdown",
   "metadata": {},
   "source": [
    "## Data model\n",
    "For most charts, the first column of data -- in a 2d list, a pandas DataFrame, or in pandas Series -- is the categories of the plotted values.  Subsequent columns are series of data to plot.  A chart type might take only one data series (e.g, PieChart), or multiple series (e.g. LineChart, ColumnChart).\n",
    "\n",
    "In some charts, such as a scatterplot, the first and second columns are x- and y-values.  Other chart types are more esoteric.  Consult the Google Charts documentation for chart type you would like to create.\n"
   ]
  },
  {
   "cell_type": "markdown",
   "metadata": {},
   "source": [
    "## Data types supported\n",
    "In the javascript, data is contained in a DataTable object.  DataTable accepts the following the data types:  boolean, number, string, date, datetime, and timeofday.  When passing data to JoogleChart in a 2d array, the array is turned into a DataTable with the javascript method .arrayToDataTable().  The datatypes can be specified in the 2d array, as shown in https://developers.google.com/chart/interactive/docs/datatables_dataviews#arraytodatatable.  Or, the data types can be unspecified, leaving the DataTable() constructor to infer the datatypes.\n",
    "\n",
    "When data is passed to JoogleChart in a DataFrame or Series, the javascript datatypes will be explicitly set according to the dtypes on the pandas object.  The mapping of dtypes to DataTable() types is straightforward, with two caveats.\n",
    "1.  timeofday is not currently supported.\n",
    "2.  All datetimes in pandas will be converted to dates (truncating h:m:s where necessary), unless columns are specified to be datetimes with a special keyword:  **datetime_cols=[2, 3]**"
   ]
  },
  {
   "cell_type": "markdown",
   "metadata": {
    "collapsed": true
   },
   "source": [
    "## None/NaN/NaT in a DataFrame\n",
    "If there is a None, NaN, or NaT in a DataFrame or Series passed to Ghart, an exception is raised, warning about the missing values.  If you would like these values to figure into the chart, pass the keyword argument\n",
    "\n",
    "**allow_nulls=True**\n",
    "\n",
    "in the JoogleChart constructor.  Any of the values  -- None, NaN, or NaT -- that appear are converted to **null** in the javascript.  It is recommended that you test the behavior of a chart with None/Nan/NaT if you are going to allow those values in the data.  Note that different chart types may handle nulls differently."
   ]
  },
  {
   "cell_type": "markdown",
   "metadata": {},
   "source": [
    "# 2. Selecting a chart type\n",
    "The chart has a default type of ColumnChart.  A chart type can be assigned at instantiation with the keyward argument **chart_type**.\n",
    "\n",
    "***An extensive list of chart types is shown in the Google Charts documentation.***"
   ]
  },
  {
   "cell_type": "code",
   "execution_count": 53,
   "metadata": {
    "collapsed": false
   },
   "outputs": [],
   "source": [
    "chart = JoogleChart(data, chart_type = 'BarChart')"
   ]
  },
  {
   "cell_type": "markdown",
   "metadata": {},
   "source": [
    "Alternatively, a chart's type can be changed at any time by simply setting the **chart_type** property"
   ]
  },
  {
   "cell_type": "code",
   "execution_count": 54,
   "metadata": {
    "collapsed": true
   },
   "outputs": [],
   "source": [
    "chart.set_chart_type('LineChart')"
   ]
  },
  {
   "cell_type": "markdown",
   "metadata": {},
   "source": [
    "# 3. Generating a chart\n",
    "## .render()\n",
    "Calling **.render()** on the chart object will generate javascript and html that can be displayed with ipython functions.\n",
    "\n",
    "A chart can be displayed (and modified) multiple times in a notebook, as each chart container div will have it's own unique id."
   ]
  },
  {
   "cell_type": "code",
   "execution_count": 55,
   "metadata": {
    "collapsed": false
   },
   "outputs": [
    {
     "data": {
      "text/html": [
       "\n",
       "\n",
       "\n",
       "<script type=\"text/javascript\">\n",
       "\n",
       "    // Check if google jsapi is already loaded.  If not, load it.\n",
       "    if (typeof window.google == 'undefined') {\n",
       "        jQuery.getScript('https://www.google.com/jsapi', function( data, textStatus, jqxhr) {\n",
       "            google_loader_35();\n",
       "        });\n",
       "    } else {\n",
       "        google_loader_35();\n",
       "    }\n",
       "\n",
       "    // load visualization library    \n",
       "    function google_loader_35() {\n",
       "    \n",
       "        google.load('visualization', '1.0', {'callback': doStuff_35});\n",
       "    }\n",
       "    function doStuff_35() {\n",
       "    \n",
       "\n",
       "        // Create DataTable object from DataTable constructor or arrayToDatable()\n",
       "        var jugle_chart_35_data = new google.visualization.DataTable({\"rows\":[{\"c\":[{\"v\":\"Greg\"},{\"v\":3},{\"v\":4}]},{\"c\":[{\"v\":\"Marsha\"},{\"v\":5},{\"v\":6}]},{\"c\":[{\"v\":\"Jan\"},{\"v\":4},{\"v\":5}]},{\"c\":[{\"v\":\"Peter\"},{\"v\":7},{\"v\":2}]},{\"c\":[{\"v\":\"Cindy\"},{\"v\":3},{\"v\":7}]},{\"c\":[{\"v\":\"Bobby\"},{\"v\":2},{\"v\":8}]}],\"cols\":[{\"type\":\"string\",\"id\":\"kids\",\"label\":\"kids\"},{\"type\":\"number\",\"id\":\"sodas\",\"label\":\"sodas\"},{\"type\":\"number\",\"id\":\"burgers\",\"label\":\"burgers\"}]});\n",
       "        \n",
       "        // Add formatters, if any\n",
       "\n",
       "        // Create ChartWrapper\n",
       "        var google_chart_35 = new google.visualization.ChartWrapper({      \n",
       "            \"containerId\": \"google_chart_35_div_id\",\n",
       "            \"dataTable\": jugle_chart_35_data,\n",
       "            \"chartType\": \"LineChart\",\n",
       "            \"options\": {}\n",
       "        });\n",
       "\t\t\n",
       "        \n",
       "        google_chart_35.draw();\n",
       "        \n",
       "        \n",
       "    }\n",
       "    \n",
       "</script>\n",
       "\n",
       "<div id=\"google_chart_35_div_id\" ></div>\n",
       "\n"
      ],
      "text/plain": [
       "<IPython.core.display.HTML object>"
      ]
     },
     "metadata": {},
     "output_type": "display_data"
    }
   ],
   "source": [
    "display(HTML(chart.render()))"
   ]
  },
  {
   "cell_type": "markdown",
   "metadata": {},
   "source": [
    "A chart type can be passed to the render() function to display a chart type on the fly without changing\n",
    "the underlying chart type."
   ]
  },
  {
   "cell_type": "code",
   "execution_count": 56,
   "metadata": {
    "collapsed": false
   },
   "outputs": [
    {
     "data": {
      "text/html": [
       "\n",
       "\n",
       "\n",
       "<script type=\"text/javascript\">\n",
       "\n",
       "    // Check if google jsapi is already loaded.  If not, load it.\n",
       "    if (typeof window.google == 'undefined') {\n",
       "        jQuery.getScript('https://www.google.com/jsapi', function( data, textStatus, jqxhr) {\n",
       "            google_loader_36();\n",
       "        });\n",
       "    } else {\n",
       "        google_loader_36();\n",
       "    }\n",
       "\n",
       "    // load visualization library    \n",
       "    function google_loader_36() {\n",
       "    \n",
       "        google.load('visualization', '1.0', {'callback': doStuff_36});\n",
       "    }\n",
       "    function doStuff_36() {\n",
       "    \n",
       "\n",
       "        // Create DataTable object from DataTable constructor or arrayToDatable()\n",
       "        var jugle_chart_36_data = new google.visualization.DataTable({\"rows\":[{\"c\":[{\"v\":\"Greg\"},{\"v\":3},{\"v\":4}]},{\"c\":[{\"v\":\"Marsha\"},{\"v\":5},{\"v\":6}]},{\"c\":[{\"v\":\"Jan\"},{\"v\":4},{\"v\":5}]},{\"c\":[{\"v\":\"Peter\"},{\"v\":7},{\"v\":2}]},{\"c\":[{\"v\":\"Cindy\"},{\"v\":3},{\"v\":7}]},{\"c\":[{\"v\":\"Bobby\"},{\"v\":2},{\"v\":8}]}],\"cols\":[{\"type\":\"string\",\"id\":\"kids\",\"label\":\"kids\"},{\"type\":\"number\",\"id\":\"sodas\",\"label\":\"sodas\"},{\"type\":\"number\",\"id\":\"burgers\",\"label\":\"burgers\"}]});\n",
       "        \n",
       "        // Add formatters, if any\n",
       "\n",
       "        // Create ChartWrapper\n",
       "        var google_chart_36 = new google.visualization.ChartWrapper({      \n",
       "            \"containerId\": \"google_chart_36_div_id\",\n",
       "            \"dataTable\": jugle_chart_36_data,\n",
       "            \"chartType\": \"BarChart\",\n",
       "            \"options\": {}\n",
       "        });\n",
       "\t\t\n",
       "        \n",
       "        google_chart_36.draw();\n",
       "        \n",
       "        \n",
       "    }\n",
       "    \n",
       "</script>\n",
       "\n",
       "<div id=\"google_chart_36_div_id\" ></div>\n",
       "\n"
      ],
      "text/plain": [
       "<IPython.core.display.HTML object>"
      ]
     },
     "metadata": {},
     "output_type": "display_data"
    }
   ],
   "source": [
    "display(HTML(chart.render('BarChart')))"
   ]
  },
  {
   "cell_type": "markdown",
   "metadata": {},
   "source": [
    "## .show()"
   ]
  },
  {
   "cell_type": "markdown",
   "metadata": {},
   "source": [
    "For easier display, a chart has a convenience function -- **.show()** -- that wraps *.render()* and ipython's *display(HTML())*"
   ]
  },
  {
   "cell_type": "code",
   "execution_count": 57,
   "metadata": {
    "collapsed": false
   },
   "outputs": [
    {
     "data": {
      "text/html": [
       "\n",
       "\n",
       "\n",
       "<script type=\"text/javascript\">\n",
       "\n",
       "    // Check if google jsapi is already loaded.  If not, load it.\n",
       "    if (typeof window.google == 'undefined') {\n",
       "        jQuery.getScript('https://www.google.com/jsapi', function( data, textStatus, jqxhr) {\n",
       "            google_loader_37();\n",
       "        });\n",
       "    } else {\n",
       "        google_loader_37();\n",
       "    }\n",
       "\n",
       "    // load visualization library    \n",
       "    function google_loader_37() {\n",
       "    \n",
       "        google.load('visualization', '1.0', {'callback': doStuff_37});\n",
       "    }\n",
       "    function doStuff_37() {\n",
       "    \n",
       "\n",
       "        // Create DataTable object from DataTable constructor or arrayToDatable()\n",
       "        var jugle_chart_37_data = new google.visualization.DataTable({\"rows\":[{\"c\":[{\"v\":\"Greg\"},{\"v\":3},{\"v\":4}]},{\"c\":[{\"v\":\"Marsha\"},{\"v\":5},{\"v\":6}]},{\"c\":[{\"v\":\"Jan\"},{\"v\":4},{\"v\":5}]},{\"c\":[{\"v\":\"Peter\"},{\"v\":7},{\"v\":2}]},{\"c\":[{\"v\":\"Cindy\"},{\"v\":3},{\"v\":7}]},{\"c\":[{\"v\":\"Bobby\"},{\"v\":2},{\"v\":8}]}],\"cols\":[{\"type\":\"string\",\"id\":\"kids\",\"label\":\"kids\"},{\"type\":\"number\",\"id\":\"sodas\",\"label\":\"sodas\"},{\"type\":\"number\",\"id\":\"burgers\",\"label\":\"burgers\"}]});\n",
       "        \n",
       "        // Add formatters, if any\n",
       "\n",
       "        // Create ChartWrapper\n",
       "        var google_chart_37 = new google.visualization.ChartWrapper({      \n",
       "            \"containerId\": \"google_chart_37_div_id\",\n",
       "            \"dataTable\": jugle_chart_37_data,\n",
       "            \"chartType\": \"LineChart\",\n",
       "            \"options\": {}\n",
       "        });\n",
       "\t\t\n",
       "        \n",
       "        google_chart_37.draw();\n",
       "        \n",
       "        \n",
       "    }\n",
       "    \n",
       "</script>\n",
       "\n",
       "<div id=\"google_chart_37_div_id\" ></div>\n",
       "\n"
      ],
      "text/plain": [
       "<IPython.core.display.HTML object>"
      ]
     },
     "metadata": {},
     "output_type": "display_data"
    },
    {
     "data": {
      "text/html": [
       "\n",
       "\n",
       "\n",
       "<script type=\"text/javascript\">\n",
       "\n",
       "    // Check if google jsapi is already loaded.  If not, load it.\n",
       "    if (typeof window.google == 'undefined') {\n",
       "        jQuery.getScript('https://www.google.com/jsapi', function( data, textStatus, jqxhr) {\n",
       "            google_loader_38();\n",
       "        });\n",
       "    } else {\n",
       "        google_loader_38();\n",
       "    }\n",
       "\n",
       "    // load visualization library    \n",
       "    function google_loader_38() {\n",
       "    \n",
       "        google.load('visualization', '1.0', {'callback': doStuff_38});\n",
       "    }\n",
       "    function doStuff_38() {\n",
       "    \n",
       "\n",
       "        // Create DataTable object from DataTable constructor or arrayToDatable()\n",
       "        var jugle_chart_38_data = new google.visualization.DataTable({\"rows\":[{\"c\":[{\"v\":\"Greg\"},{\"v\":3},{\"v\":4}]},{\"c\":[{\"v\":\"Marsha\"},{\"v\":5},{\"v\":6}]},{\"c\":[{\"v\":\"Jan\"},{\"v\":4},{\"v\":5}]},{\"c\":[{\"v\":\"Peter\"},{\"v\":7},{\"v\":2}]},{\"c\":[{\"v\":\"Cindy\"},{\"v\":3},{\"v\":7}]},{\"c\":[{\"v\":\"Bobby\"},{\"v\":2},{\"v\":8}]}],\"cols\":[{\"type\":\"string\",\"id\":\"kids\",\"label\":\"kids\"},{\"type\":\"number\",\"id\":\"sodas\",\"label\":\"sodas\"},{\"type\":\"number\",\"id\":\"burgers\",\"label\":\"burgers\"}]});\n",
       "        \n",
       "        // Add formatters, if any\n",
       "\n",
       "        // Create ChartWrapper\n",
       "        var google_chart_38 = new google.visualization.ChartWrapper({      \n",
       "            \"containerId\": \"google_chart_38_div_id\",\n",
       "            \"dataTable\": jugle_chart_38_data,\n",
       "            \"chartType\": \"ColumnChart\",\n",
       "            \"options\": {}\n",
       "        });\n",
       "\t\t\n",
       "        \n",
       "        google_chart_38.draw();\n",
       "        \n",
       "        \n",
       "    }\n",
       "    \n",
       "</script>\n",
       "\n",
       "<div id=\"google_chart_38_div_id\" ></div>\n",
       "\n"
      ],
      "text/plain": [
       "<IPython.core.display.HTML object>"
      ]
     },
     "metadata": {},
     "output_type": "display_data"
    }
   ],
   "source": [
    "chart.show()\n",
    "chart.show(\"ColumnChart\")"
   ]
  },
  {
   "cell_type": "markdown",
   "metadata": {},
   "source": [
    "# 4. Chart Options\n",
    "\n",
    "The chart can be given any of the configuration options listed in the Google Charts documentation, such as chart title or size, axis attributes, or plot attributes.  \n",
    "\n",
    "*** The list of configuration options can be found in the Google Charts documentation for any chart type, e.g. BarChart:*** https://developers.google.com/chart/interactive/docs/gallery/barchart#configuration-options\n",
    "\n",
    "Chart options are passed in the **add_chart_options()** method.  There are two ways to pass options.  One or more options can be passed in dictionary.  Or, they can be passed as keyword arguments.\n",
    "\n",
    "Some configuration options are shown in the documentation as a chain of nested javascript objects -- in dot notation, and in nested braces. For example, to set the color of the horizontal axis to blue, you would use the setting\n",
    "\n",
    "**{hAxis: {titleTextStyle: {color: \"blue\"} } }**\n",
    "\n",
    "There are several ways to set a chained property with JoogleChart.\n",
    "* As a set of nested dictionaries, paralleling the javascript object notation.\n",
    "* As a single dictionary, where the keyword has dot notation.\n",
    "* As a keyword argument, where the keyword uses '\\_' as the chain links.\n",
    "\n",
    "To set an option value to javascript true or false, use the Python objects True or False\n",
    "\n",
    "To set an option value to javascript null, use the Python object None."
   ]
  },
  {
   "cell_type": "markdown",
   "metadata": {},
   "source": [
    "## Passing options as a dictionary"
   ]
  },
  {
   "cell_type": "code",
   "execution_count": 58,
   "metadata": {
    "collapsed": false
   },
   "outputs": [
    {
     "data": {
      "text/html": [
       "\n",
       "\n",
       "\n",
       "<script type=\"text/javascript\">\n",
       "\n",
       "    // Check if google jsapi is already loaded.  If not, load it.\n",
       "    if (typeof window.google == 'undefined') {\n",
       "        jQuery.getScript('https://www.google.com/jsapi', function( data, textStatus, jqxhr) {\n",
       "            google_loader_39();\n",
       "        });\n",
       "    } else {\n",
       "        google_loader_39();\n",
       "    }\n",
       "\n",
       "    // load visualization library    \n",
       "    function google_loader_39() {\n",
       "    \n",
       "        google.load('visualization', '1.0', {'callback': doStuff_39});\n",
       "    }\n",
       "    function doStuff_39() {\n",
       "    \n",
       "\n",
       "        // Create DataTable object from DataTable constructor or arrayToDatable()\n",
       "        var jugle_chart_39_data = new google.visualization.DataTable({\"rows\":[{\"c\":[{\"v\":\"Greg\"},{\"v\":3},{\"v\":4}]},{\"c\":[{\"v\":\"Marsha\"},{\"v\":5},{\"v\":6}]},{\"c\":[{\"v\":\"Jan\"},{\"v\":4},{\"v\":5}]},{\"c\":[{\"v\":\"Peter\"},{\"v\":7},{\"v\":2}]},{\"c\":[{\"v\":\"Cindy\"},{\"v\":3},{\"v\":7}]},{\"c\":[{\"v\":\"Bobby\"},{\"v\":2},{\"v\":8}]}],\"cols\":[{\"type\":\"string\",\"id\":\"kids\",\"label\":\"kids\"},{\"type\":\"number\",\"id\":\"sodas\",\"label\":\"sodas\"},{\"type\":\"number\",\"id\":\"burgers\",\"label\":\"burgers\"}]});\n",
       "        \n",
       "        // Add formatters, if any\n",
       "\n",
       "        // Create ChartWrapper\n",
       "        var google_chart_39 = new google.visualization.ChartWrapper({      \n",
       "            \"containerId\": \"google_chart_39_div_id\",\n",
       "            \"dataTable\": jugle_chart_39_data,\n",
       "            \"chartType\": \"AreaChart\",\n",
       "            \"options\": {\"vAxis\": {\"titleTextStyle\": {\"color\": \"red\"}}, \"width\": \"600px\", \"hAxis\": {\"titleTextStyle\": {\"color\": \"green\"}, \"title\": \"Kids\"}, \"height\": \"400px\"}\n",
       "        });\n",
       "\t\t\n",
       "        \n",
       "        google_chart_39.draw();\n",
       "        \n",
       "        \n",
       "    }\n",
       "    \n",
       "</script>\n",
       "\n",
       "<div id=\"google_chart_39_div_id\" ></div>\n",
       "\n"
      ],
      "text/plain": [
       "<IPython.core.display.HTML object>"
      ]
     },
     "metadata": {},
     "output_type": "display_data"
    }
   ],
   "source": [
    "chart.add_chart_options({'width': '600px'})\n",
    "\n",
    "# Adding options is cumulative.  Call multiple times to additional options.\n",
    "\n",
    "# You can pass one or more options in one dictionary.\n",
    "chart.add_chart_options({'height':  '400px', 'width': '600px'})\n",
    "\n",
    "# Add a nested option as a fully formed dictionary...\n",
    "chart.add_chart_options({'hAxis': {'title': 'Kids'}})\n",
    "chart.add_chart_options({'hAxis': {'titleTextStyle': {'color': 'green'}}})\n",
    "\n",
    "# ...Or, add nested options with dot notation\n",
    "options = {}\n",
    "options['vAxis.title'] = 'Treats'\n",
    "options['vAxis.titleTextStyle.color'] = 'red'\n",
    "chart.add_chart_options(options)\n",
    "\n",
    "chart.show(\"AreaChart\")"
   ]
  },
  {
   "cell_type": "markdown",
   "metadata": {},
   "source": [
    "## Passing options as keyword args"
   ]
  },
  {
   "cell_type": "code",
   "execution_count": 59,
   "metadata": {
    "collapsed": false
   },
   "outputs": [
    {
     "data": {
      "text/html": [
       "\n",
       "\n",
       "\n",
       "<script type=\"text/javascript\">\n",
       "\n",
       "    // Check if google jsapi is already loaded.  If not, load it.\n",
       "    if (typeof window.google == 'undefined') {\n",
       "        jQuery.getScript('https://www.google.com/jsapi', function( data, textStatus, jqxhr) {\n",
       "            google_loader_40();\n",
       "        });\n",
       "    } else {\n",
       "        google_loader_40();\n",
       "    }\n",
       "\n",
       "    // load visualization library    \n",
       "    function google_loader_40() {\n",
       "    \n",
       "        google.load('visualization', '1.0', {'callback': doStuff_40});\n",
       "    }\n",
       "    function doStuff_40() {\n",
       "    \n",
       "\n",
       "        // Create DataTable object from DataTable constructor or arrayToDatable()\n",
       "        var jugle_chart_40_data = new google.visualization.DataTable({\"rows\":[{\"c\":[{\"v\":\"Greg\"},{\"v\":3},{\"v\":4}]},{\"c\":[{\"v\":\"Marsha\"},{\"v\":5},{\"v\":6}]},{\"c\":[{\"v\":\"Jan\"},{\"v\":4},{\"v\":5}]},{\"c\":[{\"v\":\"Peter\"},{\"v\":7},{\"v\":2}]},{\"c\":[{\"v\":\"Cindy\"},{\"v\":3},{\"v\":7}]},{\"c\":[{\"v\":\"Bobby\"},{\"v\":2},{\"v\":8}]}],\"cols\":[{\"type\":\"string\",\"id\":\"kids\",\"label\":\"kids\"},{\"type\":\"number\",\"id\":\"sodas\",\"label\":\"sodas\"},{\"type\":\"number\",\"id\":\"burgers\",\"label\":\"burgers\"}]});\n",
       "        \n",
       "        // Add formatters, if any\n",
       "\n",
       "        // Create ChartWrapper\n",
       "        var google_chart_40 = new google.visualization.ChartWrapper({      \n",
       "            \"containerId\": \"google_chart_40_div_id\",\n",
       "            \"dataTable\": jugle_chart_40_data,\n",
       "            \"chartType\": \"LineChart\",\n",
       "            \"options\": {\"vAxis\": {\"titleTextStyle\": {\"color\": \"red\"}}, \"width\": \"600px\", \"title\": \"Junk food consumption\", \"hAxis\": {\"titleTextStyle\": {\"color\": \"blue\"}, \"title\": \"Kids\"}, \"height\": 400}\n",
       "        });\n",
       "\t\t\n",
       "        \n",
       "        google_chart_40.draw();\n",
       "        \n",
       "        \n",
       "    }\n",
       "    \n",
       "</script>\n",
       "\n",
       "<div id=\"google_chart_40_div_id\" ></div>\n",
       "\n"
      ],
      "text/plain": [
       "<IPython.core.display.HTML object>"
      ]
     },
     "metadata": {},
     "output_type": "display_data"
    }
   ],
   "source": [
    "chart.add_chart_options(width = '600px', height = 400, title=\"Junk food consumption\")\n",
    "\n",
    "# Use underscore notation to add a nested option\n",
    "chart.add_chart_options(hAxis_titleTextStyle_color = 'blue')\n",
    "\n",
    "chart.show()"
   ]
  },
  {
   "cell_type": "markdown",
   "metadata": {},
   "source": [
    "## Reseting all options\n",
    "To reset all chart options, use None.\n",
    "\n",
    "This is useful in development when you are testing styles by adding and removing them.  Unless you restart the kernel, an option remains attached to the chart unless an option is set to None, or all chart options values are individually wiped out."
   ]
  },
  {
   "cell_type": "code",
   "execution_count": 60,
   "metadata": {
    "collapsed": true
   },
   "outputs": [],
   "source": [
    "chart.add_chart_options(None)"
   ]
  },
  {
   "cell_type": "markdown",
   "metadata": {},
   "source": [
    "# 5. Chart div container styles\n",
    "CSS Styles can be applied to the div that contains the chart. Pass these in a dictionary or as keyword arguments."
   ]
  },
  {
   "cell_type": "code",
   "execution_count": 61,
   "metadata": {
    "collapsed": false
   },
   "outputs": [
    {
     "data": {
      "text/html": [
       "\n",
       "\n",
       "\n",
       "<script type=\"text/javascript\">\n",
       "\n",
       "    // Check if google jsapi is already loaded.  If not, load it.\n",
       "    if (typeof window.google == 'undefined') {\n",
       "        jQuery.getScript('https://www.google.com/jsapi', function( data, textStatus, jqxhr) {\n",
       "            google_loader_41();\n",
       "        });\n",
       "    } else {\n",
       "        google_loader_41();\n",
       "    }\n",
       "\n",
       "    // load visualization library    \n",
       "    function google_loader_41() {\n",
       "    \n",
       "        google.load('visualization', '1.0', {'callback': doStuff_41});\n",
       "    }\n",
       "    function doStuff_41() {\n",
       "    \n",
       "\n",
       "        // Create DataTable object from DataTable constructor or arrayToDatable()\n",
       "        var jugle_chart_41_data = new google.visualization.DataTable({\"rows\":[{\"c\":[{\"v\":\"Greg\"},{\"v\":3},{\"v\":4}]},{\"c\":[{\"v\":\"Marsha\"},{\"v\":5},{\"v\":6}]},{\"c\":[{\"v\":\"Jan\"},{\"v\":4},{\"v\":5}]},{\"c\":[{\"v\":\"Peter\"},{\"v\":7},{\"v\":2}]},{\"c\":[{\"v\":\"Cindy\"},{\"v\":3},{\"v\":7}]},{\"c\":[{\"v\":\"Bobby\"},{\"v\":2},{\"v\":8}]}],\"cols\":[{\"type\":\"string\",\"id\":\"kids\",\"label\":\"kids\"},{\"type\":\"number\",\"id\":\"sodas\",\"label\":\"sodas\"},{\"type\":\"number\",\"id\":\"burgers\",\"label\":\"burgers\"}]});\n",
       "        \n",
       "        // Add formatters, if any\n",
       "\n",
       "        // Create ChartWrapper\n",
       "        var google_chart_41 = new google.visualization.ChartWrapper({      \n",
       "            \"containerId\": \"google_chart_41_div_id\",\n",
       "            \"dataTable\": jugle_chart_41_data,\n",
       "            \"chartType\": \"LineChart\",\n",
       "            \"options\": {}\n",
       "        });\n",
       "\t\t\n",
       "        \n",
       "        google_chart_41.draw();\n",
       "        \n",
       "        \n",
       "    }\n",
       "    \n",
       "</script>\n",
       "\n",
       "<div id=\"google_chart_41_div_id\" style=\"width: 500px; height: 400px\"></div>\n",
       "\n"
      ],
      "text/plain": [
       "<IPython.core.display.HTML object>"
      ]
     },
     "metadata": {},
     "output_type": "display_data"
    }
   ],
   "source": [
    "# If desired during development, set to None to reset\n",
    "chart.add_div_styles(None)\n",
    "\n",
    "# Add styles with dictionary\n",
    "chart.add_div_styles({'height': '400px'})\n",
    "\n",
    "# Or, add styles with keyword arg\n",
    "chart.add_div_styles(width = '500px')\n",
    "\n",
    "chart.show()"
   ]
  },
  {
   "cell_type": "code",
   "execution_count": null,
   "metadata": {
    "collapsed": true
   },
   "outputs": [],
   "source": []
  }
 ],
 "metadata": {
  "kernelspec": {
   "display_name": "Python 2",
   "language": "python",
   "name": "python2"
  },
  "language_info": {
   "codemirror_mode": {
    "name": "ipython",
    "version": 2
   },
   "file_extension": ".py",
   "mimetype": "text/x-python",
   "name": "python",
   "nbconvert_exporter": "python",
   "pygments_lexer": "ipython2",
   "version": "2.7.10"
  }
 },
 "nbformat": 4,
 "nbformat_minor": 0
}
