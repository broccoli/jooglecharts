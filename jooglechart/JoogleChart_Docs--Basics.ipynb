{
 "cells": [
  {
   "cell_type": "markdown",
   "metadata": {},
   "source": [
    "# What is JoogleChart?\n",
    "JoogleChart is Python/jupyter api for creating a Google Chart using generated javascript and html that calls the Google Charts library.  JoogleChart generates the javascript and html for you.  You don't have to worry about loading the chart library, creating valid javascript or html, or creating unique id's for your chart containers.\n",
    "\n",
    "*** Note: JoogleChart is a thin wrapper for Google Charts.  You must consult Google Charts documenation for all types and options to pass to JoogleChart.  It does not replace the Google Charts documentation.***\n",
    "\n",
    "JoogleChart is designed to be simple, so it has some limitations over coding your own Google Chart.\n",
    "* JoogleChart accepts only one set of data.\n",
    "* JoogleChart can create only one chart from the data.\n",
    "* JoogleChart does not support javascript event handling.\n",
    "* Data Views are not (yet) supported.\n",
    "* Loading data from an external source is not (yet) supported.\n",
    "\n",
    "JoogleChart will allow you to do with a chart whatever the most generic Google Chart javascript structure permits.  It will plug your configurations into a basic javascript template.  In other words, any charts and options that do not require specially coded javascript should work in JoogleChart.  What JoogleChart will let you do:\n",
    "* Use most (if not all) Google Chart types.\n",
    "* Use most (if not all) Google Chart configuration options.\n",
    "* Use most Formatters for customizing data display (currently excepting only ColorFormat).\n",
    "* Create one or more dashboard controls that can bind to the data or to other controls.\n"
   ]
  },
  {
   "cell_type": "markdown",
   "metadata": {},
   "source": [
    "# Dependencies\n",
    "\n",
    "## Python 2.7\n",
    "The following following packages must be installed.  Specific versions not tested.\n",
    "* gviz_api\n",
    "* pandas\n",
    "* ipython\n",
    "* jupyter\n",
    "* jooglechart\n",
    "* jinja2 (already part of jupyter environment)\n",
    "\n",
    "You can install gviz_api from git at https://github.com/google/google-visualization-python\n",
    "`````\n",
    "pip install git+https://github.com/google/google-visualization-python\n",
    "`````\n",
    "\n",
    "## Javascript\n",
    "* jquery (already part of the jupyter environment)\n",
    "\n",
    "## CSS\n",
    "* bootstrap (already part of the jupyter environment)\n",
    "\n",
    "\n"
   ]
  },
  {
   "cell_type": "markdown",
   "metadata": {},
   "source": [
    "# The import statements"
   ]
  },
  {
   "cell_type": "code",
   "execution_count": 1,
   "metadata": {
    "collapsed": false
   },
   "outputs": [],
   "source": [
    "# There is one required import.\n",
    "from jooglechart_api import JoogleChart\n",
    "\n",
    "# Optional import, if you're using pandas to format your data.\n",
    "import pandas as pd\n",
    "\n",
    "# Optional import, if you're going to call the display methods yourself, rather than using .show()\n",
    "from IPython.display import display, HTML \n"
   ]
  },
  {
   "cell_type": "markdown",
   "metadata": {},
   "source": [
    "# Quick Start"
   ]
  },
  {
   "cell_type": "code",
   "execution_count": 2,
   "metadata": {
    "collapsed": false
   },
   "outputs": [
    {
     "data": {
      "text/html": [
       "\n",
       "\n",
       "\n",
       "<script type=\"text/javascript\">\n",
       "\n",
       "    // Check if google jsapi is already loaded.  If not, load it.\n",
       "    if (typeof window.google == 'undefined') {\n",
       "        jQuery.getScript('https://www.google.com/jsapi', function( data, textStatus, jqxhr) {\n",
       "            google_loader_1();\n",
       "        });\n",
       "    } else {\n",
       "        google_loader_1();\n",
       "    }\n",
       "\n",
       "    // load visualization library    \n",
       "    function google_loader_1() {\n",
       "    \n",
       "        google.load('visualization', '1.0', {'callback': doStuff_1});\n",
       "    }\n",
       "    function doStuff_1() {\n",
       "    \n",
       "\n",
       "        // Create DataTable object from DataTable constructor or arrayToDatable()\n",
       "        var jugle_chart_1_data = new google.visualization.DataTable({\"rows\":[{\"c\":[{\"v\":\"Chicago\"},{\"v\":35}]},{\"c\":[{\"v\":\"Atlanta\"},{\"v\":23}]}],\"cols\":[{\"type\":\"string\",\"id\":\"cities\",\"label\":\"cities\"},{\"type\":\"number\",\"id\":\"widgets\",\"label\":\"widgets\"}]});\n",
       "        \n",
       "        // Add formatters, if any\n",
       "\n",
       "        // Create ChartWrapper\n",
       "        var google_chart_1 = new google.visualization.ChartWrapper({      \n",
       "            \"containerId\": \"google_chart_1_div_id\",\n",
       "            \"dataTable\": jugle_chart_1_data,\n",
       "            \"chartType\": \"ColumnChart\",\n",
       "            \"options\": {\"is3d\": true, \"title\": \"asdfadf\"}\n",
       "        });\n",
       "\t\t\n",
       "        \n",
       "        google_chart_1.draw();\n",
       "        \n",
       "        \n",
       "    }\n",
       "    \n",
       "</script>\n",
       "\n",
       "<div id=\"google_chart_1_div_id\" ></div>\n",
       "\n"
      ],
      "text/plain": [
       "<IPython.core.display.HTML object>"
      ]
     },
     "metadata": {},
     "output_type": "display_data"
    }
   ],
   "source": [
    "# create a chart object from a data frame.\n",
    "data = pd.DataFrame({'cities': ['Chicago', 'Atlanta'], 'widgets': [35, 23]})\n",
    "chart = JoogleChart(data)\n",
    "\n",
    "# call .show()\n",
    "chart.add_chart_options(title=\"asdfadf\", is3d=True)\n",
    "chart.show()\n",
    "\n",
    "# current default is ColumnChart."
   ]
  },
  {
   "cell_type": "markdown",
   "metadata": {},
   "source": [
    "# 1. Adding data\n",
    "Data must be passed to the constructor when you create a JoogleChart.  Data can be passed to the constructor in three ways.\n",
    "* as a 2d list\n",
    "* as a pandas DataFrame\n",
    "* as two or more pandas Series."
   ]
  },
  {
   "cell_type": "markdown",
   "metadata": {},
   "source": [
    "## Creating data as 2-d list\n",
    "The data is passed as a list of lists.  The first inner list is the headers.  Each list following contains the data.  The first item in a data list is usually the category; each following item is a plotted value."
   ]
  },
  {
   "cell_type": "code",
   "execution_count": 3,
   "metadata": {
    "collapsed": false
   },
   "outputs": [],
   "source": [
    "data = []\n",
    "\n",
    "# The first list is the column headings\n",
    "data.append(['Kid', 'cupcakes', 'candy bars'])\n",
    "\n",
    "# Each list after that is a row of data.\n",
    "data.append(['Bobby', 3, 10])\n",
    "data.append(['Cindy', 2, 7])\n",
    "data.append(['Marsha', 4, 5])\n",
    "data.append(['Greg', 5, 8])\n",
    "\n",
    "chart = JoogleChart(data)"
   ]
  },
  {
   "cell_type": "markdown",
   "metadata": {},
   "source": [
    "## Creating data as a DataFrame\n",
    "Basically, the rows of a DataFrame are rows of data.  For many chart types (e.g, BarChart, ColumnChart), the first column of the DataFrame contains the categories for the chart, and each column after that has plotted values.  For other charts (like ScatterChart), the first column contains a coordinate value on one axis, and the subsequent columns contain coordinate values on the other axis.\n",
    "\n",
    "** The index is ignored by JoogleChart.  If you would like the index to be used as the categories, you must reset the index on the DataFrame.**"
   ]
  },
  {
   "cell_type": "code",
   "execution_count": 4,
   "metadata": {
    "collapsed": true
   },
   "outputs": [],
   "source": [
    "kids = ['Greg', 'Marsha', 'Jan', 'Peter', 'Cindy', 'Bobby']\n",
    "sodas = [3, 5, 4, 7, 3, 2]\n",
    "burgers = [4, 6, 5, 2, 7, 8]\n",
    "\n",
    "data = pd.DataFrame({'kids': kids, 'sodas': sodas, 'burgers': burgers}, columns=['kids', 'sodas', 'burgers'])\n",
    "\n",
    "chart = JoogleChart(data)"
   ]
  },
  {
   "cell_type": "markdown",
   "metadata": {},
   "source": [
    "## Passing data from two or more Series\n",
    "Selected columns of a DataFrame can be passed as Series.  The first Series is the categories or the x-values, say.  The following Series hold the y-values."
   ]
  },
  {
   "cell_type": "code",
   "execution_count": 5,
   "metadata": {
    "collapsed": false
   },
   "outputs": [
    {
     "data": {
      "text/html": [
       "\n",
       "\n",
       "\n",
       "<script type=\"text/javascript\">\n",
       "\n",
       "    // Check if google jsapi is already loaded.  If not, load it.\n",
       "    if (typeof window.google == 'undefined') {\n",
       "        jQuery.getScript('https://www.google.com/jsapi', function( data, textStatus, jqxhr) {\n",
       "            google_loader_2();\n",
       "        });\n",
       "    } else {\n",
       "        google_loader_2();\n",
       "    }\n",
       "\n",
       "    // load visualization library    \n",
       "    function google_loader_2() {\n",
       "    \n",
       "        google.load('visualization', '1.0', {'callback': doStuff_2});\n",
       "    }\n",
       "    function doStuff_2() {\n",
       "    \n",
       "\n",
       "        // Create DataTable object from DataTable constructor or arrayToDatable()\n",
       "        var jugle_chart_2_data = new google.visualization.DataTable({\"rows\":[{\"c\":[{\"v\":\"Greg\"},{\"v\":4}]},{\"c\":[{\"v\":\"Marsha\"},{\"v\":6}]},{\"c\":[{\"v\":\"Jan\"},{\"v\":5}]},{\"c\":[{\"v\":\"Peter\"},{\"v\":2}]},{\"c\":[{\"v\":\"Cindy\"},{\"v\":7}]},{\"c\":[{\"v\":\"Bobby\"},{\"v\":8}]}],\"cols\":[{\"type\":\"string\",\"id\":\"kids\",\"label\":\"kids\"},{\"type\":\"number\",\"id\":\"burgers\",\"label\":\"burgers\"}]});\n",
       "        \n",
       "        // Add formatters, if any\n",
       "\n",
       "        // Create ChartWrapper\n",
       "        var google_chart_2 = new google.visualization.ChartWrapper({      \n",
       "            \"containerId\": \"google_chart_2_div_id\",\n",
       "            \"dataTable\": jugle_chart_2_data,\n",
       "            \"chartType\": \"PieChart\",\n",
       "            \"options\": {}\n",
       "        });\n",
       "\t\t\n",
       "        \n",
       "        google_chart_2.draw();\n",
       "        \n",
       "        \n",
       "    }\n",
       "    \n",
       "</script>\n",
       "\n",
       "<div id=\"google_chart_2_div_id\" ></div>\n",
       "\n"
      ],
      "text/plain": [
       "<IPython.core.display.HTML object>"
      ]
     },
     "metadata": {},
     "output_type": "display_data"
    }
   ],
   "source": [
    "# pass DataFrame columns\n",
    "chart = JoogleChart(data.kids, data.burgers)\n",
    "chart.show(\"PieChart\")\n"
   ]
  },
  {
   "cell_type": "markdown",
   "metadata": {},
   "source": [
    "## Data types supported\n",
    "In the javascript, data is contained in a DataTable object.  DataTable accepts the following the data types:  boolean, number, string, date, datetime, and timeofday.  When passing data to JoogleChart in a 2d array, the array is turned into a DataTable with the javascript method .arrayToDataTable().  The datatypes can be specified in the 2d array, as shown in https://developers.google.com/chart/interactive/docs/datatables_dataviews#arraytodatatable.  Or, the data types can be unspecified, leaving the DataTable() constructor to infer the datatypes.\n",
    "\n",
    "When data is passed to JoogleChart in a DataFrame or Series, the javascript datatypes will be explicitly set according to the dtypes on the pandas object.  The mapping of dtypes to DataTable() types is straightforward, with two caveats.\n",
    "1.  timeofday is not currently supported.\n",
    "2.  All datetimes in pandas will be converted to dates (truncating h:m:s where necessary), unless columns are specified to be dateimes with a special keyword:  **datetime_cols=[2, 3]**"
   ]
  },
  {
   "cell_type": "markdown",
   "metadata": {
    "collapsed": true
   },
   "source": [
    "## None/NaN/NaT in a DataFrame\n",
    "If there is a None, NaN, or NaT in a DataFrame or Series passed to Ghart, an exception is raised, warning about the missing values.  If you would like these values to figure into the chart, pass the keyword argument\n",
    "\n",
    "**allow_nulls=True**\n",
    "\n",
    "in the JoogleChart constructor.  Any of the values -- None, NaN, or NaT -- that appear are converted to **null** in the javascript."
   ]
  },
  {
   "cell_type": "markdown",
   "metadata": {},
   "source": [
    "# 2. Selecting a chart type\n",
    "The chart has a default type of ColumnChart.  A chart type can be assigned at instantiation with the keyward argument **chart_type**.\n",
    "\n",
    "***An extensive list of chart types is shown in the Google Charts documentation.***"
   ]
  },
  {
   "cell_type": "code",
   "execution_count": 6,
   "metadata": {
    "collapsed": false
   },
   "outputs": [],
   "source": [
    "chart = JoogleChart(data, chart_type = 'BarChart')"
   ]
  },
  {
   "cell_type": "markdown",
   "metadata": {},
   "source": [
    "Alternatively, a chart's type can be changed at any time by simply setting the **chart_type** property"
   ]
  },
  {
   "cell_type": "code",
   "execution_count": 7,
   "metadata": {
    "collapsed": true
   },
   "outputs": [],
   "source": [
    "chart.chart_type = 'LineChart'"
   ]
  },
  {
   "cell_type": "markdown",
   "metadata": {},
   "source": [
    "# 3. Generating a chart\n",
    "## .render()\n",
    "Calling **.render()** on the chart object will generate javascript and html that can be displayed with ipython functions.\n",
    "\n",
    "A chart can be displayed (and modified) multiple times in a notebook, as each chart container div will have it's own unique id."
   ]
  },
  {
   "cell_type": "code",
   "execution_count": 8,
   "metadata": {
    "collapsed": false
   },
   "outputs": [
    {
     "data": {
      "text/html": [
       "\n",
       "\n",
       "\n",
       "<script type=\"text/javascript\">\n",
       "\n",
       "    // Check if google jsapi is already loaded.  If not, load it.\n",
       "    if (typeof window.google == 'undefined') {\n",
       "        jQuery.getScript('https://www.google.com/jsapi', function( data, textStatus, jqxhr) {\n",
       "            google_loader_3();\n",
       "        });\n",
       "    } else {\n",
       "        google_loader_3();\n",
       "    }\n",
       "\n",
       "    // load visualization library    \n",
       "    function google_loader_3() {\n",
       "    \n",
       "        google.load('visualization', '1.0', {'callback': doStuff_3});\n",
       "    }\n",
       "    function doStuff_3() {\n",
       "    \n",
       "\n",
       "        // Create DataTable object from DataTable constructor or arrayToDatable()\n",
       "        var jugle_chart_3_data = new google.visualization.DataTable({\"rows\":[{\"c\":[{\"v\":\"Greg\"},{\"v\":3},{\"v\":4}]},{\"c\":[{\"v\":\"Marsha\"},{\"v\":5},{\"v\":6}]},{\"c\":[{\"v\":\"Jan\"},{\"v\":4},{\"v\":5}]},{\"c\":[{\"v\":\"Peter\"},{\"v\":7},{\"v\":2}]},{\"c\":[{\"v\":\"Cindy\"},{\"v\":3},{\"v\":7}]},{\"c\":[{\"v\":\"Bobby\"},{\"v\":2},{\"v\":8}]}],\"cols\":[{\"type\":\"string\",\"id\":\"kids\",\"label\":\"kids\"},{\"type\":\"number\",\"id\":\"sodas\",\"label\":\"sodas\"},{\"type\":\"number\",\"id\":\"burgers\",\"label\":\"burgers\"}]});\n",
       "        \n",
       "        // Add formatters, if any\n",
       "\n",
       "        // Create ChartWrapper\n",
       "        var google_chart_3 = new google.visualization.ChartWrapper({      \n",
       "            \"containerId\": \"google_chart_3_div_id\",\n",
       "            \"dataTable\": jugle_chart_3_data,\n",
       "            \"chartType\": \"BarChart\",\n",
       "            \"options\": {}\n",
       "        });\n",
       "\t\t\n",
       "        \n",
       "        google_chart_3.draw();\n",
       "        \n",
       "        \n",
       "    }\n",
       "    \n",
       "</script>\n",
       "\n",
       "<div id=\"google_chart_3_div_id\" ></div>\n",
       "\n"
      ],
      "text/plain": [
       "<IPython.core.display.HTML object>"
      ]
     },
     "metadata": {},
     "output_type": "display_data"
    }
   ],
   "source": [
    "display(HTML(chart.render()))"
   ]
  },
  {
   "cell_type": "markdown",
   "metadata": {},
   "source": [
    "A chart type can be passed to the render() function to display a chart type on the fly without changing\n",
    "the underlying chart type."
   ]
  },
  {
   "cell_type": "code",
   "execution_count": 9,
   "metadata": {
    "collapsed": false
   },
   "outputs": [
    {
     "data": {
      "text/html": [
       "\n",
       "\n",
       "\n",
       "<script type=\"text/javascript\">\n",
       "\n",
       "    // Check if google jsapi is already loaded.  If not, load it.\n",
       "    if (typeof window.google == 'undefined') {\n",
       "        jQuery.getScript('https://www.google.com/jsapi', function( data, textStatus, jqxhr) {\n",
       "            google_loader_4();\n",
       "        });\n",
       "    } else {\n",
       "        google_loader_4();\n",
       "    }\n",
       "\n",
       "    // load visualization library    \n",
       "    function google_loader_4() {\n",
       "    \n",
       "        google.load('visualization', '1.0', {'callback': doStuff_4});\n",
       "    }\n",
       "    function doStuff_4() {\n",
       "    \n",
       "\n",
       "        // Create DataTable object from DataTable constructor or arrayToDatable()\n",
       "        var jugle_chart_4_data = new google.visualization.DataTable({\"rows\":[{\"c\":[{\"v\":\"Greg\"},{\"v\":3},{\"v\":4}]},{\"c\":[{\"v\":\"Marsha\"},{\"v\":5},{\"v\":6}]},{\"c\":[{\"v\":\"Jan\"},{\"v\":4},{\"v\":5}]},{\"c\":[{\"v\":\"Peter\"},{\"v\":7},{\"v\":2}]},{\"c\":[{\"v\":\"Cindy\"},{\"v\":3},{\"v\":7}]},{\"c\":[{\"v\":\"Bobby\"},{\"v\":2},{\"v\":8}]}],\"cols\":[{\"type\":\"string\",\"id\":\"kids\",\"label\":\"kids\"},{\"type\":\"number\",\"id\":\"sodas\",\"label\":\"sodas\"},{\"type\":\"number\",\"id\":\"burgers\",\"label\":\"burgers\"}]});\n",
       "        \n",
       "        // Add formatters, if any\n",
       "\n",
       "        // Create ChartWrapper\n",
       "        var google_chart_4 = new google.visualization.ChartWrapper({      \n",
       "            \"containerId\": \"google_chart_4_div_id\",\n",
       "            \"dataTable\": jugle_chart_4_data,\n",
       "            \"chartType\": \"BarChart\",\n",
       "            \"options\": {}\n",
       "        });\n",
       "\t\t\n",
       "        \n",
       "        google_chart_4.draw();\n",
       "        \n",
       "        \n",
       "    }\n",
       "    \n",
       "</script>\n",
       "\n",
       "<div id=\"google_chart_4_div_id\" ></div>\n",
       "\n"
      ],
      "text/plain": [
       "<IPython.core.display.HTML object>"
      ]
     },
     "metadata": {},
     "output_type": "display_data"
    }
   ],
   "source": [
    "display(HTML(chart.render('BarChart')))"
   ]
  },
  {
   "cell_type": "markdown",
   "metadata": {},
   "source": [
    "## .show()"
   ]
  },
  {
   "cell_type": "markdown",
   "metadata": {},
   "source": [
    "For easier display, a chart has a convenience function -- **.show()** -- that wraps *.render()* and ipython's *display(HTML())*"
   ]
  },
  {
   "cell_type": "code",
   "execution_count": 10,
   "metadata": {
    "collapsed": false
   },
   "outputs": [
    {
     "data": {
      "text/html": [
       "\n",
       "\n",
       "\n",
       "<script type=\"text/javascript\">\n",
       "\n",
       "    // Check if google jsapi is already loaded.  If not, load it.\n",
       "    if (typeof window.google == 'undefined') {\n",
       "        jQuery.getScript('https://www.google.com/jsapi', function( data, textStatus, jqxhr) {\n",
       "            google_loader_5();\n",
       "        });\n",
       "    } else {\n",
       "        google_loader_5();\n",
       "    }\n",
       "\n",
       "    // load visualization library    \n",
       "    function google_loader_5() {\n",
       "    \n",
       "        google.load('visualization', '1.0', {'callback': doStuff_5});\n",
       "    }\n",
       "    function doStuff_5() {\n",
       "    \n",
       "\n",
       "        // Create DataTable object from DataTable constructor or arrayToDatable()\n",
       "        var jugle_chart_5_data = new google.visualization.DataTable({\"rows\":[{\"c\":[{\"v\":\"Greg\"},{\"v\":3},{\"v\":4}]},{\"c\":[{\"v\":\"Marsha\"},{\"v\":5},{\"v\":6}]},{\"c\":[{\"v\":\"Jan\"},{\"v\":4},{\"v\":5}]},{\"c\":[{\"v\":\"Peter\"},{\"v\":7},{\"v\":2}]},{\"c\":[{\"v\":\"Cindy\"},{\"v\":3},{\"v\":7}]},{\"c\":[{\"v\":\"Bobby\"},{\"v\":2},{\"v\":8}]}],\"cols\":[{\"type\":\"string\",\"id\":\"kids\",\"label\":\"kids\"},{\"type\":\"number\",\"id\":\"sodas\",\"label\":\"sodas\"},{\"type\":\"number\",\"id\":\"burgers\",\"label\":\"burgers\"}]});\n",
       "        \n",
       "        // Add formatters, if any\n",
       "\n",
       "        // Create ChartWrapper\n",
       "        var google_chart_5 = new google.visualization.ChartWrapper({      \n",
       "            \"containerId\": \"google_chart_5_div_id\",\n",
       "            \"dataTable\": jugle_chart_5_data,\n",
       "            \"chartType\": \"BarChart\",\n",
       "            \"options\": {}\n",
       "        });\n",
       "\t\t\n",
       "        \n",
       "        google_chart_5.draw();\n",
       "        \n",
       "        \n",
       "    }\n",
       "    \n",
       "</script>\n",
       "\n",
       "<div id=\"google_chart_5_div_id\" ></div>\n",
       "\n"
      ],
      "text/plain": [
       "<IPython.core.display.HTML object>"
      ]
     },
     "metadata": {},
     "output_type": "display_data"
    },
    {
     "data": {
      "text/html": [
       "\n",
       "\n",
       "\n",
       "<script type=\"text/javascript\">\n",
       "\n",
       "    // Check if google jsapi is already loaded.  If not, load it.\n",
       "    if (typeof window.google == 'undefined') {\n",
       "        jQuery.getScript('https://www.google.com/jsapi', function( data, textStatus, jqxhr) {\n",
       "            google_loader_6();\n",
       "        });\n",
       "    } else {\n",
       "        google_loader_6();\n",
       "    }\n",
       "\n",
       "    // load visualization library    \n",
       "    function google_loader_6() {\n",
       "    \n",
       "        google.load('visualization', '1.0', {'callback': doStuff_6});\n",
       "    }\n",
       "    function doStuff_6() {\n",
       "    \n",
       "\n",
       "        // Create DataTable object from DataTable constructor or arrayToDatable()\n",
       "        var jugle_chart_6_data = new google.visualization.DataTable({\"rows\":[{\"c\":[{\"v\":\"Greg\"},{\"v\":3},{\"v\":4}]},{\"c\":[{\"v\":\"Marsha\"},{\"v\":5},{\"v\":6}]},{\"c\":[{\"v\":\"Jan\"},{\"v\":4},{\"v\":5}]},{\"c\":[{\"v\":\"Peter\"},{\"v\":7},{\"v\":2}]},{\"c\":[{\"v\":\"Cindy\"},{\"v\":3},{\"v\":7}]},{\"c\":[{\"v\":\"Bobby\"},{\"v\":2},{\"v\":8}]}],\"cols\":[{\"type\":\"string\",\"id\":\"kids\",\"label\":\"kids\"},{\"type\":\"number\",\"id\":\"sodas\",\"label\":\"sodas\"},{\"type\":\"number\",\"id\":\"burgers\",\"label\":\"burgers\"}]});\n",
       "        \n",
       "        // Add formatters, if any\n",
       "\n",
       "        // Create ChartWrapper\n",
       "        var google_chart_6 = new google.visualization.ChartWrapper({      \n",
       "            \"containerId\": \"google_chart_6_div_id\",\n",
       "            \"dataTable\": jugle_chart_6_data,\n",
       "            \"chartType\": \"ColumnChart\",\n",
       "            \"options\": {\"colors\": [\"#00FF55\", \"#537593\", \"#645785\"]}\n",
       "        });\n",
       "\t\t\n",
       "        \n",
       "        google_chart_6.draw();\n",
       "        \n",
       "        \n",
       "    }\n",
       "    \n",
       "</script>\n",
       "\n",
       "<div id=\"google_chart_6_div_id\" ></div>\n",
       "\n"
      ],
      "text/plain": [
       "<IPython.core.display.HTML object>"
      ]
     },
     "metadata": {},
     "output_type": "display_data"
    }
   ],
   "source": [
    "chart.show()\n",
    "chart.add_chart_options(colors=['#00FF55', '#537593', '#645785'])\n",
    "chart.show(\"ColumnChart\")"
   ]
  },
  {
   "cell_type": "code",
   "execution_count": null,
   "metadata": {
    "collapsed": true
   },
   "outputs": [],
   "source": []
  },
  {
   "cell_type": "markdown",
   "metadata": {},
   "source": [
    "# 4. Chart Options\n",
    "\n",
    "The chart can be given any of the configuration options listed in the Google Charts documentation, such as chart title or size, axis attributes, or plot attributes.  \n",
    "\n",
    "*** The list of configuration options can be found in the Google Charts documentation for any chart type, e.g. BarChart:*** https://developers.google.com/chart/interactive/docs/gallery/barchart#configuration-options\n",
    "\n",
    "Chart options are passed in the **add_chart_options()** method.  There are two ways to pass options.  One or more options can be passed in dictionary.  Or, they can be passed as keyword arguments.\n",
    "\n",
    "Some configuration options are shown in the documentation as a chain of nested javascript objects -- in dot notation, and in nested braces. For example, to set the color of the horizontal axis to blue, you would use the setting\n",
    "\n",
    "**{hAxis: {titleTextStyle: {color: \"blue\"} } }**\n",
    "\n",
    "There are several ways to set a chained property with JoogleChart.\n",
    "* As a set of nested dictionaries, paralleling the javascript object notation.\n",
    "* As a single dictionary, where the keyword has dot notation.\n",
    "* As a keyword argument, where the keyword uses '\\_' as the chain links.\n",
    "\n",
    "To set an option value to javascript true or false, use the Python objects True or False\n",
    "\n",
    "To set an option value to javascript null, use the Python object None."
   ]
  },
  {
   "cell_type": "markdown",
   "metadata": {},
   "source": [
    "## Passing options as a dictionary"
   ]
  },
  {
   "cell_type": "code",
   "execution_count": 11,
   "metadata": {
    "collapsed": false
   },
   "outputs": [
    {
     "data": {
      "text/html": [
       "\n",
       "\n",
       "\n",
       "<script type=\"text/javascript\">\n",
       "\n",
       "    // Check if google jsapi is already loaded.  If not, load it.\n",
       "    if (typeof window.google == 'undefined') {\n",
       "        jQuery.getScript('https://www.google.com/jsapi', function( data, textStatus, jqxhr) {\n",
       "            google_loader_7();\n",
       "        });\n",
       "    } else {\n",
       "        google_loader_7();\n",
       "    }\n",
       "\n",
       "    // load visualization library    \n",
       "    function google_loader_7() {\n",
       "    \n",
       "        google.load('visualization', '1.0', {'callback': doStuff_7});\n",
       "    }\n",
       "    function doStuff_7() {\n",
       "    \n",
       "\n",
       "        // Create DataTable object from DataTable constructor or arrayToDatable()\n",
       "        var jugle_chart_7_data = new google.visualization.DataTable({\"rows\":[{\"c\":[{\"v\":\"Greg\"},{\"v\":3},{\"v\":4}]},{\"c\":[{\"v\":\"Marsha\"},{\"v\":5},{\"v\":6}]},{\"c\":[{\"v\":\"Jan\"},{\"v\":4},{\"v\":5}]},{\"c\":[{\"v\":\"Peter\"},{\"v\":7},{\"v\":2}]},{\"c\":[{\"v\":\"Cindy\"},{\"v\":3},{\"v\":7}]},{\"c\":[{\"v\":\"Bobby\"},{\"v\":2},{\"v\":8}]}],\"cols\":[{\"type\":\"string\",\"id\":\"kids\",\"label\":\"kids\"},{\"type\":\"number\",\"id\":\"sodas\",\"label\":\"sodas\"},{\"type\":\"number\",\"id\":\"burgers\",\"label\":\"burgers\"}]});\n",
       "        \n",
       "        // Add formatters, if any\n",
       "\n",
       "        // Create ChartWrapper\n",
       "        var google_chart_7 = new google.visualization.ChartWrapper({      \n",
       "            \"containerId\": \"google_chart_7_div_id\",\n",
       "            \"dataTable\": jugle_chart_7_data,\n",
       "            \"chartType\": \"AreaChart\",\n",
       "            \"options\": {\"vAxis\": {\"titleTextStyle\": {\"color\": \"red\"}}, \"width\": \"600px\", \"colors\": [\"#00FF55\", \"#537593\", \"#645785\"], \"hAxis\": {\"titleTextStyle\": {\"color\": \"green\"}, \"title\": \"Kids\"}, \"height\": \"400px\"}\n",
       "        });\n",
       "\t\t\n",
       "        \n",
       "        google_chart_7.draw();\n",
       "        \n",
       "        \n",
       "    }\n",
       "    \n",
       "</script>\n",
       "\n",
       "<div id=\"google_chart_7_div_id\" ></div>\n",
       "\n"
      ],
      "text/plain": [
       "<IPython.core.display.HTML object>"
      ]
     },
     "metadata": {},
     "output_type": "display_data"
    }
   ],
   "source": [
    "chart.add_chart_options({'width': '600px'})\n",
    "\n",
    "# Adding options is cumulative.\n",
    "# You can pass one or more options in one dictionary.\n",
    "chart.add_chart_options({'height':  '400px', 'width': '600px'})\n",
    "\n",
    "# Add a chained option as a fully formed dictionary...\n",
    "chart.add_chart_options({'hAxis': {'title': 'Kids'}})\n",
    "chart.add_chart_options({'hAxis': {'titleTextStyle': {'color': 'green'}}})\n",
    "\n",
    "# Or, add chained option with dot notation\n",
    "options = {}\n",
    "options['vAxis.title'] = 'Treats'\n",
    "options['vAxis.titleTextStyle.color'] = 'red'\n",
    "chart.add_chart_options(options)\n",
    "\n",
    "chart.show(\"AreaChart\")"
   ]
  },
  {
   "cell_type": "markdown",
   "metadata": {},
   "source": [
    "## Passing options as keyword args"
   ]
  },
  {
   "cell_type": "code",
   "execution_count": 12,
   "metadata": {
    "collapsed": false
   },
   "outputs": [
    {
     "data": {
      "text/html": [
       "\n",
       "\n",
       "\n",
       "<script type=\"text/javascript\">\n",
       "\n",
       "    // Check if google jsapi is already loaded.  If not, load it.\n",
       "    if (typeof window.google == 'undefined') {\n",
       "        jQuery.getScript('https://www.google.com/jsapi', function( data, textStatus, jqxhr) {\n",
       "            google_loader_8();\n",
       "        });\n",
       "    } else {\n",
       "        google_loader_8();\n",
       "    }\n",
       "\n",
       "    // load visualization library    \n",
       "    function google_loader_8() {\n",
       "    \n",
       "        google.load('visualization', '1.0', {'callback': doStuff_8});\n",
       "    }\n",
       "    function doStuff_8() {\n",
       "    \n",
       "\n",
       "        // Create DataTable object from DataTable constructor or arrayToDatable()\n",
       "        var jugle_chart_8_data = new google.visualization.DataTable({\"rows\":[{\"c\":[{\"v\":\"Greg\"},{\"v\":3},{\"v\":4}]},{\"c\":[{\"v\":\"Marsha\"},{\"v\":5},{\"v\":6}]},{\"c\":[{\"v\":\"Jan\"},{\"v\":4},{\"v\":5}]},{\"c\":[{\"v\":\"Peter\"},{\"v\":7},{\"v\":2}]},{\"c\":[{\"v\":\"Cindy\"},{\"v\":3},{\"v\":7}]},{\"c\":[{\"v\":\"Bobby\"},{\"v\":2},{\"v\":8}]}],\"cols\":[{\"type\":\"string\",\"id\":\"kids\",\"label\":\"kids\"},{\"type\":\"number\",\"id\":\"sodas\",\"label\":\"sodas\"},{\"type\":\"number\",\"id\":\"burgers\",\"label\":\"burgers\"}]});\n",
       "        \n",
       "        // Add formatters, if any\n",
       "\n",
       "        // Create ChartWrapper\n",
       "        var google_chart_8 = new google.visualization.ChartWrapper({      \n",
       "            \"containerId\": \"google_chart_8_div_id\",\n",
       "            \"dataTable\": jugle_chart_8_data,\n",
       "            \"chartType\": \"BarChart\",\n",
       "            \"options\": {\"hAxis\": {\"titleTextStyle\": {\"color\": \"blue\"}, \"title\": \"Kids\"}, \"title\": \"Junk food consumption\", \"height\": 400, \"width\": \"600px\", \"colors\": [\"#00FF55\", \"#537593\", \"#645785\"], \"vAxis\": {\"titleTextStyle\": {\"color\": \"red\"}}}\n",
       "        });\n",
       "\t\t\n",
       "        \n",
       "        google_chart_8.draw();\n",
       "        \n",
       "        \n",
       "    }\n",
       "    \n",
       "</script>\n",
       "\n",
       "<div id=\"google_chart_8_div_id\" ></div>\n",
       "\n"
      ],
      "text/plain": [
       "<IPython.core.display.HTML object>"
      ]
     },
     "metadata": {},
     "output_type": "display_data"
    }
   ],
   "source": [
    "chart.add_chart_options(width = '600px', height = 400, title=\"Junk food consumption\")\n",
    "\n",
    "# Use underscore notation to add a chained option\n",
    "chart.add_chart_options(hAxis_titleTextStyle_color = 'blue')\n",
    "\n",
    "chart.show()"
   ]
  },
  {
   "cell_type": "markdown",
   "metadata": {},
   "source": [
    "## Reseting all options\n",
    "To reset all chart options, set\n",
    "\n",
    "**chart.chart_options = None**\n",
    "\n",
    "This is useful in development when you are testing styles by adding and removing them.  Unless you restart the kernel, an option remains attached to the chart unless an option is set to None, or all chart options are reset."
   ]
  },
  {
   "cell_type": "markdown",
   "metadata": {},
   "source": [
    "# 5. Chart div container styles\n",
    "CSS Styles can be applied to the div that contains the chart. Pass these in a dictionary or as keyword arguments."
   ]
  },
  {
   "cell_type": "code",
   "execution_count": 13,
   "metadata": {
    "collapsed": false
   },
   "outputs": [
    {
     "data": {
      "text/html": [
       "\n",
       "\n",
       "\n",
       "<script type=\"text/javascript\">\n",
       "\n",
       "    // Check if google jsapi is already loaded.  If not, load it.\n",
       "    if (typeof window.google == 'undefined') {\n",
       "        jQuery.getScript('https://www.google.com/jsapi', function( data, textStatus, jqxhr) {\n",
       "            google_loader_9();\n",
       "        });\n",
       "    } else {\n",
       "        google_loader_9();\n",
       "    }\n",
       "\n",
       "    // load visualization library    \n",
       "    function google_loader_9() {\n",
       "    \n",
       "        google.load('visualization', '1.0', {'callback': doStuff_9});\n",
       "    }\n",
       "    function doStuff_9() {\n",
       "    \n",
       "\n",
       "        // Create DataTable object from DataTable constructor or arrayToDatable()\n",
       "        var jugle_chart_9_data = new google.visualization.DataTable({\"rows\":[{\"c\":[{\"v\":\"Greg\"},{\"v\":3},{\"v\":4}]},{\"c\":[{\"v\":\"Marsha\"},{\"v\":5},{\"v\":6}]},{\"c\":[{\"v\":\"Jan\"},{\"v\":4},{\"v\":5}]},{\"c\":[{\"v\":\"Peter\"},{\"v\":7},{\"v\":2}]},{\"c\":[{\"v\":\"Cindy\"},{\"v\":3},{\"v\":7}]},{\"c\":[{\"v\":\"Bobby\"},{\"v\":2},{\"v\":8}]}],\"cols\":[{\"type\":\"string\",\"id\":\"kids\",\"label\":\"kids\"},{\"type\":\"number\",\"id\":\"sodas\",\"label\":\"sodas\"},{\"type\":\"number\",\"id\":\"burgers\",\"label\":\"burgers\"}]});\n",
       "        \n",
       "        // Add formatters, if any\n",
       "\n",
       "        // Create ChartWrapper\n",
       "        var google_chart_9 = new google.visualization.ChartWrapper({      \n",
       "            \"containerId\": \"google_chart_9_div_id\",\n",
       "            \"dataTable\": jugle_chart_9_data,\n",
       "            \"chartType\": \"BarChart\",\n",
       "            \"options\": {\"hAxis\": {\"titleTextStyle\": {\"color\": \"blue\"}, \"title\": \"Kids\"}, \"title\": \"Junk food consumption\", \"height\": 400, \"width\": \"600px\", \"colors\": [\"#00FF55\", \"#537593\", \"#645785\"], \"vAxis\": {\"titleTextStyle\": {\"color\": \"red\"}}}\n",
       "        });\n",
       "\t\t\n",
       "        \n",
       "        google_chart_9.draw();\n",
       "        \n",
       "        \n",
       "    }\n",
       "    \n",
       "</script>\n",
       "\n",
       "<div id=\"google_chart_9_div_id\" style=\"width: 500px; height: 400px\"></div>\n",
       "\n"
      ],
      "text/plain": [
       "<IPython.core.display.HTML object>"
      ]
     },
     "metadata": {},
     "output_type": "display_data"
    }
   ],
   "source": [
    "# Add styles with dictionary\n",
    "chart.add_div_styles({'height': '400px'})\n",
    "\n",
    "# Or, add styles with keyword arg\n",
    "chart.add_div_styles(width = '500px')\n",
    "\n",
    "chart.show()"
   ]
  },
  {
   "cell_type": "code",
   "execution_count": null,
   "metadata": {
    "collapsed": true
   },
   "outputs": [],
   "source": []
  }
 ],
 "metadata": {
  "kernelspec": {
   "display_name": "Python 2",
   "language": "python",
   "name": "python2"
  },
  "language_info": {
   "codemirror_mode": {
    "name": "ipython",
    "version": 2
   },
   "file_extension": ".py",
   "mimetype": "text/x-python",
   "name": "python",
   "nbconvert_exporter": "python",
   "pygments_lexer": "ipython2",
   "version": "2.7.10"
  }
 },
 "nbformat": 4,
 "nbformat_minor": 0
}
