{
 "cells": [
  {
   "cell_type": "code",
   "execution_count": 1,
   "metadata": {
    "collapsed": false
   },
   "outputs": [],
   "source": [
    "import pandas as pd\n",
    "from jooglechart import JoogleChart\n",
    "from IPython.display import display, HTML "
   ]
  },
  {
   "cell_type": "code",
   "execution_count": null,
   "metadata": {
    "collapsed": false
   },
   "outputs": [],
   "source": []
  },
  {
   "cell_type": "code",
   "execution_count": 2,
   "metadata": {
    "collapsed": false
   },
   "outputs": [],
   "source": [
    "kids = ['Greg', 'Jan', 'Bobby', 'Marsha', 'Peter', 'Cindy']\n",
    "hotdogs = [4, 7, 5, 2, 8, 9]\n",
    "df1 = pd.DataFrame({'kids': kids, 'hotdogs': hotdogs}, columns = ['kids', 'hotdogs'])"
   ]
  },
  {
   "cell_type": "code",
   "execution_count": 3,
   "metadata": {
    "collapsed": false
   },
   "outputs": [],
   "source": [
    "years = [2000, 2001, 2002, 2003, 2004]\n",
    "revenue = [10, 12, 14, 13, 18]\n",
    "cost = [4, 7, 5, 2, 7]"
   ]
  },
  {
   "cell_type": "code",
   "execution_count": 4,
   "metadata": {
    "collapsed": false
   },
   "outputs": [],
   "source": [
    "df2 = pd.DataFrame({'years': years, 'revenue': revenue, 'cost': cost}, columns=['years', 'revenue', 'cost'])"
   ]
  },
  {
   "cell_type": "code",
   "execution_count": 5,
   "metadata": {
    "collapsed": false
   },
   "outputs": [],
   "source": [
    "chart1 = JoogleChart(df2)"
   ]
  },
  {
   "cell_type": "code",
   "execution_count": 11,
   "metadata": {
    "collapsed": false,
    "scrolled": true
   },
   "outputs": [
    {
     "data": {
      "text/html": [
       "\n",
       "\n",
       "\n",
       "<script type=\"text/javascript\">\n",
       "\n",
       "    // Check if google jsapi is already loaded.  If not, load it.\n",
       "    if (typeof window.google == 'undefined') {\n",
       "        jQuery.getScript('https://www.google.com/jsapi', function( data, textStatus, jqxhr) {\n",
       "            google_loader();\n",
       "        });\n",
       "    } else {\n",
       "        google_loader();\n",
       "    }\n",
       "\n",
       "    // load visualization library    \n",
       "    function google_loader() {\n",
       "    \n",
       "        google.load('visualization', '1.0', {'callback': doStuff});\n",
       "    }\n",
       "    function doStuff() {\n",
       "    \n",
       "\n",
       "        // Create DataTable object from DataTable constructor or arrayToDatable()\n",
       "        var jugle_chart_3_data = new google.visualization.DataTable({\"rows\":[{\"c\":[{\"v\":2000},{\"v\":10},{\"v\":4}]},{\"c\":[{\"v\":2001},{\"v\":12},{\"v\":7}]},{\"c\":[{\"v\":2002},{\"v\":14},{\"v\":5}]},{\"c\":[{\"v\":2003},{\"v\":13},{\"v\":2}]},{\"c\":[{\"v\":2004},{\"v\":18},{\"v\":7}]}],\"cols\":[{\"type\":\"number\",\"id\":\"years\",\"label\":\"years\"},{\"type\":\"number\",\"id\":\"revenue\",\"label\":\"revenue\"},{\"type\":\"number\",\"id\":\"cost\",\"label\":\"cost\"}]});\n",
       "        \n",
       "        // Add formatters, if any\n",
       "\n",
       "        // Create ChartWrapper\n",
       "        var google_chart_3 = new google.visualization.ChartWrapper({      \n",
       "            \"containerId\": \"google_chart_3_div_id\",\n",
       "            \"dataTable\": jugle_chart_3_data,\n",
       "            \"chartType\": \"ColumnChart\",\n",
       "            \"options\": {\"chartArea\": {\"width\": \"75%\", \"backgroundColor\": \"#BBB\"}, \"hAxis\": {\"gridlines\": {\"color\": \"#333333\"}, \"title\": \"This is the hAxis title\", \"format\": \"\"}, \"dataOpacity\": 0.7, \"backgroundColor\": {\"stroke\": \"#555577\", \"strokeWidth\": \"4\", \"fill\": \"#EEEEEE\"}, \"vAxis\": {\"gridlines\": {\"color\": \"#33937A\", \"count\": 3}}, \"legend\": {\"position\": \"top\"}}\n",
       "        });\n",
       "\t\t\n",
       "        \n",
       "        google_chart_3.draw();\n",
       "        \n",
       "        \n",
       "    }\n",
       "    \n",
       "</script>\n",
       "\n",
       "<div id=\"google_chart_3_div_id\" ></div>\n",
       "\n"
      ],
      "text/plain": [
       "<IPython.core.display.HTML object>"
      ]
     },
     "metadata": {},
     "output_type": "display_data"
    }
   ],
   "source": [
    "# chart1.add_chart_options(height=200, width=600)\n",
    "# chart1.add_div_styles(width=\"500px\")\n",
    "# chart1.show()\n",
    "chart1.chart_options = None\n",
    "chart1.add_chart_options(chartArea_width='75%')\n",
    "# chart1.add_chart_options(chartArea_height='75%')\n",
    "# chart1.add_chart_options(chartArea={'left':20,'top':50,'width':'50%','height':'75%'})\n",
    "\n",
    "chart1.add_chart_options(backgroundColor_stroke=\"#555577\")\n",
    "chart1.add_chart_options(backgroundColor_strokeWidth=\"4\")\n",
    "chart1.add_chart_options(backgroundColor_fill='#EEEEEE')\n",
    "chart1.add_chart_options(chartArea_backgroundColor='#BBB')\n",
    "chart1.add_chart_options(dataOpacity=.7)\n",
    "chart1.add_chart_options(hAxis_format='') # gets rid of comma formatting on labels\n",
    "chart1.add_chart_options(hAxis_gridlines_color=\"#333333\")\n",
    "chart1.add_chart_options(vAxis_gridlines_color=\"#33937A\")\n",
    "chart1.add_chart_options(vAxis_gridlines_count=3)\n",
    "chart1.add_chart_options(hAxis_title=\"This is the hAxis title\")\n",
    "chart1.add_chart_options(legend_position=\"top\")\n",
    "# chart1.add_chart_options(vAxis_minorGridlines_count=1)\n",
    "# chart1.add_chart_options(curveType='function')\n",
    "# chart1.add_chart_options(chartArea_left='100')\n",
    "\n",
    "\n",
    "chart1.show()\n"
   ]
  },
  {
   "cell_type": "code",
   "execution_count": 7,
   "metadata": {
    "collapsed": true
   },
   "outputs": [],
   "source": [
    "#chart1.add_chart_options(colors = ['green', 'orange'])"
   ]
  },
  {
   "cell_type": "code",
   "execution_count": 8,
   "metadata": {
    "collapsed": false
   },
   "outputs": [
    {
     "data": {
      "text/html": [
       "\n",
       "\n",
       "\n",
       "<script type=\"text/javascript\">\n",
       "\n",
       "    // Check if google jsapi is already loaded.  If not, load it.\n",
       "    if (typeof window.google == 'undefined') {\n",
       "        jQuery.getScript('https://www.google.com/jsapi', function( data, textStatus, jqxhr) {\n",
       "            google_loader();\n",
       "        });\n",
       "    } else {\n",
       "        google_loader();\n",
       "    }\n",
       "\n",
       "    // load visualization library    \n",
       "    function google_loader() {\n",
       "    \n",
       "        google.load('visualization', '1.0', {'callback': doStuff});\n",
       "    }\n",
       "    function doStuff() {\n",
       "    \n",
       "\n",
       "        // Create DataTable object from DataTable constructor or arrayToDatable()\n",
       "        var jugle_chart_2_data = new google.visualization.DataTable({\"rows\":[{\"c\":[{\"v\":2000},{\"v\":10},{\"v\":4}]},{\"c\":[{\"v\":2001},{\"v\":12},{\"v\":7}]},{\"c\":[{\"v\":2002},{\"v\":14},{\"v\":5}]},{\"c\":[{\"v\":2003},{\"v\":13},{\"v\":2}]},{\"c\":[{\"v\":2004},{\"v\":18},{\"v\":7}]}],\"cols\":[{\"type\":\"number\",\"id\":\"years\",\"label\":\"years\"},{\"type\":\"number\",\"id\":\"revenue\",\"label\":\"revenue\"},{\"type\":\"number\",\"id\":\"cost\",\"label\":\"cost\"}]});\n",
       "        \n",
       "        // Add formatters, if any\n",
       "\n",
       "        // Create ChartWrapper\n",
       "        var google_chart_2 = new google.visualization.ChartWrapper({      \n",
       "            \"containerId\": \"google_chart_2_div_id\",\n",
       "            \"dataTable\": jugle_chart_2_data,\n",
       "            \"chartType\": \"ColumnChart\",\n",
       "            \"options\": {\"chartArea\": {\"width\": \"75%\", \"backgroundColor\": \"#BBB\"}, \"hAxis\": {\"gridlines\": {\"color\": \"#333333\"}, \"title\": \"This is the hAxis title\", \"format\": \"\"}, \"dataOpacity\": 0.7, \"backgroundColor\": {\"stroke\": \"#555577\", \"strokeWidth\": \"4\", \"fill\": \"#EEEEEE\"}, \"vAxis\": {\"gridlines\": {\"color\": \"#33937A\", \"count\": 3}}, \"legend\": {\"position\": \"top\"}}\n",
       "        });\n",
       "\t\t\n",
       "        \n",
       "        google_chart_2.draw();\n",
       "        \n",
       "        \n",
       "    }\n",
       "    \n",
       "</script>\n",
       "\n",
       "<div id=\"google_chart_2_div_id\" ></div>\n",
       "\n"
      ],
      "text/plain": [
       "<IPython.core.display.HTML object>"
      ]
     },
     "metadata": {},
     "output_type": "display_data"
    }
   ],
   "source": [
    "chart1.show('ColumnChart')"
   ]
  },
  {
   "cell_type": "code",
   "execution_count": null,
   "metadata": {
    "collapsed": true
   },
   "outputs": [],
   "source": []
  },
  {
   "cell_type": "code",
   "execution_count": 9,
   "metadata": {
    "collapsed": false
   },
   "outputs": [],
   "source": [
    "s = \"\"\"\n",
    "<div class=\"row\">\n",
    "  <div class=\"col-sm-4\">.col-md-4</div>\n",
    "  <div class=\"col-sm-4\">.col-md-4</div>\n",
    "  <div class=\"col-sm-4\">.col-md-4</div>\n",
    "</div>\n",
    "\"\"\""
   ]
  },
  {
   "cell_type": "code",
   "execution_count": 10,
   "metadata": {
    "collapsed": false
   },
   "outputs": [
    {
     "data": {
      "text/html": [
       "\n",
       "<div class=\"row\">\n",
       "  <div class=\"col-sm-4\">.col-md-4</div>\n",
       "  <div class=\"col-sm-4\">.col-md-4</div>\n",
       "  <div class=\"col-sm-4\">.col-md-4</div>\n",
       "</div>\n"
      ],
      "text/plain": [
       "<IPython.core.display.HTML object>"
      ]
     },
     "metadata": {},
     "output_type": "display_data"
    }
   ],
   "source": [
    "display(HTML(s))"
   ]
  },
  {
   "cell_type": "code",
   "execution_count": null,
   "metadata": {
    "collapsed": true
   },
   "outputs": [],
   "source": []
  }
 ],
 "metadata": {
  "kernelspec": {
   "display_name": "Python 2",
   "language": "python",
   "name": "python2"
  },
  "language_info": {
   "codemirror_mode": {
    "name": "ipython",
    "version": 2
   },
   "file_extension": ".py",
   "mimetype": "text/x-python",
   "name": "python",
   "nbconvert_exporter": "python",
   "pygments_lexer": "ipython2",
   "version": "2.7.10"
  }
 },
 "nbformat": 4,
 "nbformat_minor": 0
}
