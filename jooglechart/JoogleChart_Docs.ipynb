{
 "cells": [
  {
   "cell_type": "markdown",
   "metadata": {},
   "source": [
    "# Welcome to JoogleChart!\n",
    "\n",
    "JoogleChart is Python/Jupyter api for creating a Google Chart using generated javascript and html that calls the Google Charts library. JoogleChart generates the javascript and html for you. You don't have to worry about loading the chart library, creating valid javascript or html, or creating unique id's for your chart containers.\n",
    "\n",
    "JoogleChart is a thin wrapper for Google Charts. You must consult Google Charts documenation for all types and options to pass to JoogleChart. It does not replace the Google Charts documentation.\n",
    "\n",
    "Documentation specifically for JoogleChart can be found here:\n",
    "\n",
    "- [JoogleChart Basics](http://nbviewer.jupyter.org/github/broccoli/jooglecharts/blob/master/jooglechart/JoogleChart_Docs--Basics.ipynb)\n",
    "- [Filters](http://nbviewer.jupyter.org/github/broccoli/jooglecharts/blob/master/jooglechart/JoogleChart_Docs--Filters.ipynb)\n",
    "- [Formatters](http://nbviewer.jupyter.org/github/broccoli/jooglecharts/blob/master/jooglechart/JoogleChart_Docs--Formatters.ipynb)\n",
    "- [Roles and Tooltips](http://nbviewer.jupyter.org/github/broccoli/jooglecharts/blob/master/jooglechart/JoogleChart_Docs--Roles_and_Tooltips.ipynb)\n",
    "- [Extra Charts](http://nbviewer.jupyter.org/github/broccoli/jooglecharts/blob/master/jooglechart/JoogleChart_Docs--Extra_Charts.ipynb).  How to have multiple charts using the same data.\n",
    "- [Containers](http://nbviewer.jupyter.org/github/broccoli/jooglecharts/blob/master/jooglechart/JoogleChart_Docs--Containers.ipynb).\n",
    "Tools for displaying objects in columns and rows, and making dashboard layouts.\n",
    "- [JoogleChart Custom Filters](http://nbviewer.jupyter.org/github/broccoli/jooglecharts/blob/master/jooglechart/JoogleChart_Docs--Custom_Filters.ipynb).  Extensions of the Google Chart filters made just for JoogleCharts.\n",
    "- Sonar: making JoogleChart objects interact with each other.\n",
    "  - [Basics](http://nbviewer.jupyter.org/github/broccoli/jooglecharts/blob/master/jooglechart/JoogleChart_Docs--Sonar_Basics.ipynb).  How Sonar works.\n",
    "  - [Filters and Charts](http://nbviewer.jupyter.org/github/broccoli/jooglecharts/blob/master/jooglechart/JoogleChart_Docs--Sonar_Filters_and_Charts.ipynb)\n",
    "  - [ButtonGroup](http://nbviewer.jupyter.org/github/broccoli/jooglecharts/blob/master/jooglechart/JoogleChart_Docs--Sonar_ButtonGroup.ipynb)\n",
    "  - [CheckboxGroup](http://nbviewer.jupyter.org/github/broccoli/jooglecharts/blob/master/jooglechart/JoogleChart_Docs--Sonar_ButtonGroup.ipynb)\n",
    "  - Button\n",
    "  - TextReceiver\n",
    "  - [Legend](http://nbviewer.jupyter.org/github/broccoli/jooglecharts/blob/master/jooglechart/JoogleChart_Docs--Sonar_Legend.ipynb)\n",
    "  "
   ]
  },
  {
   "cell_type": "code",
   "execution_count": null,
   "metadata": {
    "collapsed": true
   },
   "outputs": [],
   "source": []
  }
 ],
 "metadata": {
  "kernelspec": {
   "display_name": "Python 2",
   "language": "python",
   "name": "python2"
  },
  "language_info": {
   "codemirror_mode": {
    "name": "ipython",
    "version": 2
   },
   "file_extension": ".py",
   "mimetype": "text/x-python",
   "name": "python",
   "nbconvert_exporter": "python",
   "pygments_lexer": "ipython2",
   "version": "2.7.10"
  }
 },
 "nbformat": 4,
 "nbformat_minor": 0
}
