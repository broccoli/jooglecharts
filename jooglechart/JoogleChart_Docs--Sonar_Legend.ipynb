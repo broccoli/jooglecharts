{
 "cells": [
  {
   "cell_type": "markdown",
   "metadata": {},
   "source": [
    "# Legend\n",
    "The Legend is a Jooglechart widget.  It's a custom legend that can be used in place of the legend automatically created by a Google Chart.\n",
    "\n",
    "Using the Legend widget allows greater flexibility for layout, since it can be placed anywhere.\n",
    "\n",
    "The items shown in the legend can be specified and updated in reponse to sonar messages.  This makes it convenient to use when the series dislayed in a chart can change, as with a SeriesFilter."
   ]
  },
  {
   "cell_type": "markdown",
   "metadata": {},
   "source": [
    "# Usage\n",
    "\n",
    "#### values\n",
    "The Legend has one required parameter, **values**.  This is a list of the items that are displayed in the legend.\n",
    "\n",
    "#### .add_receiver(key)\n",
    "The Legend responds to a sonar message that is a list of values, creating the items in the Legend.  Lists of values are sent by objects, such as Filters, CheckboxGroups, and ButtonGroups, so each of those can be connected to a Legend.\n",
    "\n",
    "#### .add_sender(key)\n",
    "The Legend sends a sonar message the user "
   ]
  },
  {
   "cell_type": "code",
   "execution_count": null,
   "metadata": {
    "collapsed": true
   },
   "outputs": [],
   "source": []
  }
 ],
 "metadata": {
  "kernelspec": {
   "display_name": "Python 2",
   "language": "python",
   "name": "python2"
  },
  "language_info": {
   "codemirror_mode": {
    "name": "ipython",
    "version": 2
   },
   "file_extension": ".py",
   "mimetype": "text/x-python",
   "name": "python",
   "nbconvert_exporter": "python",
   "pygments_lexer": "ipython2",
   "version": "2.7.10"
  }
 },
 "nbformat": 4,
 "nbformat_minor": 0
}
