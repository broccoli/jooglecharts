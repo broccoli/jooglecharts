{
 "cells": [
  {
   "cell_type": "markdown",
   "metadata": {},
   "source": [
    "# Adding Extra Charts on the Data\n",
    "By default, a JoogleChart combines data and a chart.  It is possible, though, to add additional charts using the same data.  Any Filters that are added to the JoogleChart will affect the additional charts, as well.  To add additional charts, use the **\\_Chart** class.\n",
    "\n",
    "## Setting options\n",
    "Options can be set individually on all the charts attached to the data.  To set options on the primary chart, call **add_chart_options()** on the JoogleChart object.  To set options on the extra charts, call **add_chart_options** on each \\_Chart object.  View columns and div styles are also set individually."
   ]
  },
  {
   "cell_type": "code",
   "execution_count": 1,
   "metadata": {
    "collapsed": true
   },
   "outputs": [],
   "source": [
    "from jooglechart import JoogleChart, Filter, _Chart\n",
    "import pandas as pd"
   ]
  },
  {
   "cell_type": "code",
   "execution_count": 21,
   "metadata": {
    "collapsed": false
   },
   "outputs": [
    {
     "data": {
      "text/html": [
       "\n",
       "\n",
       "\n",
       "<script type=\"text/javascript\">\n",
       "\n",
       "    // Check if google jsapi is already loaded.  If not, load it.\n",
       "    if (typeof window.google == 'undefined') {\n",
       "        jQuery.getScript('https://www.google.com/jsapi', function( data, textStatus, jqxhr) {\n",
       "            google_loader_16();\n",
       "        });\n",
       "    } else {\n",
       "        google_loader_16();\n",
       "    }\n",
       "\n",
       "    // load visualization library    \n",
       "    function google_loader_16() {\n",
       "\t\tgoogle.load('visualization', '1.0', {'packages':['controls'], 'callback': doStuff_16});\n",
       "    }\n",
       "    function doStuff_16() {\n",
       "    \n",
       "\n",
       "        // Create DataTable object from DataTable constructor or arrayToDatable()\n",
       "        var jugle_chart_16_data = new google.visualization.DataTable({\"rows\":[{\"c\":[{\"v\":\"Modesto\"},{\"v\":35},{\"v\":23}]},{\"c\":[{\"v\":\"Sacramento\"},{\"v\":65},{\"v\":64}]},{\"c\":[{\"v\":\"Redlands\"},{\"v\":44},{\"v\":23}]}],\"cols\":[{\"type\":\"string\",\"id\":\"city\",\"label\":\"city\"},{\"type\":\"number\",\"id\":\"coconuts\",\"label\":\"coconuts\"},{\"type\":\"number\",\"id\":\"mangos\",\"label\":\"mangos\"}]});\n",
       "        \n",
       "        // Add formatters, if any\n",
       "\n",
       "        // Create ChartWrapper\n",
       "        var google_chart_31 = new google.visualization.ChartWrapper({      \n",
       "            \"containerId\": \"google_chart_31_div_id\",\n",
       "            \"dataTable\": jugle_chart_16_data,\n",
       "            \"view\": {columns: [0, 2]},  \n",
       "            \"chartType\": \"ColumnChart\",\n",
       "            \"options\": {\"colors\": [\"#FFA628\"], \"fontSize\": \"12\", \"legend\": {\"position\": \"top\"}, \"title\": \"Mangos! Mangos! Mangos!\"}\n",
       "        });\n",
       "        var google_chart_32 = new google.visualization.ChartWrapper({      \n",
       "            \"containerId\": \"google_chart_32_div_id\",\n",
       "            \"dataTable\": jugle_chart_16_data,\n",
       "            \"view\": {columns: [0, 1]},  \n",
       "            \"chartType\": \"BarChart\",\n",
       "            \"options\": {\"colors\": [\"#815129\"], \"fontSize\": \"12\", \"title\": \"Cuckoo for coconuts!\"}\n",
       "        });\n",
       "\t\t\n",
       "        // Create a dashboard.\n",
       "        var jugle_chart_16_dashboard = new google.visualization.Dashboard(\n",
       "            document.getElementById('jugle_chart_16_dashboard_div_id'));\n",
       "\n",
       "        // Create controls\n",
       "        var google_filter_16 = new google.visualization.ControlWrapper({\n",
       "          'controlType': 'CategoryFilter',\n",
       "          'containerId': 'google_filter_16_div_id',\n",
       "          'options': {\"ui\": {\"allowMultiple\": true, \"allowNone\": true}, \"filterColumnIndex\": 0},\n",
       "          'state': {}\n",
       "        });\n",
       "\n",
       "        // Establish dependencies.\n",
       "\t\tjugle_chart_16_dashboard.bind(google_filter_16, google_chart_31);\n",
       "\t\tjugle_chart_16_dashboard.bind(google_filter_16, google_chart_32);\n",
       "\n",
       "        // Draw the dashboard.\n",
       "        jugle_chart_16_dashboard.draw(jugle_chart_16_data);        \n",
       "    }\n",
       "    \n",
       "</script>\n",
       "\n",
       "<div id=\"jugle_chart_16_dashboard_div_id\">\n",
       "\t<div id=\"google_filter_16_div_id\"></div>\n",
       "\t<div id=\"google_chart_31_div_id\" style=\"width: 500px\"></div>\n",
       "\t<div id=\"google_chart_32_div_id\" ></div>\n",
       "</div>\n"
      ],
      "text/plain": [
       "<IPython.core.display.HTML object>"
      ]
     },
     "metadata": {},
     "output_type": "display_data"
    }
   ],
   "source": [
    "# Create DataFrame\n",
    "city = ['Modesto', 'Sacramento', 'Redlands']\n",
    "coconuts = [35, 65, 44]\n",
    "mangos = [23, 64, 23]\n",
    "df = pd.DataFrame({'city': city, 'coconuts': coconuts, 'mangos': mangos},\n",
    "                  columns=['city', 'coconuts', 'mangos'])\n",
    "\n",
    "# Create the JoogleChart with a filter\n",
    "chart = JoogleChart(df, chart_type=\"ColumnChart\")\n",
    "filter1 = Filter(type=\"CategoryFilter\")\n",
    "filter1.add_options(filterColumnIndex=0, ui_allowMultiple=True, ui_allowNone=True)\n",
    "chart.add_filter(filter1)\n",
    "\n",
    "# set options, visible columns, and div styles on the primary chart\n",
    "chart.set_view_cols([0, 2])\n",
    "chart.add_chart_options(title=\"Mangos! Mangos! Mangos!\", colors=['#FFA628'], fontSize=\"12\")\n",
    "chart.add_chart_options(legend_position=\"top\")\n",
    "chart.add_div_styles(width=\"500px\")\n",
    "\n",
    "# Create a second chart; set options and visible columns\n",
    "extra_chart = _Chart(chart_type=\"BarChart\", colors=[\"#815129\"])\n",
    "extra_chart.set_view_cols([0, 1])\n",
    "extra_chart.add_chart_options(title=\"Cuckoo for coconuts!\", fontSize=\"12\")\n",
    "\n",
    "# Add the extra chart\n",
    "chart._add_chart(extra_chart)\n",
    "\n",
    "# Show both charts\n",
    "chart.show()\n"
   ]
  },
  {
   "cell_type": "code",
   "execution_count": null,
   "metadata": {
    "collapsed": true
   },
   "outputs": [],
   "source": []
  }
 ],
 "metadata": {
  "kernelspec": {
   "display_name": "Python 2",
   "language": "python",
   "name": "python2"
  },
  "language_info": {
   "codemirror_mode": {
    "name": "ipython",
    "version": 2
   },
   "file_extension": ".py",
   "mimetype": "text/x-python",
   "name": "python",
   "nbconvert_exporter": "python",
   "pygments_lexer": "ipython2",
   "version": "2.7.10"
  }
 },
 "nbformat": 4,
 "nbformat_minor": 0
}
